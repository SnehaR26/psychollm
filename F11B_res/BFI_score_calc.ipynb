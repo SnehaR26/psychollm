{
 "cells": [
  {
   "cell_type": "code",
   "execution_count": 1,
   "metadata": {},
   "outputs": [],
   "source": [
    "import numpy as np \n",
    "import pandas as pd \n",
    "import os\n",
    "import matplotlib.pyplot as plt\n",
    "import seaborn as sns\n",
    "import datetime as dt"
   ]
  },
  {
   "cell_type": "markdown",
   "metadata": {},
   "source": [
    "#### Result calculating function"
   ]
  },
  {
   "cell_type": "code",
   "execution_count": 2,
   "metadata": {},
   "outputs": [],
   "source": [
    "def bfi_calc(df):\n",
    "    # Define the scoring keys\n",
    "    scoring_key = {\n",
    "        'Extraversion': [1, 6, 11, 16, 21, 26, 31, 36],\n",
    "        'Agreeableness': [2, 7, 12, 17, 22, 27, 32, 37, 42],\n",
    "        'Conscientiousness': [3, 8, 13, 18, 23, 28, 33, 38, 43],\n",
    "        'Neuroticism': [4, 9, 14, 19, 24, 29, 34, 39],\n",
    "        'Openness': [5, 10, 15, 20, 25, 30, 35, 40, 41, 44]\n",
    "    }\n",
    "    \n",
    "    # Define reverse-scored items\n",
    "    reverse_scored = [6, 21, 31, 2, 12, 27, 37, 8, 18, 23, 43, 9, 24, 34, 35, 41]\n",
    "    reverse_scored = [6, 21, 31, 2, 12, 27, 37, 8, 18, 23, 43, 9, 24, 34, 35, 41]\n",
    "    \n",
    "    # Function to adjust scores\n",
    "    def adjust_score(row):\n",
    "        #print(\"for this row\", row['persona'],\"$$$$$\", row['Itemnum'])\n",
    "        if row['Itemnum'] in reverse_scored:\n",
    "            #print(\"hit\")\n",
    "            return 6 - row['Answer']\n",
    "        return row['Answer']\n",
    "    \n",
    "    # Add adjusted score column\n",
    "    df['adjusted_score'] = df.apply(adjust_score,axis=1)\n",
    "    #print(df[:44])\n",
    "    # Function to calculate trait score\n",
    "    def calculate_trait_score(persona_data, trait_items):\n",
    "        scores = []\n",
    "        for item in trait_items:\n",
    "            #print(\"§§§§§§§§§§§§§§§§§§§§\")\n",
    "            score = persona_data.loc[persona_data['Itemnum'] == item, 'Answer'].iloc[0]\n",
    "            if item in reverse_scored:\n",
    "                score = 6 - score  # Reverse the score\n",
    "            scores.append(score)\n",
    "        return np.mean(scores)\n",
    "    \n",
    "    # Group by persona and calculate scores\n",
    "    results = []\n",
    "    for persona, group in df.groupby('Name'):\n",
    "        scores = {}\n",
    "        for trait, items in scoring_key.items():\n",
    "            scores[trait] = calculate_trait_score(group, items)\n",
    "        results.append({'Name': persona, **scores})\n",
    "    \n",
    "    # Create a dataframe with the results\n",
    "    results_df = pd.DataFrame(results)\n",
    "    results_df=results_df.round(3)\n",
    "    # Display the results\n",
    "    print(results_df)\n",
    "    return results_df\n",
    "    #results_df.to_csv(filename, index=False)"
   ]
  },
  {
   "cell_type": "markdown",
   "metadata": {},
   "source": [
    "#### Results for Falcon 11B prompt1+2 good "
   ]
  },
  {
   "cell_type": "code",
   "execution_count": 13,
   "metadata": {},
   "outputs": [
    {
     "name": "stdout",
     "output_type": "stream",
     "text": [
      "                  Name source                                           Item  \\\n",
      "18783  Gerhard Fischer    GPP              Likes to reflect, play with ideas   \n",
      "18784  Gerhard Fischer    GPP                     Has few artistic interests   \n",
      "18785  Gerhard Fischer    GPP                 Likes to cooperate with others   \n",
      "18786  Gerhard Fischer    GPP                           Is easily distracted   \n",
      "18787  Gerhard Fischer    GPP  Is sophisticated in art, music, or Literature   \n",
      "\n",
      "       Itemnum  Answer  \n",
      "18783       40       1  \n",
      "18784       41       1  \n",
      "18785       42       1  \n",
      "18786       43       1  \n",
      "18787       44       5  \n"
     ]
    },
    {
     "data": {
      "text/plain": [
       "(18788, 5)"
      ]
     },
     "execution_count": 13,
     "metadata": {},
     "output_type": "execute_result"
    }
   ],
   "source": [
    "df_good=pd.read_csv('results_good11b.csv')\n",
    "df_good=df_good[0:18788]\n",
    "print(df_good.tail())\n",
    "\n",
    "df_good.shape"
   ]
  },
  {
   "cell_type": "code",
   "execution_count": 14,
   "metadata": {},
   "outputs": [
    {
     "data": {
      "text/html": [
       "<div>\n",
       "<style scoped>\n",
       "    .dataframe tbody tr th:only-of-type {\n",
       "        vertical-align: middle;\n",
       "    }\n",
       "\n",
       "    .dataframe tbody tr th {\n",
       "        vertical-align: top;\n",
       "    }\n",
       "\n",
       "    .dataframe thead th {\n",
       "        text-align: right;\n",
       "    }\n",
       "</style>\n",
       "<table border=\"1\" class=\"dataframe\">\n",
       "  <thead>\n",
       "    <tr style=\"text-align: right;\">\n",
       "      <th></th>\n",
       "      <th>source</th>\n",
       "      <th>Item</th>\n",
       "      <th>Itemnum</th>\n",
       "      <th>Answer</th>\n",
       "    </tr>\n",
       "    <tr>\n",
       "      <th>Name</th>\n",
       "      <th></th>\n",
       "      <th></th>\n",
       "      <th></th>\n",
       "      <th></th>\n",
       "    </tr>\n",
       "  </thead>\n",
       "  <tbody>\n",
       "    <tr>\n",
       "      <th>A. T. Ariyaratne</th>\n",
       "      <td>44</td>\n",
       "      <td>44</td>\n",
       "      <td>44</td>\n",
       "      <td>44</td>\n",
       "    </tr>\n",
       "    <tr>\n",
       "      <th>A.H.M. Noman Khan</th>\n",
       "      <td>44</td>\n",
       "      <td>44</td>\n",
       "      <td>44</td>\n",
       "      <td>44</td>\n",
       "    </tr>\n",
       "    <tr>\n",
       "      <th>Abdon Nababan</th>\n",
       "      <td>44</td>\n",
       "      <td>44</td>\n",
       "      <td>44</td>\n",
       "      <td>44</td>\n",
       "    </tr>\n",
       "    <tr>\n",
       "      <th>Abdul Razak Hussein</th>\n",
       "      <td>44</td>\n",
       "      <td>44</td>\n",
       "      <td>44</td>\n",
       "      <td>44</td>\n",
       "    </tr>\n",
       "    <tr>\n",
       "      <th>Abdul Samad Ismail</th>\n",
       "      <td>44</td>\n",
       "      <td>44</td>\n",
       "      <td>44</td>\n",
       "      <td>44</td>\n",
       "    </tr>\n",
       "    <tr>\n",
       "      <th>...</th>\n",
       "      <td>...</td>\n",
       "      <td>...</td>\n",
       "      <td>...</td>\n",
       "      <td>...</td>\n",
       "    </tr>\n",
       "    <tr>\n",
       "      <th>Zacarias Sarian</th>\n",
       "      <td>44</td>\n",
       "      <td>44</td>\n",
       "      <td>44</td>\n",
       "      <td>44</td>\n",
       "    </tr>\n",
       "    <tr>\n",
       "      <th>Zafrullah Chowdhury</th>\n",
       "      <td>44</td>\n",
       "      <td>44</td>\n",
       "      <td>44</td>\n",
       "      <td>44</td>\n",
       "    </tr>\n",
       "    <tr>\n",
       "      <th>Zakiah Hanum Abd Hamid</th>\n",
       "      <td>44</td>\n",
       "      <td>44</td>\n",
       "      <td>44</td>\n",
       "      <td>44</td>\n",
       "    </tr>\n",
       "    <tr>\n",
       "      <th>Élie Ducommun</th>\n",
       "      <td>44</td>\n",
       "      <td>44</td>\n",
       "      <td>44</td>\n",
       "      <td>44</td>\n",
       "    </tr>\n",
       "    <tr>\n",
       "      <th>Óscar Arias Sánchez</th>\n",
       "      <td>44</td>\n",
       "      <td>44</td>\n",
       "      <td>44</td>\n",
       "      <td>44</td>\n",
       "    </tr>\n",
       "  </tbody>\n",
       "</table>\n",
       "<p>427 rows × 4 columns</p>\n",
       "</div>"
      ],
      "text/plain": [
       "                        source  Item  Itemnum  Answer\n",
       "Name                                                 \n",
       "A. T. Ariyaratne            44    44       44      44\n",
       "A.H.M. Noman Khan           44    44       44      44\n",
       "Abdon Nababan               44    44       44      44\n",
       "Abdul Razak Hussein         44    44       44      44\n",
       "Abdul Samad Ismail          44    44       44      44\n",
       "...                        ...   ...      ...     ...\n",
       "Zacarias Sarian             44    44       44      44\n",
       "Zafrullah Chowdhury         44    44       44      44\n",
       "Zakiah Hanum Abd Hamid      44    44       44      44\n",
       "Élie Ducommun               44    44       44      44\n",
       "Óscar Arias Sánchez         44    44       44      44\n",
       "\n",
       "[427 rows x 4 columns]"
      ]
     },
     "execution_count": 14,
     "metadata": {},
     "output_type": "execute_result"
    }
   ],
   "source": [
    "df_good.groupby(['Name']).count()"
   ]
  },
  {
   "cell_type": "code",
   "execution_count": 15,
   "metadata": {},
   "outputs": [
    {
     "data": {
      "text/html": [
       "<div>\n",
       "<style scoped>\n",
       "    .dataframe tbody tr th:only-of-type {\n",
       "        vertical-align: middle;\n",
       "    }\n",
       "\n",
       "    .dataframe tbody tr th {\n",
       "        vertical-align: top;\n",
       "    }\n",
       "\n",
       "    .dataframe thead th {\n",
       "        text-align: right;\n",
       "    }\n",
       "</style>\n",
       "<table border=\"1\" class=\"dataframe\">\n",
       "  <thead>\n",
       "    <tr style=\"text-align: right;\">\n",
       "      <th></th>\n",
       "      <th>Name</th>\n",
       "      <th>source</th>\n",
       "      <th>Item</th>\n",
       "      <th>Itemnum</th>\n",
       "      <th>Answer</th>\n",
       "    </tr>\n",
       "  </thead>\n",
       "  <tbody>\n",
       "    <tr>\n",
       "      <th>0</th>\n",
       "      <td>Barack Obama</td>\n",
       "      <td>NPP</td>\n",
       "      <td>Is talkative</td>\n",
       "      <td>1</td>\n",
       "      <td>4</td>\n",
       "    </tr>\n",
       "    <tr>\n",
       "      <th>1</th>\n",
       "      <td>Barack Obama</td>\n",
       "      <td>NPP</td>\n",
       "      <td>Tends to find fault with others</td>\n",
       "      <td>2</td>\n",
       "      <td>3</td>\n",
       "    </tr>\n",
       "    <tr>\n",
       "      <th>2</th>\n",
       "      <td>Barack Obama</td>\n",
       "      <td>NPP</td>\n",
       "      <td>Does a thorough job</td>\n",
       "      <td>3</td>\n",
       "      <td>5</td>\n",
       "    </tr>\n",
       "    <tr>\n",
       "      <th>3</th>\n",
       "      <td>Barack Obama</td>\n",
       "      <td>NPP</td>\n",
       "      <td>Is depressed, blue</td>\n",
       "      <td>4</td>\n",
       "      <td>1</td>\n",
       "    </tr>\n",
       "    <tr>\n",
       "      <th>4</th>\n",
       "      <td>Barack Obama</td>\n",
       "      <td>NPP</td>\n",
       "      <td>Is original, comes up with new ideas</td>\n",
       "      <td>5</td>\n",
       "      <td>1</td>\n",
       "    </tr>\n",
       "    <tr>\n",
       "      <th>...</th>\n",
       "      <td>...</td>\n",
       "      <td>...</td>\n",
       "      <td>...</td>\n",
       "      <td>...</td>\n",
       "      <td>...</td>\n",
       "    </tr>\n",
       "    <tr>\n",
       "      <th>18783</th>\n",
       "      <td>Gerhard Fischer</td>\n",
       "      <td>GPP</td>\n",
       "      <td>Likes to reflect, play with ideas</td>\n",
       "      <td>40</td>\n",
       "      <td>1</td>\n",
       "    </tr>\n",
       "    <tr>\n",
       "      <th>18784</th>\n",
       "      <td>Gerhard Fischer</td>\n",
       "      <td>GPP</td>\n",
       "      <td>Has few artistic interests</td>\n",
       "      <td>41</td>\n",
       "      <td>1</td>\n",
       "    </tr>\n",
       "    <tr>\n",
       "      <th>18785</th>\n",
       "      <td>Gerhard Fischer</td>\n",
       "      <td>GPP</td>\n",
       "      <td>Likes to cooperate with others</td>\n",
       "      <td>42</td>\n",
       "      <td>1</td>\n",
       "    </tr>\n",
       "    <tr>\n",
       "      <th>18786</th>\n",
       "      <td>Gerhard Fischer</td>\n",
       "      <td>GPP</td>\n",
       "      <td>Is easily distracted</td>\n",
       "      <td>43</td>\n",
       "      <td>1</td>\n",
       "    </tr>\n",
       "    <tr>\n",
       "      <th>18787</th>\n",
       "      <td>Gerhard Fischer</td>\n",
       "      <td>GPP</td>\n",
       "      <td>Is sophisticated in art, music, or Literature</td>\n",
       "      <td>44</td>\n",
       "      <td>5</td>\n",
       "    </tr>\n",
       "  </tbody>\n",
       "</table>\n",
       "<p>18788 rows × 5 columns</p>\n",
       "</div>"
      ],
      "text/plain": [
       "                  Name source                                           Item  \\\n",
       "0         Barack Obama    NPP                                   Is talkative   \n",
       "1         Barack Obama    NPP                Tends to find fault with others   \n",
       "2         Barack Obama    NPP                            Does a thorough job   \n",
       "3         Barack Obama    NPP                             Is depressed, blue   \n",
       "4         Barack Obama    NPP           Is original, comes up with new ideas   \n",
       "...                ...    ...                                            ...   \n",
       "18783  Gerhard Fischer    GPP              Likes to reflect, play with ideas   \n",
       "18784  Gerhard Fischer    GPP                     Has few artistic interests   \n",
       "18785  Gerhard Fischer    GPP                 Likes to cooperate with others   \n",
       "18786  Gerhard Fischer    GPP                           Is easily distracted   \n",
       "18787  Gerhard Fischer    GPP  Is sophisticated in art, music, or Literature   \n",
       "\n",
       "       Itemnum  Answer  \n",
       "0            1       4  \n",
       "1            2       3  \n",
       "2            3       5  \n",
       "3            4       1  \n",
       "4            5       1  \n",
       "...        ...     ...  \n",
       "18783       40       1  \n",
       "18784       41       1  \n",
       "18785       42       1  \n",
       "18786       43       1  \n",
       "18787       44       5  \n",
       "\n",
       "[18788 rows x 5 columns]"
      ]
     },
     "execution_count": 15,
     "metadata": {},
     "output_type": "execute_result"
    }
   ],
   "source": [
    "df_good"
   ]
  },
  {
   "cell_type": "code",
   "execution_count": 16,
   "metadata": {},
   "outputs": [
    {
     "data": {
      "text/plain": [
       "Name       object\n",
       "source     object\n",
       "Item       object\n",
       "Itemnum     int64\n",
       "Answer      int64\n",
       "dtype: object"
      ]
     },
     "execution_count": 16,
     "metadata": {},
     "output_type": "execute_result"
    }
   ],
   "source": [
    "df_good.dtypes"
   ]
  },
  {
   "cell_type": "code",
   "execution_count": 17,
   "metadata": {},
   "outputs": [
    {
     "name": "stdout",
     "output_type": "stream",
     "text": [
      "                       Name  Extraversion  Agreeableness  Conscientiousness  \\\n",
      "0          A. T. Ariyaratne         3.875          3.000              3.778   \n",
      "1         A.H.M. Noman Khan         1.750          3.222              2.667   \n",
      "2             Abdon Nababan         2.875          2.889              2.444   \n",
      "3       Abdul Razak Hussein         3.000          2.889              2.444   \n",
      "4        Abdul Samad Ismail         3.000          3.111              4.000   \n",
      "..                      ...           ...            ...                ...   \n",
      "422         Zacarias Sarian         3.125          3.111              3.222   \n",
      "423     Zafrullah Chowdhury         2.750          3.444              3.333   \n",
      "424  Zakiah Hanum Abd Hamid         2.375          4.444              2.000   \n",
      "425           Élie Ducommun         3.250          3.556              3.222   \n",
      "426     Óscar Arias Sánchez         4.125          3.444              3.667   \n",
      "\n",
      "     Neuroticism  Openness  \n",
      "0          2.500       2.6  \n",
      "1          3.375       3.5  \n",
      "2          2.375       3.3  \n",
      "3          4.125       4.0  \n",
      "4          3.250       2.9  \n",
      "..           ...       ...  \n",
      "422        3.375       2.4  \n",
      "423        3.125       3.2  \n",
      "424        2.375       2.2  \n",
      "425        2.375       3.0  \n",
      "426        3.000       2.2  \n",
      "\n",
      "[427 rows x 6 columns]\n"
     ]
    }
   ],
   "source": [
    "bfi_calc(df_good,'goodp1_1_bfi.csv')"
   ]
  },
  {
   "cell_type": "code",
   "execution_count": 5,
   "metadata": {},
   "outputs": [],
   "source": [
    "df_good=pd.read_csv('results_bfi_goodp2.csv')\n",
    "df_good=pd.read_csv('results_good11b.csv')\n",
    "df_good=df_good[0:18788]\n",
    "print(df_good.tail())\n",
    "\n",
    "df_good.shape"
   ]
  },
  {
   "cell_type": "code",
   "execution_count": 6,
   "metadata": {},
   "outputs": [
    {
     "name": "stdout",
     "output_type": "stream",
     "text": [
      "               Name source                                  Item  Itemnum  \\\n",
      "37576  Barack Obama    NPP                          Is talkative        1   \n",
      "37577  Barack Obama    NPP       Tends to find fault with others        2   \n",
      "37578  Barack Obama    NPP                   Does a thorough job        3   \n",
      "37579  Barack Obama    NPP                    Is depressed, blue        4   \n",
      "37580  Barack Obama    NPP  Is original, comes up with new ideas        5   \n",
      "\n",
      "       Answer  \n",
      "37576     1.0  \n",
      "37577     1.0  \n",
      "37578     1.0  \n",
      "37579     1.0  \n",
      "37580     4.0  \n"
     ]
    },
    {
     "data": {
      "text/plain": [
       "(18788, 5)"
      ]
     },
     "execution_count": 6,
     "metadata": {},
     "output_type": "execute_result"
    }
   ],
   "source": [
    "\n",
    "df_good=df_good[37576:]\n",
    "print(df_good.head())\n",
    "\n",
    "df_good.shape"
   ]
  },
  {
   "cell_type": "code",
   "execution_count": 7,
   "metadata": {},
   "outputs": [
    {
     "name": "stdout",
     "output_type": "stream",
     "text": [
      "                       Name  Extraversion  Agreeableness  Conscientiousness  \\\n",
      "0          A. T. Ariyaratne         2.625          3.333              3.667   \n",
      "1         A.H.M. Noman Khan         3.375          3.333              2.556   \n",
      "2             Abdon Nababan         2.875          3.778              3.667   \n",
      "3       Abdul Razak Hussein         2.875          3.222              4.000   \n",
      "4        Abdul Samad Ismail         3.000          3.000              4.000   \n",
      "..                      ...           ...            ...                ...   \n",
      "422         Zacarias Sarian         2.875          2.667              2.444   \n",
      "423     Zafrullah Chowdhury         2.875          3.000              3.556   \n",
      "424  Zakiah Hanum Abd Hamid         3.375          3.111              2.667   \n",
      "425           Élie Ducommun         2.625          4.111              4.444   \n",
      "426     Óscar Arias Sánchez         2.375          3.667              3.222   \n",
      "\n",
      "     Neuroticism  Openness  \n",
      "0          3.750       2.5  \n",
      "1          2.500       4.1  \n",
      "2          3.125       3.7  \n",
      "3          4.000       4.5  \n",
      "4          3.375       3.3  \n",
      "..           ...       ...  \n",
      "422        3.500       2.9  \n",
      "423        2.375       2.8  \n",
      "424        2.750       4.0  \n",
      "425        2.625       3.4  \n",
      "426        2.625       2.2  \n",
      "\n",
      "[427 rows x 6 columns]\n"
     ]
    }
   ],
   "source": [
    "res_df=bfi_calc(df_good)\n",
    "res_df.to_csv('good_bfi.csv', mode='a', header=False, index=False)"
   ]
  },
  {
   "cell_type": "markdown",
   "metadata": {},
   "source": [
    "#### Results for Falcon 11B prompt1+2 bad \n"
   ]
  },
  {
   "cell_type": "code",
   "execution_count": 25,
   "metadata": {},
   "outputs": [
    {
     "name": "stdout",
     "output_type": "stream",
     "text": [
      "              Name     source                                  Item  Itemnum  \\\n",
      "0  Osama bin Laden  Terrorist                          Is talkative        1   \n",
      "1  Osama bin Laden  Terrorist       Tends to find fault with others        2   \n",
      "2  Osama bin Laden  Terrorist                   Does a thorough job        3   \n",
      "3  Osama bin Laden  Terrorist                    Is depressed, blue        4   \n",
      "4  Osama bin Laden  Terrorist  Is original, comes up with new ideas        5   \n",
      "\n",
      "   Answer  \n",
      "0       4  \n",
      "1       1  \n",
      "2       4  \n",
      "3       1  \n",
      "4       1  \n"
     ]
    }
   ],
   "source": [
    "df_bad=pd.read_csv('results_bad11b.csv')\n",
    "df_bad=df_bad[0:19668]\n",
    "print(df_bad.head())\n",
    "\n"
   ]
  },
  {
   "cell_type": "code",
   "execution_count": 26,
   "metadata": {},
   "outputs": [
    {
     "data": {
      "text/plain": [
       "(19668, 5)"
      ]
     },
     "execution_count": 26,
     "metadata": {},
     "output_type": "execute_result"
    }
   ],
   "source": [
    "df_bad.shape"
   ]
  },
  {
   "cell_type": "code",
   "execution_count": 27,
   "metadata": {},
   "outputs": [
    {
     "data": {
      "text/html": [
       "<div>\n",
       "<style scoped>\n",
       "    .dataframe tbody tr th:only-of-type {\n",
       "        vertical-align: middle;\n",
       "    }\n",
       "\n",
       "    .dataframe tbody tr th {\n",
       "        vertical-align: top;\n",
       "    }\n",
       "\n",
       "    .dataframe thead th {\n",
       "        text-align: right;\n",
       "    }\n",
       "</style>\n",
       "<table border=\"1\" class=\"dataframe\">\n",
       "  <thead>\n",
       "    <tr style=\"text-align: right;\">\n",
       "      <th></th>\n",
       "      <th>source</th>\n",
       "      <th>Item</th>\n",
       "      <th>Itemnum</th>\n",
       "      <th>Answer</th>\n",
       "    </tr>\n",
       "    <tr>\n",
       "      <th>Name</th>\n",
       "      <th></th>\n",
       "      <th></th>\n",
       "      <th></th>\n",
       "      <th></th>\n",
       "    </tr>\n",
       "  </thead>\n",
       "  <tbody>\n",
       "    <tr>\n",
       "      <th>2 Pistols</th>\n",
       "      <td>44</td>\n",
       "      <td>44</td>\n",
       "      <td>44</td>\n",
       "      <td>44</td>\n",
       "    </tr>\n",
       "    <tr>\n",
       "      <th>Abdelhamid Abaaoud</th>\n",
       "      <td>44</td>\n",
       "      <td>44</td>\n",
       "      <td>44</td>\n",
       "      <td>44</td>\n",
       "    </tr>\n",
       "    <tr>\n",
       "      <th>Abdolmalek Rigi</th>\n",
       "      <td>44</td>\n",
       "      <td>44</td>\n",
       "      <td>44</td>\n",
       "      <td>44</td>\n",
       "    </tr>\n",
       "    <tr>\n",
       "      <th>Abdulaziz al-Omari</th>\n",
       "      <td>44</td>\n",
       "      <td>44</td>\n",
       "      <td>44</td>\n",
       "      <td>44</td>\n",
       "    </tr>\n",
       "    <tr>\n",
       "      <th>Abdullah Ahmed Abdullah</th>\n",
       "      <td>44</td>\n",
       "      <td>44</td>\n",
       "      <td>44</td>\n",
       "      <td>44</td>\n",
       "    </tr>\n",
       "    <tr>\n",
       "      <th>...</th>\n",
       "      <td>...</td>\n",
       "      <td>...</td>\n",
       "      <td>...</td>\n",
       "      <td>...</td>\n",
       "    </tr>\n",
       "    <tr>\n",
       "      <th>Yevno Azef</th>\n",
       "      <td>44</td>\n",
       "      <td>44</td>\n",
       "      <td>44</td>\n",
       "      <td>44</td>\n",
       "    </tr>\n",
       "    <tr>\n",
       "      <th>Yoo Young-chul</th>\n",
       "      <td>44</td>\n",
       "      <td>44</td>\n",
       "      <td>44</td>\n",
       "      <td>44</td>\n",
       "    </tr>\n",
       "    <tr>\n",
       "      <th>Yoshio Kodama</th>\n",
       "      <td>44</td>\n",
       "      <td>44</td>\n",
       "      <td>44</td>\n",
       "      <td>44</td>\n",
       "    </tr>\n",
       "    <tr>\n",
       "      <th>Zodiac Killer</th>\n",
       "      <td>44</td>\n",
       "      <td>44</td>\n",
       "      <td>44</td>\n",
       "      <td>44</td>\n",
       "    </tr>\n",
       "    <tr>\n",
       "      <th>Ángel Maturino Reséndiz</th>\n",
       "      <td>44</td>\n",
       "      <td>44</td>\n",
       "      <td>44</td>\n",
       "      <td>44</td>\n",
       "    </tr>\n",
       "  </tbody>\n",
       "</table>\n",
       "<p>447 rows × 4 columns</p>\n",
       "</div>"
      ],
      "text/plain": [
       "                         source  Item  Itemnum  Answer\n",
       "Name                                                  \n",
       "2 Pistols                    44    44       44      44\n",
       "Abdelhamid Abaaoud           44    44       44      44\n",
       "Abdolmalek Rigi              44    44       44      44\n",
       "Abdulaziz al-Omari           44    44       44      44\n",
       "Abdullah Ahmed Abdullah      44    44       44      44\n",
       "...                         ...   ...      ...     ...\n",
       "Yevno Azef                   44    44       44      44\n",
       "Yoo Young-chul               44    44       44      44\n",
       "Yoshio Kodama                44    44       44      44\n",
       "Zodiac Killer                44    44       44      44\n",
       "Ángel Maturino Reséndiz      44    44       44      44\n",
       "\n",
       "[447 rows x 4 columns]"
      ]
     },
     "execution_count": 27,
     "metadata": {},
     "output_type": "execute_result"
    }
   ],
   "source": [
    "\n",
    "df_bad.groupby(['Name']).count()\n"
   ]
  },
  {
   "cell_type": "code",
   "execution_count": 28,
   "metadata": {},
   "outputs": [
    {
     "data": {
      "text/plain": [
       "Name       object\n",
       "source     object\n",
       "Item       object\n",
       "Itemnum     int64\n",
       "Answer      int64\n",
       "dtype: object"
      ]
     },
     "execution_count": 28,
     "metadata": {},
     "output_type": "execute_result"
    }
   ],
   "source": [
    "df_bad.dtypes\n"
   ]
  },
  {
   "cell_type": "code",
   "execution_count": 29,
   "metadata": {},
   "outputs": [
    {
     "name": "stdout",
     "output_type": "stream",
     "text": [
      "                        Name  Extraversion  Agreeableness  Conscientiousness  \\\n",
      "0                  2 Pistols         3.875          2.778              2.667   \n",
      "1         Abdelhamid Abaaoud         3.000          3.778              2.778   \n",
      "2            Abdolmalek Rigi         3.000          3.667              3.667   \n",
      "3         Abdulaziz al-Omari         2.625          3.222              2.667   \n",
      "4    Abdullah Ahmed Abdullah         2.750          2.667              3.444   \n",
      "..                       ...           ...            ...                ...   \n",
      "442               Yevno Azef         3.625          3.000              2.778   \n",
      "443           Yoo Young-chul         2.250          2.444              3.444   \n",
      "444            Yoshio Kodama         2.875          3.444              4.111   \n",
      "445            Zodiac Killer         2.500          3.222              3.556   \n",
      "446  Ángel Maturino Reséndiz         1.750          2.778              1.444   \n",
      "\n",
      "     Neuroticism  Openness  \n",
      "0          2.625       2.5  \n",
      "1          1.875       3.4  \n",
      "2          2.375       2.9  \n",
      "3          2.125       3.3  \n",
      "4          2.000       3.1  \n",
      "..           ...       ...  \n",
      "442        2.750       3.0  \n",
      "443        2.125       2.5  \n",
      "444        1.625       1.8  \n",
      "445        3.250       2.3  \n",
      "446        1.875       3.5  \n",
      "\n",
      "[447 rows x 6 columns]\n"
     ]
    }
   ],
   "source": [
    "res_df=bfi_calc(df_bad)\n",
    "res_df.to_csv('bad_bfi.csv',index=False)"
   ]
  },
  {
   "cell_type": "code",
   "execution_count": 30,
   "metadata": {},
   "outputs": [
    {
     "name": "stdout",
     "output_type": "stream",
     "text": [
      "                  Name     source                                  Item  \\\n",
      "19668  Osama bin Laden  Terrorist                          Is talkative   \n",
      "19669  Osama bin Laden  Terrorist       Tends to find fault with others   \n",
      "19670  Osama bin Laden  Terrorist                   Does a thorough job   \n",
      "19671  Osama bin Laden  Terrorist                    Is depressed, blue   \n",
      "19672  Osama bin Laden  Terrorist  Is original, comes up with new ideas   \n",
      "\n",
      "       Itemnum  Answer  \n",
      "19668        1       1  \n",
      "19669        2       4  \n",
      "19670        3       4  \n",
      "19671        4       1  \n",
      "19672        5       5  \n"
     ]
    }
   ],
   "source": [
    "df_bad=pd.read_csv('results_bad11b.csv')\n",
    "df_bad=df_bad[19668:]\n",
    "print(df_bad.head())"
   ]
  },
  {
   "cell_type": "code",
   "execution_count": 31,
   "metadata": {},
   "outputs": [
    {
     "data": {
      "text/plain": [
       "(19668, 5)"
      ]
     },
     "execution_count": 31,
     "metadata": {},
     "output_type": "execute_result"
    }
   ],
   "source": [
    "df_bad.shape"
   ]
  },
  {
   "cell_type": "code",
   "execution_count": 32,
   "metadata": {},
   "outputs": [
    {
     "name": "stdout",
     "output_type": "stream",
     "text": [
      "                        Name  Extraversion  Agreeableness  Conscientiousness  \\\n",
      "0                  2 Pistols         2.750          2.222              2.444   \n",
      "1         Abdelhamid Abaaoud         2.875          2.667              3.333   \n",
      "2            Abdolmalek Rigi         2.750          3.667              3.667   \n",
      "3         Abdulaziz al-Omari         3.750          3.444              2.556   \n",
      "4    Abdullah Ahmed Abdullah         3.875          2.889              3.556   \n",
      "..                       ...           ...            ...                ...   \n",
      "442               Yevno Azef         2.250          2.778              3.444   \n",
      "443           Yoo Young-chul         2.875          3.111              3.667   \n",
      "444            Yoshio Kodama         3.500          2.556              3.111   \n",
      "445            Zodiac Killer         3.125          4.333              3.333   \n",
      "446  Ángel Maturino Reséndiz         2.250          3.000              2.444   \n",
      "\n",
      "     Neuroticism  Openness  \n",
      "0          2.750       2.5  \n",
      "1          3.625       2.5  \n",
      "2          2.375       3.1  \n",
      "3          3.500       3.6  \n",
      "4          2.750       3.0  \n",
      "..           ...       ...  \n",
      "442        2.375       3.1  \n",
      "443        2.000       2.7  \n",
      "444        3.000       2.9  \n",
      "445        2.250       3.4  \n",
      "446        3.250       4.0  \n",
      "\n",
      "[447 rows x 6 columns]\n"
     ]
    }
   ],
   "source": [
    "res_df=bfi_calc(df_bad)\n",
    "res_df.to_csv('bad_bfi.csv', mode='a', header=False,index=False)"
   ]
  },
  {
   "cell_type": "markdown",
   "metadata": {},
   "source": [
    "### Results for Falcon 11B neutral prompt 1"
   ]
  },
  {
   "cell_type": "code",
   "execution_count": 33,
   "metadata": {},
   "outputs": [
    {
     "name": "stdout",
     "output_type": "stream",
     "text": [
      "              Name source                                  Item  Itemnum  \\\n",
      "0  Michael Jackson  Actor                          Is talkative        1   \n",
      "1  Michael Jackson  Actor       Tends to find fault with others        2   \n",
      "2  Michael Jackson  Actor                   Does a thorough job        3   \n",
      "3  Michael Jackson  Actor                    Is depressed, blue        4   \n",
      "4  Michael Jackson  Actor  Is original, comes up with new ideas        5   \n",
      "\n",
      "   Answer  \n",
      "0       1  \n",
      "1       1  \n",
      "2       1  \n",
      "3       1  \n",
      "4       1  \n"
     ]
    }
   ],
   "source": [
    "df_neutral=pd.read_csv('results_neutral11b.csv')\n",
    "\n",
    "print(df_neutral.head())"
   ]
  },
  {
   "cell_type": "code",
   "execution_count": 34,
   "metadata": {},
   "outputs": [
    {
     "data": {
      "text/plain": [
       "(24376, 5)"
      ]
     },
     "execution_count": 34,
     "metadata": {},
     "output_type": "execute_result"
    }
   ],
   "source": [
    "df_neutral.shape"
   ]
  },
  {
   "cell_type": "code",
   "execution_count": 35,
   "metadata": {},
   "outputs": [
    {
     "name": "stdout",
     "output_type": "stream",
     "text": [
      "                       Name  Extraversion  Agreeableness  Conscientiousness  \\\n",
      "0                   50 Cent         2.875          2.333              3.222   \n",
      "1               A. A. Milne         2.750          2.778              3.222   \n",
      "2    Abdelkader El Djezairi         2.375          3.444              3.000   \n",
      "3           Abraham Lincoln         2.125          3.556              2.667   \n",
      "4                Ada Yonath         4.125          3.000              2.556   \n",
      "..                      ...           ...            ...                ...   \n",
      "549     Zbigniew Brzezinski         3.125          3.778              2.778   \n",
      "550                 Zendaya         3.000          1.889              3.000   \n",
      "551           Zhan Beleniuk         3.375          4.444              2.778   \n",
      "552      Zlatan Ibrahimovic         2.375          3.778              1.889   \n",
      "553              Édith Piaf         4.250          3.444              3.778   \n",
      "\n",
      "     Neuroticism  Openness  \n",
      "0          1.875       2.6  \n",
      "1          3.000       3.1  \n",
      "2          2.875       3.1  \n",
      "3          3.875       3.0  \n",
      "4          2.875       2.7  \n",
      "..           ...       ...  \n",
      "549        2.000       2.7  \n",
      "550        2.875       2.6  \n",
      "551        2.875       1.8  \n",
      "552        1.750       2.5  \n",
      "553        3.000       2.1  \n",
      "\n",
      "[554 rows x 6 columns]\n"
     ]
    }
   ],
   "source": [
    "res_df=bfi_calc(df_neutral)\n",
    "res_df.to_csv('neutral_bfi.csv',index=False)"
   ]
  },
  {
   "cell_type": "code",
   "execution_count": null,
   "metadata": {},
   "outputs": [],
   "source": []
  }
 ],
 "metadata": {
  "kernelspec": {
   "display_name": "dataviz",
   "language": "python",
   "name": "python3"
  },
  "language_info": {
   "codemirror_mode": {
    "name": "ipython",
    "version": 3
   },
   "file_extension": ".py",
   "mimetype": "text/x-python",
   "name": "python",
   "nbconvert_exporter": "python",
   "pygments_lexer": "ipython3",
   "version": "3.12.4"
  }
 },
 "nbformat": 4,
 "nbformat_minor": 2
}
