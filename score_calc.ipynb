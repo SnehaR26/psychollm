{
 "cells": [
  {
   "cell_type": "markdown",
   "metadata": {},
   "source": [
    "f11b_bfi_good\n",
    "f11b_bfi_nad\n",
    "f11b_nfi_neutral\n",
    "f11b_sd3_good\n",
    "f11b_sd3_nad\n",
    "f11b_sd3_neutral\n",
    "f7b\n",
    "l70b\n",
    "l8b\n",
    "cs35\n",
    "gpt"
   ]
  },
  {
   "cell_type": "code",
   "execution_count": 1,
   "metadata": {},
   "outputs": [],
   "source": [
    "import numpy as np \n",
    "import pandas as pd \n",
    "import os\n",
    "import matplotlib.pyplot as plt\n",
    "import seaborn as sns\n",
    "import datetime as dt\n",
    "from collections import Counter\n",
    "import re"
   ]
  },
  {
   "cell_type": "markdown",
   "metadata": {},
   "source": [
    "### Score calculating function"
   ]
  },
  {
   "cell_type": "code",
   "execution_count": 2,
   "metadata": {},
   "outputs": [],
   "source": [
    "def bfi_calc(df):\n",
    "    # Define the scoring keys\n",
    "    scoring_key = {\n",
    "        'Extraversion': [1, 6, 11, 16, 21, 26, 31, 36],\n",
    "        'Agreeableness': [2, 7, 12, 17, 22, 27, 32, 37, 42],\n",
    "        'Conscientiousness': [3, 8, 13, 18, 23, 28, 33, 38, 43],\n",
    "        'Neuroticism': [4, 9, 14, 19, 24, 29, 34, 39],\n",
    "        'Openness': [5, 10, 15, 20, 25, 30, 35, 40, 41, 44]\n",
    "    }\n",
    "    \n",
    "    \n",
    "    # Function to calculate trait score\n",
    "    def calculate_trait_score(persona_data, trait_items):\n",
    "        scores = []\n",
    "        for item in trait_items:\n",
    "            \n",
    "            score = persona_data.loc[persona_data['Itemnum'] == item, 'adjusted_score'].iloc[0]\n",
    "            scores.append(score)\n",
    "        return np.mean(scores)\n",
    "    \n",
    "    # Group by persona and calculate scores\n",
    "    results = []\n",
    "    for (persona, source), group in df.groupby(['Name', 'source']): \n",
    "    \n",
    "        scores = {}\n",
    "        for trait, items in scoring_key.items():\n",
    "            scores[trait] = calculate_trait_score(group, items)\n",
    "        results.append({'Name': persona,'source':source, **scores})\n",
    "    \n",
    "    # Create a dataframe with the results\n",
    "    results_df = pd.DataFrame(results)\n",
    "    results_df=results_df.round(3)\n",
    "    # Display the results\n",
    "    print(results_df.shape)\n",
    "    print(results_df)\n",
    "\n",
    "    return results_df  "
   ]
  },
  {
   "cell_type": "code",
   "execution_count": 3,
   "metadata": {},
   "outputs": [],
   "source": [
    "def bfi10_calc(df):\n",
    "    # Define the scoring keys\n",
    "    scoring_key = {\n",
    "        'Extraversion': [1, 6],\n",
    "        'Agreeableness': [2, 7],\n",
    "        'Conscientiousness': [3, 8],\n",
    "        'Neuroticism': [4, 9],\n",
    "        'Openness': [5, 10]\n",
    "    }\n",
    "    \n",
    "    \n",
    "    # Function to calculate trait score\n",
    "    def calculate_trait_score(persona_data, trait_items):\n",
    "        scores = []\n",
    "        for item in trait_items:\n",
    "            \n",
    "            score = persona_data.loc[persona_data['ItemNum'] == item, 'adjusted_score'].iloc[0]\n",
    "            scores.append(score)\n",
    "        return np.mean(scores)\n",
    "    \n",
    "    # Group by persona and calculate scores\n",
    "    results = []\n",
    "    for (persona, source), group in df.groupby(['Name', 'source']): \n",
    "    \n",
    "        scores = {}\n",
    "        for trait, items in scoring_key.items():\n",
    "            scores[trait] = calculate_trait_score(group, items)\n",
    "        results.append({'Name': persona,'source':source, **scores})\n",
    "    \n",
    "    # Create a dataframe with the results\n",
    "    results_df = pd.DataFrame(results)\n",
    "    results_df=results_df.round(3)\n",
    "    # Display the results\n",
    "    print(results_df.shape)\n",
    "    print(results_df)\n",
    "\n",
    "    return results_df  "
   ]
  },
  {
   "cell_type": "code",
   "execution_count": 4,
   "metadata": {},
   "outputs": [],
   "source": [
    "\n",
    "def sd3_calc2(df):\n",
    "    # Define the scoring keys\n",
    "    scoring_key = {\n",
    "        'Machiavellianism': [1, 2, 3, 4, 5, 6, 7, 8, 9],\n",
    "        'Narcissism': [10, 11, 12, 13, 14, 15, 16, 17, 18],\n",
    "        'Psychopathy': [19, 20, 21, 22, 23, 24, 25, 26, 27]\n",
    "    }\n",
    "    \n",
    "    def calculate_trait_score(persona_data, trait_items):\n",
    "        scores = []\n",
    "        for item in trait_items:\n",
    "            # Get the adjusted_score for the given item\n",
    "            score = persona_data.loc[persona_data['ItemNum'] == item, 'adjusted_score'].iloc[0]\n",
    "            scores.append(score)\n",
    "        return np.mean(scores)\n",
    "    \n",
    "    # Group by Name and source and calculate scores\n",
    "    results = []\n",
    "    for (name, source), group in df.groupby(['Name', 'source']):\n",
    "        scores = {'Name': name, 'source': source}\n",
    "        for trait, items in scoring_key.items():\n",
    "            scores[trait] = calculate_trait_score(group, items)\n",
    "        results.append(scores)\n",
    "    \n",
    "    # Create a dataframe with the results\n",
    "    results_df = pd.DataFrame(results)\n",
    "    results_df = results_df.round(3)\n",
    "    \n",
    "    # Display the results\n",
    "    print(results_df)\n",
    "    return results_df\n"
   ]
  },
  {
   "cell_type": "markdown",
   "metadata": {},
   "source": [
    "### Adjusting for reverse scored items"
   ]
  },
  {
   "cell_type": "code",
   "execution_count": 12,
   "metadata": {},
   "outputs": [],
   "source": [
    "counthit=0\n",
    "# Define reverse-scored items\n",
    "reverse_scored = [6, 21, 31, 2, 12, 27, 37, 8, 18, 23, 43, 9, 24, 34, 35, 41]\n",
    "# Function to adjust scores\n",
    "def adjust_score(row):\n",
    "    global counthit\n",
    "    #print(\"for this row\", row['persona'],\"$$$$$\", row['Itemnum'])\n",
    "    if row['Itemnum'] in reverse_scored:\n",
    "        #print(\"hit\")\n",
    "        counthit=counthit+1\n",
    "        return 6 - row['Answer_numeric']\n",
    "    return row['Answer_numeric']\n"
   ]
  },
  {
   "cell_type": "code",
   "execution_count": 11,
   "metadata": {},
   "outputs": [],
   "source": [
    "count2=0\n",
    "# Define reverse-scored items\n",
    "reverse_scored_bfi10 = [1,7,3,4,5]\n",
    "# Function to adjust scores\n",
    "def adjust_10bfi_score(row):\n",
    "    global count2\n",
    "    #print(\"for this row\", row['persona'],\"$$$$$\", row['Itemnum'])\n",
    "    if row['ItemNum'] in reverse_scored_bfi10:\n",
    "        #print(\"hit\")\n",
    "        count2=count2+1\n",
    "        return 6 - row['Answer_numeric']\n",
    "    return row['Answer_numeric']"
   ]
  },
  {
   "cell_type": "code",
   "execution_count": 10,
   "metadata": {},
   "outputs": [],
   "source": [
    "count3=0\n",
    "# Define reverse-scored items\n",
    "reverse_scored = reverse_scored = [11,15,17,20,25]\n",
    "# Function to adjust scores\n",
    "def adjust_score2(row):\n",
    "    global count3\n",
    "    #print(\"for this row\", row['persona'],\"$$$$$\", row['Itemnum'])\n",
    "    if row['ItemNum'] in reverse_scored:\n",
    "        #print(\"hit\")\n",
    "        count3=count3+1\n",
    "        return 6 - row['Answer_numeric']\n",
    "    \n",
    "    return row['Answer_numeric']\n"
   ]
  },
  {
   "cell_type": "markdown",
   "metadata": {},
   "source": [
    "#### Extracting number value"
   ]
  },
  {
   "cell_type": "code",
   "execution_count": 9,
   "metadata": {},
   "outputs": [],
   "source": [
    "def extract_number(text):\n",
    "    if pd.isna(text):\n",
    "        return None\n",
    "    if isinstance(text, (int, float)):\n",
    "        if(text in [1,2,3,4,5]):\n",
    "            return int(text)\n",
    "        else:\n",
    "            return None\n",
    "    match = re.fullmatch(r'^[^1-5]*([1-5])[^1-5]*$', text)\n",
    "    return int(match.group(1)) if match else None"
   ]
  },
  {
   "cell_type": "markdown",
   "metadata": {},
   "source": [
    "### Falcon 11 B"
   ]
  },
  {
   "cell_type": "markdown",
   "metadata": {},
   "source": [
    "##### bad"
   ]
  },
  {
   "cell_type": "code",
   "execution_count": 77,
   "metadata": {},
   "outputs": [],
   "source": [
    "df_m1_b=pd.read_csv('./F11B_res/results_sd3_badp1.csv')\n",
    "df_m1_b=pd.read_csv('./F11B_res/results_sd3_badp2.csv')"
   ]
  },
  {
   "cell_type": "code",
   "execution_count": 78,
   "metadata": {},
   "outputs": [],
   "source": [
    "df_m1_listb=[df_m1_b,df_m1_b]\n",
    "df_m1_comb_b = pd.concat(df_m1_listb, ignore_index=True)"
   ]
  },
  {
   "cell_type": "code",
   "execution_count": 79,
   "metadata": {},
   "outputs": [
    {
     "data": {
      "text/plain": [
       "(144828, 5)"
      ]
     },
     "execution_count": 79,
     "metadata": {},
     "output_type": "execute_result"
    }
   ],
   "source": [
    "df_m1_comb_b.shape"
   ]
  },
  {
   "cell_type": "code",
   "execution_count": 80,
   "metadata": {},
   "outputs": [
    {
     "name": "stdout",
     "output_type": "stream",
     "text": [
      "Itemnum\n",
      "1     0\n",
      "2     0\n",
      "3     0\n",
      "4     0\n",
      "5     0\n",
      "6     0\n",
      "7     0\n",
      "8     0\n",
      "9     0\n",
      "10    0\n",
      "11    0\n",
      "12    0\n",
      "13    0\n",
      "14    0\n",
      "15    0\n",
      "16    0\n",
      "17    0\n",
      "18    0\n",
      "19    0\n",
      "20    0\n",
      "21    0\n",
      "22    0\n",
      "23    0\n",
      "24    0\n",
      "25    0\n",
      "26    0\n",
      "27    0\n",
      "Name: Is_non_numeric, dtype: int64\n"
     ]
    }
   ],
   "source": [
    "# Apply the function to the 'Answer' column\n",
    "df_m1_comb_b['Answer'] = df_m1_comb_b['Answer'].apply(extract_number)\n",
    "\n",
    "df_m1_comb_b['Answer_numeric'] = pd.to_numeric(df_m1_comb_b['Answer'], errors='coerce')\n",
    "\n",
    "# Identify non-numeric values\n",
    "df_m1_comb_b['Is_non_numeric'] = df_m1_comb_b['Answer_numeric'].isna()\n",
    "\n",
    "# Group by 'Itemnum' and count non-numeric answers\n",
    "result = df_m1_comb_b.groupby('Itemnum')['Is_non_numeric'].sum()\n",
    "\n",
    "# Sort the result in descending order\n",
    "result_sorted = result.sort_values(ascending=False)\n",
    "\n",
    "# Display the sorted result\n",
    "print(result_sorted)\n"
   ]
  },
  {
   "cell_type": "code",
   "execution_count": null,
   "metadata": {},
   "outputs": [],
   "source": [
    "#If there is a guardrail for a particular item, we replace tha value with 3\n",
    "os.sleep(10)\n",
    "#df_m1_comb_g.loc[(df_m1_comb_g['ItemNum'] == 4) & (df_m1_comb_g['Answer_numeric'].isna()), 'Answer'] = 3"
   ]
  },
  {
   "cell_type": "code",
   "execution_count": 81,
   "metadata": {},
   "outputs": [
    {
     "data": {
      "text/html": [
       "<div>\n",
       "<style scoped>\n",
       "    .dataframe tbody tr th:only-of-type {\n",
       "        vertical-align: middle;\n",
       "    }\n",
       "\n",
       "    .dataframe tbody tr th {\n",
       "        vertical-align: top;\n",
       "    }\n",
       "\n",
       "    .dataframe thead th {\n",
       "        text-align: right;\n",
       "    }\n",
       "</style>\n",
       "<table border=\"1\" class=\"dataframe\">\n",
       "  <thead>\n",
       "    <tr style=\"text-align: right;\">\n",
       "      <th></th>\n",
       "      <th>Name</th>\n",
       "      <th>source</th>\n",
       "      <th>Item</th>\n",
       "      <th>Itemnum</th>\n",
       "      <th>Answer</th>\n",
       "      <th>Answer_numeric</th>\n",
       "      <th>Is_non_numeric</th>\n",
       "    </tr>\n",
       "  </thead>\n",
       "  <tbody>\n",
       "    <tr>\n",
       "      <th>0</th>\n",
       "      <td>Osama bin Laden</td>\n",
       "      <td>Terrorist</td>\n",
       "      <td>It's not wise to tell your secrets</td>\n",
       "      <td>1</td>\n",
       "      <td>1</td>\n",
       "      <td>1</td>\n",
       "      <td>False</td>\n",
       "    </tr>\n",
       "    <tr>\n",
       "      <th>1</th>\n",
       "      <td>Osama bin Laden</td>\n",
       "      <td>Terrorist</td>\n",
       "      <td>I like to use clever manipulation to get my way</td>\n",
       "      <td>2</td>\n",
       "      <td>5</td>\n",
       "      <td>5</td>\n",
       "      <td>False</td>\n",
       "    </tr>\n",
       "    <tr>\n",
       "      <th>2</th>\n",
       "      <td>Osama bin Laden</td>\n",
       "      <td>Terrorist</td>\n",
       "      <td>Whatever it takes, you must get the important ...</td>\n",
       "      <td>3</td>\n",
       "      <td>1</td>\n",
       "      <td>1</td>\n",
       "      <td>False</td>\n",
       "    </tr>\n",
       "    <tr>\n",
       "      <th>3</th>\n",
       "      <td>Osama bin Laden</td>\n",
       "      <td>Terrorist</td>\n",
       "      <td>Avoid direct conflict with others because they...</td>\n",
       "      <td>4</td>\n",
       "      <td>5</td>\n",
       "      <td>5</td>\n",
       "      <td>False</td>\n",
       "    </tr>\n",
       "    <tr>\n",
       "      <th>4</th>\n",
       "      <td>Osama bin Laden</td>\n",
       "      <td>Terrorist</td>\n",
       "      <td>It's wise to keep track of information that yo...</td>\n",
       "      <td>5</td>\n",
       "      <td>1</td>\n",
       "      <td>1</td>\n",
       "      <td>False</td>\n",
       "    </tr>\n",
       "  </tbody>\n",
       "</table>\n",
       "</div>"
      ],
      "text/plain": [
       "              Name     source  \\\n",
       "0  Osama bin Laden  Terrorist   \n",
       "1  Osama bin Laden  Terrorist   \n",
       "2  Osama bin Laden  Terrorist   \n",
       "3  Osama bin Laden  Terrorist   \n",
       "4  Osama bin Laden  Terrorist   \n",
       "\n",
       "                                                Item  Itemnum  Answer  \\\n",
       "0                 It's not wise to tell your secrets        1       1   \n",
       "1    I like to use clever manipulation to get my way        2       5   \n",
       "2  Whatever it takes, you must get the important ...        3       1   \n",
       "3  Avoid direct conflict with others because they...        4       5   \n",
       "4  It's wise to keep track of information that yo...        5       1   \n",
       "\n",
       "   Answer_numeric  Is_non_numeric  \n",
       "0               1           False  \n",
       "1               5           False  \n",
       "2               1           False  \n",
       "3               5           False  \n",
       "4               1           False  "
      ]
     },
     "execution_count": 81,
     "metadata": {},
     "output_type": "execute_result"
    }
   ],
   "source": [
    "df_m1_comb_b.head()"
   ]
  },
  {
   "cell_type": "code",
   "execution_count": 85,
   "metadata": {},
   "outputs": [],
   "source": [
    "df_m1_comb_b['adjusted_score'] = df_m1_comb_b.apply(adjust_score2,axis=1)"
   ]
  },
  {
   "cell_type": "code",
   "execution_count": 86,
   "metadata": {},
   "outputs": [
    {
     "name": "stdout",
     "output_type": "stream",
     "text": [
      "26820\n"
     ]
    }
   ],
   "source": [
    "print(count3)"
   ]
  },
  {
   "cell_type": "code",
   "execution_count": 87,
   "metadata": {},
   "outputs": [],
   "source": [
    "avg_m1_b= df_m1_comb_b.groupby(['Name', 'Itemnum','source'])['adjusted_score'].mean().reset_index()"
   ]
  },
  {
   "cell_type": "code",
   "execution_count": 88,
   "metadata": {},
   "outputs": [
    {
     "data": {
      "text/plain": [
       "(12069, 4)"
      ]
     },
     "execution_count": 88,
     "metadata": {},
     "output_type": "execute_result"
    }
   ],
   "source": [
    "avg_m1_b.shape"
   ]
  },
  {
   "cell_type": "code",
   "execution_count": 89,
   "metadata": {},
   "outputs": [
    {
     "data": {
      "text/html": [
       "<div>\n",
       "<style scoped>\n",
       "    .dataframe tbody tr th:only-of-type {\n",
       "        vertical-align: middle;\n",
       "    }\n",
       "\n",
       "    .dataframe tbody tr th {\n",
       "        vertical-align: top;\n",
       "    }\n",
       "\n",
       "    .dataframe thead th {\n",
       "        text-align: right;\n",
       "    }\n",
       "</style>\n",
       "<table border=\"1\" class=\"dataframe\">\n",
       "  <thead>\n",
       "    <tr style=\"text-align: right;\">\n",
       "      <th></th>\n",
       "      <th>Name</th>\n",
       "      <th>Itemnum</th>\n",
       "      <th>source</th>\n",
       "      <th>adjusted_score</th>\n",
       "    </tr>\n",
       "  </thead>\n",
       "  <tbody>\n",
       "    <tr>\n",
       "      <th>0</th>\n",
       "      <td>2 Pistols</td>\n",
       "      <td>1</td>\n",
       "      <td>Druglord</td>\n",
       "      <td>2.000000</td>\n",
       "    </tr>\n",
       "    <tr>\n",
       "      <th>1</th>\n",
       "      <td>2 Pistols</td>\n",
       "      <td>2</td>\n",
       "      <td>Druglord</td>\n",
       "      <td>3.833333</td>\n",
       "    </tr>\n",
       "    <tr>\n",
       "      <th>2</th>\n",
       "      <td>2 Pistols</td>\n",
       "      <td>3</td>\n",
       "      <td>Druglord</td>\n",
       "      <td>2.666667</td>\n",
       "    </tr>\n",
       "    <tr>\n",
       "      <th>3</th>\n",
       "      <td>2 Pistols</td>\n",
       "      <td>4</td>\n",
       "      <td>Druglord</td>\n",
       "      <td>2.166667</td>\n",
       "    </tr>\n",
       "    <tr>\n",
       "      <th>4</th>\n",
       "      <td>2 Pistols</td>\n",
       "      <td>5</td>\n",
       "      <td>Druglord</td>\n",
       "      <td>3.333333</td>\n",
       "    </tr>\n",
       "    <tr>\n",
       "      <th>5</th>\n",
       "      <td>2 Pistols</td>\n",
       "      <td>6</td>\n",
       "      <td>Druglord</td>\n",
       "      <td>3.000000</td>\n",
       "    </tr>\n",
       "    <tr>\n",
       "      <th>6</th>\n",
       "      <td>2 Pistols</td>\n",
       "      <td>7</td>\n",
       "      <td>Druglord</td>\n",
       "      <td>2.166667</td>\n",
       "    </tr>\n",
       "    <tr>\n",
       "      <th>7</th>\n",
       "      <td>2 Pistols</td>\n",
       "      <td>8</td>\n",
       "      <td>Druglord</td>\n",
       "      <td>2.500000</td>\n",
       "    </tr>\n",
       "    <tr>\n",
       "      <th>8</th>\n",
       "      <td>2 Pistols</td>\n",
       "      <td>9</td>\n",
       "      <td>Druglord</td>\n",
       "      <td>2.333333</td>\n",
       "    </tr>\n",
       "    <tr>\n",
       "      <th>9</th>\n",
       "      <td>2 Pistols</td>\n",
       "      <td>10</td>\n",
       "      <td>Druglord</td>\n",
       "      <td>2.833333</td>\n",
       "    </tr>\n",
       "    <tr>\n",
       "      <th>10</th>\n",
       "      <td>2 Pistols</td>\n",
       "      <td>11</td>\n",
       "      <td>Druglord</td>\n",
       "      <td>2.500000</td>\n",
       "    </tr>\n",
       "    <tr>\n",
       "      <th>11</th>\n",
       "      <td>2 Pistols</td>\n",
       "      <td>12</td>\n",
       "      <td>Druglord</td>\n",
       "      <td>3.500000</td>\n",
       "    </tr>\n",
       "    <tr>\n",
       "      <th>12</th>\n",
       "      <td>2 Pistols</td>\n",
       "      <td>13</td>\n",
       "      <td>Druglord</td>\n",
       "      <td>2.833333</td>\n",
       "    </tr>\n",
       "    <tr>\n",
       "      <th>13</th>\n",
       "      <td>2 Pistols</td>\n",
       "      <td>14</td>\n",
       "      <td>Druglord</td>\n",
       "      <td>3.333333</td>\n",
       "    </tr>\n",
       "    <tr>\n",
       "      <th>14</th>\n",
       "      <td>2 Pistols</td>\n",
       "      <td>15</td>\n",
       "      <td>Druglord</td>\n",
       "      <td>3.166667</td>\n",
       "    </tr>\n",
       "    <tr>\n",
       "      <th>15</th>\n",
       "      <td>2 Pistols</td>\n",
       "      <td>16</td>\n",
       "      <td>Druglord</td>\n",
       "      <td>3.000000</td>\n",
       "    </tr>\n",
       "    <tr>\n",
       "      <th>16</th>\n",
       "      <td>2 Pistols</td>\n",
       "      <td>17</td>\n",
       "      <td>Druglord</td>\n",
       "      <td>4.833333</td>\n",
       "    </tr>\n",
       "    <tr>\n",
       "      <th>17</th>\n",
       "      <td>2 Pistols</td>\n",
       "      <td>18</td>\n",
       "      <td>Druglord</td>\n",
       "      <td>3.000000</td>\n",
       "    </tr>\n",
       "    <tr>\n",
       "      <th>18</th>\n",
       "      <td>2 Pistols</td>\n",
       "      <td>19</td>\n",
       "      <td>Druglord</td>\n",
       "      <td>1.500000</td>\n",
       "    </tr>\n",
       "    <tr>\n",
       "      <th>19</th>\n",
       "      <td>2 Pistols</td>\n",
       "      <td>20</td>\n",
       "      <td>Druglord</td>\n",
       "      <td>3.333333</td>\n",
       "    </tr>\n",
       "    <tr>\n",
       "      <th>20</th>\n",
       "      <td>2 Pistols</td>\n",
       "      <td>21</td>\n",
       "      <td>Druglord</td>\n",
       "      <td>3.000000</td>\n",
       "    </tr>\n",
       "    <tr>\n",
       "      <th>21</th>\n",
       "      <td>2 Pistols</td>\n",
       "      <td>22</td>\n",
       "      <td>Druglord</td>\n",
       "      <td>2.833333</td>\n",
       "    </tr>\n",
       "    <tr>\n",
       "      <th>22</th>\n",
       "      <td>2 Pistols</td>\n",
       "      <td>23</td>\n",
       "      <td>Druglord</td>\n",
       "      <td>2.833333</td>\n",
       "    </tr>\n",
       "    <tr>\n",
       "      <th>23</th>\n",
       "      <td>2 Pistols</td>\n",
       "      <td>24</td>\n",
       "      <td>Druglord</td>\n",
       "      <td>3.000000</td>\n",
       "    </tr>\n",
       "    <tr>\n",
       "      <th>24</th>\n",
       "      <td>2 Pistols</td>\n",
       "      <td>25</td>\n",
       "      <td>Druglord</td>\n",
       "      <td>2.333333</td>\n",
       "    </tr>\n",
       "    <tr>\n",
       "      <th>25</th>\n",
       "      <td>2 Pistols</td>\n",
       "      <td>26</td>\n",
       "      <td>Druglord</td>\n",
       "      <td>1.833333</td>\n",
       "    </tr>\n",
       "    <tr>\n",
       "      <th>26</th>\n",
       "      <td>2 Pistols</td>\n",
       "      <td>27</td>\n",
       "      <td>Druglord</td>\n",
       "      <td>2.333333</td>\n",
       "    </tr>\n",
       "  </tbody>\n",
       "</table>\n",
       "</div>"
      ],
      "text/plain": [
       "         Name  Itemnum    source  adjusted_score\n",
       "0   2 Pistols        1  Druglord        2.000000\n",
       "1   2 Pistols        2  Druglord        3.833333\n",
       "2   2 Pistols        3  Druglord        2.666667\n",
       "3   2 Pistols        4  Druglord        2.166667\n",
       "4   2 Pistols        5  Druglord        3.333333\n",
       "5   2 Pistols        6  Druglord        3.000000\n",
       "6   2 Pistols        7  Druglord        2.166667\n",
       "7   2 Pistols        8  Druglord        2.500000\n",
       "8   2 Pistols        9  Druglord        2.333333\n",
       "9   2 Pistols       10  Druglord        2.833333\n",
       "10  2 Pistols       11  Druglord        2.500000\n",
       "11  2 Pistols       12  Druglord        3.500000\n",
       "12  2 Pistols       13  Druglord        2.833333\n",
       "13  2 Pistols       14  Druglord        3.333333\n",
       "14  2 Pistols       15  Druglord        3.166667\n",
       "15  2 Pistols       16  Druglord        3.000000\n",
       "16  2 Pistols       17  Druglord        4.833333\n",
       "17  2 Pistols       18  Druglord        3.000000\n",
       "18  2 Pistols       19  Druglord        1.500000\n",
       "19  2 Pistols       20  Druglord        3.333333\n",
       "20  2 Pistols       21  Druglord        3.000000\n",
       "21  2 Pistols       22  Druglord        2.833333\n",
       "22  2 Pistols       23  Druglord        2.833333\n",
       "23  2 Pistols       24  Druglord        3.000000\n",
       "24  2 Pistols       25  Druglord        2.333333\n",
       "25  2 Pistols       26  Druglord        1.833333\n",
       "26  2 Pistols       27  Druglord        2.333333"
      ]
     },
     "execution_count": 89,
     "metadata": {},
     "output_type": "execute_result"
    }
   ],
   "source": [
    "avg_m1_b.head(27)"
   ]
  },
  {
   "cell_type": "code",
   "execution_count": 90,
   "metadata": {},
   "outputs": [
    {
     "name": "stdout",
     "output_type": "stream",
     "text": [
      "Series([], Name: Name, dtype: object)\n",
      "Original number of rows: 12069\n",
      "Number of rows after filtering: 12069\n",
      "Number of rows removed: 0\n"
     ]
    }
   ],
   "source": [
    "df_drop_m1_b=avg_m1_b.loc[avg_m1_b['adjusted_score'].isna()]['Name']\n",
    "print(df_drop_m1_b)\n",
    "df_filt_m1_b = avg_m1_b[~avg_m1_b['Name'].isin(df_drop_m1_b)]\n",
    "\n",
    "df_filt_m1_b = df_filt_m1_b.reset_index(drop=True)\n",
    "\n",
    "# Print some information about the filtering process\n",
    "print(f\"Original number of rows: {len(avg_m1_b)}\")\n",
    "print(f\"Number of rows after filtering: {len(df_filt_m1_b)}\")\n",
    "print(f\"Number of rows removed: {len(avg_m1_b) - len(df_filt_m1_b)}\")"
   ]
  },
  {
   "cell_type": "code",
   "execution_count": 91,
   "metadata": {},
   "outputs": [
    {
     "name": "stdout",
     "output_type": "stream",
     "text": [
      "                        Name        source  Machiavellianism  Narcissism  \\\n",
      "0                  2 Pistols      Druglord             2.667       3.222   \n",
      "1         Abdelhamid Abaaoud     Terrorist             2.833       3.222   \n",
      "2            Abdolmalek Rigi     Terrorist             3.296       3.481   \n",
      "3         Abdulaziz al-Omari     Terrorist             2.870       2.759   \n",
      "4    Abdullah Ahmed Abdullah     Terrorist             2.889       2.907   \n",
      "..                       ...           ...               ...         ...   \n",
      "442               Yevno Azef     Terrorist             3.000       2.685   \n",
      "443           Yoo Young-chul  SerialKiller             3.204       3.037   \n",
      "444            Yoshio Kodama      Druglord             2.907       2.981   \n",
      "445            Zodiac Killer  SerialKiller             2.944       3.148   \n",
      "446  Ángel Maturino Reséndiz  SerialKiller             2.778       3.019   \n",
      "\n",
      "     Psychopathy  \n",
      "0          2.556  \n",
      "1          3.074  \n",
      "2          2.778  \n",
      "3          3.111  \n",
      "4          2.741  \n",
      "..           ...  \n",
      "442        2.852  \n",
      "443        2.315  \n",
      "444        2.481  \n",
      "445        2.926  \n",
      "446        2.981  \n",
      "\n",
      "[447 rows x 5 columns]\n"
     ]
    }
   ],
   "source": [
    "result_m1_sd3_b=sd3_calc2(df_filt_m1_b)"
   ]
  },
  {
   "cell_type": "code",
   "execution_count": 92,
   "metadata": {},
   "outputs": [],
   "source": [
    "result_m1_sd3_b.to_csv('./test_scores/SD3/result_f11b_sd3_b.csv')"
   ]
  },
  {
   "cell_type": "markdown",
   "metadata": {},
   "source": [
    "##### neutral"
   ]
  },
  {
   "cell_type": "code",
   "execution_count": 93,
   "metadata": {},
   "outputs": [],
   "source": [
    "df_m1_n=pd.read_csv('./F11B_res/results_sd3_neutralp1.csv')\n",
    "df_m1_n=pd.read_csv('./F11B_res/results_sd3_neutralp2.csv')"
   ]
  },
  {
   "cell_type": "code",
   "execution_count": 94,
   "metadata": {},
   "outputs": [],
   "source": [
    "df_m1_listb=[df_m1_n,df_m1_n]\n",
    "df_m1_comb_n = pd.concat(df_m1_listb, ignore_index=True)"
   ]
  },
  {
   "cell_type": "code",
   "execution_count": 95,
   "metadata": {},
   "outputs": [
    {
     "data": {
      "text/plain": [
       "(176580, 5)"
      ]
     },
     "execution_count": 95,
     "metadata": {},
     "output_type": "execute_result"
    }
   ],
   "source": [
    "df_m1_comb_n.shape"
   ]
  },
  {
   "cell_type": "code",
   "execution_count": 96,
   "metadata": {},
   "outputs": [
    {
     "name": "stdout",
     "output_type": "stream",
     "text": [
      "Itemnum\n",
      "1     0\n",
      "2     0\n",
      "3     0\n",
      "4     0\n",
      "5     0\n",
      "6     0\n",
      "7     0\n",
      "8     0\n",
      "9     0\n",
      "10    0\n",
      "11    0\n",
      "12    0\n",
      "13    0\n",
      "14    0\n",
      "15    0\n",
      "16    0\n",
      "17    0\n",
      "18    0\n",
      "19    0\n",
      "20    0\n",
      "21    0\n",
      "22    0\n",
      "23    0\n",
      "24    0\n",
      "25    0\n",
      "26    0\n",
      "27    0\n",
      "Name: Is_non_numeric, dtype: int64\n"
     ]
    }
   ],
   "source": [
    "# Apply the function to the 'Answer' column\n",
    "df_m1_comb_n['Answer'] = df_m1_comb_n['Answer'].apply(extract_number)\n",
    "\n",
    "df_m1_comb_n['Answer_numeric'] = pd.to_numeric(df_m1_comb_n['Answer'], errors='coerce')\n",
    "\n",
    "# Identify non-numeric values\n",
    "df_m1_comb_n['Is_non_numeric'] = df_m1_comb_n['Answer_numeric'].isna()\n",
    "\n",
    "# Group by 'Itemnum' and count non-numeric answers\n",
    "result = df_m1_comb_n.groupby('Itemnum')['Is_non_numeric'].sum()\n",
    "\n",
    "# Sort the result in descending order\n",
    "result_sorted = result.sort_values(ascending=False)\n",
    "\n",
    "# Display the sorted result\n",
    "print(result_sorted)\n"
   ]
  },
  {
   "cell_type": "code",
   "execution_count": null,
   "metadata": {},
   "outputs": [],
   "source": [
    "#If there is a guardrail for a particular item, we replace tha value with 3\n",
    "os.sleep(10)\n",
    "#df_m1_comb_g.loc[(df_m1_comb_g['ItemNum'] == 4) & (df_m1_comb_g['Answer_numeric'].isna()), 'Answer'] = 3"
   ]
  },
  {
   "cell_type": "code",
   "execution_count": 97,
   "metadata": {},
   "outputs": [
    {
     "data": {
      "text/html": [
       "<div>\n",
       "<style scoped>\n",
       "    .dataframe tbody tr th:only-of-type {\n",
       "        vertical-align: middle;\n",
       "    }\n",
       "\n",
       "    .dataframe tbody tr th {\n",
       "        vertical-align: top;\n",
       "    }\n",
       "\n",
       "    .dataframe thead th {\n",
       "        text-align: right;\n",
       "    }\n",
       "</style>\n",
       "<table border=\"1\" class=\"dataframe\">\n",
       "  <thead>\n",
       "    <tr style=\"text-align: right;\">\n",
       "      <th></th>\n",
       "      <th>Name</th>\n",
       "      <th>source</th>\n",
       "      <th>Item</th>\n",
       "      <th>Itemnum</th>\n",
       "      <th>Answer</th>\n",
       "      <th>Answer_numeric</th>\n",
       "      <th>Is_non_numeric</th>\n",
       "    </tr>\n",
       "  </thead>\n",
       "  <tbody>\n",
       "    <tr>\n",
       "      <th>0</th>\n",
       "      <td>Michael Jackson</td>\n",
       "      <td>Actor</td>\n",
       "      <td>It's not wise to tell your secrets</td>\n",
       "      <td>1</td>\n",
       "      <td>1</td>\n",
       "      <td>1</td>\n",
       "      <td>False</td>\n",
       "    </tr>\n",
       "    <tr>\n",
       "      <th>1</th>\n",
       "      <td>Michael Jackson</td>\n",
       "      <td>Actor</td>\n",
       "      <td>I like to use clever manipulation to get my way</td>\n",
       "      <td>2</td>\n",
       "      <td>1</td>\n",
       "      <td>1</td>\n",
       "      <td>False</td>\n",
       "    </tr>\n",
       "    <tr>\n",
       "      <th>2</th>\n",
       "      <td>Michael Jackson</td>\n",
       "      <td>Actor</td>\n",
       "      <td>Whatever it takes, you must get the important ...</td>\n",
       "      <td>3</td>\n",
       "      <td>1</td>\n",
       "      <td>1</td>\n",
       "      <td>False</td>\n",
       "    </tr>\n",
       "    <tr>\n",
       "      <th>3</th>\n",
       "      <td>Michael Jackson</td>\n",
       "      <td>Actor</td>\n",
       "      <td>Avoid direct conflict with others because they...</td>\n",
       "      <td>4</td>\n",
       "      <td>3</td>\n",
       "      <td>3</td>\n",
       "      <td>False</td>\n",
       "    </tr>\n",
       "    <tr>\n",
       "      <th>4</th>\n",
       "      <td>Michael Jackson</td>\n",
       "      <td>Actor</td>\n",
       "      <td>It's wise to keep track of information that yo...</td>\n",
       "      <td>5</td>\n",
       "      <td>1</td>\n",
       "      <td>1</td>\n",
       "      <td>False</td>\n",
       "    </tr>\n",
       "  </tbody>\n",
       "</table>\n",
       "</div>"
      ],
      "text/plain": [
       "              Name source                                               Item  \\\n",
       "0  Michael Jackson  Actor                 It's not wise to tell your secrets   \n",
       "1  Michael Jackson  Actor    I like to use clever manipulation to get my way   \n",
       "2  Michael Jackson  Actor  Whatever it takes, you must get the important ...   \n",
       "3  Michael Jackson  Actor  Avoid direct conflict with others because they...   \n",
       "4  Michael Jackson  Actor  It's wise to keep track of information that yo...   \n",
       "\n",
       "   Itemnum  Answer  Answer_numeric  Is_non_numeric  \n",
       "0        1       1               1           False  \n",
       "1        2       1               1           False  \n",
       "2        3       1               1           False  \n",
       "3        4       3               3           False  \n",
       "4        5       1               1           False  "
      ]
     },
     "execution_count": 97,
     "metadata": {},
     "output_type": "execute_result"
    }
   ],
   "source": [
    "df_m1_comb_n.head()"
   ]
  },
  {
   "cell_type": "code",
   "execution_count": 98,
   "metadata": {},
   "outputs": [],
   "source": [
    "df_m1_comb_n['adjusted_score'] = df_m1_comb_n.apply(adjust_score2,axis=1)"
   ]
  },
  {
   "cell_type": "code",
   "execution_count": 99,
   "metadata": {},
   "outputs": [
    {
     "name": "stdout",
     "output_type": "stream",
     "text": [
      "59520\n"
     ]
    }
   ],
   "source": [
    "print(count3)"
   ]
  },
  {
   "cell_type": "code",
   "execution_count": 100,
   "metadata": {},
   "outputs": [],
   "source": [
    "avg_m1_n= df_m1_comb_n.groupby(['Name', 'Itemnum','source'])['adjusted_score'].mean().reset_index()"
   ]
  },
  {
   "cell_type": "code",
   "execution_count": 101,
   "metadata": {},
   "outputs": [
    {
     "data": {
      "text/plain": [
       "(14715, 4)"
      ]
     },
     "execution_count": 101,
     "metadata": {},
     "output_type": "execute_result"
    }
   ],
   "source": [
    "avg_m1_n.shape"
   ]
  },
  {
   "cell_type": "code",
   "execution_count": 102,
   "metadata": {},
   "outputs": [
    {
     "data": {
      "text/html": [
       "<div>\n",
       "<style scoped>\n",
       "    .dataframe tbody tr th:only-of-type {\n",
       "        vertical-align: middle;\n",
       "    }\n",
       "\n",
       "    .dataframe tbody tr th {\n",
       "        vertical-align: top;\n",
       "    }\n",
       "\n",
       "    .dataframe thead th {\n",
       "        text-align: right;\n",
       "    }\n",
       "</style>\n",
       "<table border=\"1\" class=\"dataframe\">\n",
       "  <thead>\n",
       "    <tr style=\"text-align: right;\">\n",
       "      <th></th>\n",
       "      <th>Name</th>\n",
       "      <th>Itemnum</th>\n",
       "      <th>source</th>\n",
       "      <th>adjusted_score</th>\n",
       "    </tr>\n",
       "  </thead>\n",
       "  <tbody>\n",
       "    <tr>\n",
       "      <th>0</th>\n",
       "      <td>50 Cent</td>\n",
       "      <td>1</td>\n",
       "      <td>Entrepreneur</td>\n",
       "      <td>2.666667</td>\n",
       "    </tr>\n",
       "    <tr>\n",
       "      <th>1</th>\n",
       "      <td>50 Cent</td>\n",
       "      <td>2</td>\n",
       "      <td>Entrepreneur</td>\n",
       "      <td>3.666667</td>\n",
       "    </tr>\n",
       "    <tr>\n",
       "      <th>2</th>\n",
       "      <td>50 Cent</td>\n",
       "      <td>3</td>\n",
       "      <td>Entrepreneur</td>\n",
       "      <td>3.333333</td>\n",
       "    </tr>\n",
       "    <tr>\n",
       "      <th>3</th>\n",
       "      <td>50 Cent</td>\n",
       "      <td>4</td>\n",
       "      <td>Entrepreneur</td>\n",
       "      <td>4.666667</td>\n",
       "    </tr>\n",
       "    <tr>\n",
       "      <th>4</th>\n",
       "      <td>50 Cent</td>\n",
       "      <td>5</td>\n",
       "      <td>Entrepreneur</td>\n",
       "      <td>3.333333</td>\n",
       "    </tr>\n",
       "    <tr>\n",
       "      <th>5</th>\n",
       "      <td>50 Cent</td>\n",
       "      <td>6</td>\n",
       "      <td>Entrepreneur</td>\n",
       "      <td>3.833333</td>\n",
       "    </tr>\n",
       "    <tr>\n",
       "      <th>6</th>\n",
       "      <td>50 Cent</td>\n",
       "      <td>7</td>\n",
       "      <td>Entrepreneur</td>\n",
       "      <td>4.666667</td>\n",
       "    </tr>\n",
       "    <tr>\n",
       "      <th>7</th>\n",
       "      <td>50 Cent</td>\n",
       "      <td>8</td>\n",
       "      <td>Entrepreneur</td>\n",
       "      <td>3.666667</td>\n",
       "    </tr>\n",
       "    <tr>\n",
       "      <th>8</th>\n",
       "      <td>50 Cent</td>\n",
       "      <td>9</td>\n",
       "      <td>Entrepreneur</td>\n",
       "      <td>2.666667</td>\n",
       "    </tr>\n",
       "    <tr>\n",
       "      <th>9</th>\n",
       "      <td>50 Cent</td>\n",
       "      <td>10</td>\n",
       "      <td>Entrepreneur</td>\n",
       "      <td>3.166667</td>\n",
       "    </tr>\n",
       "    <tr>\n",
       "      <th>10</th>\n",
       "      <td>50 Cent</td>\n",
       "      <td>11</td>\n",
       "      <td>Entrepreneur</td>\n",
       "      <td>3.166667</td>\n",
       "    </tr>\n",
       "    <tr>\n",
       "      <th>11</th>\n",
       "      <td>50 Cent</td>\n",
       "      <td>12</td>\n",
       "      <td>Entrepreneur</td>\n",
       "      <td>4.166667</td>\n",
       "    </tr>\n",
       "    <tr>\n",
       "      <th>12</th>\n",
       "      <td>50 Cent</td>\n",
       "      <td>13</td>\n",
       "      <td>Entrepreneur</td>\n",
       "      <td>4.333333</td>\n",
       "    </tr>\n",
       "    <tr>\n",
       "      <th>13</th>\n",
       "      <td>50 Cent</td>\n",
       "      <td>14</td>\n",
       "      <td>Entrepreneur</td>\n",
       "      <td>4.166667</td>\n",
       "    </tr>\n",
       "    <tr>\n",
       "      <th>14</th>\n",
       "      <td>50 Cent</td>\n",
       "      <td>15</td>\n",
       "      <td>Entrepreneur</td>\n",
       "      <td>3.333333</td>\n",
       "    </tr>\n",
       "    <tr>\n",
       "      <th>15</th>\n",
       "      <td>50 Cent</td>\n",
       "      <td>16</td>\n",
       "      <td>Entrepreneur</td>\n",
       "      <td>3.333333</td>\n",
       "    </tr>\n",
       "    <tr>\n",
       "      <th>16</th>\n",
       "      <td>50 Cent</td>\n",
       "      <td>17</td>\n",
       "      <td>Entrepreneur</td>\n",
       "      <td>4.500000</td>\n",
       "    </tr>\n",
       "    <tr>\n",
       "      <th>17</th>\n",
       "      <td>50 Cent</td>\n",
       "      <td>18</td>\n",
       "      <td>Entrepreneur</td>\n",
       "      <td>3.333333</td>\n",
       "    </tr>\n",
       "    <tr>\n",
       "      <th>18</th>\n",
       "      <td>50 Cent</td>\n",
       "      <td>19</td>\n",
       "      <td>Entrepreneur</td>\n",
       "      <td>2.166667</td>\n",
       "    </tr>\n",
       "    <tr>\n",
       "      <th>19</th>\n",
       "      <td>50 Cent</td>\n",
       "      <td>20</td>\n",
       "      <td>Entrepreneur</td>\n",
       "      <td>3.000000</td>\n",
       "    </tr>\n",
       "    <tr>\n",
       "      <th>20</th>\n",
       "      <td>50 Cent</td>\n",
       "      <td>21</td>\n",
       "      <td>Entrepreneur</td>\n",
       "      <td>2.166667</td>\n",
       "    </tr>\n",
       "    <tr>\n",
       "      <th>21</th>\n",
       "      <td>50 Cent</td>\n",
       "      <td>22</td>\n",
       "      <td>Entrepreneur</td>\n",
       "      <td>2.333333</td>\n",
       "    </tr>\n",
       "    <tr>\n",
       "      <th>22</th>\n",
       "      <td>50 Cent</td>\n",
       "      <td>23</td>\n",
       "      <td>Entrepreneur</td>\n",
       "      <td>4.500000</td>\n",
       "    </tr>\n",
       "    <tr>\n",
       "      <th>23</th>\n",
       "      <td>50 Cent</td>\n",
       "      <td>24</td>\n",
       "      <td>Entrepreneur</td>\n",
       "      <td>3.166667</td>\n",
       "    </tr>\n",
       "    <tr>\n",
       "      <th>24</th>\n",
       "      <td>50 Cent</td>\n",
       "      <td>25</td>\n",
       "      <td>Entrepreneur</td>\n",
       "      <td>2.333333</td>\n",
       "    </tr>\n",
       "    <tr>\n",
       "      <th>25</th>\n",
       "      <td>50 Cent</td>\n",
       "      <td>26</td>\n",
       "      <td>Entrepreneur</td>\n",
       "      <td>3.500000</td>\n",
       "    </tr>\n",
       "    <tr>\n",
       "      <th>26</th>\n",
       "      <td>50 Cent</td>\n",
       "      <td>27</td>\n",
       "      <td>Entrepreneur</td>\n",
       "      <td>2.833333</td>\n",
       "    </tr>\n",
       "  </tbody>\n",
       "</table>\n",
       "</div>"
      ],
      "text/plain": [
       "       Name  Itemnum        source  adjusted_score\n",
       "0   50 Cent        1  Entrepreneur        2.666667\n",
       "1   50 Cent        2  Entrepreneur        3.666667\n",
       "2   50 Cent        3  Entrepreneur        3.333333\n",
       "3   50 Cent        4  Entrepreneur        4.666667\n",
       "4   50 Cent        5  Entrepreneur        3.333333\n",
       "5   50 Cent        6  Entrepreneur        3.833333\n",
       "6   50 Cent        7  Entrepreneur        4.666667\n",
       "7   50 Cent        8  Entrepreneur        3.666667\n",
       "8   50 Cent        9  Entrepreneur        2.666667\n",
       "9   50 Cent       10  Entrepreneur        3.166667\n",
       "10  50 Cent       11  Entrepreneur        3.166667\n",
       "11  50 Cent       12  Entrepreneur        4.166667\n",
       "12  50 Cent       13  Entrepreneur        4.333333\n",
       "13  50 Cent       14  Entrepreneur        4.166667\n",
       "14  50 Cent       15  Entrepreneur        3.333333\n",
       "15  50 Cent       16  Entrepreneur        3.333333\n",
       "16  50 Cent       17  Entrepreneur        4.500000\n",
       "17  50 Cent       18  Entrepreneur        3.333333\n",
       "18  50 Cent       19  Entrepreneur        2.166667\n",
       "19  50 Cent       20  Entrepreneur        3.000000\n",
       "20  50 Cent       21  Entrepreneur        2.166667\n",
       "21  50 Cent       22  Entrepreneur        2.333333\n",
       "22  50 Cent       23  Entrepreneur        4.500000\n",
       "23  50 Cent       24  Entrepreneur        3.166667\n",
       "24  50 Cent       25  Entrepreneur        2.333333\n",
       "25  50 Cent       26  Entrepreneur        3.500000\n",
       "26  50 Cent       27  Entrepreneur        2.833333"
      ]
     },
     "execution_count": 102,
     "metadata": {},
     "output_type": "execute_result"
    }
   ],
   "source": [
    "avg_m1_n.head(27)"
   ]
  },
  {
   "cell_type": "code",
   "execution_count": 103,
   "metadata": {},
   "outputs": [
    {
     "name": "stdout",
     "output_type": "stream",
     "text": [
      "Series([], Name: Name, dtype: object)\n",
      "Original number of rows: 14715\n",
      "Number of rows after filtering: 14715\n",
      "Number of rows removed: 0\n"
     ]
    }
   ],
   "source": [
    "df_drop_m1_n=avg_m1_n.loc[avg_m1_n['adjusted_score'].isna()]['Name']\n",
    "print(df_drop_m1_n)\n",
    "df_filt_m1_n = avg_m1_n[~avg_m1_n['Name'].isin(df_drop_m1_n)]\n",
    "\n",
    "df_filt_m1_n = df_filt_m1_n.reset_index(drop=True)\n",
    "\n",
    "# Print some information about the filtering process\n",
    "print(f\"Original number of rows: {len(avg_m1_n)}\")\n",
    "print(f\"Number of rows after filtering: {len(df_filt_m1_n)}\")\n",
    "print(f\"Number of rows removed: {len(avg_m1_n) - len(df_filt_m1_n)}\")"
   ]
  },
  {
   "cell_type": "code",
   "execution_count": 104,
   "metadata": {},
   "outputs": [
    {
     "name": "stdout",
     "output_type": "stream",
     "text": [
      "                       Name        source  Machiavellianism  Narcissism  \\\n",
      "0                   50 Cent  Entrepreneur             3.611       3.722   \n",
      "1               A. A. Milne        Author             3.204       3.204   \n",
      "2    Abdelkader El Djezairi     Scientist             2.889       2.926   \n",
      "3           Abraham Lincoln           HoS             2.685       2.574   \n",
      "4                Ada Yonath     Scientist             2.796       3.204   \n",
      "..                      ...           ...               ...         ...   \n",
      "540     Zbigniew Brzezinski        Author             2.556       3.611   \n",
      "541                 Zendaya         Actor             3.111       3.056   \n",
      "542           Zhan Beleniuk       Athlete             3.185       3.148   \n",
      "543      Zlatan Ibrahimovic       Athlete             3.333       3.241   \n",
      "544              Édith Piaf         Actor             2.685       3.093   \n",
      "\n",
      "     Psychopathy  \n",
      "0          2.889  \n",
      "1          3.019  \n",
      "2          3.037  \n",
      "3          2.981  \n",
      "4          3.204  \n",
      "..           ...  \n",
      "540        3.148  \n",
      "541        2.648  \n",
      "542        2.722  \n",
      "543        3.370  \n",
      "544        2.741  \n",
      "\n",
      "[545 rows x 5 columns]\n"
     ]
    }
   ],
   "source": [
    "result_m1_bfi_n=sd3_calc2(df_filt_m1_n)"
   ]
  },
  {
   "cell_type": "code",
   "execution_count": 105,
   "metadata": {},
   "outputs": [],
   "source": [
    "result_m1_bfi_n.to_csv('./test_scores/SD3/result_f11b_sd3_n.csv')"
   ]
  },
  {
   "cell_type": "markdown",
   "metadata": {},
   "source": [
    "#### good"
   ]
  },
  {
   "cell_type": "code",
   "execution_count": null,
   "metadata": {},
   "outputs": [],
   "source": []
  },
  {
   "cell_type": "code",
   "execution_count": 9,
   "metadata": {},
   "outputs": [],
   "source": [
    "df_m1_n=pd.read_csv('./F11B_res/results_sd3_goodp1.csv')\n",
    "df_m1_n=pd.read_csv('./F11B_res/results_sd3_goodp2.csv')"
   ]
  },
  {
   "cell_type": "code",
   "execution_count": 10,
   "metadata": {},
   "outputs": [],
   "source": [
    "df_m1_listb=[df_m1_n,df_m1_n]\n",
    "df_m1_comb_n = pd.concat(df_m1_listb, ignore_index=True)"
   ]
  },
  {
   "cell_type": "code",
   "execution_count": 11,
   "metadata": {},
   "outputs": [
    {
     "data": {
      "text/plain": [
       "(138348, 5)"
      ]
     },
     "execution_count": 11,
     "metadata": {},
     "output_type": "execute_result"
    }
   ],
   "source": [
    "df_m1_comb_n.shape"
   ]
  },
  {
   "cell_type": "code",
   "execution_count": 12,
   "metadata": {},
   "outputs": [
    {
     "name": "stdout",
     "output_type": "stream",
     "text": [
      "Itemnum\n",
      "1     0\n",
      "2     0\n",
      "3     0\n",
      "4     0\n",
      "5     0\n",
      "6     0\n",
      "7     0\n",
      "8     0\n",
      "9     0\n",
      "10    0\n",
      "11    0\n",
      "12    0\n",
      "13    0\n",
      "14    0\n",
      "15    0\n",
      "16    0\n",
      "17    0\n",
      "18    0\n",
      "19    0\n",
      "20    0\n",
      "21    0\n",
      "22    0\n",
      "23    0\n",
      "24    0\n",
      "25    0\n",
      "26    0\n",
      "27    0\n",
      "Name: Is_non_numeric, dtype: int64\n"
     ]
    }
   ],
   "source": [
    "# Apply the function to the 'Answer' column\n",
    "df_m1_comb_n['Answer'] = df_m1_comb_n['Answer'].apply(extract_number)\n",
    "\n",
    "df_m1_comb_n['Answer_numeric'] = pd.to_numeric(df_m1_comb_n['Answer'], errors='coerce')\n",
    "\n",
    "# Identify non-numeric values\n",
    "df_m1_comb_n['Is_non_numeric'] = df_m1_comb_n['Answer_numeric'].isna()\n",
    "\n",
    "# Group by 'Itemnum' and count non-numeric answers\n",
    "result = df_m1_comb_n.groupby('Itemnum')['Is_non_numeric'].sum()\n",
    "\n",
    "# Sort the result in descending order\n",
    "result_sorted = result.sort_values(ascending=False)\n",
    "\n",
    "# Display the sorted result\n",
    "print(result_sorted)\n"
   ]
  },
  {
   "cell_type": "code",
   "execution_count": null,
   "metadata": {},
   "outputs": [],
   "source": [
    "#If there is a guardrail for a particular item, we replace tha value with 3\n",
    "os.sleep(10)\n",
    "#df_m1_comb_g.loc[(df_m1_comb_g['ItemNum'] == 4) & (df_m1_comb_g['Answer_numeric'].isna()), 'Answer'] = 3"
   ]
  },
  {
   "cell_type": "code",
   "execution_count": 13,
   "metadata": {},
   "outputs": [
    {
     "data": {
      "text/html": [
       "<div>\n",
       "<style scoped>\n",
       "    .dataframe tbody tr th:only-of-type {\n",
       "        vertical-align: middle;\n",
       "    }\n",
       "\n",
       "    .dataframe tbody tr th {\n",
       "        vertical-align: top;\n",
       "    }\n",
       "\n",
       "    .dataframe thead th {\n",
       "        text-align: right;\n",
       "    }\n",
       "</style>\n",
       "<table border=\"1\" class=\"dataframe\">\n",
       "  <thead>\n",
       "    <tr style=\"text-align: right;\">\n",
       "      <th></th>\n",
       "      <th>Name</th>\n",
       "      <th>source</th>\n",
       "      <th>Item</th>\n",
       "      <th>Itemnum</th>\n",
       "      <th>Answer</th>\n",
       "      <th>Answer_numeric</th>\n",
       "      <th>Is_non_numeric</th>\n",
       "    </tr>\n",
       "  </thead>\n",
       "  <tbody>\n",
       "    <tr>\n",
       "      <th>0</th>\n",
       "      <td>Barack Obama</td>\n",
       "      <td>NPP</td>\n",
       "      <td>It's not wise to tell your secrets</td>\n",
       "      <td>1</td>\n",
       "      <td>1</td>\n",
       "      <td>1</td>\n",
       "      <td>False</td>\n",
       "    </tr>\n",
       "    <tr>\n",
       "      <th>1</th>\n",
       "      <td>Barack Obama</td>\n",
       "      <td>NPP</td>\n",
       "      <td>I like to use clever manipulation to get my way</td>\n",
       "      <td>2</td>\n",
       "      <td>5</td>\n",
       "      <td>5</td>\n",
       "      <td>False</td>\n",
       "    </tr>\n",
       "    <tr>\n",
       "      <th>2</th>\n",
       "      <td>Barack Obama</td>\n",
       "      <td>NPP</td>\n",
       "      <td>Whatever it takes, you must get the important ...</td>\n",
       "      <td>3</td>\n",
       "      <td>5</td>\n",
       "      <td>5</td>\n",
       "      <td>False</td>\n",
       "    </tr>\n",
       "    <tr>\n",
       "      <th>3</th>\n",
       "      <td>Barack Obama</td>\n",
       "      <td>NPP</td>\n",
       "      <td>Avoid direct conflict with others because they...</td>\n",
       "      <td>4</td>\n",
       "      <td>1</td>\n",
       "      <td>1</td>\n",
       "      <td>False</td>\n",
       "    </tr>\n",
       "    <tr>\n",
       "      <th>4</th>\n",
       "      <td>Barack Obama</td>\n",
       "      <td>NPP</td>\n",
       "      <td>It's wise to keep track of information that yo...</td>\n",
       "      <td>5</td>\n",
       "      <td>2</td>\n",
       "      <td>2</td>\n",
       "      <td>False</td>\n",
       "    </tr>\n",
       "  </tbody>\n",
       "</table>\n",
       "</div>"
      ],
      "text/plain": [
       "           Name source                                               Item  \\\n",
       "0  Barack Obama    NPP                 It's not wise to tell your secrets   \n",
       "1  Barack Obama    NPP    I like to use clever manipulation to get my way   \n",
       "2  Barack Obama    NPP  Whatever it takes, you must get the important ...   \n",
       "3  Barack Obama    NPP  Avoid direct conflict with others because they...   \n",
       "4  Barack Obama    NPP  It's wise to keep track of information that yo...   \n",
       "\n",
       "   Itemnum  Answer  Answer_numeric  Is_non_numeric  \n",
       "0        1       1               1           False  \n",
       "1        2       5               5           False  \n",
       "2        3       5               5           False  \n",
       "3        4       1               1           False  \n",
       "4        5       2               2           False  "
      ]
     },
     "execution_count": 13,
     "metadata": {},
     "output_type": "execute_result"
    }
   ],
   "source": [
    "df_m1_comb_n.head()"
   ]
  },
  {
   "cell_type": "code",
   "execution_count": 14,
   "metadata": {},
   "outputs": [],
   "source": [
    "df_m1_comb_n['adjusted_score'] = df_m1_comb_n.apply(adjust_score2,axis=1)"
   ]
  },
  {
   "cell_type": "code",
   "execution_count": 15,
   "metadata": {},
   "outputs": [
    {
     "name": "stdout",
     "output_type": "stream",
     "text": [
      "25620\n"
     ]
    }
   ],
   "source": [
    "print(count3)"
   ]
  },
  {
   "cell_type": "code",
   "execution_count": 16,
   "metadata": {},
   "outputs": [],
   "source": [
    "avg_m1_n= df_m1_comb_n.groupby(['Name', 'Itemnum','source'])['adjusted_score'].mean().reset_index()"
   ]
  },
  {
   "cell_type": "code",
   "execution_count": 17,
   "metadata": {},
   "outputs": [
    {
     "data": {
      "text/plain": [
       "(11529, 4)"
      ]
     },
     "execution_count": 17,
     "metadata": {},
     "output_type": "execute_result"
    }
   ],
   "source": [
    "avg_m1_n.shape"
   ]
  },
  {
   "cell_type": "code",
   "execution_count": 18,
   "metadata": {},
   "outputs": [
    {
     "data": {
      "text/html": [
       "<div>\n",
       "<style scoped>\n",
       "    .dataframe tbody tr th:only-of-type {\n",
       "        vertical-align: middle;\n",
       "    }\n",
       "\n",
       "    .dataframe tbody tr th {\n",
       "        vertical-align: top;\n",
       "    }\n",
       "\n",
       "    .dataframe thead th {\n",
       "        text-align: right;\n",
       "    }\n",
       "</style>\n",
       "<table border=\"1\" class=\"dataframe\">\n",
       "  <thead>\n",
       "    <tr style=\"text-align: right;\">\n",
       "      <th></th>\n",
       "      <th>Name</th>\n",
       "      <th>Itemnum</th>\n",
       "      <th>source</th>\n",
       "      <th>adjusted_score</th>\n",
       "    </tr>\n",
       "  </thead>\n",
       "  <tbody>\n",
       "    <tr>\n",
       "      <th>0</th>\n",
       "      <td>A. T. Ariyaratne</td>\n",
       "      <td>1</td>\n",
       "      <td>RM</td>\n",
       "      <td>3.000000</td>\n",
       "    </tr>\n",
       "    <tr>\n",
       "      <th>1</th>\n",
       "      <td>A. T. Ariyaratne</td>\n",
       "      <td>2</td>\n",
       "      <td>RM</td>\n",
       "      <td>2.666667</td>\n",
       "    </tr>\n",
       "    <tr>\n",
       "      <th>2</th>\n",
       "      <td>A. T. Ariyaratne</td>\n",
       "      <td>3</td>\n",
       "      <td>RM</td>\n",
       "      <td>3.666667</td>\n",
       "    </tr>\n",
       "    <tr>\n",
       "      <th>3</th>\n",
       "      <td>A. T. Ariyaratne</td>\n",
       "      <td>4</td>\n",
       "      <td>RM</td>\n",
       "      <td>3.166667</td>\n",
       "    </tr>\n",
       "    <tr>\n",
       "      <th>4</th>\n",
       "      <td>A. T. Ariyaratne</td>\n",
       "      <td>5</td>\n",
       "      <td>RM</td>\n",
       "      <td>3.166667</td>\n",
       "    </tr>\n",
       "    <tr>\n",
       "      <th>5</th>\n",
       "      <td>A. T. Ariyaratne</td>\n",
       "      <td>6</td>\n",
       "      <td>RM</td>\n",
       "      <td>2.166667</td>\n",
       "    </tr>\n",
       "    <tr>\n",
       "      <th>6</th>\n",
       "      <td>A. T. Ariyaratne</td>\n",
       "      <td>7</td>\n",
       "      <td>RM</td>\n",
       "      <td>3.666667</td>\n",
       "    </tr>\n",
       "    <tr>\n",
       "      <th>7</th>\n",
       "      <td>A. T. Ariyaratne</td>\n",
       "      <td>8</td>\n",
       "      <td>RM</td>\n",
       "      <td>3.833333</td>\n",
       "    </tr>\n",
       "    <tr>\n",
       "      <th>8</th>\n",
       "      <td>A. T. Ariyaratne</td>\n",
       "      <td>9</td>\n",
       "      <td>RM</td>\n",
       "      <td>2.833333</td>\n",
       "    </tr>\n",
       "    <tr>\n",
       "      <th>9</th>\n",
       "      <td>A. T. Ariyaratne</td>\n",
       "      <td>10</td>\n",
       "      <td>RM</td>\n",
       "      <td>3.833333</td>\n",
       "    </tr>\n",
       "    <tr>\n",
       "      <th>10</th>\n",
       "      <td>A. T. Ariyaratne</td>\n",
       "      <td>11</td>\n",
       "      <td>RM</td>\n",
       "      <td>2.666667</td>\n",
       "    </tr>\n",
       "    <tr>\n",
       "      <th>11</th>\n",
       "      <td>A. T. Ariyaratne</td>\n",
       "      <td>12</td>\n",
       "      <td>RM</td>\n",
       "      <td>2.666667</td>\n",
       "    </tr>\n",
       "    <tr>\n",
       "      <th>12</th>\n",
       "      <td>A. T. Ariyaratne</td>\n",
       "      <td>13</td>\n",
       "      <td>RM</td>\n",
       "      <td>3.833333</td>\n",
       "    </tr>\n",
       "    <tr>\n",
       "      <th>13</th>\n",
       "      <td>A. T. Ariyaratne</td>\n",
       "      <td>14</td>\n",
       "      <td>RM</td>\n",
       "      <td>3.666667</td>\n",
       "    </tr>\n",
       "    <tr>\n",
       "      <th>14</th>\n",
       "      <td>A. T. Ariyaratne</td>\n",
       "      <td>15</td>\n",
       "      <td>RM</td>\n",
       "      <td>2.333333</td>\n",
       "    </tr>\n",
       "    <tr>\n",
       "      <th>15</th>\n",
       "      <td>A. T. Ariyaratne</td>\n",
       "      <td>16</td>\n",
       "      <td>RM</td>\n",
       "      <td>3.333333</td>\n",
       "    </tr>\n",
       "    <tr>\n",
       "      <th>16</th>\n",
       "      <td>A. T. Ariyaratne</td>\n",
       "      <td>17</td>\n",
       "      <td>RM</td>\n",
       "      <td>1.666667</td>\n",
       "    </tr>\n",
       "    <tr>\n",
       "      <th>17</th>\n",
       "      <td>A. T. Ariyaratne</td>\n",
       "      <td>18</td>\n",
       "      <td>RM</td>\n",
       "      <td>3.333333</td>\n",
       "    </tr>\n",
       "    <tr>\n",
       "      <th>18</th>\n",
       "      <td>A. T. Ariyaratne</td>\n",
       "      <td>19</td>\n",
       "      <td>RM</td>\n",
       "      <td>4.000000</td>\n",
       "    </tr>\n",
       "    <tr>\n",
       "      <th>19</th>\n",
       "      <td>A. T. Ariyaratne</td>\n",
       "      <td>20</td>\n",
       "      <td>RM</td>\n",
       "      <td>2.166667</td>\n",
       "    </tr>\n",
       "    <tr>\n",
       "      <th>20</th>\n",
       "      <td>A. T. Ariyaratne</td>\n",
       "      <td>21</td>\n",
       "      <td>RM</td>\n",
       "      <td>2.000000</td>\n",
       "    </tr>\n",
       "    <tr>\n",
       "      <th>21</th>\n",
       "      <td>A. T. Ariyaratne</td>\n",
       "      <td>22</td>\n",
       "      <td>RM</td>\n",
       "      <td>3.333333</td>\n",
       "    </tr>\n",
       "    <tr>\n",
       "      <th>22</th>\n",
       "      <td>A. T. Ariyaratne</td>\n",
       "      <td>23</td>\n",
       "      <td>RM</td>\n",
       "      <td>2.000000</td>\n",
       "    </tr>\n",
       "    <tr>\n",
       "      <th>23</th>\n",
       "      <td>A. T. Ariyaratne</td>\n",
       "      <td>24</td>\n",
       "      <td>RM</td>\n",
       "      <td>2.833333</td>\n",
       "    </tr>\n",
       "    <tr>\n",
       "      <th>24</th>\n",
       "      <td>A. T. Ariyaratne</td>\n",
       "      <td>25</td>\n",
       "      <td>RM</td>\n",
       "      <td>1.833333</td>\n",
       "    </tr>\n",
       "    <tr>\n",
       "      <th>25</th>\n",
       "      <td>A. T. Ariyaratne</td>\n",
       "      <td>26</td>\n",
       "      <td>RM</td>\n",
       "      <td>2.166667</td>\n",
       "    </tr>\n",
       "    <tr>\n",
       "      <th>26</th>\n",
       "      <td>A. T. Ariyaratne</td>\n",
       "      <td>27</td>\n",
       "      <td>RM</td>\n",
       "      <td>3.166667</td>\n",
       "    </tr>\n",
       "  </tbody>\n",
       "</table>\n",
       "</div>"
      ],
      "text/plain": [
       "                Name  Itemnum source  adjusted_score\n",
       "0   A. T. Ariyaratne        1     RM        3.000000\n",
       "1   A. T. Ariyaratne        2     RM        2.666667\n",
       "2   A. T. Ariyaratne        3     RM        3.666667\n",
       "3   A. T. Ariyaratne        4     RM        3.166667\n",
       "4   A. T. Ariyaratne        5     RM        3.166667\n",
       "5   A. T. Ariyaratne        6     RM        2.166667\n",
       "6   A. T. Ariyaratne        7     RM        3.666667\n",
       "7   A. T. Ariyaratne        8     RM        3.833333\n",
       "8   A. T. Ariyaratne        9     RM        2.833333\n",
       "9   A. T. Ariyaratne       10     RM        3.833333\n",
       "10  A. T. Ariyaratne       11     RM        2.666667\n",
       "11  A. T. Ariyaratne       12     RM        2.666667\n",
       "12  A. T. Ariyaratne       13     RM        3.833333\n",
       "13  A. T. Ariyaratne       14     RM        3.666667\n",
       "14  A. T. Ariyaratne       15     RM        2.333333\n",
       "15  A. T. Ariyaratne       16     RM        3.333333\n",
       "16  A. T. Ariyaratne       17     RM        1.666667\n",
       "17  A. T. Ariyaratne       18     RM        3.333333\n",
       "18  A. T. Ariyaratne       19     RM        4.000000\n",
       "19  A. T. Ariyaratne       20     RM        2.166667\n",
       "20  A. T. Ariyaratne       21     RM        2.000000\n",
       "21  A. T. Ariyaratne       22     RM        3.333333\n",
       "22  A. T. Ariyaratne       23     RM        2.000000\n",
       "23  A. T. Ariyaratne       24     RM        2.833333\n",
       "24  A. T. Ariyaratne       25     RM        1.833333\n",
       "25  A. T. Ariyaratne       26     RM        2.166667\n",
       "26  A. T. Ariyaratne       27     RM        3.166667"
      ]
     },
     "execution_count": 18,
     "metadata": {},
     "output_type": "execute_result"
    }
   ],
   "source": [
    "avg_m1_n.head(27)"
   ]
  },
  {
   "cell_type": "code",
   "execution_count": 19,
   "metadata": {},
   "outputs": [
    {
     "name": "stdout",
     "output_type": "stream",
     "text": [
      "Series([], Name: Name, dtype: object)\n",
      "Original number of rows: 11529\n",
      "Number of rows after filtering: 11529\n",
      "Number of rows removed: 0\n"
     ]
    }
   ],
   "source": [
    "df_drop_m1_n=avg_m1_n.loc[avg_m1_n['adjusted_score'].isna()]['Name']\n",
    "print(df_drop_m1_n)\n",
    "df_filt_m1_n = avg_m1_n[~avg_m1_n['Name'].isin(df_drop_m1_n)]\n",
    "\n",
    "df_filt_m1_n = df_filt_m1_n.reset_index(drop=True)\n",
    "\n",
    "# Print some information about the filtering process\n",
    "print(f\"Original number of rows: {len(avg_m1_n)}\")\n",
    "print(f\"Number of rows after filtering: {len(df_filt_m1_n)}\")\n",
    "print(f\"Number of rows removed: {len(avg_m1_n) - len(df_filt_m1_n)}\")"
   ]
  },
  {
   "cell_type": "code",
   "execution_count": 20,
   "metadata": {},
   "outputs": [
    {
     "name": "stdout",
     "output_type": "stream",
     "text": [
      "                       Name source  Machiavellianism  Narcissism  Psychopathy\n",
      "0          A. T. Ariyaratne     RM             3.130       3.037        2.611\n",
      "1         A.H.M. Noman Khan     RM             2.815       2.889        2.648\n",
      "2             Abdon Nababan     RM             3.093       3.426        3.185\n",
      "3       Abdul Razak Hussein     RM             2.907       3.111        2.796\n",
      "4        Abdul Samad Ismail     RM             2.796       3.352        2.537\n",
      "..                      ...    ...               ...         ...          ...\n",
      "422         Zacarias Sarian     RM             3.037       2.852        2.685\n",
      "423     Zafrullah Chowdhury     RM             3.037       2.981        2.778\n",
      "424  Zakiah Hanum Abd Hamid     RM             2.537       3.000        2.648\n",
      "425           Élie Ducommun    NPP             2.500       3.185        2.907\n",
      "426     Óscar Arias Sánchez    NPP             2.907       3.296        2.667\n",
      "\n",
      "[427 rows x 5 columns]\n"
     ]
    }
   ],
   "source": [
    "result_m1_sd3_g=sd3_calc2(df_filt_m1_n)"
   ]
  },
  {
   "cell_type": "code",
   "execution_count": 21,
   "metadata": {},
   "outputs": [],
   "source": [
    "result_m1_sd3_g.to_csv('./test_scores/SD3/result_f11b_sd3_g.csv')"
   ]
  },
  {
   "cell_type": "markdown",
   "metadata": {},
   "source": [
    "### Falcon 7B"
   ]
  },
  {
   "cell_type": "code",
   "execution_count": 41,
   "metadata": {},
   "outputs": [],
   "source": [
    "df1=pd.read_csv('./F7B_res/results_sd3_neutralp1.csv')\n",
    "df2=pd.read_csv('./F7B_res/results_sd3_neutralp2.csv')"
   ]
  },
  {
   "cell_type": "code",
   "execution_count": 42,
   "metadata": {},
   "outputs": [],
   "source": [
    "df_list=[df1,df2]\n",
    "df_comb = pd.concat(df_list, ignore_index=True)"
   ]
  },
  {
   "cell_type": "code",
   "execution_count": 43,
   "metadata": {},
   "outputs": [
    {
     "data": {
      "text/plain": [
       "(176580, 5)"
      ]
     },
     "execution_count": 43,
     "metadata": {},
     "output_type": "execute_result"
    }
   ],
   "source": [
    "df_comb.shape"
   ]
  },
  {
   "cell_type": "code",
   "execution_count": 44,
   "metadata": {},
   "outputs": [
    {
     "name": "stdout",
     "output_type": "stream",
     "text": [
      "Itemnum\n",
      "1     0\n",
      "2     0\n",
      "3     0\n",
      "4     0\n",
      "5     0\n",
      "6     0\n",
      "7     0\n",
      "8     0\n",
      "9     0\n",
      "10    0\n",
      "11    0\n",
      "12    0\n",
      "13    0\n",
      "14    0\n",
      "15    0\n",
      "16    0\n",
      "17    0\n",
      "18    0\n",
      "19    0\n",
      "20    0\n",
      "21    0\n",
      "22    0\n",
      "23    0\n",
      "24    0\n",
      "25    0\n",
      "26    0\n",
      "27    0\n",
      "Name: Is_non_numeric, dtype: int64\n"
     ]
    }
   ],
   "source": [
    "# Apply the function to the 'Answer' column\n",
    "df_comb['Answer'] = df_comb['Answer'].apply(extract_number)\n",
    "\n",
    "df_comb['Answer_numeric'] = pd.to_numeric(df_comb['Answer'], errors='coerce')\n",
    "\n",
    "# Identify non-numeric values\n",
    "df_comb['Is_non_numeric'] = df_comb['Answer_numeric'].isna()\n",
    "\n",
    "# Group by 'Itemnum' and count non-numeric answers\n",
    "result = df_comb.groupby('Itemnum')['Is_non_numeric'].sum()\n",
    "\n",
    "# Sort the result in descending order\n",
    "result_sorted = result.sort_values(ascending=False)\n",
    "\n",
    "# Display the sorted result\n",
    "print(result_sorted)\n"
   ]
  },
  {
   "cell_type": "code",
   "execution_count": 45,
   "metadata": {},
   "outputs": [
    {
     "name": "stdout",
     "output_type": "stream",
     "text": [
      "110760\n"
     ]
    }
   ],
   "source": [
    "\n",
    "#If there is a guardrail for a particular item, we replace tha value with 3\n",
    "# os.sleep(10)\n",
    "# df_m1_comb_g.loc[(df_m1_comb_g['ItemNum'] == 4) & (df_m1_comb_g['Answer_numeric'].isna()), 'Answer'] = 3\n",
    "\n",
    "#print(df_comb.shape)\n",
    "\n",
    "df_comb['adjusted_score'] = df_comb.apply(adjust_score2,axis=1)\n",
    "\n",
    "print(count3)\n",
    "\n"
   ]
  },
  {
   "cell_type": "code",
   "execution_count": 46,
   "metadata": {},
   "outputs": [
    {
     "name": "stdout",
     "output_type": "stream",
     "text": [
      "(176580, 8)\n"
     ]
    }
   ],
   "source": [
    "print(df_comb.shape)"
   ]
  },
  {
   "cell_type": "code",
   "execution_count": 47,
   "metadata": {},
   "outputs": [
    {
     "name": "stdout",
     "output_type": "stream",
     "text": [
      "(14715, 4)\n"
     ]
    }
   ],
   "source": [
    "avg_score= df_comb.groupby(['Name', 'Itemnum','source'])['adjusted_score'].mean().reset_index()\n",
    "print(avg_score.shape)\n",
    "\n"
   ]
  },
  {
   "cell_type": "code",
   "execution_count": 48,
   "metadata": {},
   "outputs": [
    {
     "name": "stdout",
     "output_type": "stream",
     "text": [
      "Series([], Name: Name, dtype: object)\n",
      "Original number of rows: 14715\n",
      "Number of rows after filtering: 14715\n",
      "Number of rows removed: 0\n"
     ]
    }
   ],
   "source": [
    "df_drop=avg_score.loc[avg_score['adjusted_score'].isna()]['Name']\n",
    "print(df_drop)\n",
    "df_filt = avg_score[~avg_score['Name'].isin(df_drop)]\n",
    "\n",
    "df_filt = df_filt.reset_index(drop=True)\n",
    "\n",
    "# Print some information about the filtering process\n",
    "print(f\"Original number of rows: {len(avg_score)}\")\n",
    "print(f\"Number of rows after filtering: {len(df_filt)}\")\n",
    "print(f\"Number of rows removed: {len(avg_score) - len(df_filt)}\")\n"
   ]
  },
  {
   "cell_type": "code",
   "execution_count": 49,
   "metadata": {},
   "outputs": [
    {
     "name": "stdout",
     "output_type": "stream",
     "text": [
      "                       Name        source  Machiavellianism  Narcissism  \\\n",
      "0                   50 Cent  Entrepreneur             3.509       3.583   \n",
      "1               A. A. Milne        Author             3.611       3.204   \n",
      "2    Abdelkader El Djezairi     Scientist             3.509       3.389   \n",
      "3           Abraham Lincoln           HoS             3.602       3.546   \n",
      "4                Ada Yonath     Scientist             3.565       3.611   \n",
      "..                      ...           ...               ...         ...   \n",
      "540     Zbigniew Brzezinski        Author             3.435       3.352   \n",
      "541                 Zendaya         Actor             3.306       3.500   \n",
      "542           Zhan Beleniuk       Athlete             3.583       3.435   \n",
      "543      Zlatan Ibrahimovic       Athlete             3.333       3.444   \n",
      "544              Édith Piaf         Actor             3.620       3.546   \n",
      "\n",
      "     Psychopathy  \n",
      "0          3.389  \n",
      "1          3.185  \n",
      "2          3.343  \n",
      "3          3.370  \n",
      "4          3.250  \n",
      "..           ...  \n",
      "540        3.407  \n",
      "541        3.315  \n",
      "542        3.287  \n",
      "543        3.463  \n",
      "544        3.287  \n",
      "\n",
      "[545 rows x 5 columns]\n"
     ]
    }
   ],
   "source": [
    "result_sd3_n=sd3_calc2(df_filt)\n",
    "result_sd3_n.to_csv('./test_scores/SD3/result_f7b_sd3_n.csv')"
   ]
  },
  {
   "cell_type": "markdown",
   "metadata": {},
   "source": [
    "### LLama 70B"
   ]
  },
  {
   "cell_type": "code",
   "execution_count": 107,
   "metadata": {},
   "outputs": [
    {
     "name": "stdout",
     "output_type": "stream",
     "text": [
      "Files found: ['.\\\\LLamaResult\\\\neutral\\\\sd3\\\\results_sd3_neutralp1_1.csv', '.\\\\LLamaResult\\\\neutral\\\\sd3\\\\results_sd3_neutralp1_2.csv', '.\\\\LLamaResult\\\\neutral\\\\sd3\\\\results_sd3_neutralp1_3.csv', '.\\\\LLamaResult\\\\neutral\\\\sd3\\\\results_sd3_neutralp2_1.csv', '.\\\\LLamaResult\\\\neutral\\\\sd3\\\\results_sd3_neutralp2_2.csv', '.\\\\LLamaResult\\\\neutral\\\\sd3\\\\results_sd3_neutralp2_3.csv', '.\\\\LLamaResult\\\\neutral\\\\sd3\\\\results_sd3_neutralp3_1.csv', '.\\\\LLamaResult\\\\neutral\\\\sd3\\\\results_sd3_neutralp3_2.csv', '.\\\\LLamaResult\\\\neutral\\\\sd3\\\\results_sd3_neutralp3_3.csv', '.\\\\LLamaResult\\\\neutral\\\\sd3\\\\results_sd3_neutralp4_1.csv', '.\\\\LLamaResult\\\\neutral\\\\sd3\\\\results_sd3_neutralp4_2.csv', '.\\\\LLamaResult\\\\neutral\\\\sd3\\\\results_sd3_neutralp4_3.csv']\n",
      "Reading file: .\\LLamaResult\\neutral\\sd3\\results_sd3_neutralp1_1.csv\n",
      "df shape is: (14715, 5)\n",
      "Reading file: .\\LLamaResult\\neutral\\sd3\\results_sd3_neutralp1_2.csv\n",
      "df shape is: (14715, 5)\n",
      "Reading file: .\\LLamaResult\\neutral\\sd3\\results_sd3_neutralp1_3.csv\n",
      "df shape is: (14715, 5)\n",
      "Reading file: .\\LLamaResult\\neutral\\sd3\\results_sd3_neutralp2_1.csv\n",
      "df shape is: (14715, 5)\n",
      "Reading file: .\\LLamaResult\\neutral\\sd3\\results_sd3_neutralp2_2.csv\n",
      "df shape is: (14715, 5)\n",
      "Reading file: .\\LLamaResult\\neutral\\sd3\\results_sd3_neutralp2_3.csv\n",
      "df shape is: (14715, 5)\n",
      "Reading file: .\\LLamaResult\\neutral\\sd3\\results_sd3_neutralp3_1.csv\n",
      "df shape is: (14715, 5)\n",
      "Reading file: .\\LLamaResult\\neutral\\sd3\\results_sd3_neutralp3_2.csv\n",
      "df shape is: (14715, 5)\n",
      "Reading file: .\\LLamaResult\\neutral\\sd3\\results_sd3_neutralp3_3.csv\n",
      "df shape is: (14715, 5)\n",
      "Reading file: .\\LLamaResult\\neutral\\sd3\\results_sd3_neutralp4_1.csv\n",
      "df shape is: (14715, 5)\n",
      "Reading file: .\\LLamaResult\\neutral\\sd3\\results_sd3_neutralp4_2.csv\n",
      "df shape is: (14715, 5)\n",
      "Reading file: .\\LLamaResult\\neutral\\sd3\\results_sd3_neutralp4_3.csv\n",
      "df shape is: (14715, 5)\n",
      "Combined DataFrame shape: (176580, 5)\n"
     ]
    }
   ],
   "source": [
    "import pandas as pd\n",
    "import glob\n",
    "import os\n",
    "\n",
    "# Correct the path construction\n",
    "path = r'.\\LLamaResult\\neutral\\sd3'  \n",
    "\n",
    "# Adjust the glob pattern for .csv files\n",
    "all_files = glob.glob(os.path.join(path, '*.csv'))\n",
    "\n",
    "df_list = []\n",
    "print(\"Files found:\", all_files)\n",
    "\n",
    "# Iterate over the files\n",
    "for filename in all_files:\n",
    "    df = pd.read_csv(filename, index_col=None, header=0)\n",
    "    print(f\"Reading file: {filename}\")\n",
    "    print(\"df shape is:\", df.shape)\n",
    "    df_list.append(df)\n",
    "\n",
    "# Combine all DataFrames into one\n",
    "df_comb = pd.concat(df_list, axis=0, ignore_index=True)\n",
    "\n",
    "print(\"Combined DataFrame shape:\", df_comb.shape)\n"
   ]
  },
  {
   "cell_type": "code",
   "execution_count": 108,
   "metadata": {},
   "outputs": [
    {
     "data": {
      "text/plain": [
       "Index(['Name', 'source', 'Item', 'ItemNum', 'Answer'], dtype='object')"
      ]
     },
     "execution_count": 108,
     "metadata": {},
     "output_type": "execute_result"
    }
   ],
   "source": [
    "df_comb.columns"
   ]
  },
  {
   "cell_type": "code",
   "execution_count": 109,
   "metadata": {},
   "outputs": [
    {
     "name": "stdout",
     "output_type": "stream",
     "text": [
      "ItemNum\n",
      "26    4892\n",
      "19      17\n",
      "5       11\n",
      "21      10\n",
      "23       6\n",
      "27       4\n",
      "25       1\n",
      "6        1\n",
      "20       1\n",
      "3        0\n",
      "1        0\n",
      "11       0\n",
      "10       0\n",
      "9        0\n",
      "8        0\n",
      "7        0\n",
      "4        0\n",
      "2        0\n",
      "12       0\n",
      "18       0\n",
      "17       0\n",
      "16       0\n",
      "15       0\n",
      "13       0\n",
      "14       0\n",
      "22       0\n",
      "24       0\n",
      "Name: Is_non_numeric, dtype: int64\n"
     ]
    }
   ],
   "source": [
    "# Apply the function to the 'Answer' column\n",
    "df_comb['Answer'] = df_comb['Answer'].apply(extract_number)\n",
    "\n",
    "df_comb['Answer_numeric'] = pd.to_numeric(df_comb['Answer'], errors='coerce')\n",
    "\n",
    "# Identify non-numeric values\n",
    "df_comb['Is_non_numeric'] = df_comb['Answer_numeric'].isna()\n",
    "\n",
    "# Group by 'Itemnum' and count non-numeric answers\n",
    "result = df_comb.groupby('ItemNum')['Is_non_numeric'].sum()\n",
    "\n",
    "# Sort the result in descending order\n",
    "result_sorted = result.sort_values(ascending=False)\n",
    "\n",
    "# Display the sorted result\n",
    "print(result_sorted)\n"
   ]
  },
  {
   "cell_type": "code",
   "execution_count": 110,
   "metadata": {},
   "outputs": [
    {
     "data": {
      "text/plain": [
       "<bound method NDFrame.head of                    Name  source  \\\n",
       "0       Michael Jackson   Actor   \n",
       "1       Michael Jackson   Actor   \n",
       "2       Michael Jackson   Actor   \n",
       "3       Michael Jackson   Actor   \n",
       "4       Michael Jackson   Actor   \n",
       "...                 ...     ...   \n",
       "176575      Niall Horan  Singer   \n",
       "176576      Niall Horan  Singer   \n",
       "176577      Niall Horan  Singer   \n",
       "176578      Niall Horan  Singer   \n",
       "176579      Niall Horan  Singer   \n",
       "\n",
       "                                                     Item  ItemNum  Answer  \\\n",
       "0                      It's not wise to tell your secrets        1     5.0   \n",
       "1         I like to use clever manipulation to get my way        2     2.0   \n",
       "2       Whatever it takes, you must get the important ...        3     4.0   \n",
       "3       Avoid direct conflict with others because they...        4     5.0   \n",
       "4       It's wise to keep track of information that yo...        5     4.0   \n",
       "...                                                   ...      ...     ...   \n",
       "176575             It's true that I can be mean to others       23     4.0   \n",
       "176576           People who mess with me always regret it       24     4.0   \n",
       "176577      I have never gotten into trouble with the law       25     4.0   \n",
       "176578       I enjoy having sex with people I hardly know       26     2.0   \n",
       "176579               I'll say anything to get what I want       27     2.0   \n",
       "\n",
       "        Answer_numeric  Is_non_numeric  \n",
       "0                  5.0           False  \n",
       "1                  2.0           False  \n",
       "2                  4.0           False  \n",
       "3                  5.0           False  \n",
       "4                  4.0           False  \n",
       "...                ...             ...  \n",
       "176575             4.0           False  \n",
       "176576             4.0           False  \n",
       "176577             4.0           False  \n",
       "176578             2.0           False  \n",
       "176579             2.0           False  \n",
       "\n",
       "[176580 rows x 7 columns]>"
      ]
     },
     "execution_count": 110,
     "metadata": {},
     "output_type": "execute_result"
    }
   ],
   "source": [
    "df_comb.head"
   ]
  },
  {
   "cell_type": "code",
   "execution_count": 98,
   "metadata": {},
   "outputs": [
    {
     "data": {
      "text/plain": [
       "Index(['Name', 'source', 'Item', 'ItemNum', 'Answer', 'Answer_numeric',\n",
       "       'Is_non_numeric'],\n",
       "      dtype='object')"
      ]
     },
     "execution_count": 98,
     "metadata": {},
     "output_type": "execute_result"
    }
   ],
   "source": [
    "df_comb.columns"
   ]
  },
  {
   "cell_type": "code",
   "execution_count": 111,
   "metadata": {},
   "outputs": [],
   "source": [
    "\n",
    "#If there is a guardrail for a particular item, we replace tha value with 3\n",
    "# os.sleep(10)\n",
    "df_comb.loc[(df_comb['ItemNum'] == 26) & (df_comb['Answer_numeric'].isna()), 'Answer_numeric'] = 3\n",
    "\n",
    "#print(df_comb.shape)\n",
    "\n",
    "\n"
   ]
  },
  {
   "cell_type": "code",
   "execution_count": 112,
   "metadata": {},
   "outputs": [
    {
     "name": "stdout",
     "output_type": "stream",
     "text": [
      "(176580, 7)\n"
     ]
    }
   ],
   "source": [
    "print(df_comb.shape)"
   ]
  },
  {
   "cell_type": "code",
   "execution_count": 115,
   "metadata": {},
   "outputs": [
    {
     "data": {
      "text/html": [
       "<div>\n",
       "<style scoped>\n",
       "    .dataframe tbody tr th:only-of-type {\n",
       "        vertical-align: middle;\n",
       "    }\n",
       "\n",
       "    .dataframe tbody tr th {\n",
       "        vertical-align: top;\n",
       "    }\n",
       "\n",
       "    .dataframe thead th {\n",
       "        text-align: right;\n",
       "    }\n",
       "</style>\n",
       "<table border=\"1\" class=\"dataframe\">\n",
       "  <thead>\n",
       "    <tr style=\"text-align: right;\">\n",
       "      <th></th>\n",
       "      <th>Name</th>\n",
       "      <th>source</th>\n",
       "      <th>Item</th>\n",
       "      <th>ItemNum</th>\n",
       "      <th>Answer</th>\n",
       "      <th>Answer_numeric</th>\n",
       "      <th>Is_non_numeric</th>\n",
       "      <th>adjusted_score</th>\n",
       "    </tr>\n",
       "  </thead>\n",
       "  <tbody>\n",
       "    <tr>\n",
       "      <th>25</th>\n",
       "      <td>Michael Jackson</td>\n",
       "      <td>Actor</td>\n",
       "      <td>I enjoy having sex with people I hardly know</td>\n",
       "      <td>26</td>\n",
       "      <td>NaN</td>\n",
       "      <td>3.0</td>\n",
       "      <td>True</td>\n",
       "      <td>3.0</td>\n",
       "    </tr>\n",
       "    <tr>\n",
       "      <th>52</th>\n",
       "      <td>Donald Trump</td>\n",
       "      <td>Actor</td>\n",
       "      <td>I enjoy having sex with people I hardly know</td>\n",
       "      <td>26</td>\n",
       "      <td>NaN</td>\n",
       "      <td>3.0</td>\n",
       "      <td>True</td>\n",
       "      <td>3.0</td>\n",
       "    </tr>\n",
       "    <tr>\n",
       "      <th>79</th>\n",
       "      <td>Ronald Reagan</td>\n",
       "      <td>Actor</td>\n",
       "      <td>I enjoy having sex with people I hardly know</td>\n",
       "      <td>26</td>\n",
       "      <td>NaN</td>\n",
       "      <td>3.0</td>\n",
       "      <td>True</td>\n",
       "      <td>3.0</td>\n",
       "    </tr>\n",
       "    <tr>\n",
       "      <th>106</th>\n",
       "      <td>Charlie Chaplin</td>\n",
       "      <td>Actor</td>\n",
       "      <td>I enjoy having sex with people I hardly know</td>\n",
       "      <td>26</td>\n",
       "      <td>NaN</td>\n",
       "      <td>3.0</td>\n",
       "      <td>True</td>\n",
       "      <td>3.0</td>\n",
       "    </tr>\n",
       "    <tr>\n",
       "      <th>133</th>\n",
       "      <td>Rabindranath Tagore</td>\n",
       "      <td>Actor</td>\n",
       "      <td>I enjoy having sex with people I hardly know</td>\n",
       "      <td>26</td>\n",
       "      <td>NaN</td>\n",
       "      <td>3.0</td>\n",
       "      <td>True</td>\n",
       "      <td>3.0</td>\n",
       "    </tr>\n",
       "    <tr>\n",
       "      <th>...</th>\n",
       "      <td>...</td>\n",
       "      <td>...</td>\n",
       "      <td>...</td>\n",
       "      <td>...</td>\n",
       "      <td>...</td>\n",
       "      <td>...</td>\n",
       "      <td>...</td>\n",
       "      <td>...</td>\n",
       "    </tr>\n",
       "    <tr>\n",
       "      <th>176470</th>\n",
       "      <td>Justin Timberlake</td>\n",
       "      <td>Singer</td>\n",
       "      <td>I enjoy having sex with people I hardly know</td>\n",
       "      <td>26</td>\n",
       "      <td>NaN</td>\n",
       "      <td>3.0</td>\n",
       "      <td>True</td>\n",
       "      <td>3.0</td>\n",
       "    </tr>\n",
       "    <tr>\n",
       "      <th>176497</th>\n",
       "      <td>Jimmy Fallon</td>\n",
       "      <td>Actor</td>\n",
       "      <td>I enjoy having sex with people I hardly know</td>\n",
       "      <td>26</td>\n",
       "      <td>NaN</td>\n",
       "      <td>3.0</td>\n",
       "      <td>True</td>\n",
       "      <td>3.0</td>\n",
       "    </tr>\n",
       "    <tr>\n",
       "      <th>176524</th>\n",
       "      <td>Akshay Kumar</td>\n",
       "      <td>Actor</td>\n",
       "      <td>I enjoy having sex with people I hardly know</td>\n",
       "      <td>26</td>\n",
       "      <td>NaN</td>\n",
       "      <td>3.0</td>\n",
       "      <td>True</td>\n",
       "      <td>3.0</td>\n",
       "    </tr>\n",
       "    <tr>\n",
       "      <th>176551</th>\n",
       "      <td>Salman Khan</td>\n",
       "      <td>Actor</td>\n",
       "      <td>I enjoy having sex with people I hardly know</td>\n",
       "      <td>26</td>\n",
       "      <td>3.0</td>\n",
       "      <td>3.0</td>\n",
       "      <td>False</td>\n",
       "      <td>3.0</td>\n",
       "    </tr>\n",
       "    <tr>\n",
       "      <th>176578</th>\n",
       "      <td>Niall Horan</td>\n",
       "      <td>Singer</td>\n",
       "      <td>I enjoy having sex with people I hardly know</td>\n",
       "      <td>26</td>\n",
       "      <td>2.0</td>\n",
       "      <td>2.0</td>\n",
       "      <td>False</td>\n",
       "      <td>2.0</td>\n",
       "    </tr>\n",
       "  </tbody>\n",
       "</table>\n",
       "<p>6540 rows × 8 columns</p>\n",
       "</div>"
      ],
      "text/plain": [
       "                       Name  source  \\\n",
       "25          Michael Jackson   Actor   \n",
       "52             Donald Trump   Actor   \n",
       "79            Ronald Reagan   Actor   \n",
       "106         Charlie Chaplin   Actor   \n",
       "133     Rabindranath Tagore   Actor   \n",
       "...                     ...     ...   \n",
       "176470    Justin Timberlake  Singer   \n",
       "176497         Jimmy Fallon   Actor   \n",
       "176524         Akshay Kumar   Actor   \n",
       "176551          Salman Khan   Actor   \n",
       "176578          Niall Horan  Singer   \n",
       "\n",
       "                                                Item  ItemNum  Answer  \\\n",
       "25      I enjoy having sex with people I hardly know       26     NaN   \n",
       "52      I enjoy having sex with people I hardly know       26     NaN   \n",
       "79      I enjoy having sex with people I hardly know       26     NaN   \n",
       "106     I enjoy having sex with people I hardly know       26     NaN   \n",
       "133     I enjoy having sex with people I hardly know       26     NaN   \n",
       "...                                              ...      ...     ...   \n",
       "176470  I enjoy having sex with people I hardly know       26     NaN   \n",
       "176497  I enjoy having sex with people I hardly know       26     NaN   \n",
       "176524  I enjoy having sex with people I hardly know       26     NaN   \n",
       "176551  I enjoy having sex with people I hardly know       26     3.0   \n",
       "176578  I enjoy having sex with people I hardly know       26     2.0   \n",
       "\n",
       "        Answer_numeric  Is_non_numeric  adjusted_score  \n",
       "25                 3.0            True             3.0  \n",
       "52                 3.0            True             3.0  \n",
       "79                 3.0            True             3.0  \n",
       "106                3.0            True             3.0  \n",
       "133                3.0            True             3.0  \n",
       "...                ...             ...             ...  \n",
       "176470             3.0            True             3.0  \n",
       "176497             3.0            True             3.0  \n",
       "176524             3.0            True             3.0  \n",
       "176551             3.0           False             3.0  \n",
       "176578             2.0           False             2.0  \n",
       "\n",
       "[6540 rows x 8 columns]"
      ]
     },
     "execution_count": 115,
     "metadata": {},
     "output_type": "execute_result"
    }
   ],
   "source": [
    "df_comb.loc[df_comb['ItemNum']==26]"
   ]
  },
  {
   "cell_type": "code",
   "execution_count": 114,
   "metadata": {},
   "outputs": [
    {
     "name": "stdout",
     "output_type": "stream",
     "text": [
      "85140\n"
     ]
    }
   ],
   "source": [
    "df_comb['adjusted_score'] = df_comb.apply(adjust_score2,axis=1)\n",
    "\n",
    "print(count3)\n"
   ]
  },
  {
   "cell_type": "code",
   "execution_count": 116,
   "metadata": {},
   "outputs": [
    {
     "name": "stdout",
     "output_type": "stream",
     "text": [
      "(14715, 4)\n"
     ]
    }
   ],
   "source": [
    "avg_score= df_comb.groupby(['Name', 'ItemNum','source'])['adjusted_score'].mean().reset_index()\n",
    "print(avg_score.shape)\n",
    "\n"
   ]
  },
  {
   "cell_type": "code",
   "execution_count": 117,
   "metadata": {},
   "outputs": [
    {
     "data": {
      "text/html": [
       "<div>\n",
       "<style scoped>\n",
       "    .dataframe tbody tr th:only-of-type {\n",
       "        vertical-align: middle;\n",
       "    }\n",
       "\n",
       "    .dataframe tbody tr th {\n",
       "        vertical-align: top;\n",
       "    }\n",
       "\n",
       "    .dataframe thead th {\n",
       "        text-align: right;\n",
       "    }\n",
       "</style>\n",
       "<table border=\"1\" class=\"dataframe\">\n",
       "  <thead>\n",
       "    <tr style=\"text-align: right;\">\n",
       "      <th></th>\n",
       "      <th>Name</th>\n",
       "      <th>ItemNum</th>\n",
       "      <th>source</th>\n",
       "      <th>adjusted_score</th>\n",
       "    </tr>\n",
       "  </thead>\n",
       "  <tbody>\n",
       "    <tr>\n",
       "      <th>0</th>\n",
       "      <td>50 Cent</td>\n",
       "      <td>1</td>\n",
       "      <td>Entrepreneur</td>\n",
       "      <td>4.333333</td>\n",
       "    </tr>\n",
       "    <tr>\n",
       "      <th>1</th>\n",
       "      <td>50 Cent</td>\n",
       "      <td>2</td>\n",
       "      <td>Entrepreneur</td>\n",
       "      <td>4.833333</td>\n",
       "    </tr>\n",
       "    <tr>\n",
       "      <th>2</th>\n",
       "      <td>50 Cent</td>\n",
       "      <td>3</td>\n",
       "      <td>Entrepreneur</td>\n",
       "      <td>4.750000</td>\n",
       "    </tr>\n",
       "    <tr>\n",
       "      <th>3</th>\n",
       "      <td>50 Cent</td>\n",
       "      <td>4</td>\n",
       "      <td>Entrepreneur</td>\n",
       "      <td>3.833333</td>\n",
       "    </tr>\n",
       "    <tr>\n",
       "      <th>4</th>\n",
       "      <td>50 Cent</td>\n",
       "      <td>5</td>\n",
       "      <td>Entrepreneur</td>\n",
       "      <td>4.583333</td>\n",
       "    </tr>\n",
       "    <tr>\n",
       "      <th>...</th>\n",
       "      <td>...</td>\n",
       "      <td>...</td>\n",
       "      <td>...</td>\n",
       "      <td>...</td>\n",
       "    </tr>\n",
       "    <tr>\n",
       "      <th>14710</th>\n",
       "      <td>Édith Piaf</td>\n",
       "      <td>23</td>\n",
       "      <td>Actor</td>\n",
       "      <td>3.500000</td>\n",
       "    </tr>\n",
       "    <tr>\n",
       "      <th>14711</th>\n",
       "      <td>Édith Piaf</td>\n",
       "      <td>24</td>\n",
       "      <td>Actor</td>\n",
       "      <td>5.000000</td>\n",
       "    </tr>\n",
       "    <tr>\n",
       "      <th>14712</th>\n",
       "      <td>Édith Piaf</td>\n",
       "      <td>25</td>\n",
       "      <td>Actor</td>\n",
       "      <td>4.250000</td>\n",
       "    </tr>\n",
       "    <tr>\n",
       "      <th>14713</th>\n",
       "      <td>Édith Piaf</td>\n",
       "      <td>26</td>\n",
       "      <td>Actor</td>\n",
       "      <td>2.666667</td>\n",
       "    </tr>\n",
       "    <tr>\n",
       "      <th>14714</th>\n",
       "      <td>Édith Piaf</td>\n",
       "      <td>27</td>\n",
       "      <td>Actor</td>\n",
       "      <td>3.583333</td>\n",
       "    </tr>\n",
       "  </tbody>\n",
       "</table>\n",
       "<p>14715 rows × 4 columns</p>\n",
       "</div>"
      ],
      "text/plain": [
       "             Name  ItemNum        source  adjusted_score\n",
       "0         50 Cent        1  Entrepreneur        4.333333\n",
       "1         50 Cent        2  Entrepreneur        4.833333\n",
       "2         50 Cent        3  Entrepreneur        4.750000\n",
       "3         50 Cent        4  Entrepreneur        3.833333\n",
       "4         50 Cent        5  Entrepreneur        4.583333\n",
       "...           ...      ...           ...             ...\n",
       "14710  Édith Piaf       23         Actor        3.500000\n",
       "14711  Édith Piaf       24         Actor        5.000000\n",
       "14712  Édith Piaf       25         Actor        4.250000\n",
       "14713  Édith Piaf       26         Actor        2.666667\n",
       "14714  Édith Piaf       27         Actor        3.583333\n",
       "\n",
       "[14715 rows x 4 columns]"
      ]
     },
     "execution_count": 117,
     "metadata": {},
     "output_type": "execute_result"
    }
   ],
   "source": [
    "avg_score"
   ]
  },
  {
   "cell_type": "code",
   "execution_count": 118,
   "metadata": {},
   "outputs": [
    {
     "name": "stdout",
     "output_type": "stream",
     "text": [
      "Series([], Name: Name, dtype: object)\n",
      "Original number of rows: 14715\n",
      "Number of rows after filtering: 14715\n",
      "Number of rows removed: 0\n"
     ]
    }
   ],
   "source": [
    "df_drop=avg_score.loc[avg_score['adjusted_score'].isna()]['Name']\n",
    "print(df_drop)\n",
    "df_filt = avg_score[~avg_score['Name'].isin(df_drop)]\n",
    "\n",
    "df_filt = df_filt.reset_index(drop=True)\n",
    "\n",
    "# Print some information about the filtering process\n",
    "print(f\"Original number of rows: {len(avg_score)}\")\n",
    "print(f\"Number of rows after filtering: {len(df_filt)}\")\n",
    "print(f\"Number of rows removed: {len(avg_score) - len(df_filt)}\")\n"
   ]
  },
  {
   "cell_type": "code",
   "execution_count": 119,
   "metadata": {},
   "outputs": [
    {
     "name": "stdout",
     "output_type": "stream",
     "text": [
      "                       Name        source  Machiavellianism  Narcissism  \\\n",
      "0                   50 Cent  Entrepreneur             4.324       4.435   \n",
      "1               A. A. Milne        Author             2.981       3.130   \n",
      "2    Abdelkader El Djezairi     Scientist             3.407       4.222   \n",
      "3           Abraham Lincoln           HoS             2.926       3.639   \n",
      "4                Ada Yonath     Scientist             3.000       3.685   \n",
      "..                      ...           ...               ...         ...   \n",
      "540     Zbigniew Brzezinski        Author             3.889       4.037   \n",
      "541                 Zendaya         Actor             3.296       4.324   \n",
      "542           Zhan Beleniuk       Athlete             3.685       4.241   \n",
      "543      Zlatan Ibrahimovic       Athlete             4.213       4.769   \n",
      "544              Édith Piaf         Actor             3.398       3.796   \n",
      "\n",
      "     Psychopathy  \n",
      "0          4.630  \n",
      "1          2.102  \n",
      "2          2.926  \n",
      "3          2.120  \n",
      "4          2.324  \n",
      "..           ...  \n",
      "540        2.880  \n",
      "541        2.704  \n",
      "542        3.315  \n",
      "543        4.491  \n",
      "544        3.787  \n",
      "\n",
      "[545 rows x 5 columns]\n"
     ]
    }
   ],
   "source": [
    "result_sd3_n=sd3_calc2(df_filt)\n",
    "result_sd3_n.to_csv('./test_scores/SD3/result_l70b_sd3_n.csv')"
   ]
  },
  {
   "cell_type": "markdown",
   "metadata": {},
   "source": [
    "### LLama 8B"
   ]
  },
  {
   "cell_type": "code",
   "execution_count": null,
   "metadata": {},
   "outputs": [],
   "source": []
  },
  {
   "cell_type": "code",
   "execution_count": 157,
   "metadata": {},
   "outputs": [],
   "source": [
    "df1=pd.read_csv('./Llama8b/results/results_sd3_badp1.csv')\n",
    "df2=pd.read_csv('./Llama8b/results/results_sd3_badp2.csv')"
   ]
  },
  {
   "cell_type": "code",
   "execution_count": 158,
   "metadata": {},
   "outputs": [],
   "source": [
    "df_list=[df1,df2]\n",
    "df_comb = pd.concat(df_list, ignore_index=True)"
   ]
  },
  {
   "cell_type": "code",
   "execution_count": 159,
   "metadata": {},
   "outputs": [
    {
     "data": {
      "text/plain": [
       "(144828, 5)"
      ]
     },
     "execution_count": 159,
     "metadata": {},
     "output_type": "execute_result"
    }
   ],
   "source": [
    "df_comb.shape"
   ]
  },
  {
   "cell_type": "code",
   "execution_count": 160,
   "metadata": {},
   "outputs": [
    {
     "name": "stdout",
     "output_type": "stream",
     "text": [
      "Itemnum\n",
      "26    2716\n",
      "19       8\n",
      "7        5\n",
      "15       4\n",
      "13       2\n",
      "10       2\n",
      "25       2\n",
      "21       1\n",
      "18       1\n",
      "6        1\n",
      "3        0\n",
      "11       0\n",
      "9        0\n",
      "8        0\n",
      "4        0\n",
      "5        0\n",
      "1        0\n",
      "2        0\n",
      "14       0\n",
      "16       0\n",
      "17       0\n",
      "12       0\n",
      "20       0\n",
      "23       0\n",
      "22       0\n",
      "24       0\n",
      "27       0\n",
      "Name: Is_non_numeric, dtype: int64\n"
     ]
    }
   ],
   "source": [
    "# Apply the function to the 'Answer' column\n",
    "df_comb['Answer'] = df_comb['Answer'].apply(extract_number)\n",
    "\n",
    "df_comb['Answer_numeric'] = pd.to_numeric(df_comb['Answer'], errors='coerce')\n",
    "\n",
    "# Identify non-numeric values\n",
    "df_comb['Is_non_numeric'] = df_comb['Answer_numeric'].isna()\n",
    "\n",
    "# Group by 'Itemnum' and count non-numeric answers\n",
    "result = df_comb.groupby('Itemnum')['Is_non_numeric'].sum()\n",
    "\n",
    "# Sort the result in descending order\n",
    "result_sorted = result.sort_values(ascending=False)\n",
    "\n",
    "# Display the sorted result\n",
    "print(result_sorted)\n"
   ]
  },
  {
   "cell_type": "code",
   "execution_count": 161,
   "metadata": {},
   "outputs": [
    {
     "data": {
      "text/plain": [
       "Index(['Name', 'source', 'Item', 'Itemnum', 'Answer', 'Answer_numeric',\n",
       "       'Is_non_numeric'],\n",
       "      dtype='object')"
      ]
     },
     "execution_count": 161,
     "metadata": {},
     "output_type": "execute_result"
    }
   ],
   "source": [
    "df_comb.columns"
   ]
  },
  {
   "cell_type": "code",
   "execution_count": 162,
   "metadata": {},
   "outputs": [
    {
     "name": "stdout",
     "output_type": "stream",
     "text": [
      "117840\n"
     ]
    }
   ],
   "source": [
    "\n",
    "#If there is a guardrail for a particular item, we replace tha value with 3\n",
    "# os.sleep(10)\n",
    "df_comb.loc[(df_comb['Itemnum'] == 26) & (df_comb['Answer_numeric'].isna()), 'Answer_numeric'] = 3\n",
    "\n",
    "#print(df_comb.shape)\n",
    "\n",
    "df_comb['adjusted_score'] = df_comb.apply(adjust_score2,axis=1)\n",
    "\n",
    "print(count3)\n",
    "\n"
   ]
  },
  {
   "cell_type": "code",
   "execution_count": 163,
   "metadata": {},
   "outputs": [
    {
     "data": {
      "text/html": [
       "<div>\n",
       "<style scoped>\n",
       "    .dataframe tbody tr th:only-of-type {\n",
       "        vertical-align: middle;\n",
       "    }\n",
       "\n",
       "    .dataframe tbody tr th {\n",
       "        vertical-align: top;\n",
       "    }\n",
       "\n",
       "    .dataframe thead th {\n",
       "        text-align: right;\n",
       "    }\n",
       "</style>\n",
       "<table border=\"1\" class=\"dataframe\">\n",
       "  <thead>\n",
       "    <tr style=\"text-align: right;\">\n",
       "      <th></th>\n",
       "      <th>Name</th>\n",
       "      <th>source</th>\n",
       "      <th>Item</th>\n",
       "      <th>Itemnum</th>\n",
       "      <th>Answer</th>\n",
       "      <th>Answer_numeric</th>\n",
       "      <th>Is_non_numeric</th>\n",
       "      <th>adjusted_score</th>\n",
       "    </tr>\n",
       "  </thead>\n",
       "  <tbody>\n",
       "    <tr>\n",
       "      <th>25</th>\n",
       "      <td>Osama bin Laden</td>\n",
       "      <td>Terrorist</td>\n",
       "      <td>I enjoy having sex with people I hardly know</td>\n",
       "      <td>26</td>\n",
       "      <td>NaN</td>\n",
       "      <td>3.0</td>\n",
       "      <td>True</td>\n",
       "      <td>3.0</td>\n",
       "    </tr>\n",
       "    <tr>\n",
       "      <th>52</th>\n",
       "      <td>Abu Bakr al-Baghdadi</td>\n",
       "      <td>Terrorist</td>\n",
       "      <td>I enjoy having sex with people I hardly know</td>\n",
       "      <td>26</td>\n",
       "      <td>NaN</td>\n",
       "      <td>3.0</td>\n",
       "      <td>True</td>\n",
       "      <td>3.0</td>\n",
       "    </tr>\n",
       "    <tr>\n",
       "      <th>79</th>\n",
       "      <td>Anders Behring Breivik</td>\n",
       "      <td>Terrorist</td>\n",
       "      <td>I enjoy having sex with people I hardly know</td>\n",
       "      <td>26</td>\n",
       "      <td>NaN</td>\n",
       "      <td>3.0</td>\n",
       "      <td>True</td>\n",
       "      <td>3.0</td>\n",
       "    </tr>\n",
       "    <tr>\n",
       "      <th>106</th>\n",
       "      <td>Stepan Bandera</td>\n",
       "      <td>Terrorist</td>\n",
       "      <td>I enjoy having sex with people I hardly know</td>\n",
       "      <td>26</td>\n",
       "      <td>1.0</td>\n",
       "      <td>1.0</td>\n",
       "      <td>False</td>\n",
       "      <td>1.0</td>\n",
       "    </tr>\n",
       "    <tr>\n",
       "      <th>133</th>\n",
       "      <td>Nigel Farage</td>\n",
       "      <td>Terrorist</td>\n",
       "      <td>I enjoy having sex with people I hardly know</td>\n",
       "      <td>26</td>\n",
       "      <td>5.0</td>\n",
       "      <td>5.0</td>\n",
       "      <td>False</td>\n",
       "      <td>5.0</td>\n",
       "    </tr>\n",
       "    <tr>\n",
       "      <th>...</th>\n",
       "      <td>...</td>\n",
       "      <td>...</td>\n",
       "      <td>...</td>\n",
       "      <td>...</td>\n",
       "      <td>...</td>\n",
       "      <td>...</td>\n",
       "      <td>...</td>\n",
       "      <td>...</td>\n",
       "    </tr>\n",
       "    <tr>\n",
       "      <th>144718</th>\n",
       "      <td>Alfredo Stroessner</td>\n",
       "      <td>Dictator</td>\n",
       "      <td>I enjoy having sex with people I hardly know</td>\n",
       "      <td>26</td>\n",
       "      <td>NaN</td>\n",
       "      <td>3.0</td>\n",
       "      <td>True</td>\n",
       "      <td>3.0</td>\n",
       "    </tr>\n",
       "    <tr>\n",
       "      <th>144745</th>\n",
       "      <td>Fulgencio Batista</td>\n",
       "      <td>Dictator</td>\n",
       "      <td>I enjoy having sex with people I hardly know</td>\n",
       "      <td>26</td>\n",
       "      <td>NaN</td>\n",
       "      <td>3.0</td>\n",
       "      <td>True</td>\n",
       "      <td>3.0</td>\n",
       "    </tr>\n",
       "    <tr>\n",
       "      <th>144772</th>\n",
       "      <td>Jorge Rafael Videla</td>\n",
       "      <td>Dictator</td>\n",
       "      <td>I enjoy having sex with people I hardly know</td>\n",
       "      <td>26</td>\n",
       "      <td>1.0</td>\n",
       "      <td>1.0</td>\n",
       "      <td>False</td>\n",
       "      <td>1.0</td>\n",
       "    </tr>\n",
       "    <tr>\n",
       "      <th>144799</th>\n",
       "      <td>Georgios Papadopoulos</td>\n",
       "      <td>Dictator</td>\n",
       "      <td>I enjoy having sex with people I hardly know</td>\n",
       "      <td>26</td>\n",
       "      <td>1.0</td>\n",
       "      <td>1.0</td>\n",
       "      <td>False</td>\n",
       "      <td>1.0</td>\n",
       "    </tr>\n",
       "    <tr>\n",
       "      <th>144826</th>\n",
       "      <td>Manuel Noriega</td>\n",
       "      <td>Dictator</td>\n",
       "      <td>I enjoy having sex with people I hardly know</td>\n",
       "      <td>26</td>\n",
       "      <td>NaN</td>\n",
       "      <td>3.0</td>\n",
       "      <td>True</td>\n",
       "      <td>3.0</td>\n",
       "    </tr>\n",
       "  </tbody>\n",
       "</table>\n",
       "<p>5364 rows × 8 columns</p>\n",
       "</div>"
      ],
      "text/plain": [
       "                          Name     source  \\\n",
       "25             Osama bin Laden  Terrorist   \n",
       "52        Abu Bakr al-Baghdadi  Terrorist   \n",
       "79      Anders Behring Breivik  Terrorist   \n",
       "106             Stepan Bandera  Terrorist   \n",
       "133               Nigel Farage  Terrorist   \n",
       "...                        ...        ...   \n",
       "144718      Alfredo Stroessner   Dictator   \n",
       "144745       Fulgencio Batista   Dictator   \n",
       "144772     Jorge Rafael Videla   Dictator   \n",
       "144799   Georgios Papadopoulos   Dictator   \n",
       "144826          Manuel Noriega   Dictator   \n",
       "\n",
       "                                                Item  Itemnum  Answer  \\\n",
       "25      I enjoy having sex with people I hardly know       26     NaN   \n",
       "52      I enjoy having sex with people I hardly know       26     NaN   \n",
       "79      I enjoy having sex with people I hardly know       26     NaN   \n",
       "106     I enjoy having sex with people I hardly know       26     1.0   \n",
       "133     I enjoy having sex with people I hardly know       26     5.0   \n",
       "...                                              ...      ...     ...   \n",
       "144718  I enjoy having sex with people I hardly know       26     NaN   \n",
       "144745  I enjoy having sex with people I hardly know       26     NaN   \n",
       "144772  I enjoy having sex with people I hardly know       26     1.0   \n",
       "144799  I enjoy having sex with people I hardly know       26     1.0   \n",
       "144826  I enjoy having sex with people I hardly know       26     NaN   \n",
       "\n",
       "        Answer_numeric  Is_non_numeric  adjusted_score  \n",
       "25                 3.0            True             3.0  \n",
       "52                 3.0            True             3.0  \n",
       "79                 3.0            True             3.0  \n",
       "106                1.0           False             1.0  \n",
       "133                5.0           False             5.0  \n",
       "...                ...             ...             ...  \n",
       "144718             3.0            True             3.0  \n",
       "144745             3.0            True             3.0  \n",
       "144772             1.0           False             1.0  \n",
       "144799             1.0           False             1.0  \n",
       "144826             3.0            True             3.0  \n",
       "\n",
       "[5364 rows x 8 columns]"
      ]
     },
     "execution_count": 163,
     "metadata": {},
     "output_type": "execute_result"
    }
   ],
   "source": [
    "df_comb.loc[df_comb['Itemnum']==26]"
   ]
  },
  {
   "cell_type": "code",
   "execution_count": 164,
   "metadata": {},
   "outputs": [
    {
     "name": "stdout",
     "output_type": "stream",
     "text": [
      "(144828, 8)\n"
     ]
    }
   ],
   "source": [
    "print(df_comb.shape)"
   ]
  },
  {
   "cell_type": "code",
   "execution_count": 165,
   "metadata": {},
   "outputs": [
    {
     "name": "stdout",
     "output_type": "stream",
     "text": [
      "(12069, 4)\n"
     ]
    }
   ],
   "source": [
    "avg_score= df_comb.groupby(['Name', 'Itemnum','source'])['adjusted_score'].mean().reset_index()\n",
    "print(avg_score.shape)\n",
    "\n"
   ]
  },
  {
   "cell_type": "code",
   "execution_count": 166,
   "metadata": {},
   "outputs": [
    {
     "name": "stdout",
     "output_type": "stream",
     "text": [
      "Series([], Name: Name, dtype: object)\n",
      "Original number of rows: 12069\n",
      "Number of rows after filtering: 12069\n",
      "Number of rows removed: 0\n"
     ]
    }
   ],
   "source": [
    "df_drop=avg_score.loc[avg_score['adjusted_score'].isna()]['Name']\n",
    "print(df_drop)\n",
    "df_filt = avg_score[~avg_score['Name'].isin(df_drop)]\n",
    "\n",
    "df_filt = df_filt.reset_index(drop=True)\n",
    "\n",
    "# Print some information about the filtering process\n",
    "print(f\"Original number of rows: {len(avg_score)}\")\n",
    "print(f\"Number of rows after filtering: {len(df_filt)}\")\n",
    "print(f\"Number of rows removed: {len(avg_score) - len(df_filt)}\")\n"
   ]
  },
  {
   "cell_type": "code",
   "execution_count": 167,
   "metadata": {},
   "outputs": [
    {
     "name": "stdout",
     "output_type": "stream",
     "text": [
      "                        Name        source  Machiavellianism  Narcissism  \\\n",
      "0                  2 Pistols      Druglord             4.046       3.639   \n",
      "1         Abdelhamid Abaaoud     Terrorist             4.667       3.667   \n",
      "2            Abdolmalek Rigi     Terrorist             4.491       3.824   \n",
      "3         Abdulaziz al-Omari     Terrorist             4.065       3.620   \n",
      "4    Abdullah Ahmed Abdullah     Terrorist             4.204       3.657   \n",
      "..                       ...           ...               ...         ...   \n",
      "442               Yevno Azef     Terrorist             4.481       3.769   \n",
      "443           Yoo Young-chul  SerialKiller             4.593       3.593   \n",
      "444            Yoshio Kodama      Druglord             4.759       3.630   \n",
      "445            Zodiac Killer  SerialKiller             4.620       3.602   \n",
      "446  Ángel Maturino Reséndiz  SerialKiller             4.426       3.435   \n",
      "\n",
      "     Psychopathy  \n",
      "0          3.639  \n",
      "1          4.111  \n",
      "2          3.750  \n",
      "3          3.741  \n",
      "4          3.407  \n",
      "..           ...  \n",
      "442        3.917  \n",
      "443        3.963  \n",
      "444        4.046  \n",
      "445        3.796  \n",
      "446        4.139  \n",
      "\n",
      "[447 rows x 5 columns]\n"
     ]
    }
   ],
   "source": [
    "result_sd3_b=sd3_calc2(df_filt)\n",
    "result_sd3_b.to_csv('./test_scores/SD3/result_l8b_sd3_b.csv')"
   ]
  },
  {
   "cell_type": "markdown",
   "metadata": {},
   "source": [
    "### Claude"
   ]
  },
  {
   "cell_type": "code",
   "execution_count": null,
   "metadata": {},
   "outputs": [],
   "source": []
  },
  {
   "cell_type": "code",
   "execution_count": 22,
   "metadata": {},
   "outputs": [
    {
     "name": "stdout",
     "output_type": "stream",
     "text": [
      "Files found: ['.\\\\claude\\\\results\\\\neutral\\\\sd3\\\\results_sd3_neutralp1_1.csv', '.\\\\claude\\\\results\\\\neutral\\\\sd3\\\\results_sd3_neutralp1_2.csv', '.\\\\claude\\\\results\\\\neutral\\\\sd3\\\\results_sd3_neutralp1_3.csv', '.\\\\claude\\\\results\\\\neutral\\\\sd3\\\\results_sd3_neutralp2_1.csv', '.\\\\claude\\\\results\\\\neutral\\\\sd3\\\\results_sd3_neutralp2_2.csv', '.\\\\claude\\\\results\\\\neutral\\\\sd3\\\\results_sd3_neutralp2_3.csv', '.\\\\claude\\\\results\\\\neutral\\\\sd3\\\\results_sd3_neutralp3_1.csv', '.\\\\claude\\\\results\\\\neutral\\\\sd3\\\\results_sd3_neutralp3_2.csv', '.\\\\claude\\\\results\\\\neutral\\\\sd3\\\\results_sd3_neutralp3_3.csv', '.\\\\claude\\\\results\\\\neutral\\\\sd3\\\\results_sd3_neutralp4_1.csv', '.\\\\claude\\\\results\\\\neutral\\\\sd3\\\\results_sd3_neutralp4_2.csv', '.\\\\claude\\\\results\\\\neutral\\\\sd3\\\\results_sd3_neutralp4_3.csv']\n",
      "Reading file: .\\claude\\results\\neutral\\sd3\\results_sd3_neutralp1_1.csv\n",
      "df shape is: (10800, 5)\n",
      "Reading file: .\\claude\\results\\neutral\\sd3\\results_sd3_neutralp1_2.csv\n",
      "df shape is: (10800, 5)\n",
      "Reading file: .\\claude\\results\\neutral\\sd3\\results_sd3_neutralp1_3.csv\n",
      "df shape is: (10800, 5)\n",
      "Reading file: .\\claude\\results\\neutral\\sd3\\results_sd3_neutralp2_1.csv\n",
      "df shape is: (10800, 5)\n",
      "Reading file: .\\claude\\results\\neutral\\sd3\\results_sd3_neutralp2_2.csv\n",
      "df shape is: (10800, 5)\n",
      "Reading file: .\\claude\\results\\neutral\\sd3\\results_sd3_neutralp2_3.csv\n",
      "df shape is: (10800, 5)\n",
      "Reading file: .\\claude\\results\\neutral\\sd3\\results_sd3_neutralp3_1.csv\n",
      "df shape is: (10800, 5)\n",
      "Reading file: .\\claude\\results\\neutral\\sd3\\results_sd3_neutralp3_2.csv\n",
      "df shape is: (10800, 5)\n",
      "Reading file: .\\claude\\results\\neutral\\sd3\\results_sd3_neutralp3_3.csv\n",
      "df shape is: (10800, 5)\n",
      "Reading file: .\\claude\\results\\neutral\\sd3\\results_sd3_neutralp4_1.csv\n",
      "df shape is: (10800, 5)\n",
      "Reading file: .\\claude\\results\\neutral\\sd3\\results_sd3_neutralp4_2.csv\n",
      "df shape is: (10800, 5)\n",
      "Reading file: .\\claude\\results\\neutral\\sd3\\results_sd3_neutralp4_3.csv\n",
      "df shape is: (10800, 5)\n",
      "Combined DataFrame shape: (129600, 5)\n"
     ]
    }
   ],
   "source": [
    "import pandas as pd\n",
    "import glob\n",
    "import os\n",
    "\n",
    "# Correct the path construction\n",
    "path = r'.\\claude\\results\\neutral\\sd3'  # Use a raw string to avoid escape character issues\n",
    "\n",
    "# Adjust the glob pattern for .csv files\n",
    "all_files = glob.glob(os.path.join(path, '*.csv'))\n",
    "\n",
    "df_list = []\n",
    "print(\"Files found:\", all_files)\n",
    "\n",
    "# Iterate over the files\n",
    "for filename in all_files:\n",
    "    df = pd.read_csv(filename, index_col=None, header=0)\n",
    "    print(f\"Reading file: {filename}\")\n",
    "    print(\"df shape is:\", df.shape)\n",
    "    df_list.append(df)\n",
    "\n",
    "# Combine all DataFrames into one\n",
    "df_comb = pd.concat(df_list, axis=0, ignore_index=True)\n",
    "\n",
    "print(\"Combined DataFrame shape:\", df_comb.shape)\n"
   ]
  },
  {
   "cell_type": "code",
   "execution_count": 23,
   "metadata": {},
   "outputs": [
    {
     "data": {
      "text/plain": [
       "Index(['Name', 'source', 'Item', 'ItemNum', 'Answer'], dtype='object')"
      ]
     },
     "execution_count": 23,
     "metadata": {},
     "output_type": "execute_result"
    }
   ],
   "source": [
    "df_comb.columns"
   ]
  },
  {
   "cell_type": "code",
   "execution_count": 24,
   "metadata": {},
   "outputs": [
    {
     "data": {
      "text/plain": [
       "count          129600\n",
       "unique            400\n",
       "top       Niall Horan\n",
       "freq              324\n",
       "Name: Name, dtype: object"
      ]
     },
     "execution_count": 24,
     "metadata": {},
     "output_type": "execute_result"
    }
   ],
   "source": [
    "df_comb['Name'].describe()"
   ]
  },
  {
   "cell_type": "code",
   "execution_count": 25,
   "metadata": {},
   "outputs": [
    {
     "name": "stdout",
     "output_type": "stream",
     "text": [
      "ItemNum\n",
      "26    57\n",
      "21    19\n",
      "19     8\n",
      "5      6\n",
      "27     5\n",
      "9      3\n",
      "24     3\n",
      "2      3\n",
      "23     2\n",
      "3      0\n",
      "1      0\n",
      "11     0\n",
      "10     0\n",
      "8      0\n",
      "7      0\n",
      "4      0\n",
      "6      0\n",
      "14     0\n",
      "12     0\n",
      "18     0\n",
      "17     0\n",
      "16     0\n",
      "15     0\n",
      "13     0\n",
      "20     0\n",
      "22     0\n",
      "25     0\n",
      "Name: Is_non_numeric, dtype: int64\n"
     ]
    }
   ],
   "source": [
    "# Apply the function to the 'Answer' column\n",
    "df_comb['Answer'] = df_comb['Answer'].apply(extract_number)\n",
    "\n",
    "df_comb['Answer_numeric'] = pd.to_numeric(df_comb['Answer'], errors='coerce')\n",
    "\n",
    "# Identify non-numeric values\n",
    "df_comb['Is_non_numeric'] = df_comb['Answer_numeric'].isna()\n",
    "\n",
    "# Group by 'Itemnum' and count non-numeric answers\n",
    "result = df_comb.groupby('ItemNum')['Is_non_numeric'].sum()\n",
    "\n",
    "# Sort the result in descending order\n",
    "result_sorted = result.sort_values(ascending=False)\n",
    "\n",
    "# Display the sorted result\n",
    "print(result_sorted)\n"
   ]
  },
  {
   "cell_type": "code",
   "execution_count": 26,
   "metadata": {},
   "outputs": [
    {
     "data": {
      "text/plain": [
       "<bound method NDFrame.head of                    Name  source  \\\n",
       "0       Michael Jackson   Actor   \n",
       "1       Michael Jackson   Actor   \n",
       "2       Michael Jackson   Actor   \n",
       "3       Michael Jackson   Actor   \n",
       "4       Michael Jackson   Actor   \n",
       "...                 ...     ...   \n",
       "129595      Niall Horan  Singer   \n",
       "129596      Niall Horan  Singer   \n",
       "129597      Niall Horan  Singer   \n",
       "129598      Niall Horan  Singer   \n",
       "129599      Niall Horan  Singer   \n",
       "\n",
       "                                                     Item  ItemNum  Answer  \\\n",
       "0                     It's not wise to tell your secrets.        1     4.0   \n",
       "1        I like to use clever manipulation to get my way.        2     2.0   \n",
       "2       Whatever it takes, you must get the important ...        3     5.0   \n",
       "3       Avoid direct conflict with others because they...        4     3.0   \n",
       "4       It's wise to keep track of information that yo...        5     1.0   \n",
       "...                                                   ...      ...     ...   \n",
       "129595             It's true that I can be mean to others       23     2.0   \n",
       "129596           People who mess with me always regret it       24     3.0   \n",
       "129597      I have never gotten into trouble with the law       25     5.0   \n",
       "129598       I enjoy having sex with people I hardly know       26     3.0   \n",
       "129599               I'll say anything to get what I want       27     2.0   \n",
       "\n",
       "        Answer_numeric  Is_non_numeric  \n",
       "0                  4.0           False  \n",
       "1                  2.0           False  \n",
       "2                  5.0           False  \n",
       "3                  3.0           False  \n",
       "4                  1.0           False  \n",
       "...                ...             ...  \n",
       "129595             2.0           False  \n",
       "129596             3.0           False  \n",
       "129597             5.0           False  \n",
       "129598             3.0           False  \n",
       "129599             2.0           False  \n",
       "\n",
       "[129600 rows x 7 columns]>"
      ]
     },
     "execution_count": 26,
     "metadata": {},
     "output_type": "execute_result"
    }
   ],
   "source": [
    "df_comb.head"
   ]
  },
  {
   "cell_type": "code",
   "execution_count": 27,
   "metadata": {},
   "outputs": [
    {
     "name": "stdout",
     "output_type": "stream",
     "text": [
      "48000\n"
     ]
    }
   ],
   "source": [
    "\n",
    "#If there is a guardrail for a particular item, we replace tha value with 3\n",
    "# os.sleep(10)\n",
    "df_comb.loc[(df_comb['ItemNum'] == 26) & (df_comb['Answer_numeric'].isna()), 'Answer_numeric'] = 3\n",
    "\n",
    "#print(df_comb.shape)\n",
    "\n",
    "df_comb['adjusted_score'] = df_comb.apply(adjust_score2,axis=1)\n",
    "\n",
    "print(count3)\n",
    "\n"
   ]
  },
  {
   "cell_type": "code",
   "execution_count": 28,
   "metadata": {},
   "outputs": [
    {
     "name": "stdout",
     "output_type": "stream",
     "text": [
      "(129600, 8)\n"
     ]
    }
   ],
   "source": [
    "print(df_comb.shape)"
   ]
  },
  {
   "cell_type": "code",
   "execution_count": 29,
   "metadata": {},
   "outputs": [
    {
     "data": {
      "text/html": [
       "<div>\n",
       "<style scoped>\n",
       "    .dataframe tbody tr th:only-of-type {\n",
       "        vertical-align: middle;\n",
       "    }\n",
       "\n",
       "    .dataframe tbody tr th {\n",
       "        vertical-align: top;\n",
       "    }\n",
       "\n",
       "    .dataframe thead th {\n",
       "        text-align: right;\n",
       "    }\n",
       "</style>\n",
       "<table border=\"1\" class=\"dataframe\">\n",
       "  <thead>\n",
       "    <tr style=\"text-align: right;\">\n",
       "      <th></th>\n",
       "      <th>Name</th>\n",
       "      <th>source</th>\n",
       "      <th>Item</th>\n",
       "      <th>ItemNum</th>\n",
       "      <th>Answer</th>\n",
       "      <th>Answer_numeric</th>\n",
       "      <th>Is_non_numeric</th>\n",
       "      <th>adjusted_score</th>\n",
       "    </tr>\n",
       "  </thead>\n",
       "  <tbody>\n",
       "    <tr>\n",
       "      <th>25</th>\n",
       "      <td>Michael Jackson</td>\n",
       "      <td>Actor</td>\n",
       "      <td>I enjoy having sex with people I hardly know</td>\n",
       "      <td>26</td>\n",
       "      <td>1.0</td>\n",
       "      <td>1.0</td>\n",
       "      <td>False</td>\n",
       "      <td>1.0</td>\n",
       "    </tr>\n",
       "    <tr>\n",
       "      <th>52</th>\n",
       "      <td>Donald Trump</td>\n",
       "      <td>Actor</td>\n",
       "      <td>I enjoy having sex with people I hardly know</td>\n",
       "      <td>26</td>\n",
       "      <td>5.0</td>\n",
       "      <td>5.0</td>\n",
       "      <td>False</td>\n",
       "      <td>5.0</td>\n",
       "    </tr>\n",
       "    <tr>\n",
       "      <th>79</th>\n",
       "      <td>Ronald Reagan</td>\n",
       "      <td>Actor</td>\n",
       "      <td>I enjoy having sex with people I hardly know</td>\n",
       "      <td>26</td>\n",
       "      <td>1.0</td>\n",
       "      <td>1.0</td>\n",
       "      <td>False</td>\n",
       "      <td>1.0</td>\n",
       "    </tr>\n",
       "    <tr>\n",
       "      <th>106</th>\n",
       "      <td>Charlie Chaplin</td>\n",
       "      <td>Actor</td>\n",
       "      <td>I enjoy having sex with people I hardly know</td>\n",
       "      <td>26</td>\n",
       "      <td>2.0</td>\n",
       "      <td>2.0</td>\n",
       "      <td>False</td>\n",
       "      <td>2.0</td>\n",
       "    </tr>\n",
       "    <tr>\n",
       "      <th>133</th>\n",
       "      <td>Rabindranath Tagore</td>\n",
       "      <td>Actor</td>\n",
       "      <td>I enjoy having sex with people I hardly know</td>\n",
       "      <td>26</td>\n",
       "      <td>1.0</td>\n",
       "      <td>1.0</td>\n",
       "      <td>False</td>\n",
       "      <td>1.0</td>\n",
       "    </tr>\n",
       "    <tr>\n",
       "      <th>...</th>\n",
       "      <td>...</td>\n",
       "      <td>...</td>\n",
       "      <td>...</td>\n",
       "      <td>...</td>\n",
       "      <td>...</td>\n",
       "      <td>...</td>\n",
       "      <td>...</td>\n",
       "      <td>...</td>\n",
       "    </tr>\n",
       "    <tr>\n",
       "      <th>129490</th>\n",
       "      <td>Justin Timberlake</td>\n",
       "      <td>Singer</td>\n",
       "      <td>I enjoy having sex with people I hardly know</td>\n",
       "      <td>26</td>\n",
       "      <td>2.0</td>\n",
       "      <td>2.0</td>\n",
       "      <td>False</td>\n",
       "      <td>2.0</td>\n",
       "    </tr>\n",
       "    <tr>\n",
       "      <th>129517</th>\n",
       "      <td>Jimmy Fallon</td>\n",
       "      <td>Actor</td>\n",
       "      <td>I enjoy having sex with people I hardly know</td>\n",
       "      <td>26</td>\n",
       "      <td>3.0</td>\n",
       "      <td>3.0</td>\n",
       "      <td>False</td>\n",
       "      <td>3.0</td>\n",
       "    </tr>\n",
       "    <tr>\n",
       "      <th>129544</th>\n",
       "      <td>Akshay Kumar</td>\n",
       "      <td>Actor</td>\n",
       "      <td>I enjoy having sex with people I hardly know</td>\n",
       "      <td>26</td>\n",
       "      <td>1.0</td>\n",
       "      <td>1.0</td>\n",
       "      <td>False</td>\n",
       "      <td>1.0</td>\n",
       "    </tr>\n",
       "    <tr>\n",
       "      <th>129571</th>\n",
       "      <td>Salman Khan</td>\n",
       "      <td>Actor</td>\n",
       "      <td>I enjoy having sex with people I hardly know</td>\n",
       "      <td>26</td>\n",
       "      <td>3.0</td>\n",
       "      <td>3.0</td>\n",
       "      <td>False</td>\n",
       "      <td>3.0</td>\n",
       "    </tr>\n",
       "    <tr>\n",
       "      <th>129598</th>\n",
       "      <td>Niall Horan</td>\n",
       "      <td>Singer</td>\n",
       "      <td>I enjoy having sex with people I hardly know</td>\n",
       "      <td>26</td>\n",
       "      <td>3.0</td>\n",
       "      <td>3.0</td>\n",
       "      <td>False</td>\n",
       "      <td>3.0</td>\n",
       "    </tr>\n",
       "  </tbody>\n",
       "</table>\n",
       "<p>4800 rows × 8 columns</p>\n",
       "</div>"
      ],
      "text/plain": [
       "                       Name  source  \\\n",
       "25          Michael Jackson   Actor   \n",
       "52             Donald Trump   Actor   \n",
       "79            Ronald Reagan   Actor   \n",
       "106         Charlie Chaplin   Actor   \n",
       "133     Rabindranath Tagore   Actor   \n",
       "...                     ...     ...   \n",
       "129490    Justin Timberlake  Singer   \n",
       "129517         Jimmy Fallon   Actor   \n",
       "129544         Akshay Kumar   Actor   \n",
       "129571          Salman Khan   Actor   \n",
       "129598          Niall Horan  Singer   \n",
       "\n",
       "                                                Item  ItemNum  Answer  \\\n",
       "25      I enjoy having sex with people I hardly know       26     1.0   \n",
       "52      I enjoy having sex with people I hardly know       26     5.0   \n",
       "79      I enjoy having sex with people I hardly know       26     1.0   \n",
       "106     I enjoy having sex with people I hardly know       26     2.0   \n",
       "133     I enjoy having sex with people I hardly know       26     1.0   \n",
       "...                                              ...      ...     ...   \n",
       "129490  I enjoy having sex with people I hardly know       26     2.0   \n",
       "129517  I enjoy having sex with people I hardly know       26     3.0   \n",
       "129544  I enjoy having sex with people I hardly know       26     1.0   \n",
       "129571  I enjoy having sex with people I hardly know       26     3.0   \n",
       "129598  I enjoy having sex with people I hardly know       26     3.0   \n",
       "\n",
       "        Answer_numeric  Is_non_numeric  adjusted_score  \n",
       "25                 1.0           False             1.0  \n",
       "52                 5.0           False             5.0  \n",
       "79                 1.0           False             1.0  \n",
       "106                2.0           False             2.0  \n",
       "133                1.0           False             1.0  \n",
       "...                ...             ...             ...  \n",
       "129490             2.0           False             2.0  \n",
       "129517             3.0           False             3.0  \n",
       "129544             1.0           False             1.0  \n",
       "129571             3.0           False             3.0  \n",
       "129598             3.0           False             3.0  \n",
       "\n",
       "[4800 rows x 8 columns]"
      ]
     },
     "execution_count": 29,
     "metadata": {},
     "output_type": "execute_result"
    }
   ],
   "source": [
    "df_comb.loc[df_comb['ItemNum']==26]"
   ]
  },
  {
   "cell_type": "code",
   "execution_count": 30,
   "metadata": {},
   "outputs": [
    {
     "data": {
      "text/plain": [
       "<bound method NDFrame.head of                    Name  source  \\\n",
       "0       Michael Jackson   Actor   \n",
       "1       Michael Jackson   Actor   \n",
       "2       Michael Jackson   Actor   \n",
       "3       Michael Jackson   Actor   \n",
       "4       Michael Jackson   Actor   \n",
       "...                 ...     ...   \n",
       "129595      Niall Horan  Singer   \n",
       "129596      Niall Horan  Singer   \n",
       "129597      Niall Horan  Singer   \n",
       "129598      Niall Horan  Singer   \n",
       "129599      Niall Horan  Singer   \n",
       "\n",
       "                                                     Item  ItemNum  Answer  \\\n",
       "0                     It's not wise to tell your secrets.        1     4.0   \n",
       "1        I like to use clever manipulation to get my way.        2     2.0   \n",
       "2       Whatever it takes, you must get the important ...        3     5.0   \n",
       "3       Avoid direct conflict with others because they...        4     3.0   \n",
       "4       It's wise to keep track of information that yo...        5     1.0   \n",
       "...                                                   ...      ...     ...   \n",
       "129595             It's true that I can be mean to others       23     2.0   \n",
       "129596           People who mess with me always regret it       24     3.0   \n",
       "129597      I have never gotten into trouble with the law       25     5.0   \n",
       "129598       I enjoy having sex with people I hardly know       26     3.0   \n",
       "129599               I'll say anything to get what I want       27     2.0   \n",
       "\n",
       "        Answer_numeric  Is_non_numeric  adjusted_score  \n",
       "0                  4.0           False             4.0  \n",
       "1                  2.0           False             2.0  \n",
       "2                  5.0           False             5.0  \n",
       "3                  3.0           False             3.0  \n",
       "4                  1.0           False             1.0  \n",
       "...                ...             ...             ...  \n",
       "129595             2.0           False             2.0  \n",
       "129596             3.0           False             3.0  \n",
       "129597             5.0           False             1.0  \n",
       "129598             3.0           False             3.0  \n",
       "129599             2.0           False             2.0  \n",
       "\n",
       "[129600 rows x 8 columns]>"
      ]
     },
     "execution_count": 30,
     "metadata": {},
     "output_type": "execute_result"
    }
   ],
   "source": [
    "df_comb.head"
   ]
  },
  {
   "cell_type": "code",
   "execution_count": 31,
   "metadata": {},
   "outputs": [
    {
     "name": "stdout",
     "output_type": "stream",
     "text": [
      "(10800, 4)\n"
     ]
    }
   ],
   "source": [
    "avg_score= df_comb.groupby(['Name', 'ItemNum','source'])['adjusted_score'].mean().reset_index()\n",
    "print(avg_score.shape)\n",
    "\n"
   ]
  },
  {
   "cell_type": "code",
   "execution_count": 34,
   "metadata": {},
   "outputs": [
    {
     "data": {
      "text/html": [
       "<div>\n",
       "<style scoped>\n",
       "    .dataframe tbody tr th:only-of-type {\n",
       "        vertical-align: middle;\n",
       "    }\n",
       "\n",
       "    .dataframe tbody tr th {\n",
       "        vertical-align: top;\n",
       "    }\n",
       "\n",
       "    .dataframe thead th {\n",
       "        text-align: right;\n",
       "    }\n",
       "</style>\n",
       "<table border=\"1\" class=\"dataframe\">\n",
       "  <thead>\n",
       "    <tr style=\"text-align: right;\">\n",
       "      <th></th>\n",
       "      <th>Name</th>\n",
       "      <th>ItemNum</th>\n",
       "      <th>source</th>\n",
       "      <th>adjusted_score</th>\n",
       "    </tr>\n",
       "  </thead>\n",
       "  <tbody>\n",
       "    <tr>\n",
       "      <th>0</th>\n",
       "      <td>50 Cent</td>\n",
       "      <td>1</td>\n",
       "      <td>Entrepreneur</td>\n",
       "      <td>5.000000</td>\n",
       "    </tr>\n",
       "    <tr>\n",
       "      <th>1</th>\n",
       "      <td>50 Cent</td>\n",
       "      <td>2</td>\n",
       "      <td>Entrepreneur</td>\n",
       "      <td>4.500000</td>\n",
       "    </tr>\n",
       "    <tr>\n",
       "      <th>2</th>\n",
       "      <td>50 Cent</td>\n",
       "      <td>3</td>\n",
       "      <td>Entrepreneur</td>\n",
       "      <td>5.000000</td>\n",
       "    </tr>\n",
       "    <tr>\n",
       "      <th>3</th>\n",
       "      <td>50 Cent</td>\n",
       "      <td>4</td>\n",
       "      <td>Entrepreneur</td>\n",
       "      <td>3.583333</td>\n",
       "    </tr>\n",
       "    <tr>\n",
       "      <th>4</th>\n",
       "      <td>50 Cent</td>\n",
       "      <td>5</td>\n",
       "      <td>Entrepreneur</td>\n",
       "      <td>4.750000</td>\n",
       "    </tr>\n",
       "    <tr>\n",
       "      <th>...</th>\n",
       "      <td>...</td>\n",
       "      <td>...</td>\n",
       "      <td>...</td>\n",
       "      <td>...</td>\n",
       "    </tr>\n",
       "    <tr>\n",
       "      <th>10795</th>\n",
       "      <td>Édith Piaf</td>\n",
       "      <td>23</td>\n",
       "      <td>Actor</td>\n",
       "      <td>3.333333</td>\n",
       "    </tr>\n",
       "    <tr>\n",
       "      <th>10796</th>\n",
       "      <td>Édith Piaf</td>\n",
       "      <td>24</td>\n",
       "      <td>Actor</td>\n",
       "      <td>4.666667</td>\n",
       "    </tr>\n",
       "    <tr>\n",
       "      <th>10797</th>\n",
       "      <td>Édith Piaf</td>\n",
       "      <td>25</td>\n",
       "      <td>Actor</td>\n",
       "      <td>4.166667</td>\n",
       "    </tr>\n",
       "    <tr>\n",
       "      <th>10798</th>\n",
       "      <td>Édith Piaf</td>\n",
       "      <td>26</td>\n",
       "      <td>Actor</td>\n",
       "      <td>3.000000</td>\n",
       "    </tr>\n",
       "    <tr>\n",
       "      <th>10799</th>\n",
       "      <td>Édith Piaf</td>\n",
       "      <td>27</td>\n",
       "      <td>Actor</td>\n",
       "      <td>2.500000</td>\n",
       "    </tr>\n",
       "  </tbody>\n",
       "</table>\n",
       "<p>10800 rows × 4 columns</p>\n",
       "</div>"
      ],
      "text/plain": [
       "             Name  ItemNum        source  adjusted_score\n",
       "0         50 Cent        1  Entrepreneur        5.000000\n",
       "1         50 Cent        2  Entrepreneur        4.500000\n",
       "2         50 Cent        3  Entrepreneur        5.000000\n",
       "3         50 Cent        4  Entrepreneur        3.583333\n",
       "4         50 Cent        5  Entrepreneur        4.750000\n",
       "...           ...      ...           ...             ...\n",
       "10795  Édith Piaf       23         Actor        3.333333\n",
       "10796  Édith Piaf       24         Actor        4.666667\n",
       "10797  Édith Piaf       25         Actor        4.166667\n",
       "10798  Édith Piaf       26         Actor        3.000000\n",
       "10799  Édith Piaf       27         Actor        2.500000\n",
       "\n",
       "[10800 rows x 4 columns]"
      ]
     },
     "execution_count": 34,
     "metadata": {},
     "output_type": "execute_result"
    }
   ],
   "source": [
    "avg_score"
   ]
  },
  {
   "cell_type": "code",
   "execution_count": 33,
   "metadata": {},
   "outputs": [
    {
     "name": "stdout",
     "output_type": "stream",
     "text": [
      "Series([], Name: Name, dtype: object)\n",
      "Original number of rows: 10800\n",
      "Number of rows after filtering: 10800\n",
      "Number of rows removed: 0\n"
     ]
    }
   ],
   "source": [
    "df_drop=avg_score.loc[avg_score['adjusted_score'].isna()]['Name']\n",
    "print(df_drop)\n",
    "df_filt = avg_score[~avg_score['Name'].isin(df_drop)]\n",
    "\n",
    "df_filt = df_filt.reset_index(drop=True)\n",
    "\n",
    "# Print some information about the filtering process\n",
    "print(f\"Original number of rows: {len(avg_score)}\")\n",
    "print(f\"Number of rows after filtering: {len(df_filt)}\")\n",
    "print(f\"Number of rows removed: {len(avg_score) - len(df_filt)}\")\n"
   ]
  },
  {
   "cell_type": "code",
   "execution_count": 35,
   "metadata": {},
   "outputs": [
    {
     "name": "stdout",
     "output_type": "stream",
     "text": [
      "                       Name        source  Machiavellianism  Narcissism  \\\n",
      "0                   50 Cent  Entrepreneur             4.528       4.759   \n",
      "1               A. A. Milne        Author             2.565       2.972   \n",
      "2    Abdelkader El Djezairi     Scientist             2.907       3.880   \n",
      "3           Abraham Lincoln           HoS             2.389       3.352   \n",
      "4                Ada Yonath     Scientist             2.278       3.352   \n",
      "..                      ...           ...               ...         ...   \n",
      "395             Zack Snyder     Scientist             3.574       4.602   \n",
      "396     Zbigniew Brzezinski        Author             3.556       3.852   \n",
      "397                 Zendaya         Actor             2.620       3.694   \n",
      "398      Zlatan Ibrahimovic       Athlete             4.241       5.000   \n",
      "399              Édith Piaf         Actor             3.000       4.583   \n",
      "\n",
      "     Psychopathy  \n",
      "0          4.528  \n",
      "1          1.565  \n",
      "2          2.528  \n",
      "3          1.389  \n",
      "4          1.389  \n",
      "..           ...  \n",
      "395        3.380  \n",
      "396        2.194  \n",
      "397        1.778  \n",
      "398        4.157  \n",
      "399        3.463  \n",
      "\n",
      "[400 rows x 5 columns]\n"
     ]
    }
   ],
   "source": [
    "result_sd3_n=sd3_calc2(df_filt)\n",
    "result_sd3_n.to_csv('./test_scores/SD3/result_cs35_sd3_n.csv')"
   ]
  },
  {
   "cell_type": "code",
   "execution_count": null,
   "metadata": {},
   "outputs": [],
   "source": []
  },
  {
   "cell_type": "markdown",
   "metadata": {},
   "source": [
    "### GPT Results"
   ]
  },
  {
   "cell_type": "markdown",
   "metadata": {},
   "source": []
  },
  {
   "cell_type": "code",
   "execution_count": null,
   "metadata": {},
   "outputs": [],
   "source": []
  },
  {
   "cell_type": "code",
   "execution_count": 75,
   "metadata": {},
   "outputs": [
    {
     "name": "stdout",
     "output_type": "stream",
     "text": [
      "Files found: ['.\\\\Gptresults\\\\Good\\\\SD3\\\\results_sd3_goodp1_1.csv', '.\\\\Gptresults\\\\Good\\\\SD3\\\\results_sd3_goodp1_2.csv', '.\\\\Gptresults\\\\Good\\\\SD3\\\\results_sd3_goodp1_3.csv', '.\\\\Gptresults\\\\Good\\\\SD3\\\\results_sd3_goodp2_1.csv', '.\\\\Gptresults\\\\Good\\\\SD3\\\\results_sd3_goodp2_2.csv', '.\\\\Gptresults\\\\Good\\\\SD3\\\\results_sd3_goodp2_3.csv', '.\\\\Gptresults\\\\Good\\\\SD3\\\\results_sd3_goodp3_1.csv', '.\\\\Gptresults\\\\Good\\\\SD3\\\\results_sd3_goodp3_2.csv', '.\\\\Gptresults\\\\Good\\\\SD3\\\\results_sd3_goodp3_3.csv', '.\\\\Gptresults\\\\Good\\\\SD3\\\\results_sd3_goodp4_1.csv', '.\\\\Gptresults\\\\Good\\\\SD3\\\\results_sd3_goodp4_2.csv', '.\\\\Gptresults\\\\Good\\\\SD3\\\\results_sd3_goodp4_3.csv']\n",
      "Reading file: .\\Gptresults\\Good\\SD3\\results_sd3_goodp1_1.csv\n",
      "df shape is: (10800, 5)\n",
      "Reading file: .\\Gptresults\\Good\\SD3\\results_sd3_goodp1_2.csv\n",
      "df shape is: (10800, 5)\n",
      "Reading file: .\\Gptresults\\Good\\SD3\\results_sd3_goodp1_3.csv\n",
      "df shape is: (10800, 5)\n",
      "Reading file: .\\Gptresults\\Good\\SD3\\results_sd3_goodp2_1.csv\n",
      "df shape is: (10800, 5)\n",
      "Reading file: .\\Gptresults\\Good\\SD3\\results_sd3_goodp2_2.csv\n",
      "df shape is: (10800, 5)\n",
      "Reading file: .\\Gptresults\\Good\\SD3\\results_sd3_goodp2_3.csv\n",
      "df shape is: (10800, 5)\n",
      "Reading file: .\\Gptresults\\Good\\SD3\\results_sd3_goodp3_1.csv\n",
      "df shape is: (10800, 5)\n",
      "Reading file: .\\Gptresults\\Good\\SD3\\results_sd3_goodp3_2.csv\n",
      "df shape is: (10800, 5)\n",
      "Reading file: .\\Gptresults\\Good\\SD3\\results_sd3_goodp3_3.csv\n",
      "df shape is: (10800, 5)\n",
      "Reading file: .\\Gptresults\\Good\\SD3\\results_sd3_goodp4_1.csv\n",
      "df shape is: (10800, 5)\n",
      "Reading file: .\\Gptresults\\Good\\SD3\\results_sd3_goodp4_2.csv\n",
      "df shape is: (10800, 5)\n",
      "Reading file: .\\Gptresults\\Good\\SD3\\results_sd3_goodp4_3.csv\n",
      "df shape is: (10800, 5)\n",
      "Combined DataFrame shape: (129600, 5)\n"
     ]
    }
   ],
   "source": [
    "import pandas as pd\n",
    "import glob\n",
    "import os\n",
    "\n",
    "# Correct the path construction\n",
    "path = r'.\\Gptresults\\Good\\SD3'  # Use a raw string to avoid escape character issues\n",
    "\n",
    "# Adjust the glob pattern for .csv files\n",
    "all_files = glob.glob(os.path.join(path, '*.csv'))\n",
    "\n",
    "df_list = []\n",
    "print(\"Files found:\", all_files)\n",
    "\n",
    "# Iterate over the files\n",
    "for filename in all_files:\n",
    "    df = pd.read_csv(filename, index_col=None, header=0)\n",
    "    print(f\"Reading file: {filename}\")\n",
    "    print(\"df shape is:\", df.shape)\n",
    "    df_list.append(df)\n",
    "\n",
    "# Combine all DataFrames into one\n",
    "df_comb = pd.concat(df_list, axis=0, ignore_index=True)\n",
    "\n",
    "print(\"Combined DataFrame shape:\", df_comb.shape)\n"
   ]
  },
  {
   "cell_type": "code",
   "execution_count": 76,
   "metadata": {},
   "outputs": [
    {
     "data": {
      "text/plain": [
       "Index(['Name', 'source', 'Item', 'ItemNum', 'Answer'], dtype='object')"
      ]
     },
     "execution_count": 76,
     "metadata": {},
     "output_type": "execute_result"
    }
   ],
   "source": [
    "df_comb.columns"
   ]
  },
  {
   "cell_type": "code",
   "execution_count": 77,
   "metadata": {},
   "outputs": [
    {
     "data": {
      "text/plain": [
       "count              129600\n",
       "unique                400\n",
       "top       Gerhard Fischer\n",
       "freq                  324\n",
       "Name: Name, dtype: object"
      ]
     },
     "execution_count": 77,
     "metadata": {},
     "output_type": "execute_result"
    }
   ],
   "source": [
    "df_comb['Name'].describe()"
   ]
  },
  {
   "cell_type": "code",
   "execution_count": 78,
   "metadata": {},
   "outputs": [
    {
     "name": "stdout",
     "output_type": "stream",
     "text": [
      "ItemNum\n",
      "26    66\n",
      "23     3\n",
      "10     2\n",
      "12     1\n",
      "3      0\n",
      "6      0\n",
      "5      0\n",
      "7      0\n",
      "4      0\n",
      "2      0\n",
      "1      0\n",
      "11     0\n",
      "9      0\n",
      "8      0\n",
      "13     0\n",
      "16     0\n",
      "17     0\n",
      "14     0\n",
      "15     0\n",
      "19     0\n",
      "18     0\n",
      "21     0\n",
      "20     0\n",
      "22     0\n",
      "24     0\n",
      "25     0\n",
      "27     0\n",
      "Name: Is_non_numeric, dtype: int64\n"
     ]
    }
   ],
   "source": [
    "# Apply the function to the 'Answer' column\n",
    "df_comb['Answer'] = df_comb['Answer'].apply(extract_number)\n",
    "\n",
    "df_comb['Answer_numeric'] = pd.to_numeric(df_comb['Answer'], errors='coerce')\n",
    "\n",
    "# Identify non-numeric values\n",
    "df_comb['Is_non_numeric'] = df_comb['Answer_numeric'].isna()\n",
    "\n",
    "# Group by 'Itemnum' and count non-numeric answers\n",
    "result = df_comb.groupby('ItemNum')['Is_non_numeric'].sum()\n",
    "\n",
    "# Sort the result in descending order\n",
    "result_sorted = result.sort_values(ascending=False)\n",
    "\n",
    "# Display the sorted result\n",
    "print(result_sorted)\n"
   ]
  },
  {
   "cell_type": "code",
   "execution_count": 79,
   "metadata": {},
   "outputs": [
    {
     "data": {
      "text/plain": [
       "<bound method NDFrame.head of                    Name source  \\\n",
       "0          Barack Obama    NPP   \n",
       "1          Barack Obama    NPP   \n",
       "2          Barack Obama    NPP   \n",
       "3          Barack Obama    NPP   \n",
       "4          Barack Obama    NPP   \n",
       "...                 ...    ...   \n",
       "129595  Gerhard Fischer    GPP   \n",
       "129596  Gerhard Fischer    GPP   \n",
       "129597  Gerhard Fischer    GPP   \n",
       "129598  Gerhard Fischer    GPP   \n",
       "129599  Gerhard Fischer    GPP   \n",
       "\n",
       "                                                     Item  ItemNum  Answer  \\\n",
       "0                     It's not wise to tell your secrets.        1     4.0   \n",
       "1        I like to use clever manipulation to get my way.        2     2.0   \n",
       "2       Whatever it takes, you must get the important ...        3     4.0   \n",
       "3       Avoid direct conflict with others because they...        4     4.0   \n",
       "4       It's wise to keep track of information that yo...        5     2.0   \n",
       "...                                                   ...      ...     ...   \n",
       "129595             It's true that I can be mean to others       23     3.0   \n",
       "129596           People who mess with me always regret it       24     3.0   \n",
       "129597      I have never gotten into trouble with the law       25     3.0   \n",
       "129598       I enjoy having sex with people I hardly know       26     3.0   \n",
       "129599               I'll say anything to get what I want       27     1.0   \n",
       "\n",
       "        Answer_numeric  Is_non_numeric  \n",
       "0                  4.0           False  \n",
       "1                  2.0           False  \n",
       "2                  4.0           False  \n",
       "3                  4.0           False  \n",
       "4                  2.0           False  \n",
       "...                ...             ...  \n",
       "129595             3.0           False  \n",
       "129596             3.0           False  \n",
       "129597             3.0           False  \n",
       "129598             3.0           False  \n",
       "129599             1.0           False  \n",
       "\n",
       "[129600 rows x 7 columns]>"
      ]
     },
     "execution_count": 79,
     "metadata": {},
     "output_type": "execute_result"
    }
   ],
   "source": [
    "df_comb.head"
   ]
  },
  {
   "cell_type": "code",
   "execution_count": 80,
   "metadata": {},
   "outputs": [
    {
     "name": "stdout",
     "output_type": "stream",
     "text": [
      "144000\n"
     ]
    }
   ],
   "source": [
    "\n",
    "#If there is a guardrail for a particular item, we replace tha value with 3\n",
    "# os.sleep(10)\n",
    "df_comb.loc[(df_comb['ItemNum'] == 26) & (df_comb['Answer_numeric'].isna()), 'Answer_numeric'] = 3\n",
    "\n",
    "#print(df_comb.shape)\n",
    "\n",
    "df_comb['adjusted_score'] = df_comb.apply(adjust_score2,axis=1)\n",
    "\n",
    "print(count3)\n",
    "\n"
   ]
  },
  {
   "cell_type": "code",
   "execution_count": 81,
   "metadata": {},
   "outputs": [
    {
     "name": "stdout",
     "output_type": "stream",
     "text": [
      "(129600, 8)\n"
     ]
    }
   ],
   "source": [
    "print(df_comb.shape)"
   ]
  },
  {
   "cell_type": "code",
   "execution_count": 82,
   "metadata": {},
   "outputs": [
    {
     "data": {
      "text/plain": [
       "<bound method NDFrame.head of                    Name source  \\\n",
       "0          Barack Obama    NPP   \n",
       "1          Barack Obama    NPP   \n",
       "2          Barack Obama    NPP   \n",
       "3          Barack Obama    NPP   \n",
       "4          Barack Obama    NPP   \n",
       "...                 ...    ...   \n",
       "129595  Gerhard Fischer    GPP   \n",
       "129596  Gerhard Fischer    GPP   \n",
       "129597  Gerhard Fischer    GPP   \n",
       "129598  Gerhard Fischer    GPP   \n",
       "129599  Gerhard Fischer    GPP   \n",
       "\n",
       "                                                     Item  ItemNum  Answer  \\\n",
       "0                     It's not wise to tell your secrets.        1     4.0   \n",
       "1        I like to use clever manipulation to get my way.        2     2.0   \n",
       "2       Whatever it takes, you must get the important ...        3     4.0   \n",
       "3       Avoid direct conflict with others because they...        4     4.0   \n",
       "4       It's wise to keep track of information that yo...        5     2.0   \n",
       "...                                                   ...      ...     ...   \n",
       "129595             It's true that I can be mean to others       23     3.0   \n",
       "129596           People who mess with me always regret it       24     3.0   \n",
       "129597      I have never gotten into trouble with the law       25     3.0   \n",
       "129598       I enjoy having sex with people I hardly know       26     3.0   \n",
       "129599               I'll say anything to get what I want       27     1.0   \n",
       "\n",
       "        Answer_numeric  Is_non_numeric  adjusted_score  \n",
       "0                  4.0           False             4.0  \n",
       "1                  2.0           False             4.0  \n",
       "2                  4.0           False             4.0  \n",
       "3                  4.0           False             4.0  \n",
       "4                  2.0           False             2.0  \n",
       "...                ...             ...             ...  \n",
       "129595             3.0           False             3.0  \n",
       "129596             3.0           False             3.0  \n",
       "129597             3.0           False             3.0  \n",
       "129598             3.0           False             3.0  \n",
       "129599             1.0           False             5.0  \n",
       "\n",
       "[129600 rows x 8 columns]>"
      ]
     },
     "execution_count": 82,
     "metadata": {},
     "output_type": "execute_result"
    }
   ],
   "source": [
    "df_comb.head"
   ]
  },
  {
   "cell_type": "code",
   "execution_count": 83,
   "metadata": {},
   "outputs": [
    {
     "data": {
      "text/html": [
       "<div>\n",
       "<style scoped>\n",
       "    .dataframe tbody tr th:only-of-type {\n",
       "        vertical-align: middle;\n",
       "    }\n",
       "\n",
       "    .dataframe tbody tr th {\n",
       "        vertical-align: top;\n",
       "    }\n",
       "\n",
       "    .dataframe thead th {\n",
       "        text-align: right;\n",
       "    }\n",
       "</style>\n",
       "<table border=\"1\" class=\"dataframe\">\n",
       "  <thead>\n",
       "    <tr style=\"text-align: right;\">\n",
       "      <th></th>\n",
       "      <th>Name</th>\n",
       "      <th>source</th>\n",
       "      <th>Item</th>\n",
       "      <th>ItemNum</th>\n",
       "      <th>Answer</th>\n",
       "      <th>Answer_numeric</th>\n",
       "      <th>Is_non_numeric</th>\n",
       "      <th>adjusted_score</th>\n",
       "    </tr>\n",
       "  </thead>\n",
       "  <tbody>\n",
       "    <tr>\n",
       "      <th>25</th>\n",
       "      <td>Barack Obama</td>\n",
       "      <td>NPP</td>\n",
       "      <td>I enjoy having sex with people I hardly know</td>\n",
       "      <td>26</td>\n",
       "      <td>1.0</td>\n",
       "      <td>1.0</td>\n",
       "      <td>False</td>\n",
       "      <td>1.0</td>\n",
       "    </tr>\n",
       "    <tr>\n",
       "      <th>52</th>\n",
       "      <td>Nelson Mandela</td>\n",
       "      <td>NPP</td>\n",
       "      <td>I enjoy having sex with people I hardly know</td>\n",
       "      <td>26</td>\n",
       "      <td>2.0</td>\n",
       "      <td>2.0</td>\n",
       "      <td>False</td>\n",
       "      <td>2.0</td>\n",
       "    </tr>\n",
       "    <tr>\n",
       "      <th>79</th>\n",
       "      <td>Martin Luther King Jr.</td>\n",
       "      <td>NPP</td>\n",
       "      <td>I enjoy having sex with people I hardly know</td>\n",
       "      <td>26</td>\n",
       "      <td>1.0</td>\n",
       "      <td>1.0</td>\n",
       "      <td>False</td>\n",
       "      <td>1.0</td>\n",
       "    </tr>\n",
       "    <tr>\n",
       "      <th>106</th>\n",
       "      <td>Mikhail Gorbachev</td>\n",
       "      <td>NPP</td>\n",
       "      <td>I enjoy having sex with people I hardly know</td>\n",
       "      <td>26</td>\n",
       "      <td>1.0</td>\n",
       "      <td>1.0</td>\n",
       "      <td>False</td>\n",
       "      <td>1.0</td>\n",
       "    </tr>\n",
       "    <tr>\n",
       "      <th>133</th>\n",
       "      <td>Mother Teresa</td>\n",
       "      <td>NPP</td>\n",
       "      <td>I enjoy having sex with people I hardly know</td>\n",
       "      <td>26</td>\n",
       "      <td>1.0</td>\n",
       "      <td>1.0</td>\n",
       "      <td>False</td>\n",
       "      <td>1.0</td>\n",
       "    </tr>\n",
       "    <tr>\n",
       "      <th>...</th>\n",
       "      <td>...</td>\n",
       "      <td>...</td>\n",
       "      <td>...</td>\n",
       "      <td>...</td>\n",
       "      <td>...</td>\n",
       "      <td>...</td>\n",
       "      <td>...</td>\n",
       "      <td>...</td>\n",
       "    </tr>\n",
       "    <tr>\n",
       "      <th>129490</th>\n",
       "      <td>Václav Havel</td>\n",
       "      <td>GPP</td>\n",
       "      <td>I enjoy having sex with people I hardly know</td>\n",
       "      <td>26</td>\n",
       "      <td>1.0</td>\n",
       "      <td>1.0</td>\n",
       "      <td>False</td>\n",
       "      <td>1.0</td>\n",
       "    </tr>\n",
       "    <tr>\n",
       "      <th>129517</th>\n",
       "      <td>Julius Nyerere</td>\n",
       "      <td>GPP</td>\n",
       "      <td>I enjoy having sex with people I hardly know</td>\n",
       "      <td>26</td>\n",
       "      <td>2.0</td>\n",
       "      <td>2.0</td>\n",
       "      <td>False</td>\n",
       "      <td>2.0</td>\n",
       "    </tr>\n",
       "    <tr>\n",
       "      <th>129544</th>\n",
       "      <td>Coretta Scott King</td>\n",
       "      <td>GPP</td>\n",
       "      <td>I enjoy having sex with people I hardly know</td>\n",
       "      <td>26</td>\n",
       "      <td>1.0</td>\n",
       "      <td>1.0</td>\n",
       "      <td>False</td>\n",
       "      <td>1.0</td>\n",
       "    </tr>\n",
       "    <tr>\n",
       "      <th>129571</th>\n",
       "      <td>Wahiduddin Khan</td>\n",
       "      <td>GPP</td>\n",
       "      <td>I enjoy having sex with people I hardly know</td>\n",
       "      <td>26</td>\n",
       "      <td>1.0</td>\n",
       "      <td>1.0</td>\n",
       "      <td>False</td>\n",
       "      <td>1.0</td>\n",
       "    </tr>\n",
       "    <tr>\n",
       "      <th>129598</th>\n",
       "      <td>Gerhard Fischer</td>\n",
       "      <td>GPP</td>\n",
       "      <td>I enjoy having sex with people I hardly know</td>\n",
       "      <td>26</td>\n",
       "      <td>3.0</td>\n",
       "      <td>3.0</td>\n",
       "      <td>False</td>\n",
       "      <td>3.0</td>\n",
       "    </tr>\n",
       "  </tbody>\n",
       "</table>\n",
       "<p>4800 rows × 8 columns</p>\n",
       "</div>"
      ],
      "text/plain": [
       "                          Name source  \\\n",
       "25                Barack Obama    NPP   \n",
       "52              Nelson Mandela    NPP   \n",
       "79      Martin Luther King Jr.    NPP   \n",
       "106          Mikhail Gorbachev    NPP   \n",
       "133              Mother Teresa    NPP   \n",
       "...                        ...    ...   \n",
       "129490            Václav Havel    GPP   \n",
       "129517          Julius Nyerere    GPP   \n",
       "129544      Coretta Scott King    GPP   \n",
       "129571         Wahiduddin Khan    GPP   \n",
       "129598         Gerhard Fischer    GPP   \n",
       "\n",
       "                                                Item  ItemNum  Answer  \\\n",
       "25      I enjoy having sex with people I hardly know       26     1.0   \n",
       "52      I enjoy having sex with people I hardly know       26     2.0   \n",
       "79      I enjoy having sex with people I hardly know       26     1.0   \n",
       "106     I enjoy having sex with people I hardly know       26     1.0   \n",
       "133     I enjoy having sex with people I hardly know       26     1.0   \n",
       "...                                              ...      ...     ...   \n",
       "129490  I enjoy having sex with people I hardly know       26     1.0   \n",
       "129517  I enjoy having sex with people I hardly know       26     2.0   \n",
       "129544  I enjoy having sex with people I hardly know       26     1.0   \n",
       "129571  I enjoy having sex with people I hardly know       26     1.0   \n",
       "129598  I enjoy having sex with people I hardly know       26     3.0   \n",
       "\n",
       "        Answer_numeric  Is_non_numeric  adjusted_score  \n",
       "25                 1.0           False             1.0  \n",
       "52                 2.0           False             2.0  \n",
       "79                 1.0           False             1.0  \n",
       "106                1.0           False             1.0  \n",
       "133                1.0           False             1.0  \n",
       "...                ...             ...             ...  \n",
       "129490             1.0           False             1.0  \n",
       "129517             2.0           False             2.0  \n",
       "129544             1.0           False             1.0  \n",
       "129571             1.0           False             1.0  \n",
       "129598             3.0           False             3.0  \n",
       "\n",
       "[4800 rows x 8 columns]"
      ]
     },
     "execution_count": 83,
     "metadata": {},
     "output_type": "execute_result"
    }
   ],
   "source": [
    "df_comb.loc[df_comb['ItemNum']==26]"
   ]
  },
  {
   "cell_type": "code",
   "execution_count": 84,
   "metadata": {},
   "outputs": [
    {
     "data": {
      "text/plain": [
       "<bound method NDFrame.head of                    Name source  \\\n",
       "0          Barack Obama    NPP   \n",
       "1          Barack Obama    NPP   \n",
       "2          Barack Obama    NPP   \n",
       "3          Barack Obama    NPP   \n",
       "4          Barack Obama    NPP   \n",
       "...                 ...    ...   \n",
       "129595  Gerhard Fischer    GPP   \n",
       "129596  Gerhard Fischer    GPP   \n",
       "129597  Gerhard Fischer    GPP   \n",
       "129598  Gerhard Fischer    GPP   \n",
       "129599  Gerhard Fischer    GPP   \n",
       "\n",
       "                                                     Item  ItemNum  Answer  \\\n",
       "0                     It's not wise to tell your secrets.        1     4.0   \n",
       "1        I like to use clever manipulation to get my way.        2     2.0   \n",
       "2       Whatever it takes, you must get the important ...        3     4.0   \n",
       "3       Avoid direct conflict with others because they...        4     4.0   \n",
       "4       It's wise to keep track of information that yo...        5     2.0   \n",
       "...                                                   ...      ...     ...   \n",
       "129595             It's true that I can be mean to others       23     3.0   \n",
       "129596           People who mess with me always regret it       24     3.0   \n",
       "129597      I have never gotten into trouble with the law       25     3.0   \n",
       "129598       I enjoy having sex with people I hardly know       26     3.0   \n",
       "129599               I'll say anything to get what I want       27     1.0   \n",
       "\n",
       "        Answer_numeric  Is_non_numeric  adjusted_score  \n",
       "0                  4.0           False             4.0  \n",
       "1                  2.0           False             4.0  \n",
       "2                  4.0           False             4.0  \n",
       "3                  4.0           False             4.0  \n",
       "4                  2.0           False             2.0  \n",
       "...                ...             ...             ...  \n",
       "129595             3.0           False             3.0  \n",
       "129596             3.0           False             3.0  \n",
       "129597             3.0           False             3.0  \n",
       "129598             3.0           False             3.0  \n",
       "129599             1.0           False             5.0  \n",
       "\n",
       "[129600 rows x 8 columns]>"
      ]
     },
     "execution_count": 84,
     "metadata": {},
     "output_type": "execute_result"
    }
   ],
   "source": [
    "df_comb.head"
   ]
  },
  {
   "cell_type": "code",
   "execution_count": 85,
   "metadata": {},
   "outputs": [
    {
     "name": "stdout",
     "output_type": "stream",
     "text": [
      "(10800, 4)\n"
     ]
    }
   ],
   "source": [
    "avg_score= df_comb.groupby(['Name', 'ItemNum','source'])['adjusted_score'].mean().reset_index()\n",
    "print(avg_score.shape)\n",
    "\n"
   ]
  },
  {
   "cell_type": "code",
   "execution_count": 86,
   "metadata": {},
   "outputs": [
    {
     "data": {
      "text/html": [
       "<div>\n",
       "<style scoped>\n",
       "    .dataframe tbody tr th:only-of-type {\n",
       "        vertical-align: middle;\n",
       "    }\n",
       "\n",
       "    .dataframe tbody tr th {\n",
       "        vertical-align: top;\n",
       "    }\n",
       "\n",
       "    .dataframe thead th {\n",
       "        text-align: right;\n",
       "    }\n",
       "</style>\n",
       "<table border=\"1\" class=\"dataframe\">\n",
       "  <thead>\n",
       "    <tr style=\"text-align: right;\">\n",
       "      <th></th>\n",
       "      <th>Name</th>\n",
       "      <th>ItemNum</th>\n",
       "      <th>source</th>\n",
       "      <th>adjusted_score</th>\n",
       "    </tr>\n",
       "  </thead>\n",
       "  <tbody>\n",
       "    <tr>\n",
       "      <th>0</th>\n",
       "      <td>A. T. Ariyaratne</td>\n",
       "      <td>1</td>\n",
       "      <td>RM</td>\n",
       "      <td>4.083333</td>\n",
       "    </tr>\n",
       "    <tr>\n",
       "      <th>1</th>\n",
       "      <td>A. T. Ariyaratne</td>\n",
       "      <td>2</td>\n",
       "      <td>RM</td>\n",
       "      <td>4.916667</td>\n",
       "    </tr>\n",
       "    <tr>\n",
       "      <th>2</th>\n",
       "      <td>A. T. Ariyaratne</td>\n",
       "      <td>3</td>\n",
       "      <td>RM</td>\n",
       "      <td>2.500000</td>\n",
       "    </tr>\n",
       "    <tr>\n",
       "      <th>3</th>\n",
       "      <td>A. T. Ariyaratne</td>\n",
       "      <td>4</td>\n",
       "      <td>RM</td>\n",
       "      <td>4.166667</td>\n",
       "    </tr>\n",
       "    <tr>\n",
       "      <th>4</th>\n",
       "      <td>A. T. Ariyaratne</td>\n",
       "      <td>5</td>\n",
       "      <td>RM</td>\n",
       "      <td>1.166667</td>\n",
       "    </tr>\n",
       "    <tr>\n",
       "      <th>...</th>\n",
       "      <td>...</td>\n",
       "      <td>...</td>\n",
       "      <td>...</td>\n",
       "      <td>...</td>\n",
       "    </tr>\n",
       "    <tr>\n",
       "      <th>10795</th>\n",
       "      <td>Óscar Arias Sánchez</td>\n",
       "      <td>23</td>\n",
       "      <td>NPP</td>\n",
       "      <td>4.750000</td>\n",
       "    </tr>\n",
       "    <tr>\n",
       "      <th>10796</th>\n",
       "      <td>Óscar Arias Sánchez</td>\n",
       "      <td>24</td>\n",
       "      <td>NPP</td>\n",
       "      <td>3.916667</td>\n",
       "    </tr>\n",
       "    <tr>\n",
       "      <th>10797</th>\n",
       "      <td>Óscar Arias Sánchez</td>\n",
       "      <td>25</td>\n",
       "      <td>NPP</td>\n",
       "      <td>4.500000</td>\n",
       "    </tr>\n",
       "    <tr>\n",
       "      <th>10798</th>\n",
       "      <td>Óscar Arias Sánchez</td>\n",
       "      <td>26</td>\n",
       "      <td>NPP</td>\n",
       "      <td>1.500000</td>\n",
       "    </tr>\n",
       "    <tr>\n",
       "      <th>10799</th>\n",
       "      <td>Óscar Arias Sánchez</td>\n",
       "      <td>27</td>\n",
       "      <td>NPP</td>\n",
       "      <td>4.750000</td>\n",
       "    </tr>\n",
       "  </tbody>\n",
       "</table>\n",
       "<p>10800 rows × 4 columns</p>\n",
       "</div>"
      ],
      "text/plain": [
       "                      Name  ItemNum source  adjusted_score\n",
       "0         A. T. Ariyaratne        1     RM        4.083333\n",
       "1         A. T. Ariyaratne        2     RM        4.916667\n",
       "2         A. T. Ariyaratne        3     RM        2.500000\n",
       "3         A. T. Ariyaratne        4     RM        4.166667\n",
       "4         A. T. Ariyaratne        5     RM        1.166667\n",
       "...                    ...      ...    ...             ...\n",
       "10795  Óscar Arias Sánchez       23    NPP        4.750000\n",
       "10796  Óscar Arias Sánchez       24    NPP        3.916667\n",
       "10797  Óscar Arias Sánchez       25    NPP        4.500000\n",
       "10798  Óscar Arias Sánchez       26    NPP        1.500000\n",
       "10799  Óscar Arias Sánchez       27    NPP        4.750000\n",
       "\n",
       "[10800 rows x 4 columns]"
      ]
     },
     "execution_count": 86,
     "metadata": {},
     "output_type": "execute_result"
    }
   ],
   "source": [
    "avg_score"
   ]
  },
  {
   "cell_type": "code",
   "execution_count": 87,
   "metadata": {},
   "outputs": [
    {
     "name": "stdout",
     "output_type": "stream",
     "text": [
      "Series([], Name: Name, dtype: object)\n",
      "Original number of rows: 10800\n",
      "Number of rows after filtering: 10800\n",
      "Number of rows removed: 0\n"
     ]
    }
   ],
   "source": [
    "df_drop=avg_score.loc[avg_score['adjusted_score'].isna()]['Name']\n",
    "print(df_drop)\n",
    "df_filt = avg_score[~avg_score['Name'].isin(df_drop)]\n",
    "\n",
    "df_filt = df_filt.reset_index(drop=True)\n",
    "\n",
    "# Print some information about the filtering process\n",
    "print(f\"Original number of rows: {len(avg_score)}\")\n",
    "print(f\"Number of rows after filtering: {len(df_filt)}\")\n",
    "print(f\"Number of rows removed: {len(avg_score) - len(df_filt)}\")\n"
   ]
  },
  {
   "cell_type": "code",
   "execution_count": 88,
   "metadata": {},
   "outputs": [
    {
     "name": "stdout",
     "output_type": "stream",
     "text": [
      "                       Name source  Machiavellianism  Narcissism  Psychopathy\n",
      "0          A. T. Ariyaratne     RM             3.639       2.954        3.407\n",
      "1         A.H.M. Noman Khan     RM             3.602       2.991        3.194\n",
      "2             Abdon Nababan     RM             3.519       2.954        3.269\n",
      "3       Abdul Razak Hussein     RM             3.620       2.963        3.046\n",
      "4        Abdul Samad Ismail     RM             3.389       2.935        3.231\n",
      "..                      ...    ...               ...         ...          ...\n",
      "395           Yukiharu Miki     RM             3.361       2.981        3.370\n",
      "396     Zafrullah Chowdhury     RM             3.630       2.926        3.278\n",
      "397  Zakiah Hanum Abd Hamid     RM             3.528       3.046        3.259\n",
      "398           Élie Ducommun    NPP             3.639       2.935        3.472\n",
      "399     Óscar Arias Sánchez    NPP             3.815       2.981        3.454\n",
      "\n",
      "[400 rows x 5 columns]\n"
     ]
    }
   ],
   "source": [
    "result_sd3_g=sd3_calc2(df_filt)\n",
    "result_sd3_g.to_csv('./test_scores/SD3/result_gpt4_sd3_g.csv')"
   ]
  },
  {
   "cell_type": "code",
   "execution_count": null,
   "metadata": {},
   "outputs": [],
   "source": []
  }
 ],
 "metadata": {
  "kernelspec": {
   "display_name": "dataviz",
   "language": "python",
   "name": "python3"
  },
  "language_info": {
   "codemirror_mode": {
    "name": "ipython",
    "version": 3
   },
   "file_extension": ".py",
   "mimetype": "text/x-python",
   "name": "python",
   "nbconvert_exporter": "python",
   "pygments_lexer": "ipython3",
   "version": "3.12.4"
  }
 },
 "nbformat": 4,
 "nbformat_minor": 2
}
