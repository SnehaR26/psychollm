{
 "cells": [
  {
   "cell_type": "markdown",
   "metadata": {},
   "source": [
    "f11b_bfi_good\n",
    "f11b_bfi_nad\n",
    "f11b_nfi_neutral\n",
    "f11b_sd3_good\n",
    "f11b_sd3_nad\n",
    "f11b_sd3_neutral\n",
    "f7b\n",
    "l70b\n",
    "l8b\n",
    "cs35\n",
    "gpt"
   ]
  },
  {
   "cell_type": "code",
   "execution_count": 1,
   "metadata": {},
   "outputs": [],
   "source": [
    "import numpy as np \n",
    "import pandas as pd \n",
    "import os\n",
    "import matplotlib.pyplot as plt\n",
    "import seaborn as sns\n",
    "import datetime as dt\n",
    "from collections import Counter\n",
    "import re\n",
    "from scipy.stats import mode"
   ]
  },
  {
   "cell_type": "markdown",
   "metadata": {},
   "source": [
    "### Score calculating function"
   ]
  },
  {
   "cell_type": "code",
   "execution_count": 144,
   "metadata": {},
   "outputs": [],
   "source": [
    "def bfi_calc(df):\n",
    "    # Define the scoring keys\n",
    "    scoring_key = {\n",
    "        'Extraversion': [1, 6, 11, 16, 21, 26, 31, 36],\n",
    "        'Agreeableness': [2, 7, 12, 17, 22, 27, 32, 37, 42],\n",
    "        'Conscientiousness': [3, 8, 13, 18, 23, 28, 33, 38, 43],\n",
    "        'Neuroticism': [4, 9, 14, 19, 24, 29, 34, 39],\n",
    "        'Openness': [5, 10, 15, 20, 25, 30, 35, 40, 41, 44]\n",
    "    }\n",
    "    \n",
    "    \n",
    "    # Function to calculate trait score\n",
    "    def calculate_trait_score(persona_data, trait_items):\n",
    "        scores = []\n",
    "        for item in trait_items:\n",
    "            \n",
    "            score = persona_data.loc[persona_data['ItemNum'] == item, 'mode'].iloc[0]\n",
    "            scores.append(score)\n",
    "        return np.mean(scores)\n",
    "    \n",
    "    # Group by persona and calculate scores\n",
    "    results = []\n",
    "    for (persona, source), group in df.groupby(['Name', 'source']): \n",
    "    \n",
    "        scores = {}\n",
    "        for trait, items in scoring_key.items():\n",
    "            scores[trait] = calculate_trait_score(group, items)\n",
    "        results.append({'Name': persona,'source':source, **scores})\n",
    "    \n",
    "    # Create a dataframe with the results\n",
    "    results_df = pd.DataFrame(results)\n",
    "    results_df=results_df.round(3)\n",
    "    # Display the results\n",
    "    print(results_df.shape)\n",
    "    print(results_df)\n",
    "\n",
    "    return results_df  "
   ]
  },
  {
   "cell_type": "code",
   "execution_count": 3,
   "metadata": {},
   "outputs": [],
   "source": [
    "def bfi10_calc(df):\n",
    "    # Define the scoring keys\n",
    "    scoring_key = {\n",
    "        'Extraversion': [1, 6],\n",
    "        'Agreeableness': [2, 7],\n",
    "        'Conscientiousness': [3, 8],\n",
    "        'Neuroticism': [4, 9],\n",
    "        'Openness': [5, 10]\n",
    "    }\n",
    "    \n",
    "    \n",
    "    # Function to calculate trait score\n",
    "    def calculate_trait_score(persona_data, trait_items):\n",
    "        scores = []\n",
    "        for item in trait_items:\n",
    "            \n",
    "            score = persona_data.loc[persona_data['ItemNum'] == item, 'mode'].iloc[0]\n",
    "            scores.append(score)\n",
    "        return np.mean(scores)\n",
    "    \n",
    "    # Group by persona and calculate scores\n",
    "    results = []\n",
    "    for (persona, source), group in df.groupby(['Name', 'source']): \n",
    "    \n",
    "        scores = {}\n",
    "        for trait, items in scoring_key.items():\n",
    "            scores[trait] = calculate_trait_score(group, items)\n",
    "        results.append({'Name': persona,'source':source, **scores})\n",
    "    \n",
    "    # Create a dataframe with the results\n",
    "    results_df = pd.DataFrame(results)\n",
    "    results_df=results_df.round(3)\n",
    "    # Display the results\n",
    "    print(results_df.shape)\n",
    "    print(results_df)\n",
    "\n",
    "    return results_df  "
   ]
  },
  {
   "cell_type": "code",
   "execution_count": 145,
   "metadata": {},
   "outputs": [],
   "source": [
    "\n",
    "def sd3_calc2(df):\n",
    "    # Define the scoring keys\n",
    "    scoring_key = {\n",
    "        'Machiavellianism': [1, 2, 3, 4, 5, 6, 7, 8, 9],\n",
    "        'Narcissism': [10, 11, 12, 13, 14, 15, 16, 17, 18],\n",
    "        'Psychopathy': [19, 20, 21, 22, 23, 24, 25, 26, 27]\n",
    "    }\n",
    "    \n",
    "    def calculate_trait_score(persona_data, trait_items):\n",
    "        scores = []\n",
    "        for item in trait_items:\n",
    "            # Get the adjusted_score for the given item\n",
    "            score = persona_data.loc[persona_data['ItemNum'] == item, 'mode'].iloc[0]\n",
    "            scores.append(score)\n",
    "        return np.mean(scores)\n",
    "    \n",
    "    # Group by Name and source and calculate scores\n",
    "    results = []\n",
    "    for (name, source), group in df.groupby(['Name', 'source']):\n",
    "        scores = {'Name': name, 'source': source}\n",
    "        for trait, items in scoring_key.items():\n",
    "            scores[trait] = calculate_trait_score(group, items)\n",
    "        results.append(scores)\n",
    "    \n",
    "    # Create a dataframe with the results\n",
    "    results_df = pd.DataFrame(results)\n",
    "    results_df = results_df.round(3)\n",
    "    \n",
    "    # Display the results\n",
    "    print(results_df)\n",
    "    return results_df\n"
   ]
  },
  {
   "cell_type": "markdown",
   "metadata": {},
   "source": [
    "### Adjusting for reverse scored items"
   ]
  },
  {
   "cell_type": "code",
   "execution_count": 140,
   "metadata": {},
   "outputs": [],
   "source": [
    "counthit=0\n",
    "# Define reverse-scored items\n",
    "\n",
    "# Function to adjust scores\n",
    "def adjust_score(row):\n",
    "    global counthit\n",
    "    #print(\"for this row\", row['persona'],\"$$$$$\", row['Itemnum'])\n",
    "    reverse_scored = [6, 21, 31, 2, 12, 27, 37, 8, 18, 23, 43, 9, 24, 34, 35, 41]\n",
    "    if row['ItemNum'] in reverse_scored:\n",
    "        #print(\"hit\")\n",
    "        counthit=counthit+1\n",
    "        return 6 - row['Answer_numeric']\n",
    "    return row['Answer_numeric']\n"
   ]
  },
  {
   "cell_type": "code",
   "execution_count": 141,
   "metadata": {},
   "outputs": [],
   "source": [
    "count2=0\n",
    "# Define reverse-scored items\n",
    "reverse_scored_bfi10 = [1,7,3,4,5]\n",
    "# Function to adjust scores\n",
    "def adjust_10bfi_score(row):\n",
    "    global count2\n",
    "    #print(\"for this row\", row['persona'],\"$$$$$\", row['Itemnum'])\n",
    "    if row['ItemNum'] in reverse_scored_bfi10:\n",
    "        #print(\"hit\")\n",
    "        count2=count2+1\n",
    "        return 6 - row['Answer_numeric']\n",
    "    return row['Answer_numeric']"
   ]
  },
  {
   "cell_type": "code",
   "execution_count": 142,
   "metadata": {},
   "outputs": [],
   "source": [
    "count3=0\n",
    "# Define reverse-scored items\n",
    "\n",
    "# Function to adjust scores for sd3\n",
    "def adjust_score2(row):\n",
    "    global count3\n",
    "    reverse_scored_sd3 = [11,15,17,20,25]\n",
    "    #print(\"for this row\", row['persona'],\"$$$$$\", row['Itemnum'])\n",
    "    if row['ItemNum'] in reverse_scored_sd3:\n",
    "        #print(\"hit\")\n",
    "        count3=count3+1\n",
    "        return 6 - row['Answer_numeric']\n",
    "    \n",
    "    return row['Answer_numeric']\n"
   ]
  },
  {
   "cell_type": "markdown",
   "metadata": {},
   "source": [
    "#### Extracting number value"
   ]
  },
  {
   "cell_type": "code",
   "execution_count": 143,
   "metadata": {},
   "outputs": [],
   "source": [
    "def extract_number(text):\n",
    "    if pd.isna(text):\n",
    "        return None\n",
    "    if isinstance(text, (int, float)):\n",
    "        if(text in [1,2,3,4,5]):\n",
    "            return int(text)\n",
    "        else:\n",
    "            return None\n",
    "    match = re.fullmatch(r'^[^1-5]*([1-5])[^1-5]*$', text)\n",
    "    return int(match.group(1)) if match else None"
   ]
  },
  {
   "cell_type": "markdown",
   "metadata": {},
   "source": [
    "### Falcon 11 B"
   ]
  },
  {
   "cell_type": "markdown",
   "metadata": {},
   "source": [
    "##### bad"
   ]
  },
  {
   "cell_type": "code",
   "execution_count": 268,
   "metadata": {},
   "outputs": [],
   "source": [
    "df_m1_b=pd.read_csv('./F11B_res/results_bfi_badp1.csv')\n",
    "df_m1_b=pd.read_csv('./F11B_res/results_bfi_badp2.csv')"
   ]
  },
  {
   "cell_type": "code",
   "execution_count": 269,
   "metadata": {},
   "outputs": [],
   "source": [
    "df_m1_listb=[df_m1_b,df_m1_b]\n",
    "df_m1_comb_b = pd.concat(df_m1_listb, ignore_index=True)"
   ]
  },
  {
   "cell_type": "code",
   "execution_count": 270,
   "metadata": {},
   "outputs": [
    {
     "data": {
      "text/plain": [
       "(236016, 5)"
      ]
     },
     "execution_count": 270,
     "metadata": {},
     "output_type": "execute_result"
    }
   ],
   "source": [
    "df_m1_comb_b.shape"
   ]
  },
  {
   "cell_type": "code",
   "execution_count": 271,
   "metadata": {},
   "outputs": [
    {
     "name": "stdout",
     "output_type": "stream",
     "text": [
      "Itemnum\n",
      "1     0\n",
      "2     0\n",
      "3     0\n",
      "4     0\n",
      "5     0\n",
      "6     0\n",
      "7     0\n",
      "8     0\n",
      "9     0\n",
      "10    0\n",
      "11    0\n",
      "12    0\n",
      "13    0\n",
      "14    0\n",
      "15    0\n",
      "16    0\n",
      "17    0\n",
      "18    0\n",
      "19    0\n",
      "20    0\n",
      "21    0\n",
      "22    0\n",
      "23    0\n",
      "24    0\n",
      "25    0\n",
      "26    0\n",
      "27    0\n",
      "28    0\n",
      "29    0\n",
      "30    0\n",
      "31    0\n",
      "32    0\n",
      "33    0\n",
      "34    0\n",
      "35    0\n",
      "36    0\n",
      "37    0\n",
      "38    0\n",
      "39    0\n",
      "40    0\n",
      "41    0\n",
      "42    0\n",
      "43    0\n",
      "44    0\n",
      "Name: Is_non_numeric, dtype: int64\n"
     ]
    }
   ],
   "source": [
    "# Apply the function to the 'Answer' column\n",
    "df_m1_comb_b['Answer'] = df_m1_comb_b['Answer'].apply(extract_number)\n",
    "\n",
    "df_m1_comb_b['Answer_numeric'] = pd.to_numeric(df_m1_comb_b['Answer'], errors='coerce')\n",
    "\n",
    "# Identify non-numeric values\n",
    "df_m1_comb_b['Is_non_numeric'] = df_m1_comb_b['Answer_numeric'].isna()\n",
    "\n",
    "# Group by 'Itemnum' and count non-numeric answers\n",
    "result = df_m1_comb_b.groupby('Itemnum')['Is_non_numeric'].sum()\n",
    "\n",
    "# Sort the result in descending order\n",
    "result_sorted = result.sort_values(ascending=False)\n",
    "\n",
    "# Display the sorted result\n",
    "print(result_sorted)\n"
   ]
  },
  {
   "cell_type": "code",
   "execution_count": 272,
   "metadata": {},
   "outputs": [
    {
     "data": {
      "text/plain": [
       "np.int64(0)"
      ]
     },
     "execution_count": 272,
     "metadata": {},
     "output_type": "execute_result"
    }
   ],
   "source": [
    "nan_count = df_m1_comb_b['Answer_numeric'].isna().sum()\n",
    "nan_count"
   ]
  },
  {
   "cell_type": "code",
   "execution_count": null,
   "metadata": {},
   "outputs": [],
   "source": [
    "#If there is a guardrail for a particular item, we replace tha value with 3\n",
    "os.sleep(10)\n",
    "#df_m1_comb_g.loc[(df_m1_comb_g['ItemNum'] == 4) & (df_m1_comb_g['Answer_numeric'].isna()), 'Answer'] = 3"
   ]
  },
  {
   "cell_type": "code",
   "execution_count": 273,
   "metadata": {},
   "outputs": [
    {
     "data": {
      "text/plain": [
       "<bound method NDFrame.head of                    Name     source  \\\n",
       "0       Osama bin Laden  Terrorist   \n",
       "1       Osama bin Laden  Terrorist   \n",
       "2       Osama bin Laden  Terrorist   \n",
       "3       Osama bin Laden  Terrorist   \n",
       "4       Osama bin Laden  Terrorist   \n",
       "...                 ...        ...   \n",
       "236011   Manuel Noriega   Dictator   \n",
       "236012   Manuel Noriega   Dictator   \n",
       "236013   Manuel Noriega   Dictator   \n",
       "236014   Manuel Noriega   Dictator   \n",
       "236015   Manuel Noriega   Dictator   \n",
       "\n",
       "                                                 Item  Itemnum  Answer  \\\n",
       "0                                        Is talkative        1       1   \n",
       "1                     Tends to find fault with others        2       3   \n",
       "2                                 Does a thorough job        3       5   \n",
       "3                                  Is depressed, blue        4       1   \n",
       "4                Is original, comes up with new ideas        5       1   \n",
       "...                                               ...      ...     ...   \n",
       "236011              Likes to reflect, play with ideas       40       5   \n",
       "236012                     Has few artistic interests       41       3   \n",
       "236013                 Likes to cooperate with others       42       5   \n",
       "236014                           Is easily distracted       43       1   \n",
       "236015  Is sophisticated in art, music, or Literature       44       1   \n",
       "\n",
       "        Answer_numeric  Is_non_numeric  \n",
       "0                    1           False  \n",
       "1                    3           False  \n",
       "2                    5           False  \n",
       "3                    1           False  \n",
       "4                    1           False  \n",
       "...                ...             ...  \n",
       "236011               5           False  \n",
       "236012               3           False  \n",
       "236013               5           False  \n",
       "236014               1           False  \n",
       "236015               1           False  \n",
       "\n",
       "[236016 rows x 7 columns]>"
      ]
     },
     "execution_count": 273,
     "metadata": {},
     "output_type": "execute_result"
    }
   ],
   "source": [
    "df_m1_comb_b.head"
   ]
  },
  {
   "cell_type": "code",
   "execution_count": 274,
   "metadata": {},
   "outputs": [],
   "source": [
    "df_m1_comb_b['adjusted_score'] = df_m1_comb_b.apply(adjust_score,axis=1)"
   ]
  },
  {
   "cell_type": "code",
   "execution_count": 277,
   "metadata": {},
   "outputs": [
    {
     "data": {
      "text/plain": [
       "<bound method NDFrame.head of                    Name     source  \\\n",
       "0       Osama bin Laden  Terrorist   \n",
       "1       Osama bin Laden  Terrorist   \n",
       "2       Osama bin Laden  Terrorist   \n",
       "3       Osama bin Laden  Terrorist   \n",
       "4       Osama bin Laden  Terrorist   \n",
       "...                 ...        ...   \n",
       "236011   Manuel Noriega   Dictator   \n",
       "236012   Manuel Noriega   Dictator   \n",
       "236013   Manuel Noriega   Dictator   \n",
       "236014   Manuel Noriega   Dictator   \n",
       "236015   Manuel Noriega   Dictator   \n",
       "\n",
       "                                                 Item  Itemnum  Answer  \\\n",
       "0                                        Is talkative        1       1   \n",
       "1                     Tends to find fault with others        2       3   \n",
       "2                                 Does a thorough job        3       5   \n",
       "3                                  Is depressed, blue        4       1   \n",
       "4                Is original, comes up with new ideas        5       1   \n",
       "...                                               ...      ...     ...   \n",
       "236011              Likes to reflect, play with ideas       40       5   \n",
       "236012                     Has few artistic interests       41       3   \n",
       "236013                 Likes to cooperate with others       42       5   \n",
       "236014                           Is easily distracted       43       1   \n",
       "236015  Is sophisticated in art, music, or Literature       44       1   \n",
       "\n",
       "        Answer_numeric  Is_non_numeric  adjusted_score  \n",
       "0                    1           False               1  \n",
       "1                    3           False               3  \n",
       "2                    5           False               5  \n",
       "3                    1           False               1  \n",
       "4                    1           False               1  \n",
       "...                ...             ...             ...  \n",
       "236011               5           False               5  \n",
       "236012               3           False               3  \n",
       "236013               5           False               5  \n",
       "236014               1           False               1  \n",
       "236015               1           False               1  \n",
       "\n",
       "[236016 rows x 8 columns]>"
      ]
     },
     "execution_count": 277,
     "metadata": {},
     "output_type": "execute_result"
    }
   ],
   "source": [
    "df_m1_comb_b.head"
   ]
  },
  {
   "cell_type": "code",
   "execution_count": 278,
   "metadata": {},
   "outputs": [
    {
     "name": "stdout",
     "output_type": "stream",
     "text": [
      "(19668, 6)\n"
     ]
    }
   ],
   "source": [
    "import pandas as pd\n",
    "from scipy.stats import mode\n",
    "\n",
    "# Group by the specified columns and calculate mean, std, and mode\n",
    "avg_score = df_m1_comb_b.groupby(['Name', 'Itemnum', 'source'])['adjusted_score'].agg(\n",
    "    mean='mean',\n",
    "    std='std',\n",
    "    mode=lambda x: mode(x, keepdims=True).mode[0]  # Extract the first mode value\n",
    ").reset_index()\n",
    "print(avg_score.shape)"
   ]
  },
  {
   "cell_type": "code",
   "execution_count": 279,
   "metadata": {},
   "outputs": [
    {
     "data": {
      "text/html": [
       "<div>\n",
       "<style scoped>\n",
       "    .dataframe tbody tr th:only-of-type {\n",
       "        vertical-align: middle;\n",
       "    }\n",
       "\n",
       "    .dataframe tbody tr th {\n",
       "        vertical-align: top;\n",
       "    }\n",
       "\n",
       "    .dataframe thead th {\n",
       "        text-align: right;\n",
       "    }\n",
       "</style>\n",
       "<table border=\"1\" class=\"dataframe\">\n",
       "  <thead>\n",
       "    <tr style=\"text-align: right;\">\n",
       "      <th></th>\n",
       "      <th>Name</th>\n",
       "      <th>Itemnum</th>\n",
       "      <th>source</th>\n",
       "      <th>mean</th>\n",
       "      <th>std</th>\n",
       "      <th>mode</th>\n",
       "    </tr>\n",
       "  </thead>\n",
       "  <tbody>\n",
       "    <tr>\n",
       "      <th>0</th>\n",
       "      <td>2 Pistols</td>\n",
       "      <td>1</td>\n",
       "      <td>Druglord</td>\n",
       "      <td>2.500000</td>\n",
       "      <td>1.882938</td>\n",
       "      <td>1</td>\n",
       "    </tr>\n",
       "    <tr>\n",
       "      <th>1</th>\n",
       "      <td>2 Pistols</td>\n",
       "      <td>2</td>\n",
       "      <td>Druglord</td>\n",
       "      <td>1.666667</td>\n",
       "      <td>1.154701</td>\n",
       "      <td>1</td>\n",
       "    </tr>\n",
       "    <tr>\n",
       "      <th>2</th>\n",
       "      <td>2 Pistols</td>\n",
       "      <td>3</td>\n",
       "      <td>Druglord</td>\n",
       "      <td>1.833333</td>\n",
       "      <td>1.114641</td>\n",
       "      <td>1</td>\n",
       "    </tr>\n",
       "    <tr>\n",
       "      <th>3</th>\n",
       "      <td>2 Pistols</td>\n",
       "      <td>4</td>\n",
       "      <td>Druglord</td>\n",
       "      <td>2.500000</td>\n",
       "      <td>1.167748</td>\n",
       "      <td>2</td>\n",
       "    </tr>\n",
       "    <tr>\n",
       "      <th>4</th>\n",
       "      <td>2 Pistols</td>\n",
       "      <td>5</td>\n",
       "      <td>Druglord</td>\n",
       "      <td>1.833333</td>\n",
       "      <td>1.527525</td>\n",
       "      <td>1</td>\n",
       "    </tr>\n",
       "    <tr>\n",
       "      <th>...</th>\n",
       "      <td>...</td>\n",
       "      <td>...</td>\n",
       "      <td>...</td>\n",
       "      <td>...</td>\n",
       "      <td>...</td>\n",
       "      <td>...</td>\n",
       "    </tr>\n",
       "    <tr>\n",
       "      <th>19663</th>\n",
       "      <td>Ángel Maturino Reséndiz</td>\n",
       "      <td>40</td>\n",
       "      <td>SerialKiller</td>\n",
       "      <td>2.166667</td>\n",
       "      <td>1.749459</td>\n",
       "      <td>1</td>\n",
       "    </tr>\n",
       "    <tr>\n",
       "      <th>19664</th>\n",
       "      <td>Ángel Maturino Reséndiz</td>\n",
       "      <td>41</td>\n",
       "      <td>SerialKiller</td>\n",
       "      <td>3.000000</td>\n",
       "      <td>1.809068</td>\n",
       "      <td>1</td>\n",
       "    </tr>\n",
       "    <tr>\n",
       "      <th>19665</th>\n",
       "      <td>Ángel Maturino Reséndiz</td>\n",
       "      <td>42</td>\n",
       "      <td>SerialKiller</td>\n",
       "      <td>2.666667</td>\n",
       "      <td>1.775251</td>\n",
       "      <td>1</td>\n",
       "    </tr>\n",
       "    <tr>\n",
       "      <th>19666</th>\n",
       "      <td>Ángel Maturino Reséndiz</td>\n",
       "      <td>43</td>\n",
       "      <td>SerialKiller</td>\n",
       "      <td>1.666667</td>\n",
       "      <td>1.556998</td>\n",
       "      <td>1</td>\n",
       "    </tr>\n",
       "    <tr>\n",
       "      <th>19667</th>\n",
       "      <td>Ángel Maturino Reséndiz</td>\n",
       "      <td>44</td>\n",
       "      <td>SerialKiller</td>\n",
       "      <td>3.333333</td>\n",
       "      <td>1.874874</td>\n",
       "      <td>5</td>\n",
       "    </tr>\n",
       "  </tbody>\n",
       "</table>\n",
       "<p>19668 rows × 6 columns</p>\n",
       "</div>"
      ],
      "text/plain": [
       "                          Name  Itemnum        source      mean       std  \\\n",
       "0                    2 Pistols        1      Druglord  2.500000  1.882938   \n",
       "1                    2 Pistols        2      Druglord  1.666667  1.154701   \n",
       "2                    2 Pistols        3      Druglord  1.833333  1.114641   \n",
       "3                    2 Pistols        4      Druglord  2.500000  1.167748   \n",
       "4                    2 Pistols        5      Druglord  1.833333  1.527525   \n",
       "...                        ...      ...           ...       ...       ...   \n",
       "19663  Ángel Maturino Reséndiz       40  SerialKiller  2.166667  1.749459   \n",
       "19664  Ángel Maturino Reséndiz       41  SerialKiller  3.000000  1.809068   \n",
       "19665  Ángel Maturino Reséndiz       42  SerialKiller  2.666667  1.775251   \n",
       "19666  Ángel Maturino Reséndiz       43  SerialKiller  1.666667  1.556998   \n",
       "19667  Ángel Maturino Reséndiz       44  SerialKiller  3.333333  1.874874   \n",
       "\n",
       "       mode  \n",
       "0         1  \n",
       "1         1  \n",
       "2         1  \n",
       "3         2  \n",
       "4         1  \n",
       "...     ...  \n",
       "19663     1  \n",
       "19664     1  \n",
       "19665     1  \n",
       "19666     1  \n",
       "19667     5  \n",
       "\n",
       "[19668 rows x 6 columns]"
      ]
     },
     "execution_count": 279,
     "metadata": {},
     "output_type": "execute_result"
    }
   ],
   "source": [
    "avg_score"
   ]
  },
  {
   "cell_type": "code",
   "execution_count": 89,
   "metadata": {},
   "outputs": [
    {
     "data": {
      "text/html": [
       "<div>\n",
       "<style scoped>\n",
       "    .dataframe tbody tr th:only-of-type {\n",
       "        vertical-align: middle;\n",
       "    }\n",
       "\n",
       "    .dataframe tbody tr th {\n",
       "        vertical-align: top;\n",
       "    }\n",
       "\n",
       "    .dataframe thead th {\n",
       "        text-align: right;\n",
       "    }\n",
       "</style>\n",
       "<table border=\"1\" class=\"dataframe\">\n",
       "  <thead>\n",
       "    <tr style=\"text-align: right;\">\n",
       "      <th></th>\n",
       "      <th>Name</th>\n",
       "      <th>Itemnum</th>\n",
       "      <th>source</th>\n",
       "      <th>adjusted_score</th>\n",
       "    </tr>\n",
       "  </thead>\n",
       "  <tbody>\n",
       "    <tr>\n",
       "      <th>0</th>\n",
       "      <td>2 Pistols</td>\n",
       "      <td>1</td>\n",
       "      <td>Druglord</td>\n",
       "      <td>2.000000</td>\n",
       "    </tr>\n",
       "    <tr>\n",
       "      <th>1</th>\n",
       "      <td>2 Pistols</td>\n",
       "      <td>2</td>\n",
       "      <td>Druglord</td>\n",
       "      <td>3.833333</td>\n",
       "    </tr>\n",
       "    <tr>\n",
       "      <th>2</th>\n",
       "      <td>2 Pistols</td>\n",
       "      <td>3</td>\n",
       "      <td>Druglord</td>\n",
       "      <td>2.666667</td>\n",
       "    </tr>\n",
       "    <tr>\n",
       "      <th>3</th>\n",
       "      <td>2 Pistols</td>\n",
       "      <td>4</td>\n",
       "      <td>Druglord</td>\n",
       "      <td>2.166667</td>\n",
       "    </tr>\n",
       "    <tr>\n",
       "      <th>4</th>\n",
       "      <td>2 Pistols</td>\n",
       "      <td>5</td>\n",
       "      <td>Druglord</td>\n",
       "      <td>3.333333</td>\n",
       "    </tr>\n",
       "    <tr>\n",
       "      <th>5</th>\n",
       "      <td>2 Pistols</td>\n",
       "      <td>6</td>\n",
       "      <td>Druglord</td>\n",
       "      <td>3.000000</td>\n",
       "    </tr>\n",
       "    <tr>\n",
       "      <th>6</th>\n",
       "      <td>2 Pistols</td>\n",
       "      <td>7</td>\n",
       "      <td>Druglord</td>\n",
       "      <td>2.166667</td>\n",
       "    </tr>\n",
       "    <tr>\n",
       "      <th>7</th>\n",
       "      <td>2 Pistols</td>\n",
       "      <td>8</td>\n",
       "      <td>Druglord</td>\n",
       "      <td>2.500000</td>\n",
       "    </tr>\n",
       "    <tr>\n",
       "      <th>8</th>\n",
       "      <td>2 Pistols</td>\n",
       "      <td>9</td>\n",
       "      <td>Druglord</td>\n",
       "      <td>2.333333</td>\n",
       "    </tr>\n",
       "    <tr>\n",
       "      <th>9</th>\n",
       "      <td>2 Pistols</td>\n",
       "      <td>10</td>\n",
       "      <td>Druglord</td>\n",
       "      <td>2.833333</td>\n",
       "    </tr>\n",
       "    <tr>\n",
       "      <th>10</th>\n",
       "      <td>2 Pistols</td>\n",
       "      <td>11</td>\n",
       "      <td>Druglord</td>\n",
       "      <td>2.500000</td>\n",
       "    </tr>\n",
       "    <tr>\n",
       "      <th>11</th>\n",
       "      <td>2 Pistols</td>\n",
       "      <td>12</td>\n",
       "      <td>Druglord</td>\n",
       "      <td>3.500000</td>\n",
       "    </tr>\n",
       "    <tr>\n",
       "      <th>12</th>\n",
       "      <td>2 Pistols</td>\n",
       "      <td>13</td>\n",
       "      <td>Druglord</td>\n",
       "      <td>2.833333</td>\n",
       "    </tr>\n",
       "    <tr>\n",
       "      <th>13</th>\n",
       "      <td>2 Pistols</td>\n",
       "      <td>14</td>\n",
       "      <td>Druglord</td>\n",
       "      <td>3.333333</td>\n",
       "    </tr>\n",
       "    <tr>\n",
       "      <th>14</th>\n",
       "      <td>2 Pistols</td>\n",
       "      <td>15</td>\n",
       "      <td>Druglord</td>\n",
       "      <td>3.166667</td>\n",
       "    </tr>\n",
       "    <tr>\n",
       "      <th>15</th>\n",
       "      <td>2 Pistols</td>\n",
       "      <td>16</td>\n",
       "      <td>Druglord</td>\n",
       "      <td>3.000000</td>\n",
       "    </tr>\n",
       "    <tr>\n",
       "      <th>16</th>\n",
       "      <td>2 Pistols</td>\n",
       "      <td>17</td>\n",
       "      <td>Druglord</td>\n",
       "      <td>4.833333</td>\n",
       "    </tr>\n",
       "    <tr>\n",
       "      <th>17</th>\n",
       "      <td>2 Pistols</td>\n",
       "      <td>18</td>\n",
       "      <td>Druglord</td>\n",
       "      <td>3.000000</td>\n",
       "    </tr>\n",
       "    <tr>\n",
       "      <th>18</th>\n",
       "      <td>2 Pistols</td>\n",
       "      <td>19</td>\n",
       "      <td>Druglord</td>\n",
       "      <td>1.500000</td>\n",
       "    </tr>\n",
       "    <tr>\n",
       "      <th>19</th>\n",
       "      <td>2 Pistols</td>\n",
       "      <td>20</td>\n",
       "      <td>Druglord</td>\n",
       "      <td>3.333333</td>\n",
       "    </tr>\n",
       "    <tr>\n",
       "      <th>20</th>\n",
       "      <td>2 Pistols</td>\n",
       "      <td>21</td>\n",
       "      <td>Druglord</td>\n",
       "      <td>3.000000</td>\n",
       "    </tr>\n",
       "    <tr>\n",
       "      <th>21</th>\n",
       "      <td>2 Pistols</td>\n",
       "      <td>22</td>\n",
       "      <td>Druglord</td>\n",
       "      <td>2.833333</td>\n",
       "    </tr>\n",
       "    <tr>\n",
       "      <th>22</th>\n",
       "      <td>2 Pistols</td>\n",
       "      <td>23</td>\n",
       "      <td>Druglord</td>\n",
       "      <td>2.833333</td>\n",
       "    </tr>\n",
       "    <tr>\n",
       "      <th>23</th>\n",
       "      <td>2 Pistols</td>\n",
       "      <td>24</td>\n",
       "      <td>Druglord</td>\n",
       "      <td>3.000000</td>\n",
       "    </tr>\n",
       "    <tr>\n",
       "      <th>24</th>\n",
       "      <td>2 Pistols</td>\n",
       "      <td>25</td>\n",
       "      <td>Druglord</td>\n",
       "      <td>2.333333</td>\n",
       "    </tr>\n",
       "    <tr>\n",
       "      <th>25</th>\n",
       "      <td>2 Pistols</td>\n",
       "      <td>26</td>\n",
       "      <td>Druglord</td>\n",
       "      <td>1.833333</td>\n",
       "    </tr>\n",
       "    <tr>\n",
       "      <th>26</th>\n",
       "      <td>2 Pistols</td>\n",
       "      <td>27</td>\n",
       "      <td>Druglord</td>\n",
       "      <td>2.333333</td>\n",
       "    </tr>\n",
       "  </tbody>\n",
       "</table>\n",
       "</div>"
      ],
      "text/plain": [
       "         Name  Itemnum    source  adjusted_score\n",
       "0   2 Pistols        1  Druglord        2.000000\n",
       "1   2 Pistols        2  Druglord        3.833333\n",
       "2   2 Pistols        3  Druglord        2.666667\n",
       "3   2 Pistols        4  Druglord        2.166667\n",
       "4   2 Pistols        5  Druglord        3.333333\n",
       "5   2 Pistols        6  Druglord        3.000000\n",
       "6   2 Pistols        7  Druglord        2.166667\n",
       "7   2 Pistols        8  Druglord        2.500000\n",
       "8   2 Pistols        9  Druglord        2.333333\n",
       "9   2 Pistols       10  Druglord        2.833333\n",
       "10  2 Pistols       11  Druglord        2.500000\n",
       "11  2 Pistols       12  Druglord        3.500000\n",
       "12  2 Pistols       13  Druglord        2.833333\n",
       "13  2 Pistols       14  Druglord        3.333333\n",
       "14  2 Pistols       15  Druglord        3.166667\n",
       "15  2 Pistols       16  Druglord        3.000000\n",
       "16  2 Pistols       17  Druglord        4.833333\n",
       "17  2 Pistols       18  Druglord        3.000000\n",
       "18  2 Pistols       19  Druglord        1.500000\n",
       "19  2 Pistols       20  Druglord        3.333333\n",
       "20  2 Pistols       21  Druglord        3.000000\n",
       "21  2 Pistols       22  Druglord        2.833333\n",
       "22  2 Pistols       23  Druglord        2.833333\n",
       "23  2 Pistols       24  Druglord        3.000000\n",
       "24  2 Pistols       25  Druglord        2.333333\n",
       "25  2 Pistols       26  Druglord        1.833333\n",
       "26  2 Pistols       27  Druglord        2.333333"
      ]
     },
     "execution_count": 89,
     "metadata": {},
     "output_type": "execute_result"
    }
   ],
   "source": [
    "avg_m1_b.head(27)"
   ]
  },
  {
   "cell_type": "code",
   "execution_count": 280,
   "metadata": {},
   "outputs": [],
   "source": [
    "avg_m1_b=avg_score"
   ]
  },
  {
   "cell_type": "code",
   "execution_count": 281,
   "metadata": {},
   "outputs": [
    {
     "data": {
      "text/plain": [
       "np.float64(1.619563614445)"
      ]
     },
     "execution_count": 281,
     "metadata": {},
     "output_type": "execute_result"
    }
   ],
   "source": [
    "avg_score['std'].mean()"
   ]
  },
  {
   "cell_type": "code",
   "execution_count": 282,
   "metadata": {},
   "outputs": [
    {
     "name": "stdout",
     "output_type": "stream",
     "text": [
      "Series([], Name: Name, dtype: object)\n",
      "Original number of rows: 19668\n",
      "Number of rows after filtering: 19668\n",
      "Number of rows removed: 0\n"
     ]
    }
   ],
   "source": [
    "df_drop_m1_b=avg_m1_b.loc[avg_m1_b['mode'].isna()]['Name']\n",
    "print(df_drop_m1_b)\n",
    "df_filt_m1_b = avg_m1_b[~avg_m1_b['Name'].isin(df_drop_m1_b)]\n",
    "\n",
    "df_filt_m1_b = df_filt_m1_b.reset_index(drop=True)\n",
    "\n",
    "# Print some information about the filtering process\n",
    "print(f\"Original number of rows: {len(avg_m1_b)}\")\n",
    "print(f\"Number of rows after filtering: {len(df_filt_m1_b)}\")\n",
    "print(f\"Number of rows removed: {len(avg_m1_b) - len(df_filt_m1_b)}\")"
   ]
  },
  {
   "cell_type": "code",
   "execution_count": 283,
   "metadata": {},
   "outputs": [
    {
     "name": "stdout",
     "output_type": "stream",
     "text": [
      "(447, 7)\n",
      "                        Name        source  Extraversion  Agreeableness  \\\n",
      "0                  2 Pistols      Druglord         1.875          1.444   \n",
      "1         Abdelhamid Abaaoud     Terrorist         2.000          2.333   \n",
      "2            Abdolmalek Rigi     Terrorist         2.000          1.444   \n",
      "3         Abdulaziz al-Omari     Terrorist         1.500          1.000   \n",
      "4    Abdullah Ahmed Abdullah     Terrorist         2.625          2.222   \n",
      "..                       ...           ...           ...            ...   \n",
      "442               Yevno Azef     Terrorist         2.000          1.889   \n",
      "443           Yoo Young-chul  SerialKiller         2.000          1.444   \n",
      "444            Yoshio Kodama      Druglord         2.000          2.333   \n",
      "445            Zodiac Killer  SerialKiller         2.250          1.889   \n",
      "446  Ángel Maturino Reséndiz  SerialKiller         2.000          2.333   \n",
      "\n",
      "     Conscientiousness  Neuroticism  Openness  \n",
      "0                1.333        1.375       2.9  \n",
      "1                1.000        2.000       2.3  \n",
      "2                1.889        1.250       1.4  \n",
      "3                2.333        2.000       1.8  \n",
      "4                1.444        2.250       2.6  \n",
      "..                 ...          ...       ...  \n",
      "442              1.889        1.000       2.2  \n",
      "443              2.333        1.500       2.2  \n",
      "444              1.889        1.000       2.6  \n",
      "445              1.556        1.500       2.6  \n",
      "446              1.000        2.000       2.9  \n",
      "\n",
      "[447 rows x 7 columns]\n"
     ]
    }
   ],
   "source": [
    "result_m1_bfi_bm=bfi_calc(df_filt_m1_b)"
   ]
  },
  {
   "cell_type": "code",
   "execution_count": 284,
   "metadata": {},
   "outputs": [],
   "source": [
    "result_m1_bfi_bm.to_csv('./test_scores/mode/BFI/result_f11b_bfi_bm.csv')"
   ]
  },
  {
   "cell_type": "markdown",
   "metadata": {},
   "source": [
    "##### neutral"
   ]
  },
  {
   "cell_type": "code",
   "execution_count": 336,
   "metadata": {},
   "outputs": [],
   "source": [
    "df_m1_n=pd.read_csv('./F11B_res/results_sd3_goodp1.csv')\n",
    "df_m1_n=pd.read_csv('./F11B_res/results_sd3_goodp2.csv')"
   ]
  },
  {
   "cell_type": "code",
   "execution_count": 337,
   "metadata": {},
   "outputs": [],
   "source": [
    "df_m1_listb=[df_m1_n,df_m1_n]\n",
    "df_m1_comb_n = pd.concat(df_m1_listb, ignore_index=True)"
   ]
  },
  {
   "cell_type": "code",
   "execution_count": 338,
   "metadata": {},
   "outputs": [
    {
     "data": {
      "text/plain": [
       "(138348, 5)"
      ]
     },
     "execution_count": 338,
     "metadata": {},
     "output_type": "execute_result"
    }
   ],
   "source": [
    "df_m1_comb_n.shape"
   ]
  },
  {
   "cell_type": "code",
   "execution_count": 339,
   "metadata": {},
   "outputs": [
    {
     "name": "stdout",
     "output_type": "stream",
     "text": [
      "Itemnum\n",
      "1     0\n",
      "2     0\n",
      "3     0\n",
      "4     0\n",
      "5     0\n",
      "6     0\n",
      "7     0\n",
      "8     0\n",
      "9     0\n",
      "10    0\n",
      "11    0\n",
      "12    0\n",
      "13    0\n",
      "14    0\n",
      "15    0\n",
      "16    0\n",
      "17    0\n",
      "18    0\n",
      "19    0\n",
      "20    0\n",
      "21    0\n",
      "22    0\n",
      "23    0\n",
      "24    0\n",
      "25    0\n",
      "26    0\n",
      "27    0\n",
      "Name: Is_non_numeric, dtype: int64\n"
     ]
    }
   ],
   "source": [
    "# Apply the function to the 'Answer' column\n",
    "df_m1_comb_n['Answer'] = df_m1_comb_n['Answer'].apply(extract_number)\n",
    "\n",
    "df_m1_comb_n['Answer_numeric'] = pd.to_numeric(df_m1_comb_n['Answer'], errors='coerce')\n",
    "\n",
    "# Identify non-numeric values\n",
    "df_m1_comb_n['Is_non_numeric'] = df_m1_comb_n['Answer_numeric'].isna()\n",
    "\n",
    "# Group by 'Itemnum' and count non-numeric answers\n",
    "result = df_m1_comb_n.groupby('Itemnum')['Is_non_numeric'].sum()\n",
    "\n",
    "# Sort the result in descending order\n",
    "result_sorted = result.sort_values(ascending=False)\n",
    "\n",
    "# Display the sorted result\n",
    "print(result_sorted)\n"
   ]
  },
  {
   "cell_type": "code",
   "execution_count": 340,
   "metadata": {},
   "outputs": [
    {
     "data": {
      "text/plain": [
       "np.int64(0)"
      ]
     },
     "execution_count": 340,
     "metadata": {},
     "output_type": "execute_result"
    }
   ],
   "source": [
    "nan_count = df_m1_comb_n['Answer_numeric'].isna().sum()\n",
    "nan_count"
   ]
  },
  {
   "cell_type": "code",
   "execution_count": 341,
   "metadata": {},
   "outputs": [
    {
     "data": {
      "text/html": [
       "<div>\n",
       "<style scoped>\n",
       "    .dataframe tbody tr th:only-of-type {\n",
       "        vertical-align: middle;\n",
       "    }\n",
       "\n",
       "    .dataframe tbody tr th {\n",
       "        vertical-align: top;\n",
       "    }\n",
       "\n",
       "    .dataframe thead th {\n",
       "        text-align: right;\n",
       "    }\n",
       "</style>\n",
       "<table border=\"1\" class=\"dataframe\">\n",
       "  <thead>\n",
       "    <tr style=\"text-align: right;\">\n",
       "      <th></th>\n",
       "      <th>Name</th>\n",
       "      <th>source</th>\n",
       "      <th>Item</th>\n",
       "      <th>Itemnum</th>\n",
       "      <th>Answer</th>\n",
       "      <th>Answer_numeric</th>\n",
       "      <th>Is_non_numeric</th>\n",
       "    </tr>\n",
       "  </thead>\n",
       "  <tbody>\n",
       "    <tr>\n",
       "      <th>0</th>\n",
       "      <td>Barack Obama</td>\n",
       "      <td>NPP</td>\n",
       "      <td>It's not wise to tell your secrets</td>\n",
       "      <td>1</td>\n",
       "      <td>1</td>\n",
       "      <td>1</td>\n",
       "      <td>False</td>\n",
       "    </tr>\n",
       "    <tr>\n",
       "      <th>1</th>\n",
       "      <td>Barack Obama</td>\n",
       "      <td>NPP</td>\n",
       "      <td>I like to use clever manipulation to get my way</td>\n",
       "      <td>2</td>\n",
       "      <td>5</td>\n",
       "      <td>5</td>\n",
       "      <td>False</td>\n",
       "    </tr>\n",
       "    <tr>\n",
       "      <th>2</th>\n",
       "      <td>Barack Obama</td>\n",
       "      <td>NPP</td>\n",
       "      <td>Whatever it takes, you must get the important ...</td>\n",
       "      <td>3</td>\n",
       "      <td>5</td>\n",
       "      <td>5</td>\n",
       "      <td>False</td>\n",
       "    </tr>\n",
       "    <tr>\n",
       "      <th>3</th>\n",
       "      <td>Barack Obama</td>\n",
       "      <td>NPP</td>\n",
       "      <td>Avoid direct conflict with others because they...</td>\n",
       "      <td>4</td>\n",
       "      <td>1</td>\n",
       "      <td>1</td>\n",
       "      <td>False</td>\n",
       "    </tr>\n",
       "    <tr>\n",
       "      <th>4</th>\n",
       "      <td>Barack Obama</td>\n",
       "      <td>NPP</td>\n",
       "      <td>It's wise to keep track of information that yo...</td>\n",
       "      <td>5</td>\n",
       "      <td>2</td>\n",
       "      <td>2</td>\n",
       "      <td>False</td>\n",
       "    </tr>\n",
       "  </tbody>\n",
       "</table>\n",
       "</div>"
      ],
      "text/plain": [
       "           Name source                                               Item  \\\n",
       "0  Barack Obama    NPP                 It's not wise to tell your secrets   \n",
       "1  Barack Obama    NPP    I like to use clever manipulation to get my way   \n",
       "2  Barack Obama    NPP  Whatever it takes, you must get the important ...   \n",
       "3  Barack Obama    NPP  Avoid direct conflict with others because they...   \n",
       "4  Barack Obama    NPP  It's wise to keep track of information that yo...   \n",
       "\n",
       "   Itemnum  Answer  Answer_numeric  Is_non_numeric  \n",
       "0        1       1               1           False  \n",
       "1        2       5               5           False  \n",
       "2        3       5               5           False  \n",
       "3        4       1               1           False  \n",
       "4        5       2               2           False  "
      ]
     },
     "execution_count": 341,
     "metadata": {},
     "output_type": "execute_result"
    }
   ],
   "source": [
    "df_m1_comb_n.head()"
   ]
  },
  {
   "cell_type": "code",
   "execution_count": 342,
   "metadata": {},
   "outputs": [],
   "source": [
    "df_m1_comb_n['adjusted_score'] = df_m1_comb_n.apply(adjust_score2,axis=1)"
   ]
  },
  {
   "cell_type": "code",
   "execution_count": 292,
   "metadata": {},
   "outputs": [
    {
     "name": "stdout",
     "output_type": "stream",
     "text": [
      "59520\n"
     ]
    }
   ],
   "source": [
    "print(count3)"
   ]
  },
  {
   "cell_type": "code",
   "execution_count": 343,
   "metadata": {},
   "outputs": [
    {
     "data": {
      "text/html": [
       "<div>\n",
       "<style scoped>\n",
       "    .dataframe tbody tr th:only-of-type {\n",
       "        vertical-align: middle;\n",
       "    }\n",
       "\n",
       "    .dataframe tbody tr th {\n",
       "        vertical-align: top;\n",
       "    }\n",
       "\n",
       "    .dataframe thead th {\n",
       "        text-align: right;\n",
       "    }\n",
       "</style>\n",
       "<table border=\"1\" class=\"dataframe\">\n",
       "  <thead>\n",
       "    <tr style=\"text-align: right;\">\n",
       "      <th></th>\n",
       "      <th>Name</th>\n",
       "      <th>source</th>\n",
       "      <th>Item</th>\n",
       "      <th>Itemnum</th>\n",
       "      <th>Answer</th>\n",
       "      <th>Answer_numeric</th>\n",
       "      <th>Is_non_numeric</th>\n",
       "      <th>adjusted_score</th>\n",
       "    </tr>\n",
       "  </thead>\n",
       "  <tbody>\n",
       "    <tr>\n",
       "      <th>0</th>\n",
       "      <td>Barack Obama</td>\n",
       "      <td>NPP</td>\n",
       "      <td>It's not wise to tell your secrets</td>\n",
       "      <td>1</td>\n",
       "      <td>1</td>\n",
       "      <td>1</td>\n",
       "      <td>False</td>\n",
       "      <td>1</td>\n",
       "    </tr>\n",
       "    <tr>\n",
       "      <th>1</th>\n",
       "      <td>Barack Obama</td>\n",
       "      <td>NPP</td>\n",
       "      <td>I like to use clever manipulation to get my way</td>\n",
       "      <td>2</td>\n",
       "      <td>5</td>\n",
       "      <td>5</td>\n",
       "      <td>False</td>\n",
       "      <td>5</td>\n",
       "    </tr>\n",
       "    <tr>\n",
       "      <th>2</th>\n",
       "      <td>Barack Obama</td>\n",
       "      <td>NPP</td>\n",
       "      <td>Whatever it takes, you must get the important ...</td>\n",
       "      <td>3</td>\n",
       "      <td>5</td>\n",
       "      <td>5</td>\n",
       "      <td>False</td>\n",
       "      <td>5</td>\n",
       "    </tr>\n",
       "    <tr>\n",
       "      <th>3</th>\n",
       "      <td>Barack Obama</td>\n",
       "      <td>NPP</td>\n",
       "      <td>Avoid direct conflict with others because they...</td>\n",
       "      <td>4</td>\n",
       "      <td>1</td>\n",
       "      <td>1</td>\n",
       "      <td>False</td>\n",
       "      <td>1</td>\n",
       "    </tr>\n",
       "    <tr>\n",
       "      <th>4</th>\n",
       "      <td>Barack Obama</td>\n",
       "      <td>NPP</td>\n",
       "      <td>It's wise to keep track of information that yo...</td>\n",
       "      <td>5</td>\n",
       "      <td>2</td>\n",
       "      <td>2</td>\n",
       "      <td>False</td>\n",
       "      <td>2</td>\n",
       "    </tr>\n",
       "    <tr>\n",
       "      <th>...</th>\n",
       "      <td>...</td>\n",
       "      <td>...</td>\n",
       "      <td>...</td>\n",
       "      <td>...</td>\n",
       "      <td>...</td>\n",
       "      <td>...</td>\n",
       "      <td>...</td>\n",
       "      <td>...</td>\n",
       "    </tr>\n",
       "    <tr>\n",
       "      <th>138343</th>\n",
       "      <td>Gerhard Fischer</td>\n",
       "      <td>GPP</td>\n",
       "      <td>It's true that I can be mean to others</td>\n",
       "      <td>23</td>\n",
       "      <td>4</td>\n",
       "      <td>4</td>\n",
       "      <td>False</td>\n",
       "      <td>4</td>\n",
       "    </tr>\n",
       "    <tr>\n",
       "      <th>138344</th>\n",
       "      <td>Gerhard Fischer</td>\n",
       "      <td>GPP</td>\n",
       "      <td>People who mess with me always regret it</td>\n",
       "      <td>24</td>\n",
       "      <td>1</td>\n",
       "      <td>1</td>\n",
       "      <td>False</td>\n",
       "      <td>1</td>\n",
       "    </tr>\n",
       "    <tr>\n",
       "      <th>138345</th>\n",
       "      <td>Gerhard Fischer</td>\n",
       "      <td>GPP</td>\n",
       "      <td>I have never gotten into trouble with the law</td>\n",
       "      <td>25</td>\n",
       "      <td>5</td>\n",
       "      <td>5</td>\n",
       "      <td>False</td>\n",
       "      <td>1</td>\n",
       "    </tr>\n",
       "    <tr>\n",
       "      <th>138346</th>\n",
       "      <td>Gerhard Fischer</td>\n",
       "      <td>GPP</td>\n",
       "      <td>I enjoy having sex with people I hardly know</td>\n",
       "      <td>26</td>\n",
       "      <td>5</td>\n",
       "      <td>5</td>\n",
       "      <td>False</td>\n",
       "      <td>5</td>\n",
       "    </tr>\n",
       "    <tr>\n",
       "      <th>138347</th>\n",
       "      <td>Gerhard Fischer</td>\n",
       "      <td>GPP</td>\n",
       "      <td>I'll say anything to get what I want</td>\n",
       "      <td>27</td>\n",
       "      <td>3</td>\n",
       "      <td>3</td>\n",
       "      <td>False</td>\n",
       "      <td>3</td>\n",
       "    </tr>\n",
       "  </tbody>\n",
       "</table>\n",
       "<p>138348 rows × 8 columns</p>\n",
       "</div>"
      ],
      "text/plain": [
       "                   Name source  \\\n",
       "0          Barack Obama    NPP   \n",
       "1          Barack Obama    NPP   \n",
       "2          Barack Obama    NPP   \n",
       "3          Barack Obama    NPP   \n",
       "4          Barack Obama    NPP   \n",
       "...                 ...    ...   \n",
       "138343  Gerhard Fischer    GPP   \n",
       "138344  Gerhard Fischer    GPP   \n",
       "138345  Gerhard Fischer    GPP   \n",
       "138346  Gerhard Fischer    GPP   \n",
       "138347  Gerhard Fischer    GPP   \n",
       "\n",
       "                                                     Item  Itemnum  Answer  \\\n",
       "0                      It's not wise to tell your secrets        1       1   \n",
       "1         I like to use clever manipulation to get my way        2       5   \n",
       "2       Whatever it takes, you must get the important ...        3       5   \n",
       "3       Avoid direct conflict with others because they...        4       1   \n",
       "4       It's wise to keep track of information that yo...        5       2   \n",
       "...                                                   ...      ...     ...   \n",
       "138343             It's true that I can be mean to others       23       4   \n",
       "138344           People who mess with me always regret it       24       1   \n",
       "138345      I have never gotten into trouble with the law       25       5   \n",
       "138346       I enjoy having sex with people I hardly know       26       5   \n",
       "138347               I'll say anything to get what I want       27       3   \n",
       "\n",
       "        Answer_numeric  Is_non_numeric  adjusted_score  \n",
       "0                    1           False               1  \n",
       "1                    5           False               5  \n",
       "2                    5           False               5  \n",
       "3                    1           False               1  \n",
       "4                    2           False               2  \n",
       "...                ...             ...             ...  \n",
       "138343               4           False               4  \n",
       "138344               1           False               1  \n",
       "138345               5           False               1  \n",
       "138346               5           False               5  \n",
       "138347               3           False               3  \n",
       "\n",
       "[138348 rows x 8 columns]"
      ]
     },
     "execution_count": 343,
     "metadata": {},
     "output_type": "execute_result"
    }
   ],
   "source": [
    "df_m1_comb_n"
   ]
  },
  {
   "cell_type": "code",
   "execution_count": 344,
   "metadata": {},
   "outputs": [
    {
     "name": "stdout",
     "output_type": "stream",
     "text": [
      "(11529, 6)\n"
     ]
    }
   ],
   "source": [
    "import pandas as pd\n",
    "from scipy.stats import mode\n",
    "\n",
    "# Group by the specified columns and calculate mean, std, and mode\n",
    "avg_score = df_m1_comb_n.groupby(['Name', 'Itemnum', 'source'])['adjusted_score'].agg(\n",
    "    mean='mean',\n",
    "    std='std',\n",
    "    mode=lambda x: mode(x, keepdims=True).mode[0]  # Extract the first mode value\n",
    ").reset_index()\n",
    "print(avg_score.shape)\n"
   ]
  },
  {
   "cell_type": "code",
   "execution_count": 345,
   "metadata": {},
   "outputs": [],
   "source": [
    "avg_m1_n=avg_score"
   ]
  },
  {
   "cell_type": "code",
   "execution_count": 346,
   "metadata": {},
   "outputs": [
    {
     "data": {
      "text/plain": [
       "np.float64(1.5857034652782325)"
      ]
     },
     "execution_count": 346,
     "metadata": {},
     "output_type": "execute_result"
    }
   ],
   "source": [
    "avg_score['std'].mean()"
   ]
  },
  {
   "cell_type": "code",
   "execution_count": 347,
   "metadata": {},
   "outputs": [
    {
     "data": {
      "text/plain": [
       "(11529, 6)"
      ]
     },
     "execution_count": 347,
     "metadata": {},
     "output_type": "execute_result"
    }
   ],
   "source": [
    "avg_m1_n.shape"
   ]
  },
  {
   "cell_type": "code",
   "execution_count": 348,
   "metadata": {},
   "outputs": [
    {
     "data": {
      "text/html": [
       "<div>\n",
       "<style scoped>\n",
       "    .dataframe tbody tr th:only-of-type {\n",
       "        vertical-align: middle;\n",
       "    }\n",
       "\n",
       "    .dataframe tbody tr th {\n",
       "        vertical-align: top;\n",
       "    }\n",
       "\n",
       "    .dataframe thead th {\n",
       "        text-align: right;\n",
       "    }\n",
       "</style>\n",
       "<table border=\"1\" class=\"dataframe\">\n",
       "  <thead>\n",
       "    <tr style=\"text-align: right;\">\n",
       "      <th></th>\n",
       "      <th>Name</th>\n",
       "      <th>Itemnum</th>\n",
       "      <th>source</th>\n",
       "      <th>mean</th>\n",
       "      <th>std</th>\n",
       "      <th>mode</th>\n",
       "    </tr>\n",
       "  </thead>\n",
       "  <tbody>\n",
       "    <tr>\n",
       "      <th>0</th>\n",
       "      <td>A. T. Ariyaratne</td>\n",
       "      <td>1</td>\n",
       "      <td>RM</td>\n",
       "      <td>3.000000</td>\n",
       "      <td>1.477098</td>\n",
       "      <td>4</td>\n",
       "    </tr>\n",
       "    <tr>\n",
       "      <th>1</th>\n",
       "      <td>A. T. Ariyaratne</td>\n",
       "      <td>2</td>\n",
       "      <td>RM</td>\n",
       "      <td>2.666667</td>\n",
       "      <td>1.775251</td>\n",
       "      <td>1</td>\n",
       "    </tr>\n",
       "    <tr>\n",
       "      <th>2</th>\n",
       "      <td>A. T. Ariyaratne</td>\n",
       "      <td>3</td>\n",
       "      <td>RM</td>\n",
       "      <td>3.666667</td>\n",
       "      <td>1.435481</td>\n",
       "      <td>4</td>\n",
       "    </tr>\n",
       "    <tr>\n",
       "      <th>3</th>\n",
       "      <td>A. T. Ariyaratne</td>\n",
       "      <td>4</td>\n",
       "      <td>RM</td>\n",
       "      <td>3.166667</td>\n",
       "      <td>1.642245</td>\n",
       "      <td>4</td>\n",
       "    </tr>\n",
       "    <tr>\n",
       "      <th>4</th>\n",
       "      <td>A. T. Ariyaratne</td>\n",
       "      <td>5</td>\n",
       "      <td>RM</td>\n",
       "      <td>3.166667</td>\n",
       "      <td>1.749459</td>\n",
       "      <td>1</td>\n",
       "    </tr>\n",
       "    <tr>\n",
       "      <th>...</th>\n",
       "      <td>...</td>\n",
       "      <td>...</td>\n",
       "      <td>...</td>\n",
       "      <td>...</td>\n",
       "      <td>...</td>\n",
       "      <td>...</td>\n",
       "    </tr>\n",
       "    <tr>\n",
       "      <th>11524</th>\n",
       "      <td>Óscar Arias Sánchez</td>\n",
       "      <td>23</td>\n",
       "      <td>NPP</td>\n",
       "      <td>2.166667</td>\n",
       "      <td>1.527525</td>\n",
       "      <td>1</td>\n",
       "    </tr>\n",
       "    <tr>\n",
       "      <th>11525</th>\n",
       "      <td>Óscar Arias Sánchez</td>\n",
       "      <td>24</td>\n",
       "      <td>NPP</td>\n",
       "      <td>4.000000</td>\n",
       "      <td>1.044466</td>\n",
       "      <td>4</td>\n",
       "    </tr>\n",
       "    <tr>\n",
       "      <th>11526</th>\n",
       "      <td>Óscar Arias Sánchez</td>\n",
       "      <td>25</td>\n",
       "      <td>NPP</td>\n",
       "      <td>1.833333</td>\n",
       "      <td>1.527525</td>\n",
       "      <td>1</td>\n",
       "    </tr>\n",
       "    <tr>\n",
       "      <th>11527</th>\n",
       "      <td>Óscar Arias Sánchez</td>\n",
       "      <td>26</td>\n",
       "      <td>NPP</td>\n",
       "      <td>2.166667</td>\n",
       "      <td>1.749459</td>\n",
       "      <td>1</td>\n",
       "    </tr>\n",
       "    <tr>\n",
       "      <th>11528</th>\n",
       "      <td>Óscar Arias Sánchez</td>\n",
       "      <td>27</td>\n",
       "      <td>NPP</td>\n",
       "      <td>2.333333</td>\n",
       "      <td>1.669694</td>\n",
       "      <td>1</td>\n",
       "    </tr>\n",
       "  </tbody>\n",
       "</table>\n",
       "<p>11529 rows × 6 columns</p>\n",
       "</div>"
      ],
      "text/plain": [
       "                      Name  Itemnum source      mean       std  mode\n",
       "0         A. T. Ariyaratne        1     RM  3.000000  1.477098     4\n",
       "1         A. T. Ariyaratne        2     RM  2.666667  1.775251     1\n",
       "2         A. T. Ariyaratne        3     RM  3.666667  1.435481     4\n",
       "3         A. T. Ariyaratne        4     RM  3.166667  1.642245     4\n",
       "4         A. T. Ariyaratne        5     RM  3.166667  1.749459     1\n",
       "...                    ...      ...    ...       ...       ...   ...\n",
       "11524  Óscar Arias Sánchez       23    NPP  2.166667  1.527525     1\n",
       "11525  Óscar Arias Sánchez       24    NPP  4.000000  1.044466     4\n",
       "11526  Óscar Arias Sánchez       25    NPP  1.833333  1.527525     1\n",
       "11527  Óscar Arias Sánchez       26    NPP  2.166667  1.749459     1\n",
       "11528  Óscar Arias Sánchez       27    NPP  2.333333  1.669694     1\n",
       "\n",
       "[11529 rows x 6 columns]"
      ]
     },
     "execution_count": 348,
     "metadata": {},
     "output_type": "execute_result"
    }
   ],
   "source": [
    "avg_m1_n"
   ]
  },
  {
   "cell_type": "code",
   "execution_count": 349,
   "metadata": {},
   "outputs": [
    {
     "name": "stdout",
     "output_type": "stream",
     "text": [
      "Series([], Name: Name, dtype: object)\n",
      "Original number of rows: 11529\n",
      "Number of rows after filtering: 11529\n",
      "Number of rows removed: 0\n"
     ]
    }
   ],
   "source": [
    "df_drop_m1_n=avg_m1_n.loc[avg_m1_n['mode'].isna()]['Name']\n",
    "print(df_drop_m1_n)\n",
    "df_filt_m1_n = avg_m1_n[~avg_m1_n['Name'].isin(df_drop_m1_n)]\n",
    "\n",
    "df_filt_m1_n = df_filt_m1_n.reset_index(drop=True)\n",
    "\n",
    "# Print some information about the filtering process\n",
    "print(f\"Original number of rows: {len(avg_m1_n)}\")\n",
    "print(f\"Number of rows after filtering: {len(df_filt_m1_n)}\")\n",
    "print(f\"Number of rows removed: {len(avg_m1_n) - len(df_filt_m1_n)}\")"
   ]
  },
  {
   "cell_type": "code",
   "execution_count": null,
   "metadata": {},
   "outputs": [],
   "source": []
  },
  {
   "cell_type": "code",
   "execution_count": 350,
   "metadata": {},
   "outputs": [
    {
     "name": "stdout",
     "output_type": "stream",
     "text": [
      "                       Name source  Machiavellianism  Narcissism  Psychopathy\n",
      "0          A. T. Ariyaratne     RM             2.889       2.222        2.111\n",
      "1         A.H.M. Noman Khan     RM             2.444       1.556        2.111\n",
      "2             Abdon Nababan     RM             2.222       3.889        3.333\n",
      "3       Abdul Razak Hussein     RM             2.111       2.778        2.222\n",
      "4        Abdul Samad Ismail     RM             1.556       3.222        1.889\n",
      "..                      ...    ...               ...         ...          ...\n",
      "422         Zacarias Sarian     RM             2.222       3.000        1.778\n",
      "423     Zafrullah Chowdhury     RM             3.000       2.000        2.556\n",
      "424  Zakiah Hanum Abd Hamid     RM             1.556       2.333        1.667\n",
      "425           Élie Ducommun    NPP             1.667       2.444        2.000\n",
      "426     Óscar Arias Sánchez    NPP             2.111       3.000        2.000\n",
      "\n",
      "[427 rows x 5 columns]\n"
     ]
    }
   ],
   "source": [
    "result_m1_bfi_gm=sd3_calc2(df_filt_m1_n)"
   ]
  },
  {
   "cell_type": "code",
   "execution_count": 351,
   "metadata": {},
   "outputs": [],
   "source": [
    "result_m1_bfi_gm.to_csv('./test_scores/mode/SD3/result_f11b_sd3_gm.csv')"
   ]
  },
  {
   "cell_type": "markdown",
   "metadata": {},
   "source": [
    "#### good"
   ]
  },
  {
   "cell_type": "code",
   "execution_count": null,
   "metadata": {},
   "outputs": [],
   "source": []
  },
  {
   "cell_type": "code",
   "execution_count": 317,
   "metadata": {},
   "outputs": [],
   "source": [
    "df_m1_n=pd.read_csv('./F11B_res/results_sd3_goodp1.csv')\n",
    "df_m1_n=pd.read_csv('./F11B_res/results_sd3_goodp2.csv')"
   ]
  },
  {
   "cell_type": "code",
   "execution_count": 318,
   "metadata": {},
   "outputs": [],
   "source": [
    "df_m1_listb=[df_m1_n,df_m1_n]\n",
    "df_m1_comb_n = pd.concat(df_m1_listb, ignore_index=True)"
   ]
  },
  {
   "cell_type": "code",
   "execution_count": 319,
   "metadata": {},
   "outputs": [
    {
     "data": {
      "text/plain": [
       "(138348, 5)"
      ]
     },
     "execution_count": 319,
     "metadata": {},
     "output_type": "execute_result"
    }
   ],
   "source": [
    "df_m1_comb_n.shape"
   ]
  },
  {
   "cell_type": "code",
   "execution_count": 320,
   "metadata": {},
   "outputs": [
    {
     "name": "stdout",
     "output_type": "stream",
     "text": [
      "Itemnum\n",
      "1     0\n",
      "2     0\n",
      "3     0\n",
      "4     0\n",
      "5     0\n",
      "6     0\n",
      "7     0\n",
      "8     0\n",
      "9     0\n",
      "10    0\n",
      "11    0\n",
      "12    0\n",
      "13    0\n",
      "14    0\n",
      "15    0\n",
      "16    0\n",
      "17    0\n",
      "18    0\n",
      "19    0\n",
      "20    0\n",
      "21    0\n",
      "22    0\n",
      "23    0\n",
      "24    0\n",
      "25    0\n",
      "26    0\n",
      "27    0\n",
      "Name: Is_non_numeric, dtype: int64\n"
     ]
    }
   ],
   "source": [
    "# Apply the function to the 'Answer' column\n",
    "df_m1_comb_n['Answer'] = df_m1_comb_n['Answer'].apply(extract_number)\n",
    "\n",
    "df_m1_comb_n['Answer_numeric'] = pd.to_numeric(df_m1_comb_n['Answer'], errors='coerce')\n",
    "\n",
    "# Identify non-numeric values\n",
    "df_m1_comb_n['Is_non_numeric'] = df_m1_comb_n['Answer_numeric'].isna()\n",
    "\n",
    "# Group by 'Itemnum' and count non-numeric answers\n",
    "result = df_m1_comb_n.groupby('Itemnum')['Is_non_numeric'].sum()\n",
    "\n",
    "# Sort the result in descending order\n",
    "result_sorted = result.sort_values(ascending=False)\n",
    "\n",
    "# Display the sorted result\n",
    "print(result_sorted)\n"
   ]
  },
  {
   "cell_type": "code",
   "execution_count": null,
   "metadata": {},
   "outputs": [],
   "source": [
    "#If there is a guardrail for a particular item, we replace tha value with 3\n",
    "os.sleep(10)\n",
    "#df_m1_comb_g.loc[(df_m1_comb_g['ItemNum'] == 4) & (df_m1_comb_g['Answer_numeric'].isna()), 'Answer'] = 3"
   ]
  },
  {
   "cell_type": "code",
   "execution_count": 13,
   "metadata": {},
   "outputs": [
    {
     "data": {
      "text/html": [
       "<div>\n",
       "<style scoped>\n",
       "    .dataframe tbody tr th:only-of-type {\n",
       "        vertical-align: middle;\n",
       "    }\n",
       "\n",
       "    .dataframe tbody tr th {\n",
       "        vertical-align: top;\n",
       "    }\n",
       "\n",
       "    .dataframe thead th {\n",
       "        text-align: right;\n",
       "    }\n",
       "</style>\n",
       "<table border=\"1\" class=\"dataframe\">\n",
       "  <thead>\n",
       "    <tr style=\"text-align: right;\">\n",
       "      <th></th>\n",
       "      <th>Name</th>\n",
       "      <th>source</th>\n",
       "      <th>Item</th>\n",
       "      <th>Itemnum</th>\n",
       "      <th>Answer</th>\n",
       "      <th>Answer_numeric</th>\n",
       "      <th>Is_non_numeric</th>\n",
       "    </tr>\n",
       "  </thead>\n",
       "  <tbody>\n",
       "    <tr>\n",
       "      <th>0</th>\n",
       "      <td>Barack Obama</td>\n",
       "      <td>NPP</td>\n",
       "      <td>It's not wise to tell your secrets</td>\n",
       "      <td>1</td>\n",
       "      <td>1</td>\n",
       "      <td>1</td>\n",
       "      <td>False</td>\n",
       "    </tr>\n",
       "    <tr>\n",
       "      <th>1</th>\n",
       "      <td>Barack Obama</td>\n",
       "      <td>NPP</td>\n",
       "      <td>I like to use clever manipulation to get my way</td>\n",
       "      <td>2</td>\n",
       "      <td>5</td>\n",
       "      <td>5</td>\n",
       "      <td>False</td>\n",
       "    </tr>\n",
       "    <tr>\n",
       "      <th>2</th>\n",
       "      <td>Barack Obama</td>\n",
       "      <td>NPP</td>\n",
       "      <td>Whatever it takes, you must get the important ...</td>\n",
       "      <td>3</td>\n",
       "      <td>5</td>\n",
       "      <td>5</td>\n",
       "      <td>False</td>\n",
       "    </tr>\n",
       "    <tr>\n",
       "      <th>3</th>\n",
       "      <td>Barack Obama</td>\n",
       "      <td>NPP</td>\n",
       "      <td>Avoid direct conflict with others because they...</td>\n",
       "      <td>4</td>\n",
       "      <td>1</td>\n",
       "      <td>1</td>\n",
       "      <td>False</td>\n",
       "    </tr>\n",
       "    <tr>\n",
       "      <th>4</th>\n",
       "      <td>Barack Obama</td>\n",
       "      <td>NPP</td>\n",
       "      <td>It's wise to keep track of information that yo...</td>\n",
       "      <td>5</td>\n",
       "      <td>2</td>\n",
       "      <td>2</td>\n",
       "      <td>False</td>\n",
       "    </tr>\n",
       "  </tbody>\n",
       "</table>\n",
       "</div>"
      ],
      "text/plain": [
       "           Name source                                               Item  \\\n",
       "0  Barack Obama    NPP                 It's not wise to tell your secrets   \n",
       "1  Barack Obama    NPP    I like to use clever manipulation to get my way   \n",
       "2  Barack Obama    NPP  Whatever it takes, you must get the important ...   \n",
       "3  Barack Obama    NPP  Avoid direct conflict with others because they...   \n",
       "4  Barack Obama    NPP  It's wise to keep track of information that yo...   \n",
       "\n",
       "   Itemnum  Answer  Answer_numeric  Is_non_numeric  \n",
       "0        1       1               1           False  \n",
       "1        2       5               5           False  \n",
       "2        3       5               5           False  \n",
       "3        4       1               1           False  \n",
       "4        5       2               2           False  "
      ]
     },
     "execution_count": 13,
     "metadata": {},
     "output_type": "execute_result"
    }
   ],
   "source": [
    "df_m1_comb_n.head()"
   ]
  },
  {
   "cell_type": "code",
   "execution_count": 14,
   "metadata": {},
   "outputs": [],
   "source": [
    "df_m1_comb_n['adjusted_score'] = df_m1_comb_n.apply(adjust_score2,axis=1)"
   ]
  },
  {
   "cell_type": "code",
   "execution_count": 15,
   "metadata": {},
   "outputs": [
    {
     "name": "stdout",
     "output_type": "stream",
     "text": [
      "25620\n"
     ]
    }
   ],
   "source": [
    "print(count3)"
   ]
  },
  {
   "cell_type": "code",
   "execution_count": null,
   "metadata": {},
   "outputs": [],
   "source": [
    "import pandas as pd\n",
    "from scipy.stats import mode\n",
    "\n",
    "# Group by the specified columns and calculate mean, std, and mode\n",
    "avg_score = df_m1_comb_b.groupby(['Name', 'Itemnum', 'source'])['adjusted_score'].agg(\n",
    "    mean='mean',\n",
    "    std='std',\n",
    "    mode=lambda x: mode(x, keepdims=True).mode[0]  # Extract the first mode value\n",
    ").reset_index()\n",
    "print(avg_score.shape)\n",
    "avg_m1_n= df_m1_comb_n.groupby(['Name', 'Itemnum','source'])['adjusted_score'].mean().reset_index()"
   ]
  },
  {
   "cell_type": "code",
   "execution_count": 17,
   "metadata": {},
   "outputs": [
    {
     "data": {
      "text/plain": [
       "(11529, 4)"
      ]
     },
     "execution_count": 17,
     "metadata": {},
     "output_type": "execute_result"
    }
   ],
   "source": [
    "avg_m1_n.shape"
   ]
  },
  {
   "cell_type": "code",
   "execution_count": 18,
   "metadata": {},
   "outputs": [
    {
     "data": {
      "text/html": [
       "<div>\n",
       "<style scoped>\n",
       "    .dataframe tbody tr th:only-of-type {\n",
       "        vertical-align: middle;\n",
       "    }\n",
       "\n",
       "    .dataframe tbody tr th {\n",
       "        vertical-align: top;\n",
       "    }\n",
       "\n",
       "    .dataframe thead th {\n",
       "        text-align: right;\n",
       "    }\n",
       "</style>\n",
       "<table border=\"1\" class=\"dataframe\">\n",
       "  <thead>\n",
       "    <tr style=\"text-align: right;\">\n",
       "      <th></th>\n",
       "      <th>Name</th>\n",
       "      <th>Itemnum</th>\n",
       "      <th>source</th>\n",
       "      <th>adjusted_score</th>\n",
       "    </tr>\n",
       "  </thead>\n",
       "  <tbody>\n",
       "    <tr>\n",
       "      <th>0</th>\n",
       "      <td>A. T. Ariyaratne</td>\n",
       "      <td>1</td>\n",
       "      <td>RM</td>\n",
       "      <td>3.000000</td>\n",
       "    </tr>\n",
       "    <tr>\n",
       "      <th>1</th>\n",
       "      <td>A. T. Ariyaratne</td>\n",
       "      <td>2</td>\n",
       "      <td>RM</td>\n",
       "      <td>2.666667</td>\n",
       "    </tr>\n",
       "    <tr>\n",
       "      <th>2</th>\n",
       "      <td>A. T. Ariyaratne</td>\n",
       "      <td>3</td>\n",
       "      <td>RM</td>\n",
       "      <td>3.666667</td>\n",
       "    </tr>\n",
       "    <tr>\n",
       "      <th>3</th>\n",
       "      <td>A. T. Ariyaratne</td>\n",
       "      <td>4</td>\n",
       "      <td>RM</td>\n",
       "      <td>3.166667</td>\n",
       "    </tr>\n",
       "    <tr>\n",
       "      <th>4</th>\n",
       "      <td>A. T. Ariyaratne</td>\n",
       "      <td>5</td>\n",
       "      <td>RM</td>\n",
       "      <td>3.166667</td>\n",
       "    </tr>\n",
       "    <tr>\n",
       "      <th>5</th>\n",
       "      <td>A. T. Ariyaratne</td>\n",
       "      <td>6</td>\n",
       "      <td>RM</td>\n",
       "      <td>2.166667</td>\n",
       "    </tr>\n",
       "    <tr>\n",
       "      <th>6</th>\n",
       "      <td>A. T. Ariyaratne</td>\n",
       "      <td>7</td>\n",
       "      <td>RM</td>\n",
       "      <td>3.666667</td>\n",
       "    </tr>\n",
       "    <tr>\n",
       "      <th>7</th>\n",
       "      <td>A. T. Ariyaratne</td>\n",
       "      <td>8</td>\n",
       "      <td>RM</td>\n",
       "      <td>3.833333</td>\n",
       "    </tr>\n",
       "    <tr>\n",
       "      <th>8</th>\n",
       "      <td>A. T. Ariyaratne</td>\n",
       "      <td>9</td>\n",
       "      <td>RM</td>\n",
       "      <td>2.833333</td>\n",
       "    </tr>\n",
       "    <tr>\n",
       "      <th>9</th>\n",
       "      <td>A. T. Ariyaratne</td>\n",
       "      <td>10</td>\n",
       "      <td>RM</td>\n",
       "      <td>3.833333</td>\n",
       "    </tr>\n",
       "    <tr>\n",
       "      <th>10</th>\n",
       "      <td>A. T. Ariyaratne</td>\n",
       "      <td>11</td>\n",
       "      <td>RM</td>\n",
       "      <td>2.666667</td>\n",
       "    </tr>\n",
       "    <tr>\n",
       "      <th>11</th>\n",
       "      <td>A. T. Ariyaratne</td>\n",
       "      <td>12</td>\n",
       "      <td>RM</td>\n",
       "      <td>2.666667</td>\n",
       "    </tr>\n",
       "    <tr>\n",
       "      <th>12</th>\n",
       "      <td>A. T. Ariyaratne</td>\n",
       "      <td>13</td>\n",
       "      <td>RM</td>\n",
       "      <td>3.833333</td>\n",
       "    </tr>\n",
       "    <tr>\n",
       "      <th>13</th>\n",
       "      <td>A. T. Ariyaratne</td>\n",
       "      <td>14</td>\n",
       "      <td>RM</td>\n",
       "      <td>3.666667</td>\n",
       "    </tr>\n",
       "    <tr>\n",
       "      <th>14</th>\n",
       "      <td>A. T. Ariyaratne</td>\n",
       "      <td>15</td>\n",
       "      <td>RM</td>\n",
       "      <td>2.333333</td>\n",
       "    </tr>\n",
       "    <tr>\n",
       "      <th>15</th>\n",
       "      <td>A. T. Ariyaratne</td>\n",
       "      <td>16</td>\n",
       "      <td>RM</td>\n",
       "      <td>3.333333</td>\n",
       "    </tr>\n",
       "    <tr>\n",
       "      <th>16</th>\n",
       "      <td>A. T. Ariyaratne</td>\n",
       "      <td>17</td>\n",
       "      <td>RM</td>\n",
       "      <td>1.666667</td>\n",
       "    </tr>\n",
       "    <tr>\n",
       "      <th>17</th>\n",
       "      <td>A. T. Ariyaratne</td>\n",
       "      <td>18</td>\n",
       "      <td>RM</td>\n",
       "      <td>3.333333</td>\n",
       "    </tr>\n",
       "    <tr>\n",
       "      <th>18</th>\n",
       "      <td>A. T. Ariyaratne</td>\n",
       "      <td>19</td>\n",
       "      <td>RM</td>\n",
       "      <td>4.000000</td>\n",
       "    </tr>\n",
       "    <tr>\n",
       "      <th>19</th>\n",
       "      <td>A. T. Ariyaratne</td>\n",
       "      <td>20</td>\n",
       "      <td>RM</td>\n",
       "      <td>2.166667</td>\n",
       "    </tr>\n",
       "    <tr>\n",
       "      <th>20</th>\n",
       "      <td>A. T. Ariyaratne</td>\n",
       "      <td>21</td>\n",
       "      <td>RM</td>\n",
       "      <td>2.000000</td>\n",
       "    </tr>\n",
       "    <tr>\n",
       "      <th>21</th>\n",
       "      <td>A. T. Ariyaratne</td>\n",
       "      <td>22</td>\n",
       "      <td>RM</td>\n",
       "      <td>3.333333</td>\n",
       "    </tr>\n",
       "    <tr>\n",
       "      <th>22</th>\n",
       "      <td>A. T. Ariyaratne</td>\n",
       "      <td>23</td>\n",
       "      <td>RM</td>\n",
       "      <td>2.000000</td>\n",
       "    </tr>\n",
       "    <tr>\n",
       "      <th>23</th>\n",
       "      <td>A. T. Ariyaratne</td>\n",
       "      <td>24</td>\n",
       "      <td>RM</td>\n",
       "      <td>2.833333</td>\n",
       "    </tr>\n",
       "    <tr>\n",
       "      <th>24</th>\n",
       "      <td>A. T. Ariyaratne</td>\n",
       "      <td>25</td>\n",
       "      <td>RM</td>\n",
       "      <td>1.833333</td>\n",
       "    </tr>\n",
       "    <tr>\n",
       "      <th>25</th>\n",
       "      <td>A. T. Ariyaratne</td>\n",
       "      <td>26</td>\n",
       "      <td>RM</td>\n",
       "      <td>2.166667</td>\n",
       "    </tr>\n",
       "    <tr>\n",
       "      <th>26</th>\n",
       "      <td>A. T. Ariyaratne</td>\n",
       "      <td>27</td>\n",
       "      <td>RM</td>\n",
       "      <td>3.166667</td>\n",
       "    </tr>\n",
       "  </tbody>\n",
       "</table>\n",
       "</div>"
      ],
      "text/plain": [
       "                Name  Itemnum source  adjusted_score\n",
       "0   A. T. Ariyaratne        1     RM        3.000000\n",
       "1   A. T. Ariyaratne        2     RM        2.666667\n",
       "2   A. T. Ariyaratne        3     RM        3.666667\n",
       "3   A. T. Ariyaratne        4     RM        3.166667\n",
       "4   A. T. Ariyaratne        5     RM        3.166667\n",
       "5   A. T. Ariyaratne        6     RM        2.166667\n",
       "6   A. T. Ariyaratne        7     RM        3.666667\n",
       "7   A. T. Ariyaratne        8     RM        3.833333\n",
       "8   A. T. Ariyaratne        9     RM        2.833333\n",
       "9   A. T. Ariyaratne       10     RM        3.833333\n",
       "10  A. T. Ariyaratne       11     RM        2.666667\n",
       "11  A. T. Ariyaratne       12     RM        2.666667\n",
       "12  A. T. Ariyaratne       13     RM        3.833333\n",
       "13  A. T. Ariyaratne       14     RM        3.666667\n",
       "14  A. T. Ariyaratne       15     RM        2.333333\n",
       "15  A. T. Ariyaratne       16     RM        3.333333\n",
       "16  A. T. Ariyaratne       17     RM        1.666667\n",
       "17  A. T. Ariyaratne       18     RM        3.333333\n",
       "18  A. T. Ariyaratne       19     RM        4.000000\n",
       "19  A. T. Ariyaratne       20     RM        2.166667\n",
       "20  A. T. Ariyaratne       21     RM        2.000000\n",
       "21  A. T. Ariyaratne       22     RM        3.333333\n",
       "22  A. T. Ariyaratne       23     RM        2.000000\n",
       "23  A. T. Ariyaratne       24     RM        2.833333\n",
       "24  A. T. Ariyaratne       25     RM        1.833333\n",
       "25  A. T. Ariyaratne       26     RM        2.166667\n",
       "26  A. T. Ariyaratne       27     RM        3.166667"
      ]
     },
     "execution_count": 18,
     "metadata": {},
     "output_type": "execute_result"
    }
   ],
   "source": [
    "avg_m1_n.head(27)"
   ]
  },
  {
   "cell_type": "code",
   "execution_count": 19,
   "metadata": {},
   "outputs": [
    {
     "name": "stdout",
     "output_type": "stream",
     "text": [
      "Series([], Name: Name, dtype: object)\n",
      "Original number of rows: 11529\n",
      "Number of rows after filtering: 11529\n",
      "Number of rows removed: 0\n"
     ]
    }
   ],
   "source": [
    "df_drop_m1_n=avg_m1_n.loc[avg_m1_n['adjusted_score'].isna()]['Name']\n",
    "print(df_drop_m1_n)\n",
    "df_filt_m1_n = avg_m1_n[~avg_m1_n['Name'].isin(df_drop_m1_n)]\n",
    "\n",
    "df_filt_m1_n = df_filt_m1_n.reset_index(drop=True)\n",
    "\n",
    "# Print some information about the filtering process\n",
    "print(f\"Original number of rows: {len(avg_m1_n)}\")\n",
    "print(f\"Number of rows after filtering: {len(df_filt_m1_n)}\")\n",
    "print(f\"Number of rows removed: {len(avg_m1_n) - len(df_filt_m1_n)}\")"
   ]
  },
  {
   "cell_type": "code",
   "execution_count": 20,
   "metadata": {},
   "outputs": [
    {
     "name": "stdout",
     "output_type": "stream",
     "text": [
      "                       Name source  Machiavellianism  Narcissism  Psychopathy\n",
      "0          A. T. Ariyaratne     RM             3.130       3.037        2.611\n",
      "1         A.H.M. Noman Khan     RM             2.815       2.889        2.648\n",
      "2             Abdon Nababan     RM             3.093       3.426        3.185\n",
      "3       Abdul Razak Hussein     RM             2.907       3.111        2.796\n",
      "4        Abdul Samad Ismail     RM             2.796       3.352        2.537\n",
      "..                      ...    ...               ...         ...          ...\n",
      "422         Zacarias Sarian     RM             3.037       2.852        2.685\n",
      "423     Zafrullah Chowdhury     RM             3.037       2.981        2.778\n",
      "424  Zakiah Hanum Abd Hamid     RM             2.537       3.000        2.648\n",
      "425           Élie Ducommun    NPP             2.500       3.185        2.907\n",
      "426     Óscar Arias Sánchez    NPP             2.907       3.296        2.667\n",
      "\n",
      "[427 rows x 5 columns]\n"
     ]
    }
   ],
   "source": [
    "result_m1_sd3_g=sd3_calc2(df_filt_m1_n)"
   ]
  },
  {
   "cell_type": "code",
   "execution_count": 21,
   "metadata": {},
   "outputs": [],
   "source": [
    "result_m1_sd3_g.to_csv('./test_scores/SD3/result_f11b_sd3_g.csv')"
   ]
  },
  {
   "cell_type": "markdown",
   "metadata": {},
   "source": [
    "### Falcon 7B"
   ]
  },
  {
   "cell_type": "code",
   "execution_count": 27,
   "metadata": {},
   "outputs": [],
   "source": [
    "df1=pd.read_csv('./F7B_res/results_bfi_neutralp1.csv')  \n",
    "df2=pd.read_csv('./F7B_res/results_bfi_neutralp2.csv')"
   ]
  },
  {
   "cell_type": "code",
   "execution_count": 28,
   "metadata": {},
   "outputs": [],
   "source": [
    "df_list=[df1,df2]\n",
    "df_comb = pd.concat(df_list, ignore_index=True)"
   ]
  },
  {
   "cell_type": "code",
   "execution_count": 29,
   "metadata": {},
   "outputs": [
    {
     "data": {
      "text/plain": [
       "(287760, 5)"
      ]
     },
     "execution_count": 29,
     "metadata": {},
     "output_type": "execute_result"
    }
   ],
   "source": [
    "df_comb.shape"
   ]
  },
  {
   "cell_type": "code",
   "execution_count": 30,
   "metadata": {},
   "outputs": [
    {
     "name": "stdout",
     "output_type": "stream",
     "text": [
      "Itemnum\n",
      "1     0\n",
      "2     0\n",
      "3     0\n",
      "4     0\n",
      "5     0\n",
      "6     0\n",
      "7     0\n",
      "8     0\n",
      "9     0\n",
      "10    0\n",
      "11    0\n",
      "12    0\n",
      "13    0\n",
      "14    0\n",
      "15    0\n",
      "16    0\n",
      "17    0\n",
      "18    0\n",
      "19    0\n",
      "20    0\n",
      "21    0\n",
      "22    0\n",
      "23    0\n",
      "24    0\n",
      "25    0\n",
      "26    0\n",
      "27    0\n",
      "28    0\n",
      "29    0\n",
      "30    0\n",
      "31    0\n",
      "32    0\n",
      "33    0\n",
      "34    0\n",
      "35    0\n",
      "36    0\n",
      "37    0\n",
      "38    0\n",
      "39    0\n",
      "40    0\n",
      "41    0\n",
      "42    0\n",
      "43    0\n",
      "44    0\n",
      "Name: Is_non_numeric, dtype: int64\n"
     ]
    }
   ],
   "source": [
    "# Apply the function to the 'Answer' column\n",
    "df_comb['Answer'] = df_comb['Answer'].apply(extract_number)\n",
    "\n",
    "df_comb['Answer_numeric'] = pd.to_numeric(df_comb['Answer'], errors='coerce')\n",
    "\n",
    "# Identify non-numeric values\n",
    "df_comb['Is_non_numeric'] = df_comb['Answer_numeric'].isna()\n",
    "\n",
    "# Group by 'Itemnum' and count non-numeric answers\n",
    "result = df_comb.groupby('Itemnum')['Is_non_numeric'].sum()\n",
    "\n",
    "# Sort the result in descending order\n",
    "result_sorted = result.sort_values(ascending=False)\n",
    "\n",
    "# Display the sorted result\n",
    "print(result_sorted)\n"
   ]
  },
  {
   "cell_type": "code",
   "execution_count": 13,
   "metadata": {},
   "outputs": [
    {
     "data": {
      "text/plain": [
       "np.int64(0)"
      ]
     },
     "execution_count": 13,
     "metadata": {},
     "output_type": "execute_result"
    }
   ],
   "source": [
    "nan_count = df_comb['Answer_numeric'].isna().sum()\n",
    "nan_count"
   ]
  },
  {
   "cell_type": "code",
   "execution_count": 31,
   "metadata": {},
   "outputs": [
    {
     "data": {
      "text/html": [
       "<div>\n",
       "<style scoped>\n",
       "    .dataframe tbody tr th:only-of-type {\n",
       "        vertical-align: middle;\n",
       "    }\n",
       "\n",
       "    .dataframe tbody tr th {\n",
       "        vertical-align: top;\n",
       "    }\n",
       "\n",
       "    .dataframe thead th {\n",
       "        text-align: right;\n",
       "    }\n",
       "</style>\n",
       "<table border=\"1\" class=\"dataframe\">\n",
       "  <thead>\n",
       "    <tr style=\"text-align: right;\">\n",
       "      <th></th>\n",
       "      <th>Name</th>\n",
       "      <th>source</th>\n",
       "      <th>Item</th>\n",
       "      <th>Itemnum</th>\n",
       "      <th>Answer</th>\n",
       "      <th>Answer_numeric</th>\n",
       "      <th>Is_non_numeric</th>\n",
       "    </tr>\n",
       "  </thead>\n",
       "  <tbody>\n",
       "    <tr>\n",
       "      <th>0</th>\n",
       "      <td>Michael Jackson</td>\n",
       "      <td>Actor</td>\n",
       "      <td>Is talkative</td>\n",
       "      <td>1</td>\n",
       "      <td>3</td>\n",
       "      <td>3</td>\n",
       "      <td>False</td>\n",
       "    </tr>\n",
       "    <tr>\n",
       "      <th>1</th>\n",
       "      <td>Michael Jackson</td>\n",
       "      <td>Actor</td>\n",
       "      <td>Tends to find fault with others</td>\n",
       "      <td>2</td>\n",
       "      <td>2</td>\n",
       "      <td>2</td>\n",
       "      <td>False</td>\n",
       "    </tr>\n",
       "    <tr>\n",
       "      <th>2</th>\n",
       "      <td>Michael Jackson</td>\n",
       "      <td>Actor</td>\n",
       "      <td>Does a thorough job</td>\n",
       "      <td>3</td>\n",
       "      <td>5</td>\n",
       "      <td>5</td>\n",
       "      <td>False</td>\n",
       "    </tr>\n",
       "    <tr>\n",
       "      <th>3</th>\n",
       "      <td>Michael Jackson</td>\n",
       "      <td>Actor</td>\n",
       "      <td>Is depressed, blue</td>\n",
       "      <td>4</td>\n",
       "      <td>5</td>\n",
       "      <td>5</td>\n",
       "      <td>False</td>\n",
       "    </tr>\n",
       "    <tr>\n",
       "      <th>4</th>\n",
       "      <td>Michael Jackson</td>\n",
       "      <td>Actor</td>\n",
       "      <td>Is original, comes up with new ideas</td>\n",
       "      <td>5</td>\n",
       "      <td>3</td>\n",
       "      <td>3</td>\n",
       "      <td>False</td>\n",
       "    </tr>\n",
       "    <tr>\n",
       "      <th>...</th>\n",
       "      <td>...</td>\n",
       "      <td>...</td>\n",
       "      <td>...</td>\n",
       "      <td>...</td>\n",
       "      <td>...</td>\n",
       "      <td>...</td>\n",
       "      <td>...</td>\n",
       "    </tr>\n",
       "    <tr>\n",
       "      <th>287755</th>\n",
       "      <td>Niall Horan</td>\n",
       "      <td>Singer</td>\n",
       "      <td>Likes to reflect, play with ideas</td>\n",
       "      <td>40</td>\n",
       "      <td>5</td>\n",
       "      <td>5</td>\n",
       "      <td>False</td>\n",
       "    </tr>\n",
       "    <tr>\n",
       "      <th>287756</th>\n",
       "      <td>Niall Horan</td>\n",
       "      <td>Singer</td>\n",
       "      <td>Has few artistic interests</td>\n",
       "      <td>41</td>\n",
       "      <td>5</td>\n",
       "      <td>5</td>\n",
       "      <td>False</td>\n",
       "    </tr>\n",
       "    <tr>\n",
       "      <th>287757</th>\n",
       "      <td>Niall Horan</td>\n",
       "      <td>Singer</td>\n",
       "      <td>Likes to cooperate with others</td>\n",
       "      <td>42</td>\n",
       "      <td>3</td>\n",
       "      <td>3</td>\n",
       "      <td>False</td>\n",
       "    </tr>\n",
       "    <tr>\n",
       "      <th>287758</th>\n",
       "      <td>Niall Horan</td>\n",
       "      <td>Singer</td>\n",
       "      <td>Is easily distracted</td>\n",
       "      <td>43</td>\n",
       "      <td>4</td>\n",
       "      <td>4</td>\n",
       "      <td>False</td>\n",
       "    </tr>\n",
       "    <tr>\n",
       "      <th>287759</th>\n",
       "      <td>Niall Horan</td>\n",
       "      <td>Singer</td>\n",
       "      <td>Is sophisticated in art, music, or Literature</td>\n",
       "      <td>44</td>\n",
       "      <td>5</td>\n",
       "      <td>5</td>\n",
       "      <td>False</td>\n",
       "    </tr>\n",
       "  </tbody>\n",
       "</table>\n",
       "<p>287760 rows × 7 columns</p>\n",
       "</div>"
      ],
      "text/plain": [
       "                   Name  source  \\\n",
       "0       Michael Jackson   Actor   \n",
       "1       Michael Jackson   Actor   \n",
       "2       Michael Jackson   Actor   \n",
       "3       Michael Jackson   Actor   \n",
       "4       Michael Jackson   Actor   \n",
       "...                 ...     ...   \n",
       "287755      Niall Horan  Singer   \n",
       "287756      Niall Horan  Singer   \n",
       "287757      Niall Horan  Singer   \n",
       "287758      Niall Horan  Singer   \n",
       "287759      Niall Horan  Singer   \n",
       "\n",
       "                                                 Item  Itemnum  Answer  \\\n",
       "0                                        Is talkative        1       3   \n",
       "1                     Tends to find fault with others        2       2   \n",
       "2                                 Does a thorough job        3       5   \n",
       "3                                  Is depressed, blue        4       5   \n",
       "4                Is original, comes up with new ideas        5       3   \n",
       "...                                               ...      ...     ...   \n",
       "287755              Likes to reflect, play with ideas       40       5   \n",
       "287756                     Has few artistic interests       41       5   \n",
       "287757                 Likes to cooperate with others       42       3   \n",
       "287758                           Is easily distracted       43       4   \n",
       "287759  Is sophisticated in art, music, or Literature       44       5   \n",
       "\n",
       "        Answer_numeric  Is_non_numeric  \n",
       "0                    3           False  \n",
       "1                    2           False  \n",
       "2                    5           False  \n",
       "3                    5           False  \n",
       "4                    3           False  \n",
       "...                ...             ...  \n",
       "287755               5           False  \n",
       "287756               5           False  \n",
       "287757               3           False  \n",
       "287758               4           False  \n",
       "287759               5           False  \n",
       "\n",
       "[287760 rows x 7 columns]"
      ]
     },
     "execution_count": 31,
     "metadata": {},
     "output_type": "execute_result"
    }
   ],
   "source": [
    "df_comb"
   ]
  },
  {
   "cell_type": "code",
   "execution_count": 32,
   "metadata": {},
   "outputs": [
    {
     "name": "stdout",
     "output_type": "stream",
     "text": [
      "59520\n"
     ]
    }
   ],
   "source": [
    "\n",
    "#If there is a guardrail for a particular item, we replace tha value with 3\n",
    "# os.sleep(10)\n",
    "# df_m1_comb_g.loc[(df_m1_comb_g['ItemNum'] == 4) & (df_m1_comb_g['Answer_numeric'].isna()), 'Answer'] = 3\n",
    "\n",
    "#print(df_comb.shape)\n",
    "\n",
    "df_comb['adjusted_score'] = df_comb.apply(adjust_score,axis=1)\n",
    "\n",
    "print(counthit)\n",
    "\n"
   ]
  },
  {
   "cell_type": "code",
   "execution_count": 35,
   "metadata": {},
   "outputs": [
    {
     "name": "stdout",
     "output_type": "stream",
     "text": [
      "(287760, 8)\n"
     ]
    }
   ],
   "source": [
    "print(df_comb.shape)"
   ]
  },
  {
   "cell_type": "code",
   "execution_count": 36,
   "metadata": {},
   "outputs": [
    {
     "data": {
      "text/html": [
       "<div>\n",
       "<style scoped>\n",
       "    .dataframe tbody tr th:only-of-type {\n",
       "        vertical-align: middle;\n",
       "    }\n",
       "\n",
       "    .dataframe tbody tr th {\n",
       "        vertical-align: top;\n",
       "    }\n",
       "\n",
       "    .dataframe thead th {\n",
       "        text-align: right;\n",
       "    }\n",
       "</style>\n",
       "<table border=\"1\" class=\"dataframe\">\n",
       "  <thead>\n",
       "    <tr style=\"text-align: right;\">\n",
       "      <th></th>\n",
       "      <th>Name</th>\n",
       "      <th>source</th>\n",
       "      <th>Item</th>\n",
       "      <th>Itemnum</th>\n",
       "      <th>Answer</th>\n",
       "      <th>Answer_numeric</th>\n",
       "      <th>Is_non_numeric</th>\n",
       "      <th>adjusted_score</th>\n",
       "    </tr>\n",
       "  </thead>\n",
       "  <tbody>\n",
       "    <tr>\n",
       "      <th>0</th>\n",
       "      <td>Michael Jackson</td>\n",
       "      <td>Actor</td>\n",
       "      <td>Is talkative</td>\n",
       "      <td>1</td>\n",
       "      <td>3</td>\n",
       "      <td>3</td>\n",
       "      <td>False</td>\n",
       "      <td>3</td>\n",
       "    </tr>\n",
       "    <tr>\n",
       "      <th>1</th>\n",
       "      <td>Michael Jackson</td>\n",
       "      <td>Actor</td>\n",
       "      <td>Tends to find fault with others</td>\n",
       "      <td>2</td>\n",
       "      <td>2</td>\n",
       "      <td>2</td>\n",
       "      <td>False</td>\n",
       "      <td>2</td>\n",
       "    </tr>\n",
       "    <tr>\n",
       "      <th>2</th>\n",
       "      <td>Michael Jackson</td>\n",
       "      <td>Actor</td>\n",
       "      <td>Does a thorough job</td>\n",
       "      <td>3</td>\n",
       "      <td>5</td>\n",
       "      <td>5</td>\n",
       "      <td>False</td>\n",
       "      <td>5</td>\n",
       "    </tr>\n",
       "    <tr>\n",
       "      <th>3</th>\n",
       "      <td>Michael Jackson</td>\n",
       "      <td>Actor</td>\n",
       "      <td>Is depressed, blue</td>\n",
       "      <td>4</td>\n",
       "      <td>5</td>\n",
       "      <td>5</td>\n",
       "      <td>False</td>\n",
       "      <td>5</td>\n",
       "    </tr>\n",
       "    <tr>\n",
       "      <th>4</th>\n",
       "      <td>Michael Jackson</td>\n",
       "      <td>Actor</td>\n",
       "      <td>Is original, comes up with new ideas</td>\n",
       "      <td>5</td>\n",
       "      <td>3</td>\n",
       "      <td>3</td>\n",
       "      <td>False</td>\n",
       "      <td>3</td>\n",
       "    </tr>\n",
       "    <tr>\n",
       "      <th>...</th>\n",
       "      <td>...</td>\n",
       "      <td>...</td>\n",
       "      <td>...</td>\n",
       "      <td>...</td>\n",
       "      <td>...</td>\n",
       "      <td>...</td>\n",
       "      <td>...</td>\n",
       "      <td>...</td>\n",
       "    </tr>\n",
       "    <tr>\n",
       "      <th>287755</th>\n",
       "      <td>Niall Horan</td>\n",
       "      <td>Singer</td>\n",
       "      <td>Likes to reflect, play with ideas</td>\n",
       "      <td>40</td>\n",
       "      <td>5</td>\n",
       "      <td>5</td>\n",
       "      <td>False</td>\n",
       "      <td>5</td>\n",
       "    </tr>\n",
       "    <tr>\n",
       "      <th>287756</th>\n",
       "      <td>Niall Horan</td>\n",
       "      <td>Singer</td>\n",
       "      <td>Has few artistic interests</td>\n",
       "      <td>41</td>\n",
       "      <td>5</td>\n",
       "      <td>5</td>\n",
       "      <td>False</td>\n",
       "      <td>5</td>\n",
       "    </tr>\n",
       "    <tr>\n",
       "      <th>287757</th>\n",
       "      <td>Niall Horan</td>\n",
       "      <td>Singer</td>\n",
       "      <td>Likes to cooperate with others</td>\n",
       "      <td>42</td>\n",
       "      <td>3</td>\n",
       "      <td>3</td>\n",
       "      <td>False</td>\n",
       "      <td>3</td>\n",
       "    </tr>\n",
       "    <tr>\n",
       "      <th>287758</th>\n",
       "      <td>Niall Horan</td>\n",
       "      <td>Singer</td>\n",
       "      <td>Is easily distracted</td>\n",
       "      <td>43</td>\n",
       "      <td>4</td>\n",
       "      <td>4</td>\n",
       "      <td>False</td>\n",
       "      <td>4</td>\n",
       "    </tr>\n",
       "    <tr>\n",
       "      <th>287759</th>\n",
       "      <td>Niall Horan</td>\n",
       "      <td>Singer</td>\n",
       "      <td>Is sophisticated in art, music, or Literature</td>\n",
       "      <td>44</td>\n",
       "      <td>5</td>\n",
       "      <td>5</td>\n",
       "      <td>False</td>\n",
       "      <td>5</td>\n",
       "    </tr>\n",
       "  </tbody>\n",
       "</table>\n",
       "<p>287760 rows × 8 columns</p>\n",
       "</div>"
      ],
      "text/plain": [
       "                   Name  source  \\\n",
       "0       Michael Jackson   Actor   \n",
       "1       Michael Jackson   Actor   \n",
       "2       Michael Jackson   Actor   \n",
       "3       Michael Jackson   Actor   \n",
       "4       Michael Jackson   Actor   \n",
       "...                 ...     ...   \n",
       "287755      Niall Horan  Singer   \n",
       "287756      Niall Horan  Singer   \n",
       "287757      Niall Horan  Singer   \n",
       "287758      Niall Horan  Singer   \n",
       "287759      Niall Horan  Singer   \n",
       "\n",
       "                                                 Item  Itemnum  Answer  \\\n",
       "0                                        Is talkative        1       3   \n",
       "1                     Tends to find fault with others        2       2   \n",
       "2                                 Does a thorough job        3       5   \n",
       "3                                  Is depressed, blue        4       5   \n",
       "4                Is original, comes up with new ideas        5       3   \n",
       "...                                               ...      ...     ...   \n",
       "287755              Likes to reflect, play with ideas       40       5   \n",
       "287756                     Has few artistic interests       41       5   \n",
       "287757                 Likes to cooperate with others       42       3   \n",
       "287758                           Is easily distracted       43       4   \n",
       "287759  Is sophisticated in art, music, or Literature       44       5   \n",
       "\n",
       "        Answer_numeric  Is_non_numeric  adjusted_score  \n",
       "0                    3           False               3  \n",
       "1                    2           False               2  \n",
       "2                    5           False               5  \n",
       "3                    5           False               5  \n",
       "4                    3           False               3  \n",
       "...                ...             ...             ...  \n",
       "287755               5           False               5  \n",
       "287756               5           False               5  \n",
       "287757               3           False               3  \n",
       "287758               4           False               4  \n",
       "287759               5           False               5  \n",
       "\n",
       "[287760 rows x 8 columns]"
      ]
     },
     "execution_count": 36,
     "metadata": {},
     "output_type": "execute_result"
    }
   ],
   "source": [
    "df_comb"
   ]
  },
  {
   "cell_type": "code",
   "execution_count": 37,
   "metadata": {},
   "outputs": [
    {
     "name": "stdout",
     "output_type": "stream",
     "text": [
      "(23980, 6)\n"
     ]
    }
   ],
   "source": [
    "import pandas as pd\n",
    "from scipy.stats import mode\n",
    "\n",
    "# Group by the specified columns and calculate mean, std, and mode\n",
    "avg_score = df_comb.groupby(['Name', 'Itemnum', 'source'])['adjusted_score'].agg(\n",
    "    mean='mean',\n",
    "    std='std',\n",
    "    mode=lambda x: mode(x, keepdims=True).mode[0]  # Extract the first mode value\n",
    ").reset_index()\n",
    "print(avg_score.shape)\n",
    "\n"
   ]
  },
  {
   "cell_type": "code",
   "execution_count": 38,
   "metadata": {},
   "outputs": [
    {
     "data": {
      "text/html": [
       "<div>\n",
       "<style scoped>\n",
       "    .dataframe tbody tr th:only-of-type {\n",
       "        vertical-align: middle;\n",
       "    }\n",
       "\n",
       "    .dataframe tbody tr th {\n",
       "        vertical-align: top;\n",
       "    }\n",
       "\n",
       "    .dataframe thead th {\n",
       "        text-align: right;\n",
       "    }\n",
       "</style>\n",
       "<table border=\"1\" class=\"dataframe\">\n",
       "  <thead>\n",
       "    <tr style=\"text-align: right;\">\n",
       "      <th></th>\n",
       "      <th>Name</th>\n",
       "      <th>Itemnum</th>\n",
       "      <th>source</th>\n",
       "      <th>mean</th>\n",
       "      <th>std</th>\n",
       "      <th>mode</th>\n",
       "    </tr>\n",
       "  </thead>\n",
       "  <tbody>\n",
       "    <tr>\n",
       "      <th>0</th>\n",
       "      <td>50 Cent</td>\n",
       "      <td>1</td>\n",
       "      <td>Entrepreneur</td>\n",
       "      <td>3.250000</td>\n",
       "      <td>1.288057</td>\n",
       "      <td>3</td>\n",
       "    </tr>\n",
       "    <tr>\n",
       "      <th>1</th>\n",
       "      <td>50 Cent</td>\n",
       "      <td>2</td>\n",
       "      <td>Entrepreneur</td>\n",
       "      <td>3.416667</td>\n",
       "      <td>1.621354</td>\n",
       "      <td>5</td>\n",
       "    </tr>\n",
       "    <tr>\n",
       "      <th>2</th>\n",
       "      <td>50 Cent</td>\n",
       "      <td>3</td>\n",
       "      <td>Entrepreneur</td>\n",
       "      <td>3.916667</td>\n",
       "      <td>1.240112</td>\n",
       "      <td>5</td>\n",
       "    </tr>\n",
       "    <tr>\n",
       "      <th>3</th>\n",
       "      <td>50 Cent</td>\n",
       "      <td>4</td>\n",
       "      <td>Entrepreneur</td>\n",
       "      <td>3.916667</td>\n",
       "      <td>1.505042</td>\n",
       "      <td>5</td>\n",
       "    </tr>\n",
       "    <tr>\n",
       "      <th>4</th>\n",
       "      <td>50 Cent</td>\n",
       "      <td>5</td>\n",
       "      <td>Entrepreneur</td>\n",
       "      <td>4.250000</td>\n",
       "      <td>1.288057</td>\n",
       "      <td>5</td>\n",
       "    </tr>\n",
       "    <tr>\n",
       "      <th>...</th>\n",
       "      <td>...</td>\n",
       "      <td>...</td>\n",
       "      <td>...</td>\n",
       "      <td>...</td>\n",
       "      <td>...</td>\n",
       "      <td>...</td>\n",
       "    </tr>\n",
       "    <tr>\n",
       "      <th>23975</th>\n",
       "      <td>Édith Piaf</td>\n",
       "      <td>40</td>\n",
       "      <td>Actor</td>\n",
       "      <td>4.250000</td>\n",
       "      <td>0.866025</td>\n",
       "      <td>5</td>\n",
       "    </tr>\n",
       "    <tr>\n",
       "      <th>23976</th>\n",
       "      <td>Édith Piaf</td>\n",
       "      <td>41</td>\n",
       "      <td>Actor</td>\n",
       "      <td>3.083333</td>\n",
       "      <td>1.240112</td>\n",
       "      <td>3</td>\n",
       "    </tr>\n",
       "    <tr>\n",
       "      <th>23977</th>\n",
       "      <td>Édith Piaf</td>\n",
       "      <td>42</td>\n",
       "      <td>Actor</td>\n",
       "      <td>4.083333</td>\n",
       "      <td>1.240112</td>\n",
       "      <td>5</td>\n",
       "    </tr>\n",
       "    <tr>\n",
       "      <th>23978</th>\n",
       "      <td>Édith Piaf</td>\n",
       "      <td>43</td>\n",
       "      <td>Actor</td>\n",
       "      <td>3.583333</td>\n",
       "      <td>1.240112</td>\n",
       "      <td>4</td>\n",
       "    </tr>\n",
       "    <tr>\n",
       "      <th>23979</th>\n",
       "      <td>Édith Piaf</td>\n",
       "      <td>44</td>\n",
       "      <td>Actor</td>\n",
       "      <td>4.083333</td>\n",
       "      <td>1.378954</td>\n",
       "      <td>5</td>\n",
       "    </tr>\n",
       "  </tbody>\n",
       "</table>\n",
       "<p>23980 rows × 6 columns</p>\n",
       "</div>"
      ],
      "text/plain": [
       "             Name  Itemnum        source      mean       std  mode\n",
       "0         50 Cent        1  Entrepreneur  3.250000  1.288057     3\n",
       "1         50 Cent        2  Entrepreneur  3.416667  1.621354     5\n",
       "2         50 Cent        3  Entrepreneur  3.916667  1.240112     5\n",
       "3         50 Cent        4  Entrepreneur  3.916667  1.505042     5\n",
       "4         50 Cent        5  Entrepreneur  4.250000  1.288057     5\n",
       "...           ...      ...           ...       ...       ...   ...\n",
       "23975  Édith Piaf       40         Actor  4.250000  0.866025     5\n",
       "23976  Édith Piaf       41         Actor  3.083333  1.240112     3\n",
       "23977  Édith Piaf       42         Actor  4.083333  1.240112     5\n",
       "23978  Édith Piaf       43         Actor  3.583333  1.240112     4\n",
       "23979  Édith Piaf       44         Actor  4.083333  1.378954     5\n",
       "\n",
       "[23980 rows x 6 columns]"
      ]
     },
     "execution_count": 38,
     "metadata": {},
     "output_type": "execute_result"
    }
   ],
   "source": [
    "avg_score"
   ]
  },
  {
   "cell_type": "code",
   "execution_count": 39,
   "metadata": {},
   "outputs": [
    {
     "data": {
      "text/plain": [
       "np.float64(1.23181404342406)"
      ]
     },
     "execution_count": 39,
     "metadata": {},
     "output_type": "execute_result"
    }
   ],
   "source": [
    "avg_score['std'].mean()"
   ]
  },
  {
   "cell_type": "code",
   "execution_count": 40,
   "metadata": {},
   "outputs": [
    {
     "name": "stdout",
     "output_type": "stream",
     "text": [
      "Series([], Name: Name, dtype: object)\n",
      "Original number of rows: 23980\n",
      "Number of rows after filtering: 23980\n",
      "Number of rows removed: 0\n"
     ]
    }
   ],
   "source": [
    "df_drop=avg_score.loc[avg_score['mode'].isna()]['Name']\n",
    "print(df_drop)\n",
    "df_filt = avg_score[~avg_score['Name'].isin(df_drop)]\n",
    "\n",
    "df_filt = df_filt.reset_index(drop=True)\n",
    "\n",
    "# Print some information about the filtering process\n",
    "print(f\"Original number of rows: {len(avg_score)}\")\n",
    "print(f\"Number of rows after filtering: {len(df_filt)}\")\n",
    "print(f\"Number of rows removed: {len(avg_score) - len(df_filt)}\")\n"
   ]
  },
  {
   "cell_type": "code",
   "execution_count": 41,
   "metadata": {},
   "outputs": [
    {
     "name": "stdout",
     "output_type": "stream",
     "text": [
      "(545, 7)\n",
      "                       Name        source  Extraversion  Agreeableness  \\\n",
      "0                   50 Cent  Entrepreneur         4.250          4.222   \n",
      "1               A. A. Milne        Author         3.500          3.444   \n",
      "2    Abdelkader El Djezairi     Scientist         3.000          4.111   \n",
      "3           Abraham Lincoln           HoS         4.250          4.333   \n",
      "4                Ada Yonath     Scientist         4.000          4.111   \n",
      "..                      ...           ...           ...            ...   \n",
      "540     Zbigniew Brzezinski        Author         4.125          3.333   \n",
      "541                 Zendaya         Actor         4.250          4.333   \n",
      "542           Zhan Beleniuk       Athlete         4.000          4.000   \n",
      "543      Zlatan Ibrahimovic       Athlete         4.500          4.556   \n",
      "544              Édith Piaf         Actor         3.750          4.333   \n",
      "\n",
      "     Conscientiousness  Neuroticism  Openness  \n",
      "0                4.778        4.750       3.6  \n",
      "1                4.222        4.250       3.7  \n",
      "2                4.000        4.625       3.9  \n",
      "3                5.000        5.000       3.6  \n",
      "4                3.778        4.750       3.5  \n",
      "..                 ...          ...       ...  \n",
      "540              4.889        4.250       3.8  \n",
      "541              4.667        4.250       3.6  \n",
      "542              4.444        4.625       3.9  \n",
      "543              5.000        4.625       3.7  \n",
      "544              4.444        4.750       3.6  \n",
      "\n",
      "[545 rows x 7 columns]\n"
     ]
    }
   ],
   "source": [
    "result_sd3_n=bfi_calc(df_filt)\n",
    "result_sd3_n.to_csv('./test_scores/mode/BFI/result_f7b_bfi_nm.csv')"
   ]
  },
  {
   "cell_type": "markdown",
   "metadata": {},
   "source": [
    "### LLama 70B"
   ]
  },
  {
   "cell_type": "code",
   "execution_count": 236,
   "metadata": {},
   "outputs": [
    {
     "name": "stdout",
     "output_type": "stream",
     "text": [
      "Files found: ['.\\\\LLamaResult\\\\neutral\\\\bfi\\\\results_bfi_neutralp1_1.csv', '.\\\\LLamaResult\\\\neutral\\\\bfi\\\\results_bfi_neutralp1_2.csv', '.\\\\LLamaResult\\\\neutral\\\\bfi\\\\results_bfi_neutralp1_3.csv', '.\\\\LLamaResult\\\\neutral\\\\bfi\\\\results_bfi_neutralp2_1.csv', '.\\\\LLamaResult\\\\neutral\\\\bfi\\\\results_bfi_neutralp2_2.csv', '.\\\\LLamaResult\\\\neutral\\\\bfi\\\\results_bfi_neutralp2_3.csv', '.\\\\LLamaResult\\\\neutral\\\\bfi\\\\results_bfi_neutralp3_1.csv', '.\\\\LLamaResult\\\\neutral\\\\bfi\\\\results_bfi_neutralp3_2.csv', '.\\\\LLamaResult\\\\neutral\\\\bfi\\\\results_bfi_neutralp3_3.csv', '.\\\\LLamaResult\\\\neutral\\\\bfi\\\\results_bfi_neutralp4_1.csv', '.\\\\LLamaResult\\\\neutral\\\\bfi\\\\results_bfi_neutralp4_2.csv', '.\\\\LLamaResult\\\\neutral\\\\bfi\\\\results_bfi_neutralp4_3.csv']\n",
      "Reading file: .\\LLamaResult\\neutral\\bfi\\results_bfi_neutralp1_1.csv\n",
      "df shape is: (23980, 5)\n",
      "Reading file: .\\LLamaResult\\neutral\\bfi\\results_bfi_neutralp1_2.csv\n",
      "df shape is: (23980, 5)\n",
      "Reading file: .\\LLamaResult\\neutral\\bfi\\results_bfi_neutralp1_3.csv\n",
      "df shape is: (23980, 5)\n",
      "Reading file: .\\LLamaResult\\neutral\\bfi\\results_bfi_neutralp2_1.csv\n",
      "df shape is: (23980, 5)\n",
      "Reading file: .\\LLamaResult\\neutral\\bfi\\results_bfi_neutralp2_2.csv\n",
      "df shape is: (23980, 5)\n",
      "Reading file: .\\LLamaResult\\neutral\\bfi\\results_bfi_neutralp2_3.csv\n",
      "df shape is: (23980, 5)\n",
      "Reading file: .\\LLamaResult\\neutral\\bfi\\results_bfi_neutralp3_1.csv\n",
      "df shape is: (23980, 5)\n",
      "Reading file: .\\LLamaResult\\neutral\\bfi\\results_bfi_neutralp3_2.csv\n",
      "df shape is: (23980, 5)\n",
      "Reading file: .\\LLamaResult\\neutral\\bfi\\results_bfi_neutralp3_3.csv\n",
      "df shape is: (23980, 5)\n",
      "Reading file: .\\LLamaResult\\neutral\\bfi\\results_bfi_neutralp4_1.csv\n",
      "df shape is: (23980, 5)\n",
      "Reading file: .\\LLamaResult\\neutral\\bfi\\results_bfi_neutralp4_2.csv\n",
      "df shape is: (23980, 5)\n",
      "Reading file: .\\LLamaResult\\neutral\\bfi\\results_bfi_neutralp4_3.csv\n",
      "df shape is: (23980, 5)\n",
      "Combined DataFrame shape: (287760, 5)\n"
     ]
    }
   ],
   "source": [
    "import pandas as pd\n",
    "import glob\n",
    "import os\n",
    "\n",
    "# Correct the path construction\n",
    "path = r'.\\LLamaResult\\neutral\\bfi'  \n",
    "\n",
    "# Adjust the glob pattern for .csv files\n",
    "all_files = glob.glob(os.path.join(path, '*.csv'))\n",
    "\n",
    "df_list = []\n",
    "print(\"Files found:\", all_files)\n",
    "\n",
    "# Iterate over the files\n",
    "for filename in all_files:\n",
    "    df = pd.read_csv(filename, index_col=None, header=0)\n",
    "    print(f\"Reading file: {filename}\")\n",
    "    print(\"df shape is:\", df.shape)\n",
    "    df_list.append(df)\n",
    "\n",
    "# Combine all DataFrames into one\n",
    "df_comb = pd.concat(df_list, axis=0, ignore_index=True)\n",
    "\n",
    "print(\"Combined DataFrame shape:\", df_comb.shape)\n"
   ]
  },
  {
   "cell_type": "code",
   "execution_count": 237,
   "metadata": {},
   "outputs": [
    {
     "data": {
      "text/plain": [
       "Index(['Name', 'source', 'Item', 'ItemNum', 'Answer'], dtype='object')"
      ]
     },
     "execution_count": 237,
     "metadata": {},
     "output_type": "execute_result"
    }
   ],
   "source": [
    "df_comb.columns"
   ]
  },
  {
   "cell_type": "code",
   "execution_count": 238,
   "metadata": {},
   "outputs": [
    {
     "name": "stdout",
     "output_type": "stream",
     "text": [
      "ItemNum\n",
      "4     16\n",
      "1      3\n",
      "36     1\n",
      "41     1\n",
      "5      0\n",
      "6      0\n",
      "7      0\n",
      "8      0\n",
      "9      0\n",
      "10     0\n",
      "2      0\n",
      "3      0\n",
      "12     0\n",
      "11     0\n",
      "13     0\n",
      "14     0\n",
      "17     0\n",
      "18     0\n",
      "15     0\n",
      "16     0\n",
      "21     0\n",
      "22     0\n",
      "23     0\n",
      "24     0\n",
      "25     0\n",
      "26     0\n",
      "19     0\n",
      "20     0\n",
      "28     0\n",
      "27     0\n",
      "31     0\n",
      "29     0\n",
      "32     0\n",
      "33     0\n",
      "34     0\n",
      "30     0\n",
      "35     0\n",
      "37     0\n",
      "39     0\n",
      "38     0\n",
      "40     0\n",
      "42     0\n",
      "43     0\n",
      "44     0\n",
      "Name: Is_non_numeric, dtype: int64\n"
     ]
    }
   ],
   "source": [
    "# Apply the function to the 'Answer' column\n",
    "df_comb['Answer'] = df_comb['Answer'].apply(extract_number)\n",
    "\n",
    "df_comb['Answer_numeric'] = pd.to_numeric(df_comb['Answer'], errors='coerce')\n",
    "\n",
    "# Identify non-numeric values\n",
    "df_comb['Is_non_numeric'] = df_comb['Answer_numeric'].isna()\n",
    "\n",
    "# Group by 'Itemnum' and count non-numeric answers\n",
    "result = df_comb.groupby('ItemNum')['Is_non_numeric'].sum()\n",
    "\n",
    "# Sort the result in descending order\n",
    "result_sorted = result.sort_values(ascending=False)\n",
    "\n",
    "# Display the sorted result\n",
    "print(result_sorted)\n"
   ]
  },
  {
   "cell_type": "code",
   "execution_count": 239,
   "metadata": {},
   "outputs": [
    {
     "data": {
      "text/plain": [
       "np.int64(21)"
      ]
     },
     "execution_count": 239,
     "metadata": {},
     "output_type": "execute_result"
    }
   ],
   "source": [
    "nan_count = df_comb['Answer_numeric'].isna().sum()\n",
    "nan_count"
   ]
  },
  {
   "cell_type": "code",
   "execution_count": 240,
   "metadata": {},
   "outputs": [
    {
     "data": {
      "text/plain": [
       "<bound method NDFrame.head of                    Name  source  \\\n",
       "0       Michael Jackson   Actor   \n",
       "1       Michael Jackson   Actor   \n",
       "2       Michael Jackson   Actor   \n",
       "3       Michael Jackson   Actor   \n",
       "4       Michael Jackson   Actor   \n",
       "...                 ...     ...   \n",
       "287755      Niall Horan  Singer   \n",
       "287756      Niall Horan  Singer   \n",
       "287757      Niall Horan  Singer   \n",
       "287758      Niall Horan  Singer   \n",
       "287759      Niall Horan  Singer   \n",
       "\n",
       "                                                 Item  ItemNum  Answer  \\\n",
       "0                                        Is talkative        1     4.0   \n",
       "1                     Tends to find fault with others        2     2.0   \n",
       "2                                 Does a thorough job        3     5.0   \n",
       "3                                  Is depressed, blue        4     1.0   \n",
       "4                Is original, comes up with new ideas        5     5.0   \n",
       "...                                               ...      ...     ...   \n",
       "287755              Likes to reflect, play with ideas       40     4.0   \n",
       "287756                     Has few artistic interests       41     1.0   \n",
       "287757                 Likes to cooperate with others       42     5.0   \n",
       "287758                           Is easily distracted       43     2.0   \n",
       "287759  Is sophisticated in art, music, or Literature       44     4.0   \n",
       "\n",
       "        Answer_numeric  Is_non_numeric  \n",
       "0                  4.0           False  \n",
       "1                  2.0           False  \n",
       "2                  5.0           False  \n",
       "3                  1.0           False  \n",
       "4                  5.0           False  \n",
       "...                ...             ...  \n",
       "287755             4.0           False  \n",
       "287756             1.0           False  \n",
       "287757             5.0           False  \n",
       "287758             2.0           False  \n",
       "287759             4.0           False  \n",
       "\n",
       "[287760 rows x 7 columns]>"
      ]
     },
     "execution_count": 240,
     "metadata": {},
     "output_type": "execute_result"
    }
   ],
   "source": [
    "df_comb.head"
   ]
  },
  {
   "cell_type": "code",
   "execution_count": 241,
   "metadata": {},
   "outputs": [
    {
     "data": {
      "text/plain": [
       "Index(['Name', 'source', 'Item', 'ItemNum', 'Answer', 'Answer_numeric',\n",
       "       'Is_non_numeric'],\n",
       "      dtype='object')"
      ]
     },
     "execution_count": 241,
     "metadata": {},
     "output_type": "execute_result"
    }
   ],
   "source": [
    "df_comb.columns"
   ]
  },
  {
   "cell_type": "code",
   "execution_count": 242,
   "metadata": {},
   "outputs": [],
   "source": [
    "\n",
    "#If there is a guardrail for a particular item, we replace tha value with 3\n",
    "# os.sleep(10)\n",
    "df_comb.loc[(df_comb['ItemNum'] == 4) & (df_comb['Answer_numeric'].isna()), 'Answer_numeric'] = 3\n",
    "\n",
    "#print(df_comb.shape)\n",
    "\n",
    "\n"
   ]
  },
  {
   "cell_type": "code",
   "execution_count": 243,
   "metadata": {},
   "outputs": [
    {
     "name": "stdout",
     "output_type": "stream",
     "text": [
      "(287760, 7)\n"
     ]
    }
   ],
   "source": [
    "print(df_comb.shape)"
   ]
  },
  {
   "cell_type": "code",
   "execution_count": 244,
   "metadata": {},
   "outputs": [
    {
     "name": "stdout",
     "output_type": "stream",
     "text": [
      "440256\n"
     ]
    }
   ],
   "source": [
    "df_comb['adjusted_score'] = df_comb.apply(adjust_score,axis=1)\n",
    "\n",
    "print(counthit)\n"
   ]
  },
  {
   "cell_type": "code",
   "execution_count": 245,
   "metadata": {},
   "outputs": [
    {
     "data": {
      "text/html": [
       "<div>\n",
       "<style scoped>\n",
       "    .dataframe tbody tr th:only-of-type {\n",
       "        vertical-align: middle;\n",
       "    }\n",
       "\n",
       "    .dataframe tbody tr th {\n",
       "        vertical-align: top;\n",
       "    }\n",
       "\n",
       "    .dataframe thead th {\n",
       "        text-align: right;\n",
       "    }\n",
       "</style>\n",
       "<table border=\"1\" class=\"dataframe\">\n",
       "  <thead>\n",
       "    <tr style=\"text-align: right;\">\n",
       "      <th></th>\n",
       "      <th>Name</th>\n",
       "      <th>source</th>\n",
       "      <th>Item</th>\n",
       "      <th>ItemNum</th>\n",
       "      <th>Answer</th>\n",
       "      <th>Answer_numeric</th>\n",
       "      <th>Is_non_numeric</th>\n",
       "      <th>adjusted_score</th>\n",
       "    </tr>\n",
       "  </thead>\n",
       "  <tbody>\n",
       "    <tr>\n",
       "      <th>0</th>\n",
       "      <td>Michael Jackson</td>\n",
       "      <td>Actor</td>\n",
       "      <td>Is talkative</td>\n",
       "      <td>1</td>\n",
       "      <td>4.0</td>\n",
       "      <td>4.0</td>\n",
       "      <td>False</td>\n",
       "      <td>4.0</td>\n",
       "    </tr>\n",
       "    <tr>\n",
       "      <th>1</th>\n",
       "      <td>Michael Jackson</td>\n",
       "      <td>Actor</td>\n",
       "      <td>Tends to find fault with others</td>\n",
       "      <td>2</td>\n",
       "      <td>2.0</td>\n",
       "      <td>2.0</td>\n",
       "      <td>False</td>\n",
       "      <td>4.0</td>\n",
       "    </tr>\n",
       "    <tr>\n",
       "      <th>2</th>\n",
       "      <td>Michael Jackson</td>\n",
       "      <td>Actor</td>\n",
       "      <td>Does a thorough job</td>\n",
       "      <td>3</td>\n",
       "      <td>5.0</td>\n",
       "      <td>5.0</td>\n",
       "      <td>False</td>\n",
       "      <td>5.0</td>\n",
       "    </tr>\n",
       "    <tr>\n",
       "      <th>3</th>\n",
       "      <td>Michael Jackson</td>\n",
       "      <td>Actor</td>\n",
       "      <td>Is depressed, blue</td>\n",
       "      <td>4</td>\n",
       "      <td>1.0</td>\n",
       "      <td>1.0</td>\n",
       "      <td>False</td>\n",
       "      <td>1.0</td>\n",
       "    </tr>\n",
       "    <tr>\n",
       "      <th>4</th>\n",
       "      <td>Michael Jackson</td>\n",
       "      <td>Actor</td>\n",
       "      <td>Is original, comes up with new ideas</td>\n",
       "      <td>5</td>\n",
       "      <td>5.0</td>\n",
       "      <td>5.0</td>\n",
       "      <td>False</td>\n",
       "      <td>5.0</td>\n",
       "    </tr>\n",
       "    <tr>\n",
       "      <th>...</th>\n",
       "      <td>...</td>\n",
       "      <td>...</td>\n",
       "      <td>...</td>\n",
       "      <td>...</td>\n",
       "      <td>...</td>\n",
       "      <td>...</td>\n",
       "      <td>...</td>\n",
       "      <td>...</td>\n",
       "    </tr>\n",
       "    <tr>\n",
       "      <th>287755</th>\n",
       "      <td>Niall Horan</td>\n",
       "      <td>Singer</td>\n",
       "      <td>Likes to reflect, play with ideas</td>\n",
       "      <td>40</td>\n",
       "      <td>4.0</td>\n",
       "      <td>4.0</td>\n",
       "      <td>False</td>\n",
       "      <td>4.0</td>\n",
       "    </tr>\n",
       "    <tr>\n",
       "      <th>287756</th>\n",
       "      <td>Niall Horan</td>\n",
       "      <td>Singer</td>\n",
       "      <td>Has few artistic interests</td>\n",
       "      <td>41</td>\n",
       "      <td>1.0</td>\n",
       "      <td>1.0</td>\n",
       "      <td>False</td>\n",
       "      <td>5.0</td>\n",
       "    </tr>\n",
       "    <tr>\n",
       "      <th>287757</th>\n",
       "      <td>Niall Horan</td>\n",
       "      <td>Singer</td>\n",
       "      <td>Likes to cooperate with others</td>\n",
       "      <td>42</td>\n",
       "      <td>5.0</td>\n",
       "      <td>5.0</td>\n",
       "      <td>False</td>\n",
       "      <td>5.0</td>\n",
       "    </tr>\n",
       "    <tr>\n",
       "      <th>287758</th>\n",
       "      <td>Niall Horan</td>\n",
       "      <td>Singer</td>\n",
       "      <td>Is easily distracted</td>\n",
       "      <td>43</td>\n",
       "      <td>2.0</td>\n",
       "      <td>2.0</td>\n",
       "      <td>False</td>\n",
       "      <td>4.0</td>\n",
       "    </tr>\n",
       "    <tr>\n",
       "      <th>287759</th>\n",
       "      <td>Niall Horan</td>\n",
       "      <td>Singer</td>\n",
       "      <td>Is sophisticated in art, music, or Literature</td>\n",
       "      <td>44</td>\n",
       "      <td>4.0</td>\n",
       "      <td>4.0</td>\n",
       "      <td>False</td>\n",
       "      <td>4.0</td>\n",
       "    </tr>\n",
       "  </tbody>\n",
       "</table>\n",
       "<p>287760 rows × 8 columns</p>\n",
       "</div>"
      ],
      "text/plain": [
       "                   Name  source  \\\n",
       "0       Michael Jackson   Actor   \n",
       "1       Michael Jackson   Actor   \n",
       "2       Michael Jackson   Actor   \n",
       "3       Michael Jackson   Actor   \n",
       "4       Michael Jackson   Actor   \n",
       "...                 ...     ...   \n",
       "287755      Niall Horan  Singer   \n",
       "287756      Niall Horan  Singer   \n",
       "287757      Niall Horan  Singer   \n",
       "287758      Niall Horan  Singer   \n",
       "287759      Niall Horan  Singer   \n",
       "\n",
       "                                                 Item  ItemNum  Answer  \\\n",
       "0                                        Is talkative        1     4.0   \n",
       "1                     Tends to find fault with others        2     2.0   \n",
       "2                                 Does a thorough job        3     5.0   \n",
       "3                                  Is depressed, blue        4     1.0   \n",
       "4                Is original, comes up with new ideas        5     5.0   \n",
       "...                                               ...      ...     ...   \n",
       "287755              Likes to reflect, play with ideas       40     4.0   \n",
       "287756                     Has few artistic interests       41     1.0   \n",
       "287757                 Likes to cooperate with others       42     5.0   \n",
       "287758                           Is easily distracted       43     2.0   \n",
       "287759  Is sophisticated in art, music, or Literature       44     4.0   \n",
       "\n",
       "        Answer_numeric  Is_non_numeric  adjusted_score  \n",
       "0                  4.0           False             4.0  \n",
       "1                  2.0           False             4.0  \n",
       "2                  5.0           False             5.0  \n",
       "3                  1.0           False             1.0  \n",
       "4                  5.0           False             5.0  \n",
       "...                ...             ...             ...  \n",
       "287755             4.0           False             4.0  \n",
       "287756             1.0           False             5.0  \n",
       "287757             5.0           False             5.0  \n",
       "287758             2.0           False             4.0  \n",
       "287759             4.0           False             4.0  \n",
       "\n",
       "[287760 rows x 8 columns]"
      ]
     },
     "execution_count": 245,
     "metadata": {},
     "output_type": "execute_result"
    }
   ],
   "source": [
    "df_comb"
   ]
  },
  {
   "cell_type": "code",
   "execution_count": 246,
   "metadata": {},
   "outputs": [
    {
     "name": "stdout",
     "output_type": "stream",
     "text": [
      "(23980, 6)\n"
     ]
    }
   ],
   "source": [
    "avg_score= df_comb.groupby(['Name', 'ItemNum','source'])['adjusted_score'].agg(\n",
    "    mean='mean',\n",
    "    std='std',\n",
    "    mode=lambda x: mode(x, keepdims=True).mode[0]  # Extract the first mode value\n",
    ").reset_index()\n",
    "print(avg_score.shape)\n",
    "\n",
    "\n"
   ]
  },
  {
   "cell_type": "code",
   "execution_count": 247,
   "metadata": {},
   "outputs": [
    {
     "data": {
      "text/html": [
       "<div>\n",
       "<style scoped>\n",
       "    .dataframe tbody tr th:only-of-type {\n",
       "        vertical-align: middle;\n",
       "    }\n",
       "\n",
       "    .dataframe tbody tr th {\n",
       "        vertical-align: top;\n",
       "    }\n",
       "\n",
       "    .dataframe thead th {\n",
       "        text-align: right;\n",
       "    }\n",
       "</style>\n",
       "<table border=\"1\" class=\"dataframe\">\n",
       "  <thead>\n",
       "    <tr style=\"text-align: right;\">\n",
       "      <th></th>\n",
       "      <th>Name</th>\n",
       "      <th>ItemNum</th>\n",
       "      <th>source</th>\n",
       "      <th>mean</th>\n",
       "      <th>std</th>\n",
       "      <th>mode</th>\n",
       "    </tr>\n",
       "  </thead>\n",
       "  <tbody>\n",
       "    <tr>\n",
       "      <th>0</th>\n",
       "      <td>50 Cent</td>\n",
       "      <td>1</td>\n",
       "      <td>Entrepreneur</td>\n",
       "      <td>3.416667</td>\n",
       "      <td>1.621354</td>\n",
       "      <td>5.0</td>\n",
       "    </tr>\n",
       "    <tr>\n",
       "      <th>1</th>\n",
       "      <td>50 Cent</td>\n",
       "      <td>2</td>\n",
       "      <td>Entrepreneur</td>\n",
       "      <td>2.750000</td>\n",
       "      <td>1.055290</td>\n",
       "      <td>2.0</td>\n",
       "    </tr>\n",
       "    <tr>\n",
       "      <th>2</th>\n",
       "      <td>50 Cent</td>\n",
       "      <td>3</td>\n",
       "      <td>Entrepreneur</td>\n",
       "      <td>4.583333</td>\n",
       "      <td>0.514929</td>\n",
       "      <td>5.0</td>\n",
       "    </tr>\n",
       "    <tr>\n",
       "      <th>3</th>\n",
       "      <td>50 Cent</td>\n",
       "      <td>4</td>\n",
       "      <td>Entrepreneur</td>\n",
       "      <td>2.250000</td>\n",
       "      <td>0.621582</td>\n",
       "      <td>2.0</td>\n",
       "    </tr>\n",
       "    <tr>\n",
       "      <th>4</th>\n",
       "      <td>50 Cent</td>\n",
       "      <td>5</td>\n",
       "      <td>Entrepreneur</td>\n",
       "      <td>4.916667</td>\n",
       "      <td>0.288675</td>\n",
       "      <td>5.0</td>\n",
       "    </tr>\n",
       "    <tr>\n",
       "      <th>...</th>\n",
       "      <td>...</td>\n",
       "      <td>...</td>\n",
       "      <td>...</td>\n",
       "      <td>...</td>\n",
       "      <td>...</td>\n",
       "      <td>...</td>\n",
       "    </tr>\n",
       "    <tr>\n",
       "      <th>23975</th>\n",
       "      <td>Édith Piaf</td>\n",
       "      <td>40</td>\n",
       "      <td>Actor</td>\n",
       "      <td>3.833333</td>\n",
       "      <td>1.114641</td>\n",
       "      <td>4.0</td>\n",
       "    </tr>\n",
       "    <tr>\n",
       "      <th>23976</th>\n",
       "      <td>Édith Piaf</td>\n",
       "      <td>41</td>\n",
       "      <td>Actor</td>\n",
       "      <td>5.000000</td>\n",
       "      <td>0.000000</td>\n",
       "      <td>5.0</td>\n",
       "    </tr>\n",
       "    <tr>\n",
       "      <th>23977</th>\n",
       "      <td>Édith Piaf</td>\n",
       "      <td>42</td>\n",
       "      <td>Actor</td>\n",
       "      <td>3.750000</td>\n",
       "      <td>0.866025</td>\n",
       "      <td>4.0</td>\n",
       "    </tr>\n",
       "    <tr>\n",
       "      <th>23978</th>\n",
       "      <td>Édith Piaf</td>\n",
       "      <td>43</td>\n",
       "      <td>Actor</td>\n",
       "      <td>2.916667</td>\n",
       "      <td>0.900337</td>\n",
       "      <td>2.0</td>\n",
       "    </tr>\n",
       "    <tr>\n",
       "      <th>23979</th>\n",
       "      <td>Édith Piaf</td>\n",
       "      <td>44</td>\n",
       "      <td>Actor</td>\n",
       "      <td>5.000000</td>\n",
       "      <td>0.000000</td>\n",
       "      <td>5.0</td>\n",
       "    </tr>\n",
       "  </tbody>\n",
       "</table>\n",
       "<p>23980 rows × 6 columns</p>\n",
       "</div>"
      ],
      "text/plain": [
       "             Name  ItemNum        source      mean       std  mode\n",
       "0         50 Cent        1  Entrepreneur  3.416667  1.621354   5.0\n",
       "1         50 Cent        2  Entrepreneur  2.750000  1.055290   2.0\n",
       "2         50 Cent        3  Entrepreneur  4.583333  0.514929   5.0\n",
       "3         50 Cent        4  Entrepreneur  2.250000  0.621582   2.0\n",
       "4         50 Cent        5  Entrepreneur  4.916667  0.288675   5.0\n",
       "...           ...      ...           ...       ...       ...   ...\n",
       "23975  Édith Piaf       40         Actor  3.833333  1.114641   4.0\n",
       "23976  Édith Piaf       41         Actor  5.000000  0.000000   5.0\n",
       "23977  Édith Piaf       42         Actor  3.750000  0.866025   4.0\n",
       "23978  Édith Piaf       43         Actor  2.916667  0.900337   2.0\n",
       "23979  Édith Piaf       44         Actor  5.000000  0.000000   5.0\n",
       "\n",
       "[23980 rows x 6 columns]"
      ]
     },
     "execution_count": 247,
     "metadata": {},
     "output_type": "execute_result"
    }
   ],
   "source": [
    "avg_score"
   ]
  },
  {
   "cell_type": "code",
   "execution_count": 248,
   "metadata": {},
   "outputs": [
    {
     "data": {
      "text/plain": [
       "np.float64(0.6943811895634061)"
      ]
     },
     "execution_count": 248,
     "metadata": {},
     "output_type": "execute_result"
    }
   ],
   "source": [
    "avg_score['std'].mean()"
   ]
  },
  {
   "cell_type": "code",
   "execution_count": 249,
   "metadata": {},
   "outputs": [
    {
     "name": "stdout",
     "output_type": "stream",
     "text": [
      "Series([], Name: Name, dtype: object)\n",
      "Original number of rows: 23980\n",
      "Number of rows after filtering: 23980\n",
      "Number of rows removed: 0\n"
     ]
    }
   ],
   "source": [
    "df_drop=avg_score.loc[avg_score['mode'].isna()]['Name']\n",
    "print(df_drop)\n",
    "df_filt = avg_score[~avg_score['Name'].isin(df_drop)]\n",
    "\n",
    "df_filt = df_filt.reset_index(drop=True)\n",
    "\n",
    "# Print some information about the filtering process\n",
    "print(f\"Original number of rows: {len(avg_score)}\")\n",
    "print(f\"Number of rows after filtering: {len(df_filt)}\")\n",
    "print(f\"Number of rows removed: {len(avg_score) - len(df_filt)}\")\n"
   ]
  },
  {
   "cell_type": "code",
   "execution_count": 250,
   "metadata": {},
   "outputs": [
    {
     "name": "stdout",
     "output_type": "stream",
     "text": [
      "(545, 7)\n",
      "                       Name        source  Extraversion  Agreeableness  \\\n",
      "0                   50 Cent  Entrepreneur         4.625          2.000   \n",
      "1               A. A. Milne        Author         2.625          3.889   \n",
      "2    Abdelkader El Djezairi     Scientist         3.750          4.333   \n",
      "3           Abraham Lincoln           HoS         3.000          4.667   \n",
      "4                Ada Yonath     Scientist         3.375          4.111   \n",
      "..                      ...           ...           ...            ...   \n",
      "540     Zbigniew Brzezinski        Author         3.875          3.556   \n",
      "541                 Zendaya         Actor         4.250          4.000   \n",
      "542           Zhan Beleniuk       Athlete         3.250          4.222   \n",
      "543      Zlatan Ibrahimovic       Athlete         5.000          2.222   \n",
      "544              Édith Piaf         Actor         3.375          3.444   \n",
      "\n",
      "     Conscientiousness  Neuroticism  Openness  \n",
      "0                4.000        2.625       3.5  \n",
      "1                3.556        2.375       4.7  \n",
      "2                4.444        2.250       4.6  \n",
      "3                4.111        2.500       3.6  \n",
      "4                4.667        2.625       4.5  \n",
      "..                 ...          ...       ...  \n",
      "540              4.222        2.250       4.2  \n",
      "541              4.333        2.250       4.8  \n",
      "542              4.556        2.375       4.2  \n",
      "543              5.000        2.125       3.8  \n",
      "544              3.111        4.125       4.3  \n",
      "\n",
      "[545 rows x 7 columns]\n"
     ]
    }
   ],
   "source": [
    "result_sd3_n=bfi_calc(df_filt)\n",
    "result_sd3_n.to_csv('./test_scores/mode/BFI/result_l70b_bfi_nm.csv')"
   ]
  },
  {
   "cell_type": "markdown",
   "metadata": {},
   "source": [
    "### LLama 8B"
   ]
  },
  {
   "cell_type": "code",
   "execution_count": null,
   "metadata": {},
   "outputs": [],
   "source": []
  },
  {
   "cell_type": "code",
   "execution_count": 122,
   "metadata": {},
   "outputs": [],
   "source": [
    "df1=pd.read_csv('./Llama8b/results/results_bfi_goodp1.csv')\n",
    "df2=pd.read_csv('./Llama8b/results/results_bfi_goodp2.csv')"
   ]
  },
  {
   "cell_type": "code",
   "execution_count": 123,
   "metadata": {},
   "outputs": [],
   "source": [
    "df_list=[df1,df2]\n",
    "df_comb = pd.concat(df_list, ignore_index=True)"
   ]
  },
  {
   "cell_type": "code",
   "execution_count": 124,
   "metadata": {},
   "outputs": [
    {
     "data": {
      "text/plain": [
       "(225456, 5)"
      ]
     },
     "execution_count": 124,
     "metadata": {},
     "output_type": "execute_result"
    }
   ],
   "source": [
    "df_comb.shape"
   ]
  },
  {
   "cell_type": "code",
   "execution_count": 125,
   "metadata": {},
   "outputs": [
    {
     "name": "stdout",
     "output_type": "stream",
     "text": [
      "Itemnum\n",
      "1     0\n",
      "2     0\n",
      "3     0\n",
      "4     0\n",
      "5     0\n",
      "6     0\n",
      "7     0\n",
      "8     0\n",
      "9     0\n",
      "10    0\n",
      "11    0\n",
      "12    0\n",
      "13    0\n",
      "14    0\n",
      "15    0\n",
      "16    0\n",
      "17    0\n",
      "18    0\n",
      "19    0\n",
      "20    0\n",
      "21    0\n",
      "22    0\n",
      "23    0\n",
      "24    0\n",
      "25    0\n",
      "26    0\n",
      "27    0\n",
      "28    0\n",
      "29    0\n",
      "30    0\n",
      "31    0\n",
      "32    0\n",
      "33    0\n",
      "34    0\n",
      "35    0\n",
      "36    0\n",
      "37    0\n",
      "38    0\n",
      "39    0\n",
      "40    0\n",
      "41    0\n",
      "42    0\n",
      "43    0\n",
      "44    0\n",
      "Name: Is_non_numeric, dtype: int64\n"
     ]
    }
   ],
   "source": [
    "# Apply the function to the 'Answer' column\n",
    "df_comb['Answer'] = df_comb['Answer'].apply(extract_number)\n",
    "\n",
    "df_comb['Answer_numeric'] = pd.to_numeric(df_comb['Answer'], errors='coerce')\n",
    "\n",
    "# Identify non-numeric values\n",
    "df_comb['Is_non_numeric'] = df_comb['Answer_numeric'].isna()\n",
    "\n",
    "# Group by 'Itemnum' and count non-numeric answers\n",
    "result = df_comb.groupby('Itemnum')['Is_non_numeric'].sum()\n",
    "\n",
    "# Sort the result in descending order\n",
    "result_sorted = result.sort_values(ascending=False)\n",
    "\n",
    "# Display the sorted result\n",
    "print(result_sorted)\n"
   ]
  },
  {
   "cell_type": "code",
   "execution_count": 126,
   "metadata": {},
   "outputs": [
    {
     "data": {
      "text/plain": [
       "np.int64(0)"
      ]
     },
     "execution_count": 126,
     "metadata": {},
     "output_type": "execute_result"
    }
   ],
   "source": [
    "nan_count = df_comb['Answer_numeric'].isna().sum()\n",
    "nan_count"
   ]
  },
  {
   "cell_type": "code",
   "execution_count": 127,
   "metadata": {},
   "outputs": [
    {
     "data": {
      "text/plain": [
       "Index(['Name', 'source', 'Item', 'Itemnum', 'Answer', 'Answer_numeric',\n",
       "       'Is_non_numeric'],\n",
       "      dtype='object')"
      ]
     },
     "execution_count": 127,
     "metadata": {},
     "output_type": "execute_result"
    }
   ],
   "source": [
    "df_comb.columns"
   ]
  },
  {
   "cell_type": "code",
   "execution_count": 128,
   "metadata": {},
   "outputs": [
    {
     "name": "stdout",
     "output_type": "stream",
     "text": [
      "272448\n"
     ]
    }
   ],
   "source": [
    "\n",
    "#If there is a guardrail for a particular item, we replace tha value with 3\n",
    "# os.sleep(10)\n",
    "#df_comb.loc[(df_comb['Itemnum'] == 26) & (df_comb['Answer_numeric'].isna()), 'Answer_numeric'] = 3\n",
    "\n",
    "#print(df_comb.shape)\n",
    "\n",
    "df_comb['adjusted_score'] = df_comb.apply(adjust_score,axis=1)\n",
    "\n",
    "print(counthit)\n",
    "\n"
   ]
  },
  {
   "cell_type": "code",
   "execution_count": 129,
   "metadata": {},
   "outputs": [
    {
     "data": {
      "text/html": [
       "<div>\n",
       "<style scoped>\n",
       "    .dataframe tbody tr th:only-of-type {\n",
       "        vertical-align: middle;\n",
       "    }\n",
       "\n",
       "    .dataframe tbody tr th {\n",
       "        vertical-align: top;\n",
       "    }\n",
       "\n",
       "    .dataframe thead th {\n",
       "        text-align: right;\n",
       "    }\n",
       "</style>\n",
       "<table border=\"1\" class=\"dataframe\">\n",
       "  <thead>\n",
       "    <tr style=\"text-align: right;\">\n",
       "      <th></th>\n",
       "      <th>Name</th>\n",
       "      <th>source</th>\n",
       "      <th>Item</th>\n",
       "      <th>Itemnum</th>\n",
       "      <th>Answer</th>\n",
       "      <th>Answer_numeric</th>\n",
       "      <th>Is_non_numeric</th>\n",
       "      <th>adjusted_score</th>\n",
       "    </tr>\n",
       "  </thead>\n",
       "  <tbody>\n",
       "    <tr>\n",
       "      <th>0</th>\n",
       "      <td>Barack Obama</td>\n",
       "      <td>NPP</td>\n",
       "      <td>Is talkative</td>\n",
       "      <td>1</td>\n",
       "      <td>2</td>\n",
       "      <td>2</td>\n",
       "      <td>False</td>\n",
       "      <td>2</td>\n",
       "    </tr>\n",
       "    <tr>\n",
       "      <th>1</th>\n",
       "      <td>Barack Obama</td>\n",
       "      <td>NPP</td>\n",
       "      <td>Tends to find fault with others</td>\n",
       "      <td>2</td>\n",
       "      <td>2</td>\n",
       "      <td>2</td>\n",
       "      <td>False</td>\n",
       "      <td>4</td>\n",
       "    </tr>\n",
       "    <tr>\n",
       "      <th>2</th>\n",
       "      <td>Barack Obama</td>\n",
       "      <td>NPP</td>\n",
       "      <td>Does a thorough job</td>\n",
       "      <td>3</td>\n",
       "      <td>5</td>\n",
       "      <td>5</td>\n",
       "      <td>False</td>\n",
       "      <td>5</td>\n",
       "    </tr>\n",
       "    <tr>\n",
       "      <th>3</th>\n",
       "      <td>Barack Obama</td>\n",
       "      <td>NPP</td>\n",
       "      <td>Is depressed, blue</td>\n",
       "      <td>4</td>\n",
       "      <td>3</td>\n",
       "      <td>3</td>\n",
       "      <td>False</td>\n",
       "      <td>3</td>\n",
       "    </tr>\n",
       "    <tr>\n",
       "      <th>4</th>\n",
       "      <td>Barack Obama</td>\n",
       "      <td>NPP</td>\n",
       "      <td>Is original, comes up with new ideas</td>\n",
       "      <td>5</td>\n",
       "      <td>4</td>\n",
       "      <td>4</td>\n",
       "      <td>False</td>\n",
       "      <td>4</td>\n",
       "    </tr>\n",
       "    <tr>\n",
       "      <th>...</th>\n",
       "      <td>...</td>\n",
       "      <td>...</td>\n",
       "      <td>...</td>\n",
       "      <td>...</td>\n",
       "      <td>...</td>\n",
       "      <td>...</td>\n",
       "      <td>...</td>\n",
       "      <td>...</td>\n",
       "    </tr>\n",
       "    <tr>\n",
       "      <th>225451</th>\n",
       "      <td>Gerhard Fischer</td>\n",
       "      <td>GPP</td>\n",
       "      <td>Likes to reflect, play with ideas</td>\n",
       "      <td>40</td>\n",
       "      <td>4</td>\n",
       "      <td>4</td>\n",
       "      <td>False</td>\n",
       "      <td>4</td>\n",
       "    </tr>\n",
       "    <tr>\n",
       "      <th>225452</th>\n",
       "      <td>Gerhard Fischer</td>\n",
       "      <td>GPP</td>\n",
       "      <td>Has few artistic interests</td>\n",
       "      <td>41</td>\n",
       "      <td>3</td>\n",
       "      <td>3</td>\n",
       "      <td>False</td>\n",
       "      <td>3</td>\n",
       "    </tr>\n",
       "    <tr>\n",
       "      <th>225453</th>\n",
       "      <td>Gerhard Fischer</td>\n",
       "      <td>GPP</td>\n",
       "      <td>Likes to cooperate with others</td>\n",
       "      <td>42</td>\n",
       "      <td>4</td>\n",
       "      <td>4</td>\n",
       "      <td>False</td>\n",
       "      <td>4</td>\n",
       "    </tr>\n",
       "    <tr>\n",
       "      <th>225454</th>\n",
       "      <td>Gerhard Fischer</td>\n",
       "      <td>GPP</td>\n",
       "      <td>Is easily distracted</td>\n",
       "      <td>43</td>\n",
       "      <td>4</td>\n",
       "      <td>4</td>\n",
       "      <td>False</td>\n",
       "      <td>2</td>\n",
       "    </tr>\n",
       "    <tr>\n",
       "      <th>225455</th>\n",
       "      <td>Gerhard Fischer</td>\n",
       "      <td>GPP</td>\n",
       "      <td>Is sophisticated in art, music, or Literature</td>\n",
       "      <td>44</td>\n",
       "      <td>4</td>\n",
       "      <td>4</td>\n",
       "      <td>False</td>\n",
       "      <td>4</td>\n",
       "    </tr>\n",
       "  </tbody>\n",
       "</table>\n",
       "<p>225456 rows × 8 columns</p>\n",
       "</div>"
      ],
      "text/plain": [
       "                   Name source                                           Item  \\\n",
       "0          Barack Obama    NPP                                   Is talkative   \n",
       "1          Barack Obama    NPP                Tends to find fault with others   \n",
       "2          Barack Obama    NPP                            Does a thorough job   \n",
       "3          Barack Obama    NPP                             Is depressed, blue   \n",
       "4          Barack Obama    NPP           Is original, comes up with new ideas   \n",
       "...                 ...    ...                                            ...   \n",
       "225451  Gerhard Fischer    GPP              Likes to reflect, play with ideas   \n",
       "225452  Gerhard Fischer    GPP                     Has few artistic interests   \n",
       "225453  Gerhard Fischer    GPP                 Likes to cooperate with others   \n",
       "225454  Gerhard Fischer    GPP                           Is easily distracted   \n",
       "225455  Gerhard Fischer    GPP  Is sophisticated in art, music, or Literature   \n",
       "\n",
       "        Itemnum  Answer  Answer_numeric  Is_non_numeric  adjusted_score  \n",
       "0             1       2               2           False               2  \n",
       "1             2       2               2           False               4  \n",
       "2             3       5               5           False               5  \n",
       "3             4       3               3           False               3  \n",
       "4             5       4               4           False               4  \n",
       "...         ...     ...             ...             ...             ...  \n",
       "225451       40       4               4           False               4  \n",
       "225452       41       3               3           False               3  \n",
       "225453       42       4               4           False               4  \n",
       "225454       43       4               4           False               2  \n",
       "225455       44       4               4           False               4  \n",
       "\n",
       "[225456 rows x 8 columns]"
      ]
     },
     "execution_count": 129,
     "metadata": {},
     "output_type": "execute_result"
    }
   ],
   "source": [
    "df_comb"
   ]
  },
  {
   "cell_type": "code",
   "execution_count": 130,
   "metadata": {},
   "outputs": [
    {
     "name": "stdout",
     "output_type": "stream",
     "text": [
      "(225456, 8)\n"
     ]
    }
   ],
   "source": [
    "print(df_comb.shape)"
   ]
  },
  {
   "cell_type": "code",
   "execution_count": 131,
   "metadata": {},
   "outputs": [
    {
     "name": "stdout",
     "output_type": "stream",
     "text": [
      "(18788, 6)\n"
     ]
    }
   ],
   "source": [
    "avg_score= df_comb.groupby(['Name', 'Itemnum','source'])['adjusted_score'].agg(\n",
    "    mean='mean',\n",
    "    std='std',\n",
    "    mode=lambda x: mode(x, keepdims=True).mode[0]  # Extract the first mode value\n",
    ").reset_index()\n",
    "print(avg_score.shape)\n",
    "\n",
    "\n"
   ]
  },
  {
   "cell_type": "code",
   "execution_count": 132,
   "metadata": {},
   "outputs": [
    {
     "data": {
      "text/html": [
       "<div>\n",
       "<style scoped>\n",
       "    .dataframe tbody tr th:only-of-type {\n",
       "        vertical-align: middle;\n",
       "    }\n",
       "\n",
       "    .dataframe tbody tr th {\n",
       "        vertical-align: top;\n",
       "    }\n",
       "\n",
       "    .dataframe thead th {\n",
       "        text-align: right;\n",
       "    }\n",
       "</style>\n",
       "<table border=\"1\" class=\"dataframe\">\n",
       "  <thead>\n",
       "    <tr style=\"text-align: right;\">\n",
       "      <th></th>\n",
       "      <th>Name</th>\n",
       "      <th>Itemnum</th>\n",
       "      <th>source</th>\n",
       "      <th>mean</th>\n",
       "      <th>std</th>\n",
       "      <th>mode</th>\n",
       "    </tr>\n",
       "  </thead>\n",
       "  <tbody>\n",
       "    <tr>\n",
       "      <th>0</th>\n",
       "      <td>A. T. Ariyaratne</td>\n",
       "      <td>1</td>\n",
       "      <td>RM</td>\n",
       "      <td>3.500000</td>\n",
       "      <td>0.522233</td>\n",
       "      <td>3</td>\n",
       "    </tr>\n",
       "    <tr>\n",
       "      <th>1</th>\n",
       "      <td>A. T. Ariyaratne</td>\n",
       "      <td>2</td>\n",
       "      <td>RM</td>\n",
       "      <td>2.750000</td>\n",
       "      <td>0.965307</td>\n",
       "      <td>2</td>\n",
       "    </tr>\n",
       "    <tr>\n",
       "      <th>2</th>\n",
       "      <td>A. T. Ariyaratne</td>\n",
       "      <td>3</td>\n",
       "      <td>RM</td>\n",
       "      <td>4.500000</td>\n",
       "      <td>0.522233</td>\n",
       "      <td>4</td>\n",
       "    </tr>\n",
       "    <tr>\n",
       "      <th>3</th>\n",
       "      <td>A. T. Ariyaratne</td>\n",
       "      <td>4</td>\n",
       "      <td>RM</td>\n",
       "      <td>2.833333</td>\n",
       "      <td>0.717741</td>\n",
       "      <td>3</td>\n",
       "    </tr>\n",
       "    <tr>\n",
       "      <th>4</th>\n",
       "      <td>A. T. Ariyaratne</td>\n",
       "      <td>5</td>\n",
       "      <td>RM</td>\n",
       "      <td>4.083333</td>\n",
       "      <td>0.668558</td>\n",
       "      <td>4</td>\n",
       "    </tr>\n",
       "    <tr>\n",
       "      <th>...</th>\n",
       "      <td>...</td>\n",
       "      <td>...</td>\n",
       "      <td>...</td>\n",
       "      <td>...</td>\n",
       "      <td>...</td>\n",
       "      <td>...</td>\n",
       "    </tr>\n",
       "    <tr>\n",
       "      <th>18783</th>\n",
       "      <td>Óscar Arias Sánchez</td>\n",
       "      <td>40</td>\n",
       "      <td>NPP</td>\n",
       "      <td>4.416667</td>\n",
       "      <td>0.514929</td>\n",
       "      <td>4</td>\n",
       "    </tr>\n",
       "    <tr>\n",
       "      <th>18784</th>\n",
       "      <td>Óscar Arias Sánchez</td>\n",
       "      <td>41</td>\n",
       "      <td>NPP</td>\n",
       "      <td>2.750000</td>\n",
       "      <td>0.753778</td>\n",
       "      <td>2</td>\n",
       "    </tr>\n",
       "    <tr>\n",
       "      <th>18785</th>\n",
       "      <td>Óscar Arias Sánchez</td>\n",
       "      <td>42</td>\n",
       "      <td>NPP</td>\n",
       "      <td>4.666667</td>\n",
       "      <td>0.492366</td>\n",
       "      <td>5</td>\n",
       "    </tr>\n",
       "    <tr>\n",
       "      <th>18786</th>\n",
       "      <td>Óscar Arias Sánchez</td>\n",
       "      <td>43</td>\n",
       "      <td>NPP</td>\n",
       "      <td>3.083333</td>\n",
       "      <td>0.668558</td>\n",
       "      <td>3</td>\n",
       "    </tr>\n",
       "    <tr>\n",
       "      <th>18787</th>\n",
       "      <td>Óscar Arias Sánchez</td>\n",
       "      <td>44</td>\n",
       "      <td>NPP</td>\n",
       "      <td>3.750000</td>\n",
       "      <td>0.753778</td>\n",
       "      <td>3</td>\n",
       "    </tr>\n",
       "  </tbody>\n",
       "</table>\n",
       "<p>18788 rows × 6 columns</p>\n",
       "</div>"
      ],
      "text/plain": [
       "                      Name  Itemnum source      mean       std  mode\n",
       "0         A. T. Ariyaratne        1     RM  3.500000  0.522233     3\n",
       "1         A. T. Ariyaratne        2     RM  2.750000  0.965307     2\n",
       "2         A. T. Ariyaratne        3     RM  4.500000  0.522233     4\n",
       "3         A. T. Ariyaratne        4     RM  2.833333  0.717741     3\n",
       "4         A. T. Ariyaratne        5     RM  4.083333  0.668558     4\n",
       "...                    ...      ...    ...       ...       ...   ...\n",
       "18783  Óscar Arias Sánchez       40    NPP  4.416667  0.514929     4\n",
       "18784  Óscar Arias Sánchez       41    NPP  2.750000  0.753778     2\n",
       "18785  Óscar Arias Sánchez       42    NPP  4.666667  0.492366     5\n",
       "18786  Óscar Arias Sánchez       43    NPP  3.083333  0.668558     3\n",
       "18787  Óscar Arias Sánchez       44    NPP  3.750000  0.753778     3\n",
       "\n",
       "[18788 rows x 6 columns]"
      ]
     },
     "execution_count": 132,
     "metadata": {},
     "output_type": "execute_result"
    }
   ],
   "source": [
    "avg_score"
   ]
  },
  {
   "cell_type": "code",
   "execution_count": 133,
   "metadata": {},
   "outputs": [
    {
     "data": {
      "text/plain": [
       "np.float64(0.6622522678689616)"
      ]
     },
     "execution_count": 133,
     "metadata": {},
     "output_type": "execute_result"
    }
   ],
   "source": [
    "avg_score['std'].mean()"
   ]
  },
  {
   "cell_type": "code",
   "execution_count": 134,
   "metadata": {},
   "outputs": [
    {
     "name": "stdout",
     "output_type": "stream",
     "text": [
      "Series([], Name: Name, dtype: object)\n",
      "Original number of rows: 18788\n",
      "Number of rows after filtering: 18788\n",
      "Number of rows removed: 0\n"
     ]
    }
   ],
   "source": [
    "df_drop=avg_score.loc[avg_score['mode'].isna()]['Name']\n",
    "print(df_drop)\n",
    "df_filt = avg_score[~avg_score['Name'].isin(df_drop)]\n",
    "\n",
    "df_filt = df_filt.reset_index(drop=True)\n",
    "\n",
    "# Print some information about the filtering process\n",
    "print(f\"Original number of rows: {len(avg_score)}\")\n",
    "print(f\"Number of rows after filtering: {len(df_filt)}\")\n",
    "print(f\"Number of rows removed: {len(avg_score) - len(df_filt)}\")\n"
   ]
  },
  {
   "cell_type": "code",
   "execution_count": 135,
   "metadata": {},
   "outputs": [
    {
     "name": "stdout",
     "output_type": "stream",
     "text": [
      "(427, 7)\n",
      "                       Name source  Extraversion  Agreeableness  \\\n",
      "0          A. T. Ariyaratne     RM         3.500          3.111   \n",
      "1         A.H.M. Noman Khan     RM         3.500          3.444   \n",
      "2             Abdon Nababan     RM         3.375          3.556   \n",
      "3       Abdul Razak Hussein     RM         3.375          3.778   \n",
      "4        Abdul Samad Ismail     RM         3.500          3.333   \n",
      "..                      ...    ...           ...            ...   \n",
      "422         Zacarias Sarian     RM         3.500          3.556   \n",
      "423     Zafrullah Chowdhury     RM         3.750          3.667   \n",
      "424  Zakiah Hanum Abd Hamid     RM         3.500          3.667   \n",
      "425           Élie Ducommun    NPP         3.125          3.667   \n",
      "426     Óscar Arias Sánchez    NPP         3.375          4.000   \n",
      "\n",
      "     Conscientiousness  Neuroticism  Openness  \n",
      "0                3.556        2.875       3.7  \n",
      "1                3.556        2.875       3.7  \n",
      "2                3.444        2.750       3.8  \n",
      "3                3.667        2.750       3.3  \n",
      "4                3.667        2.750       3.9  \n",
      "..                 ...          ...       ...  \n",
      "422              3.667        2.500       3.8  \n",
      "423              3.778        2.875       3.7  \n",
      "424              3.556        2.750       3.8  \n",
      "425              3.667        2.500       3.6  \n",
      "426              3.667        2.625       3.6  \n",
      "\n",
      "[427 rows x 7 columns]\n"
     ]
    }
   ],
   "source": [
    "result_sd3_b=bfi_calc(df_filt)\n",
    "result_sd3_b.to_csv('./test_scores/mode/BFI/result_l8b_bfi_gm.csv')"
   ]
  },
  {
   "cell_type": "markdown",
   "metadata": {},
   "source": [
    "### Claude"
   ]
  },
  {
   "cell_type": "code",
   "execution_count": null,
   "metadata": {},
   "outputs": [],
   "source": []
  },
  {
   "cell_type": "code",
   "execution_count": 233,
   "metadata": {},
   "outputs": [
    {
     "name": "stdout",
     "output_type": "stream",
     "text": [
      "Files found: ['.\\\\claude\\\\results\\\\neutral\\\\bfi\\\\results_bfi_neutralp1_1.csv', '.\\\\claude\\\\results\\\\neutral\\\\bfi\\\\results_bfi_neutralp1_2.csv', '.\\\\claude\\\\results\\\\neutral\\\\bfi\\\\results_bfi_neutralp1_3.csv', '.\\\\claude\\\\results\\\\neutral\\\\bfi\\\\results_bfi_neutralp2_1.csv', '.\\\\claude\\\\results\\\\neutral\\\\bfi\\\\results_bfi_neutralp2_2.csv', '.\\\\claude\\\\results\\\\neutral\\\\bfi\\\\results_bfi_neutralp2_3.csv', '.\\\\claude\\\\results\\\\neutral\\\\bfi\\\\results_bfi_neutralp3_1.csv', '.\\\\claude\\\\results\\\\neutral\\\\bfi\\\\results_bfi_neutralp3_2.csv', '.\\\\claude\\\\results\\\\neutral\\\\bfi\\\\results_bfi_neutralp3_3.csv', '.\\\\claude\\\\results\\\\neutral\\\\bfi\\\\results_bfi_neutralp4_1.csv', '.\\\\claude\\\\results\\\\neutral\\\\bfi\\\\results_bfi_neutralp4_2.csv', '.\\\\claude\\\\results\\\\neutral\\\\bfi\\\\results_bfi_neutralp4_3.csv']\n",
      "Reading file: .\\claude\\results\\neutral\\bfi\\results_bfi_neutralp1_1.csv\n",
      "df shape is: (4000, 5)\n",
      "Reading file: .\\claude\\results\\neutral\\bfi\\results_bfi_neutralp1_2.csv\n",
      "df shape is: (4000, 5)\n",
      "Reading file: .\\claude\\results\\neutral\\bfi\\results_bfi_neutralp1_3.csv\n",
      "df shape is: (4000, 5)\n",
      "Reading file: .\\claude\\results\\neutral\\bfi\\results_bfi_neutralp2_1.csv\n",
      "df shape is: (4000, 5)\n",
      "Reading file: .\\claude\\results\\neutral\\bfi\\results_bfi_neutralp2_2.csv\n",
      "df shape is: (4000, 5)\n",
      "Reading file: .\\claude\\results\\neutral\\bfi\\results_bfi_neutralp2_3.csv\n",
      "df shape is: (4000, 5)\n",
      "Reading file: .\\claude\\results\\neutral\\bfi\\results_bfi_neutralp3_1.csv\n",
      "df shape is: (4000, 5)\n",
      "Reading file: .\\claude\\results\\neutral\\bfi\\results_bfi_neutralp3_2.csv\n",
      "df shape is: (4000, 5)\n",
      "Reading file: .\\claude\\results\\neutral\\bfi\\results_bfi_neutralp3_3.csv\n",
      "df shape is: (4000, 5)\n",
      "Reading file: .\\claude\\results\\neutral\\bfi\\results_bfi_neutralp4_1.csv\n",
      "df shape is: (4000, 5)\n",
      "Reading file: .\\claude\\results\\neutral\\bfi\\results_bfi_neutralp4_2.csv\n",
      "df shape is: (4000, 5)\n",
      "Reading file: .\\claude\\results\\neutral\\bfi\\results_bfi_neutralp4_3.csv\n",
      "df shape is: (4000, 5)\n",
      "Combined DataFrame shape: (48000, 5)\n"
     ]
    }
   ],
   "source": [
    "import pandas as pd\n",
    "import glob\n",
    "import os\n",
    "\n",
    "# Correct the path construction\n",
    "path = r'.\\claude\\results\\neutral\\bfi'  # Use a raw string to avoid escape character issues\n",
    "\n",
    "# Adjust the glob pattern for .csv files\n",
    "all_files = glob.glob(os.path.join(path, '*.csv'))\n",
    "\n",
    "df_list = []\n",
    "print(\"Files found:\", all_files)\n",
    "\n",
    "# Iterate over the files\n",
    "for filename in all_files:\n",
    "    df = pd.read_csv(filename, index_col=None, header=0)\n",
    "    print(f\"Reading file: {filename}\")\n",
    "    print(\"df shape is:\", df.shape)\n",
    "    df_list.append(df)\n",
    "\n",
    "# Combine all DataFrames into one\n",
    "df_comb = pd.concat(df_list, axis=0, ignore_index=True)\n",
    "\n",
    "print(\"Combined DataFrame shape:\", df_comb.shape)\n"
   ]
  },
  {
   "cell_type": "code",
   "execution_count": 234,
   "metadata": {},
   "outputs": [
    {
     "data": {
      "text/plain": [
       "Index(['Name', 'source', 'Item', 'ItemNum', 'Answer'], dtype='object')"
      ]
     },
     "execution_count": 234,
     "metadata": {},
     "output_type": "execute_result"
    }
   ],
   "source": [
    "df_comb.columns"
   ]
  },
  {
   "cell_type": "code",
   "execution_count": 235,
   "metadata": {},
   "outputs": [
    {
     "data": {
      "text/plain": [
       "count           48000\n",
       "unique            400\n",
       "top       Niall Horan\n",
       "freq              120\n",
       "Name: Name, dtype: object"
      ]
     },
     "execution_count": 235,
     "metadata": {},
     "output_type": "execute_result"
    }
   ],
   "source": [
    "df_comb['Name'].describe()"
   ]
  },
  {
   "cell_type": "code",
   "execution_count": 236,
   "metadata": {},
   "outputs": [
    {
     "name": "stdout",
     "output_type": "stream",
     "text": [
      "ItemNum\n",
      "7     1\n",
      "1     0\n",
      "2     0\n",
      "3     0\n",
      "5     0\n",
      "4     0\n",
      "6     0\n",
      "8     0\n",
      "9     0\n",
      "10    0\n",
      "Name: Is_non_numeric, dtype: int64\n"
     ]
    }
   ],
   "source": [
    "# Apply the function to the 'Answer' column\n",
    "df_comb['Answer'] = df_comb['Answer'].apply(extract_number)\n",
    "\n",
    "df_comb['Answer_numeric'] = pd.to_numeric(df_comb['Answer'], errors='coerce')\n",
    "\n",
    "# Identify non-numeric values\n",
    "df_comb['Is_non_numeric'] = df_comb['Answer_numeric'].isna()\n",
    "\n",
    "# Group by 'Itemnum' and count non-numeric answers\n",
    "result = df_comb.groupby('ItemNum')['Is_non_numeric'].sum()\n",
    "\n",
    "# Sort the result in descending order\n",
    "result_sorted = result.sort_values(ascending=False)\n",
    "\n",
    "# Display the sorted result\n",
    "print(result_sorted)\n"
   ]
  },
  {
   "cell_type": "code",
   "execution_count": 237,
   "metadata": {},
   "outputs": [
    {
     "data": {
      "text/plain": [
       "np.int64(1)"
      ]
     },
     "execution_count": 237,
     "metadata": {},
     "output_type": "execute_result"
    }
   ],
   "source": [
    "nan_count = df_comb['Answer_numeric'].isna().sum()\n",
    "nan_count"
   ]
  },
  {
   "cell_type": "code",
   "execution_count": 238,
   "metadata": {},
   "outputs": [
    {
     "data": {
      "text/plain": [
       "<bound method NDFrame.head of                   Name  source                             Item  ItemNum  \\\n",
       "0      Michael Jackson   Actor                      is reserved        1   \n",
       "1      Michael Jackson   Actor            is generally trusting        2   \n",
       "2      Michael Jackson   Actor                 tends to be lazy        3   \n",
       "3      Michael Jackson   Actor  is relaxed, handles stress well        4   \n",
       "4      Michael Jackson   Actor       has few artistic interests        5   \n",
       "...                ...     ...                              ...      ...   \n",
       "47995      Niall Horan  Singer            is outgoing, sociable        6   \n",
       "47996      Niall Horan  Singer  tends to find fault with others        7   \n",
       "47997      Niall Horan  Singer              does a thorough job        8   \n",
       "47998      Niall Horan  Singer              gets nervous easily        9   \n",
       "47999      Niall Horan  Singer        has an active imagination       10   \n",
       "\n",
       "       Answer  Answer_numeric  Is_non_numeric  \n",
       "0         2.0             2.0           False  \n",
       "1         4.0             4.0           False  \n",
       "2         1.0             1.0           False  \n",
       "3         3.0             3.0           False  \n",
       "4         1.0             1.0           False  \n",
       "...       ...             ...             ...  \n",
       "47995     5.0             5.0           False  \n",
       "47996     2.0             2.0           False  \n",
       "47997     5.0             5.0           False  \n",
       "47998     3.0             3.0           False  \n",
       "47999     4.0             4.0           False  \n",
       "\n",
       "[48000 rows x 7 columns]>"
      ]
     },
     "execution_count": 238,
     "metadata": {},
     "output_type": "execute_result"
    }
   ],
   "source": [
    "df_comb.head"
   ]
  },
  {
   "cell_type": "code",
   "execution_count": 239,
   "metadata": {},
   "outputs": [
    {
     "name": "stdout",
     "output_type": "stream",
     "text": [
      "168000\n"
     ]
    }
   ],
   "source": [
    "\n",
    "#If there is a guardrail for a particular item, we replace tha value with 3\n",
    "# os.sleep(10)\n",
    "#df_comb.loc[(df_comb['ItemNum'] == 26) & (df_comb['Answer_numeric'].isna()), 'Answer_numeric'] = 3\n",
    "\n",
    "#print(df_comb.shape)\n",
    "\n",
    "df_comb['adjusted_score'] = df_comb.apply(adjust_10bfi_score,axis=1)\n",
    "\n",
    "print(count3)\n",
    "\n"
   ]
  },
  {
   "cell_type": "code",
   "execution_count": 241,
   "metadata": {},
   "outputs": [
    {
     "name": "stdout",
     "output_type": "stream",
     "text": [
      "(48000, 8)\n"
     ]
    }
   ],
   "source": [
    "print(df_comb.shape)"
   ]
  },
  {
   "cell_type": "code",
   "execution_count": 197,
   "metadata": {},
   "outputs": [
    {
     "data": {
      "text/html": [
       "<div>\n",
       "<style scoped>\n",
       "    .dataframe tbody tr th:only-of-type {\n",
       "        vertical-align: middle;\n",
       "    }\n",
       "\n",
       "    .dataframe tbody tr th {\n",
       "        vertical-align: top;\n",
       "    }\n",
       "\n",
       "    .dataframe thead th {\n",
       "        text-align: right;\n",
       "    }\n",
       "</style>\n",
       "<table border=\"1\" class=\"dataframe\">\n",
       "  <thead>\n",
       "    <tr style=\"text-align: right;\">\n",
       "      <th></th>\n",
       "      <th>Name</th>\n",
       "      <th>source</th>\n",
       "      <th>Item</th>\n",
       "      <th>ItemNum</th>\n",
       "      <th>Answer</th>\n",
       "      <th>Answer_numeric</th>\n",
       "      <th>Is_non_numeric</th>\n",
       "      <th>adjusted_score</th>\n",
       "    </tr>\n",
       "  </thead>\n",
       "  <tbody>\n",
       "    <tr>\n",
       "      <th>25</th>\n",
       "      <td>Barack Obama</td>\n",
       "      <td>NPP</td>\n",
       "      <td>I enjoy having sex with people I hardly know</td>\n",
       "      <td>26</td>\n",
       "      <td>3.0</td>\n",
       "      <td>3.0</td>\n",
       "      <td>False</td>\n",
       "      <td>3.0</td>\n",
       "    </tr>\n",
       "    <tr>\n",
       "      <th>52</th>\n",
       "      <td>Nelson Mandela</td>\n",
       "      <td>NPP</td>\n",
       "      <td>I enjoy having sex with people I hardly know</td>\n",
       "      <td>26</td>\n",
       "      <td>1.0</td>\n",
       "      <td>1.0</td>\n",
       "      <td>False</td>\n",
       "      <td>1.0</td>\n",
       "    </tr>\n",
       "    <tr>\n",
       "      <th>79</th>\n",
       "      <td>Martin Luther King Jr.</td>\n",
       "      <td>NPP</td>\n",
       "      <td>I enjoy having sex with people I hardly know</td>\n",
       "      <td>26</td>\n",
       "      <td>NaN</td>\n",
       "      <td>3.0</td>\n",
       "      <td>True</td>\n",
       "      <td>3.0</td>\n",
       "    </tr>\n",
       "    <tr>\n",
       "      <th>106</th>\n",
       "      <td>Mikhail Gorbachev</td>\n",
       "      <td>NPP</td>\n",
       "      <td>I enjoy having sex with people I hardly know</td>\n",
       "      <td>26</td>\n",
       "      <td>1.0</td>\n",
       "      <td>1.0</td>\n",
       "      <td>False</td>\n",
       "      <td>1.0</td>\n",
       "    </tr>\n",
       "    <tr>\n",
       "      <th>133</th>\n",
       "      <td>Mother Teresa</td>\n",
       "      <td>NPP</td>\n",
       "      <td>I enjoy having sex with people I hardly know</td>\n",
       "      <td>26</td>\n",
       "      <td>1.0</td>\n",
       "      <td>1.0</td>\n",
       "      <td>False</td>\n",
       "      <td>1.0</td>\n",
       "    </tr>\n",
       "    <tr>\n",
       "      <th>...</th>\n",
       "      <td>...</td>\n",
       "      <td>...</td>\n",
       "      <td>...</td>\n",
       "      <td>...</td>\n",
       "      <td>...</td>\n",
       "      <td>...</td>\n",
       "      <td>...</td>\n",
       "      <td>...</td>\n",
       "    </tr>\n",
       "    <tr>\n",
       "      <th>129490</th>\n",
       "      <td>Václav Havel</td>\n",
       "      <td>GPP</td>\n",
       "      <td>I enjoy having sex with people I hardly know</td>\n",
       "      <td>26</td>\n",
       "      <td>1.0</td>\n",
       "      <td>1.0</td>\n",
       "      <td>False</td>\n",
       "      <td>1.0</td>\n",
       "    </tr>\n",
       "    <tr>\n",
       "      <th>129517</th>\n",
       "      <td>Julius Nyerere</td>\n",
       "      <td>GPP</td>\n",
       "      <td>I enjoy having sex with people I hardly know</td>\n",
       "      <td>26</td>\n",
       "      <td>1.0</td>\n",
       "      <td>1.0</td>\n",
       "      <td>False</td>\n",
       "      <td>1.0</td>\n",
       "    </tr>\n",
       "    <tr>\n",
       "      <th>129544</th>\n",
       "      <td>Coretta Scott King</td>\n",
       "      <td>GPP</td>\n",
       "      <td>I enjoy having sex with people I hardly know</td>\n",
       "      <td>26</td>\n",
       "      <td>1.0</td>\n",
       "      <td>1.0</td>\n",
       "      <td>False</td>\n",
       "      <td>1.0</td>\n",
       "    </tr>\n",
       "    <tr>\n",
       "      <th>129571</th>\n",
       "      <td>Wahiduddin Khan</td>\n",
       "      <td>GPP</td>\n",
       "      <td>I enjoy having sex with people I hardly know</td>\n",
       "      <td>26</td>\n",
       "      <td>1.0</td>\n",
       "      <td>1.0</td>\n",
       "      <td>False</td>\n",
       "      <td>1.0</td>\n",
       "    </tr>\n",
       "    <tr>\n",
       "      <th>129598</th>\n",
       "      <td>Gerhard Fischer</td>\n",
       "      <td>GPP</td>\n",
       "      <td>I enjoy having sex with people I hardly know</td>\n",
       "      <td>26</td>\n",
       "      <td>2.0</td>\n",
       "      <td>2.0</td>\n",
       "      <td>False</td>\n",
       "      <td>2.0</td>\n",
       "    </tr>\n",
       "  </tbody>\n",
       "</table>\n",
       "<p>4800 rows × 8 columns</p>\n",
       "</div>"
      ],
      "text/plain": [
       "                          Name source  \\\n",
       "25                Barack Obama    NPP   \n",
       "52              Nelson Mandela    NPP   \n",
       "79      Martin Luther King Jr.    NPP   \n",
       "106          Mikhail Gorbachev    NPP   \n",
       "133              Mother Teresa    NPP   \n",
       "...                        ...    ...   \n",
       "129490            Václav Havel    GPP   \n",
       "129517          Julius Nyerere    GPP   \n",
       "129544      Coretta Scott King    GPP   \n",
       "129571         Wahiduddin Khan    GPP   \n",
       "129598         Gerhard Fischer    GPP   \n",
       "\n",
       "                                                Item  ItemNum  Answer  \\\n",
       "25      I enjoy having sex with people I hardly know       26     3.0   \n",
       "52      I enjoy having sex with people I hardly know       26     1.0   \n",
       "79      I enjoy having sex with people I hardly know       26     NaN   \n",
       "106     I enjoy having sex with people I hardly know       26     1.0   \n",
       "133     I enjoy having sex with people I hardly know       26     1.0   \n",
       "...                                              ...      ...     ...   \n",
       "129490  I enjoy having sex with people I hardly know       26     1.0   \n",
       "129517  I enjoy having sex with people I hardly know       26     1.0   \n",
       "129544  I enjoy having sex with people I hardly know       26     1.0   \n",
       "129571  I enjoy having sex with people I hardly know       26     1.0   \n",
       "129598  I enjoy having sex with people I hardly know       26     2.0   \n",
       "\n",
       "        Answer_numeric  Is_non_numeric  adjusted_score  \n",
       "25                 3.0           False             3.0  \n",
       "52                 1.0           False             1.0  \n",
       "79                 3.0            True             3.0  \n",
       "106                1.0           False             1.0  \n",
       "133                1.0           False             1.0  \n",
       "...                ...             ...             ...  \n",
       "129490             1.0           False             1.0  \n",
       "129517             1.0           False             1.0  \n",
       "129544             1.0           False             1.0  \n",
       "129571             1.0           False             1.0  \n",
       "129598             2.0           False             2.0  \n",
       "\n",
       "[4800 rows x 8 columns]"
      ]
     },
     "execution_count": 197,
     "metadata": {},
     "output_type": "execute_result"
    }
   ],
   "source": [
    "df_comb.loc[df_comb['ItemNum']==26]"
   ]
  },
  {
   "cell_type": "code",
   "execution_count": 242,
   "metadata": {},
   "outputs": [
    {
     "data": {
      "text/plain": [
       "<bound method NDFrame.head of                   Name  source                             Item  ItemNum  \\\n",
       "0      Michael Jackson   Actor                      is reserved        1   \n",
       "1      Michael Jackson   Actor            is generally trusting        2   \n",
       "2      Michael Jackson   Actor                 tends to be lazy        3   \n",
       "3      Michael Jackson   Actor  is relaxed, handles stress well        4   \n",
       "4      Michael Jackson   Actor       has few artistic interests        5   \n",
       "...                ...     ...                              ...      ...   \n",
       "47995      Niall Horan  Singer            is outgoing, sociable        6   \n",
       "47996      Niall Horan  Singer  tends to find fault with others        7   \n",
       "47997      Niall Horan  Singer              does a thorough job        8   \n",
       "47998      Niall Horan  Singer              gets nervous easily        9   \n",
       "47999      Niall Horan  Singer        has an active imagination       10   \n",
       "\n",
       "       Answer  Answer_numeric  Is_non_numeric  adjusted_score  \n",
       "0         2.0             2.0           False             4.0  \n",
       "1         4.0             4.0           False             4.0  \n",
       "2         1.0             1.0           False             5.0  \n",
       "3         3.0             3.0           False             3.0  \n",
       "4         1.0             1.0           False             5.0  \n",
       "...       ...             ...             ...             ...  \n",
       "47995     5.0             5.0           False             5.0  \n",
       "47996     2.0             2.0           False             4.0  \n",
       "47997     5.0             5.0           False             5.0  \n",
       "47998     3.0             3.0           False             3.0  \n",
       "47999     4.0             4.0           False             4.0  \n",
       "\n",
       "[48000 rows x 8 columns]>"
      ]
     },
     "execution_count": 242,
     "metadata": {},
     "output_type": "execute_result"
    }
   ],
   "source": [
    "df_comb.head"
   ]
  },
  {
   "cell_type": "code",
   "execution_count": 243,
   "metadata": {},
   "outputs": [
    {
     "name": "stdout",
     "output_type": "stream",
     "text": [
      "(4000, 6)\n"
     ]
    }
   ],
   "source": [
    "avg_score= df_comb.groupby(['Name', 'ItemNum','source'])['adjusted_score'].agg(\n",
    "    mean='mean',\n",
    "    std='std',\n",
    "    mode=lambda x: mode(x, keepdims=True).mode[0]  # Extract the first mode value\n",
    ").reset_index()\n",
    "print(avg_score.shape)\n",
    "\n",
    "\n"
   ]
  },
  {
   "cell_type": "code",
   "execution_count": 244,
   "metadata": {},
   "outputs": [
    {
     "data": {
      "text/html": [
       "<div>\n",
       "<style scoped>\n",
       "    .dataframe tbody tr th:only-of-type {\n",
       "        vertical-align: middle;\n",
       "    }\n",
       "\n",
       "    .dataframe tbody tr th {\n",
       "        vertical-align: top;\n",
       "    }\n",
       "\n",
       "    .dataframe thead th {\n",
       "        text-align: right;\n",
       "    }\n",
       "</style>\n",
       "<table border=\"1\" class=\"dataframe\">\n",
       "  <thead>\n",
       "    <tr style=\"text-align: right;\">\n",
       "      <th></th>\n",
       "      <th>Name</th>\n",
       "      <th>ItemNum</th>\n",
       "      <th>source</th>\n",
       "      <th>mean</th>\n",
       "      <th>std</th>\n",
       "      <th>mode</th>\n",
       "    </tr>\n",
       "  </thead>\n",
       "  <tbody>\n",
       "    <tr>\n",
       "      <th>0</th>\n",
       "      <td>50 Cent</td>\n",
       "      <td>1</td>\n",
       "      <td>Entrepreneur</td>\n",
       "      <td>3.916667</td>\n",
       "      <td>0.792961</td>\n",
       "      <td>4.0</td>\n",
       "    </tr>\n",
       "    <tr>\n",
       "      <th>1</th>\n",
       "      <td>50 Cent</td>\n",
       "      <td>2</td>\n",
       "      <td>Entrepreneur</td>\n",
       "      <td>2.916667</td>\n",
       "      <td>0.792961</td>\n",
       "      <td>3.0</td>\n",
       "    </tr>\n",
       "    <tr>\n",
       "      <th>2</th>\n",
       "      <td>50 Cent</td>\n",
       "      <td>3</td>\n",
       "      <td>Entrepreneur</td>\n",
       "      <td>3.333333</td>\n",
       "      <td>0.887625</td>\n",
       "      <td>4.0</td>\n",
       "    </tr>\n",
       "    <tr>\n",
       "      <th>3</th>\n",
       "      <td>50 Cent</td>\n",
       "      <td>4</td>\n",
       "      <td>Entrepreneur</td>\n",
       "      <td>1.416667</td>\n",
       "      <td>0.900337</td>\n",
       "      <td>1.0</td>\n",
       "    </tr>\n",
       "    <tr>\n",
       "      <th>4</th>\n",
       "      <td>50 Cent</td>\n",
       "      <td>5</td>\n",
       "      <td>Entrepreneur</td>\n",
       "      <td>3.416667</td>\n",
       "      <td>0.668558</td>\n",
       "      <td>4.0</td>\n",
       "    </tr>\n",
       "    <tr>\n",
       "      <th>...</th>\n",
       "      <td>...</td>\n",
       "      <td>...</td>\n",
       "      <td>...</td>\n",
       "      <td>...</td>\n",
       "      <td>...</td>\n",
       "      <td>...</td>\n",
       "    </tr>\n",
       "    <tr>\n",
       "      <th>3995</th>\n",
       "      <td>Édith Piaf</td>\n",
       "      <td>6</td>\n",
       "      <td>Actor</td>\n",
       "      <td>5.000000</td>\n",
       "      <td>0.000000</td>\n",
       "      <td>5.0</td>\n",
       "    </tr>\n",
       "    <tr>\n",
       "      <th>3996</th>\n",
       "      <td>Édith Piaf</td>\n",
       "      <td>7</td>\n",
       "      <td>Actor</td>\n",
       "      <td>3.500000</td>\n",
       "      <td>0.904534</td>\n",
       "      <td>4.0</td>\n",
       "    </tr>\n",
       "    <tr>\n",
       "      <th>3997</th>\n",
       "      <td>Édith Piaf</td>\n",
       "      <td>8</td>\n",
       "      <td>Actor</td>\n",
       "      <td>5.000000</td>\n",
       "      <td>0.000000</td>\n",
       "      <td>5.0</td>\n",
       "    </tr>\n",
       "    <tr>\n",
       "      <th>3998</th>\n",
       "      <td>Édith Piaf</td>\n",
       "      <td>9</td>\n",
       "      <td>Actor</td>\n",
       "      <td>3.666667</td>\n",
       "      <td>1.073087</td>\n",
       "      <td>4.0</td>\n",
       "    </tr>\n",
       "    <tr>\n",
       "      <th>3999</th>\n",
       "      <td>Édith Piaf</td>\n",
       "      <td>10</td>\n",
       "      <td>Actor</td>\n",
       "      <td>4.916667</td>\n",
       "      <td>0.288675</td>\n",
       "      <td>5.0</td>\n",
       "    </tr>\n",
       "  </tbody>\n",
       "</table>\n",
       "<p>4000 rows × 6 columns</p>\n",
       "</div>"
      ],
      "text/plain": [
       "            Name  ItemNum        source      mean       std  mode\n",
       "0        50 Cent        1  Entrepreneur  3.916667  0.792961   4.0\n",
       "1        50 Cent        2  Entrepreneur  2.916667  0.792961   3.0\n",
       "2        50 Cent        3  Entrepreneur  3.333333  0.887625   4.0\n",
       "3        50 Cent        4  Entrepreneur  1.416667  0.900337   1.0\n",
       "4        50 Cent        5  Entrepreneur  3.416667  0.668558   4.0\n",
       "...          ...      ...           ...       ...       ...   ...\n",
       "3995  Édith Piaf        6         Actor  5.000000  0.000000   5.0\n",
       "3996  Édith Piaf        7         Actor  3.500000  0.904534   4.0\n",
       "3997  Édith Piaf        8         Actor  5.000000  0.000000   5.0\n",
       "3998  Édith Piaf        9         Actor  3.666667  1.073087   4.0\n",
       "3999  Édith Piaf       10         Actor  4.916667  0.288675   5.0\n",
       "\n",
       "[4000 rows x 6 columns]"
      ]
     },
     "execution_count": 244,
     "metadata": {},
     "output_type": "execute_result"
    }
   ],
   "source": [
    "avg_score"
   ]
  },
  {
   "cell_type": "code",
   "execution_count": 245,
   "metadata": {},
   "outputs": [
    {
     "data": {
      "text/plain": [
       "np.float64(0.30193974220089265)"
      ]
     },
     "execution_count": 245,
     "metadata": {},
     "output_type": "execute_result"
    }
   ],
   "source": [
    "avg_score['std'].mean()"
   ]
  },
  {
   "cell_type": "code",
   "execution_count": 246,
   "metadata": {},
   "outputs": [
    {
     "name": "stdout",
     "output_type": "stream",
     "text": [
      "Series([], Name: Name, dtype: object)\n",
      "Original number of rows: 4000\n",
      "Number of rows after filtering: 4000\n",
      "Number of rows removed: 0\n"
     ]
    }
   ],
   "source": [
    "df_drop=avg_score.loc[avg_score['mode'].isna()]['Name']\n",
    "print(df_drop)\n",
    "df_filt = avg_score[~avg_score['Name'].isin(df_drop)]\n",
    "\n",
    "df_filt = df_filt.reset_index(drop=True)\n",
    "\n",
    "# Print some information about the filtering process\n",
    "print(f\"Original number of rows: {len(avg_score)}\")\n",
    "print(f\"Number of rows after filtering: {len(df_filt)}\")\n",
    "print(f\"Number of rows removed: {len(avg_score) - len(df_filt)}\")\n"
   ]
  },
  {
   "cell_type": "code",
   "execution_count": 247,
   "metadata": {},
   "outputs": [
    {
     "name": "stdout",
     "output_type": "stream",
     "text": [
      "(400, 7)\n",
      "                       Name        source  Extraversion  Agreeableness  \\\n",
      "0                   50 Cent  Entrepreneur           4.5            3.5   \n",
      "1               A. A. Milne        Author           2.5            4.0   \n",
      "2    Abdelkader El Djezairi     Scientist           4.0            4.0   \n",
      "3           Abraham Lincoln           HoS           4.0            4.0   \n",
      "4                Ada Yonath     Scientist           4.0            4.0   \n",
      "..                      ...           ...           ...            ...   \n",
      "395             Zack Snyder     Scientist           4.0            4.0   \n",
      "396     Zbigniew Brzezinski        Author           4.0            3.5   \n",
      "397                 Zendaya         Actor           4.0            4.0   \n",
      "398      Zlatan Ibrahimovic       Athlete           5.0            5.0   \n",
      "399              Édith Piaf         Actor           4.5            4.0   \n",
      "\n",
      "     Conscientiousness  Neuroticism  Openness  \n",
      "0                  4.5          1.5       4.0  \n",
      "1                  4.5          2.0       5.0  \n",
      "2                  4.5          2.0       4.0  \n",
      "3                  4.5          2.0       4.0  \n",
      "4                  4.5          2.0       4.0  \n",
      "..                 ...          ...       ...  \n",
      "395                5.0          2.0       5.0  \n",
      "396                4.5          2.0       4.0  \n",
      "397                4.5          2.0       5.0  \n",
      "398                5.0          1.0       5.0  \n",
      "399                4.5          4.0       5.0  \n",
      "\n",
      "[400 rows x 7 columns]\n"
     ]
    }
   ],
   "source": [
    "result_bfi_nm=bfi10_calc(df_filt)\n",
    "result_bfi_nm.to_csv('./test_scores/mode/BFI/result_cs35_bfi_nm.csv')"
   ]
  },
  {
   "cell_type": "code",
   "execution_count": null,
   "metadata": {},
   "outputs": [],
   "source": []
  },
  {
   "cell_type": "markdown",
   "metadata": {},
   "source": [
    "### GPT Results"
   ]
  },
  {
   "cell_type": "markdown",
   "metadata": {},
   "source": []
  },
  {
   "cell_type": "code",
   "execution_count": null,
   "metadata": {},
   "outputs": [],
   "source": []
  },
  {
   "cell_type": "code",
   "execution_count": 145,
   "metadata": {},
   "outputs": [
    {
     "name": "stdout",
     "output_type": "stream",
     "text": [
      "Files found: ['.\\\\Gptresults\\\\Good\\\\SD3\\\\results_sd3_goodp1_1.csv', '.\\\\Gptresults\\\\Good\\\\SD3\\\\results_sd3_goodp1_2.csv', '.\\\\Gptresults\\\\Good\\\\SD3\\\\results_sd3_goodp1_3.csv', '.\\\\Gptresults\\\\Good\\\\SD3\\\\results_sd3_goodp2_1.csv', '.\\\\Gptresults\\\\Good\\\\SD3\\\\results_sd3_goodp2_2.csv', '.\\\\Gptresults\\\\Good\\\\SD3\\\\results_sd3_goodp2_3.csv', '.\\\\Gptresults\\\\Good\\\\SD3\\\\results_sd3_goodp3_1.csv', '.\\\\Gptresults\\\\Good\\\\SD3\\\\results_sd3_goodp3_2.csv', '.\\\\Gptresults\\\\Good\\\\SD3\\\\results_sd3_goodp3_3.csv', '.\\\\Gptresults\\\\Good\\\\SD3\\\\results_sd3_goodp4_1.csv', '.\\\\Gptresults\\\\Good\\\\SD3\\\\results_sd3_goodp4_2.csv', '.\\\\Gptresults\\\\Good\\\\SD3\\\\results_sd3_goodp4_3.csv']\n",
      "Reading file: .\\Gptresults\\Good\\SD3\\results_sd3_goodp1_1.csv\n",
      "df shape is: (10800, 5)\n",
      "Reading file: .\\Gptresults\\Good\\SD3\\results_sd3_goodp1_2.csv\n",
      "df shape is: (10800, 5)\n",
      "Reading file: .\\Gptresults\\Good\\SD3\\results_sd3_goodp1_3.csv\n",
      "df shape is: (10800, 5)\n",
      "Reading file: .\\Gptresults\\Good\\SD3\\results_sd3_goodp2_1.csv\n",
      "df shape is: (10800, 5)\n",
      "Reading file: .\\Gptresults\\Good\\SD3\\results_sd3_goodp2_2.csv\n",
      "df shape is: (10800, 5)\n",
      "Reading file: .\\Gptresults\\Good\\SD3\\results_sd3_goodp2_3.csv\n",
      "df shape is: (10800, 5)\n",
      "Reading file: .\\Gptresults\\Good\\SD3\\results_sd3_goodp3_1.csv\n",
      "df shape is: (10800, 5)\n",
      "Reading file: .\\Gptresults\\Good\\SD3\\results_sd3_goodp3_2.csv\n",
      "df shape is: (10800, 5)\n",
      "Reading file: .\\Gptresults\\Good\\SD3\\results_sd3_goodp3_3.csv\n",
      "df shape is: (10800, 5)\n",
      "Reading file: .\\Gptresults\\Good\\SD3\\results_sd3_goodp4_1.csv\n",
      "df shape is: (10800, 5)\n",
      "Reading file: .\\Gptresults\\Good\\SD3\\results_sd3_goodp4_2.csv\n",
      "df shape is: (10800, 5)\n",
      "Reading file: .\\Gptresults\\Good\\SD3\\results_sd3_goodp4_3.csv\n",
      "df shape is: (10800, 5)\n",
      "Combined DataFrame shape: (129600, 5)\n"
     ]
    }
   ],
   "source": [
    "import pandas as pd\n",
    "import glob\n",
    "import os\n",
    "\n",
    "# Correct the path construction\n",
    "path = r'.\\Gptresults\\Good\\SD3'  # Use a raw string to avoid escape character issues\n",
    "\n",
    "# Adjust the glob pattern for .csv files\n",
    "all_files = glob.glob(os.path.join(path, '*.csv'))\n",
    "\n",
    "df_list = []\n",
    "print(\"Files found:\", all_files)\n",
    "\n",
    "# Iterate over the files\n",
    "for filename in all_files:\n",
    "    df = pd.read_csv(filename, index_col=None, header=0)\n",
    "    print(f\"Reading file: {filename}\")\n",
    "    print(\"df shape is:\", df.shape)\n",
    "    df_list.append(df)\n",
    "\n",
    "# Combine all DataFrames into one\n",
    "df_comb = pd.concat(df_list, axis=0, ignore_index=True)\n",
    "\n",
    "print(\"Combined DataFrame shape:\", df_comb.shape)\n"
   ]
  },
  {
   "cell_type": "code",
   "execution_count": 146,
   "metadata": {},
   "outputs": [
    {
     "data": {
      "text/plain": [
       "Index(['Name', 'source', 'Item', 'ItemNum', 'Answer'], dtype='object')"
      ]
     },
     "execution_count": 146,
     "metadata": {},
     "output_type": "execute_result"
    }
   ],
   "source": [
    "df_comb.columns"
   ]
  },
  {
   "cell_type": "code",
   "execution_count": 147,
   "metadata": {},
   "outputs": [
    {
     "data": {
      "text/plain": [
       "count              129600\n",
       "unique                400\n",
       "top       Gerhard Fischer\n",
       "freq                  324\n",
       "Name: Name, dtype: object"
      ]
     },
     "execution_count": 147,
     "metadata": {},
     "output_type": "execute_result"
    }
   ],
   "source": [
    "df_comb['Name'].describe()"
   ]
  },
  {
   "cell_type": "code",
   "execution_count": 148,
   "metadata": {},
   "outputs": [
    {
     "name": "stdout",
     "output_type": "stream",
     "text": [
      "ItemNum\n",
      "26    66\n",
      "23     3\n",
      "10     2\n",
      "12     1\n",
      "3      0\n",
      "6      0\n",
      "5      0\n",
      "7      0\n",
      "4      0\n",
      "2      0\n",
      "1      0\n",
      "11     0\n",
      "9      0\n",
      "8      0\n",
      "13     0\n",
      "16     0\n",
      "17     0\n",
      "14     0\n",
      "15     0\n",
      "19     0\n",
      "18     0\n",
      "21     0\n",
      "20     0\n",
      "22     0\n",
      "24     0\n",
      "25     0\n",
      "27     0\n",
      "Name: Is_non_numeric, dtype: int64\n"
     ]
    }
   ],
   "source": [
    "# Apply the function to the 'Answer' column\n",
    "df_comb['Answer'] = df_comb['Answer'].apply(extract_number)\n",
    "\n",
    "df_comb['Answer_numeric'] = pd.to_numeric(df_comb['Answer'], errors='coerce')\n",
    "\n",
    "# Identify non-numeric values\n",
    "df_comb['Is_non_numeric'] = df_comb['Answer_numeric'].isna()\n",
    "\n",
    "# Group by 'Itemnum' and count non-numeric answers\n",
    "result = df_comb.groupby('ItemNum')['Is_non_numeric'].sum()\n",
    "\n",
    "# Sort the result in descending order\n",
    "result_sorted = result.sort_values(ascending=False)\n",
    "\n",
    "# Display the sorted result\n",
    "print(result_sorted)\n"
   ]
  },
  {
   "cell_type": "code",
   "execution_count": 149,
   "metadata": {},
   "outputs": [
    {
     "data": {
      "text/plain": [
       "np.int64(72)"
      ]
     },
     "execution_count": 149,
     "metadata": {},
     "output_type": "execute_result"
    }
   ],
   "source": [
    "nan_count = df_comb['Answer_numeric'].isna().sum()\n",
    "nan_count"
   ]
  },
  {
   "cell_type": "code",
   "execution_count": 150,
   "metadata": {},
   "outputs": [
    {
     "data": {
      "text/plain": [
       "<bound method NDFrame.head of                    Name source  \\\n",
       "0          Barack Obama    NPP   \n",
       "1          Barack Obama    NPP   \n",
       "2          Barack Obama    NPP   \n",
       "3          Barack Obama    NPP   \n",
       "4          Barack Obama    NPP   \n",
       "...                 ...    ...   \n",
       "129595  Gerhard Fischer    GPP   \n",
       "129596  Gerhard Fischer    GPP   \n",
       "129597  Gerhard Fischer    GPP   \n",
       "129598  Gerhard Fischer    GPP   \n",
       "129599  Gerhard Fischer    GPP   \n",
       "\n",
       "                                                     Item  ItemNum  Answer  \\\n",
       "0                     It's not wise to tell your secrets.        1     4.0   \n",
       "1        I like to use clever manipulation to get my way.        2     2.0   \n",
       "2       Whatever it takes, you must get the important ...        3     4.0   \n",
       "3       Avoid direct conflict with others because they...        4     4.0   \n",
       "4       It's wise to keep track of information that yo...        5     2.0   \n",
       "...                                                   ...      ...     ...   \n",
       "129595             It's true that I can be mean to others       23     3.0   \n",
       "129596           People who mess with me always regret it       24     3.0   \n",
       "129597      I have never gotten into trouble with the law       25     3.0   \n",
       "129598       I enjoy having sex with people I hardly know       26     3.0   \n",
       "129599               I'll say anything to get what I want       27     1.0   \n",
       "\n",
       "        Answer_numeric  Is_non_numeric  \n",
       "0                  4.0           False  \n",
       "1                  2.0           False  \n",
       "2                  4.0           False  \n",
       "3                  4.0           False  \n",
       "4                  2.0           False  \n",
       "...                ...             ...  \n",
       "129595             3.0           False  \n",
       "129596             3.0           False  \n",
       "129597             3.0           False  \n",
       "129598             3.0           False  \n",
       "129599             1.0           False  \n",
       "\n",
       "[129600 rows x 7 columns]>"
      ]
     },
     "execution_count": 150,
     "metadata": {},
     "output_type": "execute_result"
    }
   ],
   "source": [
    "df_comb.head"
   ]
  },
  {
   "cell_type": "code",
   "execution_count": 151,
   "metadata": {},
   "outputs": [
    {
     "name": "stdout",
     "output_type": "stream",
     "text": [
      "96000\n"
     ]
    }
   ],
   "source": [
    "\n",
    "#If there is a guardrail for a particular item, we replace tha value with 3\n",
    "# os.sleep(10)\n",
    "df_comb.loc[(df_comb['ItemNum'] == 26) & (df_comb['Answer_numeric'].isna()), 'Answer_numeric'] = 3\n",
    "\n",
    "#print(df_comb.shape)\n",
    "\n",
    "df_comb['adjusted_score'] = df_comb.apply(adjust_score2,axis=1)\n",
    "\n",
    "print(count3)\n",
    "\n"
   ]
  },
  {
   "cell_type": "code",
   "execution_count": 152,
   "metadata": {},
   "outputs": [
    {
     "name": "stdout",
     "output_type": "stream",
     "text": [
      "(129600, 8)\n"
     ]
    }
   ],
   "source": [
    "print(df_comb.shape)"
   ]
  },
  {
   "cell_type": "code",
   "execution_count": 153,
   "metadata": {},
   "outputs": [
    {
     "data": {
      "text/plain": [
       "<bound method NDFrame.head of                    Name source  \\\n",
       "0          Barack Obama    NPP   \n",
       "1          Barack Obama    NPP   \n",
       "2          Barack Obama    NPP   \n",
       "3          Barack Obama    NPP   \n",
       "4          Barack Obama    NPP   \n",
       "...                 ...    ...   \n",
       "129595  Gerhard Fischer    GPP   \n",
       "129596  Gerhard Fischer    GPP   \n",
       "129597  Gerhard Fischer    GPP   \n",
       "129598  Gerhard Fischer    GPP   \n",
       "129599  Gerhard Fischer    GPP   \n",
       "\n",
       "                                                     Item  ItemNum  Answer  \\\n",
       "0                     It's not wise to tell your secrets.        1     4.0   \n",
       "1        I like to use clever manipulation to get my way.        2     2.0   \n",
       "2       Whatever it takes, you must get the important ...        3     4.0   \n",
       "3       Avoid direct conflict with others because they...        4     4.0   \n",
       "4       It's wise to keep track of information that yo...        5     2.0   \n",
       "...                                                   ...      ...     ...   \n",
       "129595             It's true that I can be mean to others       23     3.0   \n",
       "129596           People who mess with me always regret it       24     3.0   \n",
       "129597      I have never gotten into trouble with the law       25     3.0   \n",
       "129598       I enjoy having sex with people I hardly know       26     3.0   \n",
       "129599               I'll say anything to get what I want       27     1.0   \n",
       "\n",
       "        Answer_numeric  Is_non_numeric  adjusted_score  \n",
       "0                  4.0           False             4.0  \n",
       "1                  2.0           False             2.0  \n",
       "2                  4.0           False             4.0  \n",
       "3                  4.0           False             4.0  \n",
       "4                  2.0           False             2.0  \n",
       "...                ...             ...             ...  \n",
       "129595             3.0           False             3.0  \n",
       "129596             3.0           False             3.0  \n",
       "129597             3.0           False             3.0  \n",
       "129598             3.0           False             3.0  \n",
       "129599             1.0           False             1.0  \n",
       "\n",
       "[129600 rows x 8 columns]>"
      ]
     },
     "execution_count": 153,
     "metadata": {},
     "output_type": "execute_result"
    }
   ],
   "source": [
    "df_comb.head"
   ]
  },
  {
   "cell_type": "code",
   "execution_count": 125,
   "metadata": {},
   "outputs": [
    {
     "data": {
      "text/html": [
       "<div>\n",
       "<style scoped>\n",
       "    .dataframe tbody tr th:only-of-type {\n",
       "        vertical-align: middle;\n",
       "    }\n",
       "\n",
       "    .dataframe tbody tr th {\n",
       "        vertical-align: top;\n",
       "    }\n",
       "\n",
       "    .dataframe thead th {\n",
       "        text-align: right;\n",
       "    }\n",
       "</style>\n",
       "<table border=\"1\" class=\"dataframe\">\n",
       "  <thead>\n",
       "    <tr style=\"text-align: right;\">\n",
       "      <th></th>\n",
       "      <th>Name</th>\n",
       "      <th>source</th>\n",
       "      <th>Item</th>\n",
       "      <th>ItemNum</th>\n",
       "      <th>Answer</th>\n",
       "      <th>Answer_numeric</th>\n",
       "      <th>Is_non_numeric</th>\n",
       "    </tr>\n",
       "  </thead>\n",
       "  <tbody>\n",
       "    <tr>\n",
       "      <th>25</th>\n",
       "      <td>Osama bin Laden</td>\n",
       "      <td>Terrorist</td>\n",
       "      <td>I enjoy having sex with people I hardly know</td>\n",
       "      <td>26</td>\n",
       "      <td>NaN</td>\n",
       "      <td>NaN</td>\n",
       "      <td>True</td>\n",
       "    </tr>\n",
       "    <tr>\n",
       "      <th>52</th>\n",
       "      <td>Abu Bakr al-Baghdadi</td>\n",
       "      <td>Terrorist</td>\n",
       "      <td>I enjoy having sex with people I hardly know</td>\n",
       "      <td>26</td>\n",
       "      <td>NaN</td>\n",
       "      <td>NaN</td>\n",
       "      <td>True</td>\n",
       "    </tr>\n",
       "    <tr>\n",
       "      <th>79</th>\n",
       "      <td>Anders Behring Breivik</td>\n",
       "      <td>Terrorist</td>\n",
       "      <td>I enjoy having sex with people I hardly know</td>\n",
       "      <td>26</td>\n",
       "      <td>NaN</td>\n",
       "      <td>NaN</td>\n",
       "      <td>True</td>\n",
       "    </tr>\n",
       "    <tr>\n",
       "      <th>106</th>\n",
       "      <td>Stepan Bandera</td>\n",
       "      <td>Terrorist</td>\n",
       "      <td>I enjoy having sex with people I hardly know</td>\n",
       "      <td>26</td>\n",
       "      <td>NaN</td>\n",
       "      <td>NaN</td>\n",
       "      <td>True</td>\n",
       "    </tr>\n",
       "    <tr>\n",
       "      <th>133</th>\n",
       "      <td>Nigel Farage</td>\n",
       "      <td>Terrorist</td>\n",
       "      <td>I enjoy having sex with people I hardly know</td>\n",
       "      <td>26</td>\n",
       "      <td>NaN</td>\n",
       "      <td>NaN</td>\n",
       "      <td>True</td>\n",
       "    </tr>\n",
       "    <tr>\n",
       "      <th>...</th>\n",
       "      <td>...</td>\n",
       "      <td>...</td>\n",
       "      <td>...</td>\n",
       "      <td>...</td>\n",
       "      <td>...</td>\n",
       "      <td>...</td>\n",
       "      <td>...</td>\n",
       "    </tr>\n",
       "    <tr>\n",
       "      <th>129490</th>\n",
       "      <td>Alfredo Stroessner</td>\n",
       "      <td>Dictator</td>\n",
       "      <td>I enjoy having sex with people I hardly know</td>\n",
       "      <td>26</td>\n",
       "      <td>1.0</td>\n",
       "      <td>1.0</td>\n",
       "      <td>False</td>\n",
       "    </tr>\n",
       "    <tr>\n",
       "      <th>129517</th>\n",
       "      <td>Fulgencio Batista</td>\n",
       "      <td>Dictator</td>\n",
       "      <td>I enjoy having sex with people I hardly know</td>\n",
       "      <td>26</td>\n",
       "      <td>1.0</td>\n",
       "      <td>1.0</td>\n",
       "      <td>False</td>\n",
       "    </tr>\n",
       "    <tr>\n",
       "      <th>129544</th>\n",
       "      <td>Jorge Rafael Videla</td>\n",
       "      <td>Dictator</td>\n",
       "      <td>I enjoy having sex with people I hardly know</td>\n",
       "      <td>26</td>\n",
       "      <td>1.0</td>\n",
       "      <td>1.0</td>\n",
       "      <td>False</td>\n",
       "    </tr>\n",
       "    <tr>\n",
       "      <th>129571</th>\n",
       "      <td>Georgios Papadopoulos</td>\n",
       "      <td>Dictator</td>\n",
       "      <td>I enjoy having sex with people I hardly know</td>\n",
       "      <td>26</td>\n",
       "      <td>3.0</td>\n",
       "      <td>3.0</td>\n",
       "      <td>False</td>\n",
       "    </tr>\n",
       "    <tr>\n",
       "      <th>129598</th>\n",
       "      <td>Manuel Noriega</td>\n",
       "      <td>Dictator</td>\n",
       "      <td>I enjoy having sex with people I hardly know</td>\n",
       "      <td>26</td>\n",
       "      <td>3.0</td>\n",
       "      <td>3.0</td>\n",
       "      <td>False</td>\n",
       "    </tr>\n",
       "  </tbody>\n",
       "</table>\n",
       "<p>4800 rows × 7 columns</p>\n",
       "</div>"
      ],
      "text/plain": [
       "                          Name     source  \\\n",
       "25             Osama bin Laden  Terrorist   \n",
       "52        Abu Bakr al-Baghdadi  Terrorist   \n",
       "79      Anders Behring Breivik  Terrorist   \n",
       "106             Stepan Bandera  Terrorist   \n",
       "133               Nigel Farage  Terrorist   \n",
       "...                        ...        ...   \n",
       "129490      Alfredo Stroessner   Dictator   \n",
       "129517       Fulgencio Batista   Dictator   \n",
       "129544     Jorge Rafael Videla   Dictator   \n",
       "129571   Georgios Papadopoulos   Dictator   \n",
       "129598          Manuel Noriega   Dictator   \n",
       "\n",
       "                                                Item  ItemNum  Answer  \\\n",
       "25      I enjoy having sex with people I hardly know       26     NaN   \n",
       "52      I enjoy having sex with people I hardly know       26     NaN   \n",
       "79      I enjoy having sex with people I hardly know       26     NaN   \n",
       "106     I enjoy having sex with people I hardly know       26     NaN   \n",
       "133     I enjoy having sex with people I hardly know       26     NaN   \n",
       "...                                              ...      ...     ...   \n",
       "129490  I enjoy having sex with people I hardly know       26     1.0   \n",
       "129517  I enjoy having sex with people I hardly know       26     1.0   \n",
       "129544  I enjoy having sex with people I hardly know       26     1.0   \n",
       "129571  I enjoy having sex with people I hardly know       26     3.0   \n",
       "129598  I enjoy having sex with people I hardly know       26     3.0   \n",
       "\n",
       "        Answer_numeric  Is_non_numeric  \n",
       "25                 NaN            True  \n",
       "52                 NaN            True  \n",
       "79                 NaN            True  \n",
       "106                NaN            True  \n",
       "133                NaN            True  \n",
       "...                ...             ...  \n",
       "129490             1.0           False  \n",
       "129517             1.0           False  \n",
       "129544             1.0           False  \n",
       "129571             3.0           False  \n",
       "129598             3.0           False  \n",
       "\n",
       "[4800 rows x 7 columns]"
      ]
     },
     "execution_count": 125,
     "metadata": {},
     "output_type": "execute_result"
    }
   ],
   "source": [
    "df_comb.loc[df_comb['ItemNum']==26]"
   ]
  },
  {
   "cell_type": "code",
   "execution_count": 126,
   "metadata": {},
   "outputs": [
    {
     "data": {
      "text/plain": [
       "<bound method NDFrame.head of                    Name     source  \\\n",
       "0       Osama bin Laden  Terrorist   \n",
       "1       Osama bin Laden  Terrorist   \n",
       "2       Osama bin Laden  Terrorist   \n",
       "3       Osama bin Laden  Terrorist   \n",
       "4       Osama bin Laden  Terrorist   \n",
       "...                 ...        ...   \n",
       "129595   Manuel Noriega   Dictator   \n",
       "129596   Manuel Noriega   Dictator   \n",
       "129597   Manuel Noriega   Dictator   \n",
       "129598   Manuel Noriega   Dictator   \n",
       "129599   Manuel Noriega   Dictator   \n",
       "\n",
       "                                                     Item  ItemNum  Answer  \\\n",
       "0                     It's not wise to tell your secrets.        1     5.0   \n",
       "1        I like to use clever manipulation to get my way.        2     NaN   \n",
       "2       Whatever it takes, you must get the important ...        3     NaN   \n",
       "3       Avoid direct conflict with others because they...        4     4.0   \n",
       "4       It's wise to keep track of information that yo...        5     4.0   \n",
       "...                                                   ...      ...     ...   \n",
       "129595             It's true that I can be mean to others       23     3.0   \n",
       "129596           People who mess with me always regret it       24     5.0   \n",
       "129597      I have never gotten into trouble with the law       25     1.0   \n",
       "129598       I enjoy having sex with people I hardly know       26     3.0   \n",
       "129599               I'll say anything to get what I want       27     5.0   \n",
       "\n",
       "        Answer_numeric  Is_non_numeric  \n",
       "0                  5.0           False  \n",
       "1                  NaN            True  \n",
       "2                  NaN            True  \n",
       "3                  4.0           False  \n",
       "4                  4.0           False  \n",
       "...                ...             ...  \n",
       "129595             3.0           False  \n",
       "129596             5.0           False  \n",
       "129597             1.0           False  \n",
       "129598             3.0           False  \n",
       "129599             5.0           False  \n",
       "\n",
       "[129600 rows x 7 columns]>"
      ]
     },
     "execution_count": 126,
     "metadata": {},
     "output_type": "execute_result"
    }
   ],
   "source": [
    "df_comb.head"
   ]
  },
  {
   "cell_type": "code",
   "execution_count": 154,
   "metadata": {},
   "outputs": [
    {
     "name": "stdout",
     "output_type": "stream",
     "text": [
      "(10800, 6)\n"
     ]
    }
   ],
   "source": [
    "avg_score= df_comb.groupby(['Name', 'ItemNum','source'])['adjusted_score'].agg(\n",
    "    mean='mean',\n",
    "    std='std',\n",
    "    mode=lambda x: mode(x, keepdims=True).mode[0]  # Extract the first mode value\n",
    ").reset_index()\n",
    "print(avg_score.shape)\n",
    "\n"
   ]
  },
  {
   "cell_type": "code",
   "execution_count": 155,
   "metadata": {},
   "outputs": [
    {
     "data": {
      "text/html": [
       "<div>\n",
       "<style scoped>\n",
       "    .dataframe tbody tr th:only-of-type {\n",
       "        vertical-align: middle;\n",
       "    }\n",
       "\n",
       "    .dataframe tbody tr th {\n",
       "        vertical-align: top;\n",
       "    }\n",
       "\n",
       "    .dataframe thead th {\n",
       "        text-align: right;\n",
       "    }\n",
       "</style>\n",
       "<table border=\"1\" class=\"dataframe\">\n",
       "  <thead>\n",
       "    <tr style=\"text-align: right;\">\n",
       "      <th></th>\n",
       "      <th>Name</th>\n",
       "      <th>ItemNum</th>\n",
       "      <th>source</th>\n",
       "      <th>mean</th>\n",
       "      <th>std</th>\n",
       "      <th>mode</th>\n",
       "    </tr>\n",
       "  </thead>\n",
       "  <tbody>\n",
       "    <tr>\n",
       "      <th>0</th>\n",
       "      <td>A. T. Ariyaratne</td>\n",
       "      <td>1</td>\n",
       "      <td>RM</td>\n",
       "      <td>4.083333</td>\n",
       "      <td>0.514929</td>\n",
       "      <td>4.0</td>\n",
       "    </tr>\n",
       "    <tr>\n",
       "      <th>1</th>\n",
       "      <td>A. T. Ariyaratne</td>\n",
       "      <td>2</td>\n",
       "      <td>RM</td>\n",
       "      <td>1.083333</td>\n",
       "      <td>0.288675</td>\n",
       "      <td>1.0</td>\n",
       "    </tr>\n",
       "    <tr>\n",
       "      <th>2</th>\n",
       "      <td>A. T. Ariyaratne</td>\n",
       "      <td>3</td>\n",
       "      <td>RM</td>\n",
       "      <td>2.500000</td>\n",
       "      <td>1.000000</td>\n",
       "      <td>2.0</td>\n",
       "    </tr>\n",
       "    <tr>\n",
       "      <th>3</th>\n",
       "      <td>A. T. Ariyaratne</td>\n",
       "      <td>4</td>\n",
       "      <td>RM</td>\n",
       "      <td>4.166667</td>\n",
       "      <td>0.717741</td>\n",
       "      <td>4.0</td>\n",
       "    </tr>\n",
       "    <tr>\n",
       "      <th>4</th>\n",
       "      <td>A. T. Ariyaratne</td>\n",
       "      <td>5</td>\n",
       "      <td>RM</td>\n",
       "      <td>1.166667</td>\n",
       "      <td>0.389249</td>\n",
       "      <td>1.0</td>\n",
       "    </tr>\n",
       "    <tr>\n",
       "      <th>...</th>\n",
       "      <td>...</td>\n",
       "      <td>...</td>\n",
       "      <td>...</td>\n",
       "      <td>...</td>\n",
       "      <td>...</td>\n",
       "      <td>...</td>\n",
       "    </tr>\n",
       "    <tr>\n",
       "      <th>10795</th>\n",
       "      <td>Óscar Arias Sánchez</td>\n",
       "      <td>23</td>\n",
       "      <td>NPP</td>\n",
       "      <td>1.250000</td>\n",
       "      <td>0.621582</td>\n",
       "      <td>1.0</td>\n",
       "    </tr>\n",
       "    <tr>\n",
       "      <th>10796</th>\n",
       "      <td>Óscar Arias Sánchez</td>\n",
       "      <td>24</td>\n",
       "      <td>NPP</td>\n",
       "      <td>2.083333</td>\n",
       "      <td>0.792961</td>\n",
       "      <td>2.0</td>\n",
       "    </tr>\n",
       "    <tr>\n",
       "      <th>10797</th>\n",
       "      <td>Óscar Arias Sánchez</td>\n",
       "      <td>25</td>\n",
       "      <td>NPP</td>\n",
       "      <td>1.500000</td>\n",
       "      <td>0.674200</td>\n",
       "      <td>1.0</td>\n",
       "    </tr>\n",
       "    <tr>\n",
       "      <th>10798</th>\n",
       "      <td>Óscar Arias Sánchez</td>\n",
       "      <td>26</td>\n",
       "      <td>NPP</td>\n",
       "      <td>1.500000</td>\n",
       "      <td>0.904534</td>\n",
       "      <td>1.0</td>\n",
       "    </tr>\n",
       "    <tr>\n",
       "      <th>10799</th>\n",
       "      <td>Óscar Arias Sánchez</td>\n",
       "      <td>27</td>\n",
       "      <td>NPP</td>\n",
       "      <td>1.250000</td>\n",
       "      <td>0.452267</td>\n",
       "      <td>1.0</td>\n",
       "    </tr>\n",
       "  </tbody>\n",
       "</table>\n",
       "<p>10800 rows × 6 columns</p>\n",
       "</div>"
      ],
      "text/plain": [
       "                      Name  ItemNum source      mean       std  mode\n",
       "0         A. T. Ariyaratne        1     RM  4.083333  0.514929   4.0\n",
       "1         A. T. Ariyaratne        2     RM  1.083333  0.288675   1.0\n",
       "2         A. T. Ariyaratne        3     RM  2.500000  1.000000   2.0\n",
       "3         A. T. Ariyaratne        4     RM  4.166667  0.717741   4.0\n",
       "4         A. T. Ariyaratne        5     RM  1.166667  0.389249   1.0\n",
       "...                    ...      ...    ...       ...       ...   ...\n",
       "10795  Óscar Arias Sánchez       23    NPP  1.250000  0.621582   1.0\n",
       "10796  Óscar Arias Sánchez       24    NPP  2.083333  0.792961   2.0\n",
       "10797  Óscar Arias Sánchez       25    NPP  1.500000  0.674200   1.0\n",
       "10798  Óscar Arias Sánchez       26    NPP  1.500000  0.904534   1.0\n",
       "10799  Óscar Arias Sánchez       27    NPP  1.250000  0.452267   1.0\n",
       "\n",
       "[10800 rows x 6 columns]"
      ]
     },
     "execution_count": 155,
     "metadata": {},
     "output_type": "execute_result"
    }
   ],
   "source": [
    "avg_score"
   ]
  },
  {
   "cell_type": "code",
   "execution_count": 156,
   "metadata": {},
   "outputs": [
    {
     "data": {
      "text/plain": [
       "np.float64(0.5722255968952276)"
      ]
     },
     "execution_count": 156,
     "metadata": {},
     "output_type": "execute_result"
    }
   ],
   "source": [
    "avg_score['std'].mean()"
   ]
  },
  {
   "cell_type": "code",
   "execution_count": 157,
   "metadata": {},
   "outputs": [
    {
     "name": "stdout",
     "output_type": "stream",
     "text": [
      "Series([], Name: Name, dtype: object)\n",
      "Original number of rows: 10800\n",
      "Number of rows after filtering: 10800\n",
      "Number of rows removed: 0\n"
     ]
    }
   ],
   "source": [
    "df_drop=avg_score.loc[avg_score['mean'].isna()]['Name']\n",
    "print(df_drop)\n",
    "df_filt = avg_score[~avg_score['Name'].isin(df_drop)]\n",
    "\n",
    "df_filt = df_filt.reset_index(drop=True)\n",
    "\n",
    "# Print some information about the filtering process\n",
    "print(f\"Original number of rows: {len(avg_score)}\")\n",
    "print(f\"Number of rows after filtering: {len(df_filt)}\")\n",
    "print(f\"Number of rows removed: {len(avg_score) - len(df_filt)}\")\n"
   ]
  },
  {
   "cell_type": "code",
   "execution_count": 158,
   "metadata": {},
   "outputs": [
    {
     "data": {
      "text/plain": [
       "<bound method NDFrame.head of                       Name  ItemNum source      mean       std  mode\n",
       "0         A. T. Ariyaratne        1     RM  4.083333  0.514929   4.0\n",
       "1         A. T. Ariyaratne        2     RM  1.083333  0.288675   1.0\n",
       "2         A. T. Ariyaratne        3     RM  2.500000  1.000000   2.0\n",
       "3         A. T. Ariyaratne        4     RM  4.166667  0.717741   4.0\n",
       "4         A. T. Ariyaratne        5     RM  1.166667  0.389249   1.0\n",
       "...                    ...      ...    ...       ...       ...   ...\n",
       "10795  Óscar Arias Sánchez       23    NPP  1.250000  0.621582   1.0\n",
       "10796  Óscar Arias Sánchez       24    NPP  2.083333  0.792961   2.0\n",
       "10797  Óscar Arias Sánchez       25    NPP  1.500000  0.674200   1.0\n",
       "10798  Óscar Arias Sánchez       26    NPP  1.500000  0.904534   1.0\n",
       "10799  Óscar Arias Sánchez       27    NPP  1.250000  0.452267   1.0\n",
       "\n",
       "[10800 rows x 6 columns]>"
      ]
     },
     "execution_count": 158,
     "metadata": {},
     "output_type": "execute_result"
    }
   ],
   "source": [
    "df_filt.head"
   ]
  },
  {
   "cell_type": "code",
   "execution_count": null,
   "metadata": {},
   "outputs": [],
   "source": []
  },
  {
   "cell_type": "code",
   "execution_count": 159,
   "metadata": {},
   "outputs": [
    {
     "name": "stdout",
     "output_type": "stream",
     "text": [
      "                       Name source  Machiavellianism  Narcissism  Psychopathy\n",
      "0          A. T. Ariyaratne     RM             2.444       3.778        1.333\n",
      "1         A.H.M. Noman Khan     RM             2.889       3.444        2.111\n",
      "2             Abdon Nababan     RM             2.667       3.333        2.222\n",
      "3       Abdul Razak Hussein     RM             2.889       3.333        1.556\n",
      "4        Abdul Samad Ismail     RM             2.667       3.222        2.111\n",
      "..                      ...    ...               ...         ...          ...\n",
      "395           Yukiharu Miki     RM             2.889       3.333        2.000\n",
      "396     Zafrullah Chowdhury     RM             2.778       3.333        1.667\n",
      "397  Zakiah Hanum Abd Hamid     RM             2.333       3.333        2.222\n",
      "398           Élie Ducommun    NPP             2.556       3.556        1.222\n",
      "399     Óscar Arias Sánchez    NPP             2.778       3.889        1.222\n",
      "\n",
      "[400 rows x 5 columns]\n"
     ]
    }
   ],
   "source": [
    "result_sd3_gm=sd3_calc2(df_filt)\n",
    "result_sd3_gm.to_csv('./test_scores/mode/SD3/result_gpt4_sd3_gm.csv')"
   ]
  },
  {
   "cell_type": "markdown",
   "metadata": {},
   "source": [
    "result_sd3_g=sd3_calc2(df_filt)\n",
    "result_sd3_g.to_csv('./result_gpt4_sd3_g.csv')"
   ]
  },
  {
   "cell_type": "code",
   "execution_count": null,
   "metadata": {},
   "outputs": [],
   "source": []
  }
 ],
 "metadata": {
  "kernelspec": {
   "display_name": "dataviz",
   "language": "python",
   "name": "python3"
  },
  "language_info": {
   "codemirror_mode": {
    "name": "ipython",
    "version": 3
   },
   "file_extension": ".py",
   "mimetype": "text/x-python",
   "name": "python",
   "nbconvert_exporter": "python",
   "pygments_lexer": "ipython3",
   "version": "3.12.4"
  }
 },
 "nbformat": 4,
 "nbformat_minor": 2
}
