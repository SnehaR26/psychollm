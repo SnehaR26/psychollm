{
 "cells": [
  {
   "cell_type": "code",
   "execution_count": 2,
   "metadata": {},
   "outputs": [],
   "source": [
    "import numpy as np \n",
    "import pandas as pd \n",
    "import os\n",
    "import matplotlib.pyplot as plt\n",
    "import seaborn as sns\n",
    "import datetime as dt\n",
    "from collections import Counter\n",
    "import re"
   ]
  },
  {
   "cell_type": "code",
   "execution_count": 3,
   "metadata": {},
   "outputs": [],
   "source": [
    "df1=pd.read_csv('./F11B_res/results_sd3_badp1.csv')\n",
    "df2=pd.read_csv('./F11B_res/results_sd3_badp2.csv')"
   ]
  },
  {
   "cell_type": "code",
   "execution_count": null,
   "metadata": {},
   "outputs": [],
   "source": [
    "seg_sd3=11529"
   ]
  },
  {
   "cell_type": "code",
   "execution_count": 6,
   "metadata": {},
   "outputs": [],
   "source": [
    "import pandas as pd\n",
    "\n",
    "# Assuming df1 is your dataframe\n",
    "segment_size = 12069\n",
    "num_segments = 6\n",
    "\n",
    "# Create a list to hold the segmented dataframes\n",
    "segments = [df1.iloc[i * segment_size: (i + 1) * segment_size] for i in range(num_segments)]\n",
    "\n",
    "# If you want to name them explicitly as df1, df2, etc.:\n",
    "df1_part, df2_part, df3_part, df4_part, df5_part, df6_part = segments\n"
   ]
  },
  {
   "cell_type": "code",
   "execution_count": 12,
   "metadata": {},
   "outputs": [
    {
     "data": {
      "text/plain": [
       "<bound method NDFrame.head of                   Name     source  \\\n",
       "60345  Osama bin Laden  Terrorist   \n",
       "60346  Osama bin Laden  Terrorist   \n",
       "60347  Osama bin Laden  Terrorist   \n",
       "60348  Osama bin Laden  Terrorist   \n",
       "60349  Osama bin Laden  Terrorist   \n",
       "...                ...        ...   \n",
       "72409   Manuel Noriega   Dictator   \n",
       "72410   Manuel Noriega   Dictator   \n",
       "72411   Manuel Noriega   Dictator   \n",
       "72412   Manuel Noriega   Dictator   \n",
       "72413   Manuel Noriega   Dictator   \n",
       "\n",
       "                                                    Item  Itemnum  Answer  \n",
       "60345                 It's not wise to tell your secrets        1     1.0  \n",
       "60346    I like to use clever manipulation to get my way        2     1.0  \n",
       "60347  Whatever it takes, you must get the important ...        3     1.0  \n",
       "60348  Avoid direct conflict with others because they...        4     5.0  \n",
       "60349  It's wise to keep track of information that yo...        5     2.0  \n",
       "...                                                  ...      ...     ...  \n",
       "72409             It's true that I can be mean to others       23     1.0  \n",
       "72410           People who mess with me always regret it       24     1.0  \n",
       "72411      I have never gotten into trouble with the law       25     1.0  \n",
       "72412       I enjoy having sex with people I hardly know       26     1.0  \n",
       "72413               I'll say anything to get what I want       27     5.0  \n",
       "\n",
       "[12069 rows x 5 columns]>"
      ]
     },
     "execution_count": 12,
     "metadata": {},
     "output_type": "execute_result"
    }
   ],
   "source": [
    "df6_part.head"
   ]
  },
  {
   "cell_type": "code",
   "execution_count": null,
   "metadata": {},
   "outputs": [],
   "source": []
  }
 ],
 "metadata": {
  "kernelspec": {
   "display_name": "dataviz",
   "language": "python",
   "name": "python3"
  },
  "language_info": {
   "codemirror_mode": {
    "name": "ipython",
    "version": 3
   },
   "file_extension": ".py",
   "mimetype": "text/x-python",
   "name": "python",
   "nbconvert_exporter": "python",
   "pygments_lexer": "ipython3",
   "version": "3.12.4"
  }
 },
 "nbformat": 4,
 "nbformat_minor": 2
}
